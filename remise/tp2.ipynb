{
 "cells": [
  {
   "cell_type": "code",
   "execution_count": 1,
   "metadata": {},
   "outputs": [],
   "source": [
    "import sklearn\n",
    "import numpy as np\n",
    "import scipy as sp\n",
    "import pandas as pd\n",
    "import matplotlib.pyplot as plt\n",
    "import seaborn as sns\n",
    "import scipy.stats as ss\n",
    "import scipy.spatial.distance as sdist\n",
    "\n",
    "import warnings\n",
    "warnings.filterwarnings('ignore')\n",
    "\n",
    "from sklearn.model_selection import train_test_split\n",
    "from sklearn.neighbors import KNeighborsClassifier\n",
    "from sklearn.multioutput import MultiOutputClassifier\n",
    "from sklearn.ensemble import RandomForestClassifier\n",
    "from sklearn.preprocessing import LabelEncoder\n",
    "\n",
    "%matplotlib inline"
   ]
  },
  {
   "cell_type": "code",
   "execution_count": 2,
   "metadata": {},
   "outputs": [],
   "source": [
    "product_df = pd.read_csv(\"product2.csv\", sep=';', encoding='latin')\n",
    "package_df = pd.read_csv(\"package2.csv\", sep=';', encoding='latin')"
   ]
  },
  {
   "cell_type": "code",
   "execution_count": 3,
   "metadata": {},
   "outputs": [],
   "source": [
    "def table_completeness(table):\n",
    "    \n",
    "    nb_m = table.isnull().sum().sort_values()\n",
    "    ratio_m = (table.isnull().sum() / table.shape[0]).sort_values()\n",
    "    manquant = pd.concat([nb_m, ratio_m], axis=1, sort=False)\n",
    "    return pd.DataFrame({'Types': table[list(manquant.index.values)].dtypes,\n",
    "                          'Nb Unique': [len(pd.Categorical(table[_]).categories) for _\n",
    "                                        in table[list(manquant.index.values)].columns],\n",
    "                          'Nb manquants': nb_m,\n",
    "                          'Ratio manquants%': ratio_m,})"
   ]
  },
  {
   "cell_type": "code",
   "execution_count": 4,
   "metadata": {},
   "outputs": [],
   "source": [
    "def cramers_v(x, y):\n",
    "    \"\"\"\n",
    "        ref: https://towardsdatascience.com/the-search-for-categorical-correlation-a1cf7f1888c9\n",
    "    \"\"\"\n",
    "    confusion_matrix = pd.crosstab(x,y)\n",
    "    chi2 = ss.chi2_contingency(confusion_matrix)[0]\n",
    "    n = confusion_matrix.sum().sum()\n",
    "    phi2 = chi2/n\n",
    "    r, k = confusion_matrix.shape\n",
    "    phi2corr = max(0, phi2-((k-1)*(r-1))/(n-1))\n",
    "    rcorr = r-((r-1)**2)/(n-1)\n",
    "    kcorr = k-((k-1)**2)/(n-1)\n",
    "    return np.sqrt(phi2corr/min((kcorr-1),(rcorr-1)))"
   ]
  },
  {
   "cell_type": "markdown",
   "metadata": {},
   "source": [
    "# 1.\n",
    "\n",
    "Auscultez les données et présentez un résumé de votre auscultation (nombre d’attributs\n",
    "pour chaque table, types d’attributs, valeurs manquantes, incohérences intra-attribut, in\u0002cohérences inter-attribut entre attributs reliés, vraissemblance et interprétabilité des attributs) ;\n"
   ]
  },
  {
   "cell_type": "markdown",
   "metadata": {},
   "source": [
    "## product2.csv --> product_df"
   ]
  },
  {
   "cell_type": "markdown",
   "metadata": {},
   "source": [
    "File Notes\n",
    "* Package data can be found in the Packages file, linked by the ProductID field.\n",
    "* Reference code names (translations) are included instead of the codes themselves.\n",
    "* Fields that have multiple values are identified with an “MV” after their name. Values are concatenated together by a semi-colon “;”.\n",
    "* If the term NULL appears after an element name, it means there may be records where no value is provided.\n",
    "* Complete list: www.fda.gov/edrls"
   ]
  },
  {
   "cell_type": "markdown",
   "metadata": {},
   "source": [
    "On remarque que la colonne PRODUCTID présente 1560 valeurs manquantes.\n",
    "\n",
    "La colonne PRODUCTNDC quant à elle présente certaines valeurs aberrantes:"
   ]
  },
  {
   "cell_type": "code",
   "execution_count": 5,
   "metadata": {
    "pycharm": {
     "name": "#%%\n"
    }
   },
   "outputs": [
    {
     "name": "stdout",
     "output_type": "stream",
     "text": [
      "159    05-juin\n",
      "160    19-juin\n",
      "Name: PRODUCTNDC, dtype: object\n"
     ]
    }
   ],
   "source": [
    "# %%\n",
    "print(product_df['PRODUCTNDC'][159:161])"
   ]
  },
  {
   "cell_type": "markdown",
   "metadata": {
    "pycharm": {
     "name": "#%% md\n"
    }
   },
   "source": [
    "La colonne PRODUCTTYPENAME contient 7 modalités (valeurs uniques) d'une variable qualitative catégorielle. Elle n'a\n",
    "pas de valeurs absente, ce qui facilitera sa numérisation.\n",
    "\n",
    "La colonne PROPRIETARYNAME est associée à une variable qualitative textuelle avec un nombre élevé de modalités.\n",
    "De plus, la longueur des valeurs (le nombre de caractères) varient également beaucoup puisqu'il s'agit des noms commerciaux\n",
    "des produits.\n",
    "\n",
    "La colonne PROPRIETARYNAMESUFFIX est du même type que PROPRIETARYNAME, mais beaucoups de valeurs sont absentes. Elle présente\n",
    "diverses informations supplémentaires aux objets, et selon la documentation de la FDA il n'y a pas de standard.\n",
    "\n",
    "La colonne NONPROPRIETARYNAME contient seulement 4 valeurs absentes. Le nombre de modalités y est très élevé. Il s'agit\n",
    "de listes des ingrédients médicinaux des produits. Le formatage des listes n'est pas standard. Les 4 valeurs manquantes\n",
    "semblent difficil à inférer à première vue.\n",
    "\n",
    "La colonne DOSAGEFORMNAME contient des informations sur les modes d'utilisation du produit. L'information pourrait y être\n",
    "simplifiée car elle est trop détaillée pour nos besoins. On pourrait ne conserver que le mode principale d'administration\n",
    "(orale, nasal, etc.) des produit\n",
    "\n",
    "La colonne ROUTENAME contient des données du standard de la FDA. Chaque produit présente plusieurs valeurs\n",
    "séparées par un point-virgule. Il y a un nombre élevé de valeurs absentes qui, à première vue, seront difficiles à inférer.\n",
    "\n",
    "Les colonnes STARTMARKETINGDATE et ENDMARKETINGDATE présente la date de mise en marché et de retrait du marché respectivement.\n",
    "Elles sont semblables à la colonne correspondante de la table \"package\" à ceci près qu'il n'y à pas de valeurs absentes pour la\n",
    "colonne STARTMARKETINGDATE.\n",
    "\n",
    "La colonne MARKETINGCATEGORYNAME contient des données du standard de la FDA. Elle a 10 modalités et aucune valeur absente,\n",
    "ce qui en fera une colonne facile à numériser.\n",
    "\n",
    "La colonne APPLICATIONNUMBER présente pour chaque produit un numéro associé à sa catégorie de marketing qui se retrouve\n",
    "dans la colonne MARKETINGCATEGORYNAME. Elle contient par ailleurs beaucoup de valeurs absentes.\n",
    "\n",
    "La colonne LABELERNAME contient des données qualitatives très disparates. Elle contient par aillerus environ 550 valeurs absentes\n",
    "qui semble a priori impossibles à inférer.\n",
    "\n",
    "La colonne SUBSTANCENAME contient des données du standard de la FDA qui présente 108227 modalités. Chaque produit peut\n",
    "appartenir à plusieurs catégories. La quantité de valeurs absentes est elevées et elles seront difficilement complétables.\n",
    "\n",
    "Les colonnes ACTIVE_NUMERATOR_STRENGTH et ACTIVE_INGRED_UNIT présentent respectivement des information posologiques et des\n",
    "informations sur les ingrédients médicinaux. Les valeurs sont sonvent des listes dont les éléments sont séparés par un point-virgule.\n",
    "Ces colonnes présentent également un nombre égale de valeurs absentes.\n",
    "\n",
    "La colonne PHARM_CLASSES contiennent des données du standard de la FDA. Il s'agit de du mode d'action biochimique des\n",
    "produits. Les valeurs sont souvent des listes dont les éléments sont séparés par une virgule. Le nombre de valeurs\n",
    "absentes y est de loin supérieur aux données présentes.\n",
    "\n",
    "La colonne DEASCHEDULE montre la classification légale telle qu'ériger par la DEA (Drug Enforcement Agency). Il s'agit\n",
    "d'une variable catégorique cardinale utilisant des chiffres romains. Il y a un grand nombre de données manquantes qui seront\n",
    "difficilement complétables sans l'apport d'un spécialiste juridique.\n",
    "\n",
    "La colonne NDC_EXCLUDE_FLAG contient une seule valeure (N). Selon la documentation disponible, cette colonne indique si le\n",
    "produit a été exclu suite à une non-conformité suite à une requête faite par la FDA, la valeur N indiquant donc \"No\", pour\n",
    "signigier que le produit n'a pas été exclu. Il n'y a aucune valeur absente.\n",
    "\n",
    "La colonne LISTING_RECORD_CERTIFIED_THROUGH indique la date jusqu'à la laquelle l'entrée dans la table est valide, à moins\n",
    "d'être mise à jour ou certifié. Il y a plusieurs valeurs absentes."
   ]
  },
  {
   "cell_type": "markdown",
   "metadata": {},
   "source": [
    "### Remarques\n",
    "\n",
    "Nous devrons possiblement joindre les bases de données sur **ProductID**\n",
    "\n",
    "Il est à noter que tous produits ayant une valeur à la variable **EndMarketingDate** présente une valeur NaN à la variable **Listing_Record_Certified_Through**\n",
    "\n",
    "**NDC_Exclude_Flag** semble non essentiel puisque nous traitons que de ceux qui sont approuvés."
   ]
  },
  {
   "cell_type": "markdown",
   "metadata": {},
   "source": [
    "________"
   ]
  },
  {
   "cell_type": "code",
   "execution_count": 6,
   "metadata": {},
   "outputs": [
    {
     "name": "stdout",
     "output_type": "stream",
     "text": [
      "product_df shape:  (93238, 20)\n",
      "# of rows:  93238\n",
      "# of attributes:  20\n"
     ]
    }
   ],
   "source": [
    "print(\"product_df shape: \", product_df.shape)\n",
    "print(\"# of rows: \", product_df.shape[0])\n",
    "print(\"# of attributes: \", product_df.shape[1])"
   ]
  },
  {
   "cell_type": "code",
   "execution_count": 7,
   "metadata": {},
   "outputs": [
    {
     "data": {
      "text/plain": "  PRODUCTID PRODUCTNDC          PRODUCTTYPENAME  PROPRIETARYNAME  \\\n0       NaN  0002-0800           HUMAN OTC DRUG  Sterile Diluent   \n1       NaN  0002-1200  HUMAN PRESCRIPTION DRUG           Amyvid   \n2       NaN  0002-1433  HUMAN PRESCRIPTION DRUG        Trulicity   \n3       NaN  0002-1434  HUMAN PRESCRIPTION DRUG        Trulicity   \n4       NaN  0002-1436  HUMAN PRESCRIPTION DRUG         EMGALITY   \n\n  PROPRIETARYNAMESUFFIX NONPROPRIETARYNAME       DOSAGEFORMNAME     ROUTENAME  \\\n0                   NaN            diluent  INJECTION, SOLUTION  SUBCUTANEOUS   \n1                   NaN   Florbetapir F 18  INJECTION, SOLUTION   INTRAVENOUS   \n2                   NaN        Dulaglutide  INJECTION, SOLUTION  SUBCUTANEOUS   \n3                   NaN        Dulaglutide  INJECTION, SOLUTION  SUBCUTANEOUS   \n4                   NaN       galcanezumab  INJECTION, SOLUTION  SUBCUTANEOUS   \n\n   STARTMARKETINGDATE  ENDMARKETINGDATE MARKETINGCATEGORYNAME  \\\n0            19870710               NaN                   NDA   \n1            20120601               NaN                   NDA   \n2            20140918               NaN                   BLA   \n3            20140918               NaN                   BLA   \n4            20180927               NaN                   BLA   \n\n  APPLICATIONNUMBER LABELERNAME     SUBSTANCENAME ACTIVE_NUMERATOR_STRENGTH  \\\n0         NDA018781          10             WATER                         1   \n1         NDA202008          10  FLORBETAPIR F-18                        51   \n2         BLA125469          10       DULAGLUTIDE                       .75   \n3         BLA125469          10       DULAGLUTIDE                       1.5   \n4         BLA761063          10      GALCANEZUMAB                       120   \n\n  ACTIVE_INGRED_UNIT                                      PHARM_CLASSES  \\\n0              mL/mL                                                NaN   \n1             mCi/mL  Radioactive Diagnostic Agent [EPC],Positron Em...   \n2            mg/.5mL  GLP-1 Receptor Agonist [EPC],Glucagon-Like Pep...   \n3            mg/.5mL  GLP-1 Receptor Agonist [EPC],Glucagon-Like Pep...   \n4              mg/mL                                                NaN   \n\n  DEASCHEDULE NDC_EXCLUDE_FLAG  LISTING_RECORD_CERTIFIED_THROUGH  \n0         NaN                N                        20201231.0  \n1         NaN                N                        20211231.0  \n2         NaN                N                        20201231.0  \n3         NaN                N                        20201231.0  \n4         NaN                N                        20201231.0  ",
      "text/html": "<div>\n<style scoped>\n    .dataframe tbody tr th:only-of-type {\n        vertical-align: middle;\n    }\n\n    .dataframe tbody tr th {\n        vertical-align: top;\n    }\n\n    .dataframe thead th {\n        text-align: right;\n    }\n</style>\n<table border=\"1\" class=\"dataframe\">\n  <thead>\n    <tr style=\"text-align: right;\">\n      <th></th>\n      <th>PRODUCTID</th>\n      <th>PRODUCTNDC</th>\n      <th>PRODUCTTYPENAME</th>\n      <th>PROPRIETARYNAME</th>\n      <th>PROPRIETARYNAMESUFFIX</th>\n      <th>NONPROPRIETARYNAME</th>\n      <th>DOSAGEFORMNAME</th>\n      <th>ROUTENAME</th>\n      <th>STARTMARKETINGDATE</th>\n      <th>ENDMARKETINGDATE</th>\n      <th>MARKETINGCATEGORYNAME</th>\n      <th>APPLICATIONNUMBER</th>\n      <th>LABELERNAME</th>\n      <th>SUBSTANCENAME</th>\n      <th>ACTIVE_NUMERATOR_STRENGTH</th>\n      <th>ACTIVE_INGRED_UNIT</th>\n      <th>PHARM_CLASSES</th>\n      <th>DEASCHEDULE</th>\n      <th>NDC_EXCLUDE_FLAG</th>\n      <th>LISTING_RECORD_CERTIFIED_THROUGH</th>\n    </tr>\n  </thead>\n  <tbody>\n    <tr>\n      <th>0</th>\n      <td>NaN</td>\n      <td>0002-0800</td>\n      <td>HUMAN OTC DRUG</td>\n      <td>Sterile Diluent</td>\n      <td>NaN</td>\n      <td>diluent</td>\n      <td>INJECTION, SOLUTION</td>\n      <td>SUBCUTANEOUS</td>\n      <td>19870710</td>\n      <td>NaN</td>\n      <td>NDA</td>\n      <td>NDA018781</td>\n      <td>10</td>\n      <td>WATER</td>\n      <td>1</td>\n      <td>mL/mL</td>\n      <td>NaN</td>\n      <td>NaN</td>\n      <td>N</td>\n      <td>20201231.0</td>\n    </tr>\n    <tr>\n      <th>1</th>\n      <td>NaN</td>\n      <td>0002-1200</td>\n      <td>HUMAN PRESCRIPTION DRUG</td>\n      <td>Amyvid</td>\n      <td>NaN</td>\n      <td>Florbetapir F 18</td>\n      <td>INJECTION, SOLUTION</td>\n      <td>INTRAVENOUS</td>\n      <td>20120601</td>\n      <td>NaN</td>\n      <td>NDA</td>\n      <td>NDA202008</td>\n      <td>10</td>\n      <td>FLORBETAPIR F-18</td>\n      <td>51</td>\n      <td>mCi/mL</td>\n      <td>Radioactive Diagnostic Agent [EPC],Positron Em...</td>\n      <td>NaN</td>\n      <td>N</td>\n      <td>20211231.0</td>\n    </tr>\n    <tr>\n      <th>2</th>\n      <td>NaN</td>\n      <td>0002-1433</td>\n      <td>HUMAN PRESCRIPTION DRUG</td>\n      <td>Trulicity</td>\n      <td>NaN</td>\n      <td>Dulaglutide</td>\n      <td>INJECTION, SOLUTION</td>\n      <td>SUBCUTANEOUS</td>\n      <td>20140918</td>\n      <td>NaN</td>\n      <td>BLA</td>\n      <td>BLA125469</td>\n      <td>10</td>\n      <td>DULAGLUTIDE</td>\n      <td>.75</td>\n      <td>mg/.5mL</td>\n      <td>GLP-1 Receptor Agonist [EPC],Glucagon-Like Pep...</td>\n      <td>NaN</td>\n      <td>N</td>\n      <td>20201231.0</td>\n    </tr>\n    <tr>\n      <th>3</th>\n      <td>NaN</td>\n      <td>0002-1434</td>\n      <td>HUMAN PRESCRIPTION DRUG</td>\n      <td>Trulicity</td>\n      <td>NaN</td>\n      <td>Dulaglutide</td>\n      <td>INJECTION, SOLUTION</td>\n      <td>SUBCUTANEOUS</td>\n      <td>20140918</td>\n      <td>NaN</td>\n      <td>BLA</td>\n      <td>BLA125469</td>\n      <td>10</td>\n      <td>DULAGLUTIDE</td>\n      <td>1.5</td>\n      <td>mg/.5mL</td>\n      <td>GLP-1 Receptor Agonist [EPC],Glucagon-Like Pep...</td>\n      <td>NaN</td>\n      <td>N</td>\n      <td>20201231.0</td>\n    </tr>\n    <tr>\n      <th>4</th>\n      <td>NaN</td>\n      <td>0002-1436</td>\n      <td>HUMAN PRESCRIPTION DRUG</td>\n      <td>EMGALITY</td>\n      <td>NaN</td>\n      <td>galcanezumab</td>\n      <td>INJECTION, SOLUTION</td>\n      <td>SUBCUTANEOUS</td>\n      <td>20180927</td>\n      <td>NaN</td>\n      <td>BLA</td>\n      <td>BLA761063</td>\n      <td>10</td>\n      <td>GALCANEZUMAB</td>\n      <td>120</td>\n      <td>mg/mL</td>\n      <td>NaN</td>\n      <td>NaN</td>\n      <td>N</td>\n      <td>20201231.0</td>\n    </tr>\n  </tbody>\n</table>\n</div>"
     },
     "execution_count": 7,
     "metadata": {},
     "output_type": "execute_result"
    }
   ],
   "source": [
    "product_df.head()"
   ]
  },
  {
   "cell_type": "code",
   "execution_count": 8,
   "metadata": {},
   "outputs": [
    {
     "name": "stdout",
     "output_type": "stream",
     "text": [
      "<class 'pandas.core.frame.DataFrame'>\n",
      "RangeIndex: 93238 entries, 0 to 93237\n",
      "Data columns (total 20 columns):\n",
      " #   Column                            Non-Null Count  Dtype  \n",
      "---  ------                            --------------  -----  \n",
      " 0   PRODUCTID                         91678 non-null  object \n",
      " 1   PRODUCTNDC                        93238 non-null  object \n",
      " 2   PRODUCTTYPENAME                   93238 non-null  object \n",
      " 3   PROPRIETARYNAME                   93232 non-null  object \n",
      " 4   PROPRIETARYNAMESUFFIX             10163 non-null  object \n",
      " 5   NONPROPRIETARYNAME                93234 non-null  object \n",
      " 6   DOSAGEFORMNAME                    93238 non-null  object \n",
      " 7   ROUTENAME                         91306 non-null  object \n",
      " 8   STARTMARKETINGDATE                93238 non-null  int64  \n",
      " 9   ENDMARKETINGDATE                  4323 non-null   float64\n",
      " 10  MARKETINGCATEGORYNAME             93238 non-null  object \n",
      " 11  APPLICATIONNUMBER                 80141 non-null  object \n",
      " 12  LABELERNAME                       93238 non-null  object \n",
      " 13  SUBSTANCENAME                     90929 non-null  object \n",
      " 14  ACTIVE_NUMERATOR_STRENGTH         90929 non-null  object \n",
      " 15  ACTIVE_INGRED_UNIT                90929 non-null  object \n",
      " 16  PHARM_CLASSES                     42254 non-null  object \n",
      " 17  DEASCHEDULE                       4423 non-null   object \n",
      " 18  NDC_EXCLUDE_FLAG                  93238 non-null  object \n",
      " 19  LISTING_RECORD_CERTIFIED_THROUGH  88913 non-null  float64\n",
      "dtypes: float64(2), int64(1), object(17)\n",
      "memory usage: 14.2+ MB\n"
     ]
    }
   ],
   "source": [
    "product_df.info()"
   ]
  },
  {
   "cell_type": "code",
   "execution_count": 9,
   "metadata": {},
   "outputs": [
    {
     "data": {
      "text/plain": "       ENDMARKETINGDATE  LISTING_RECORD_CERTIFIED_THROUGH\ncount      4.323000e+03                      8.891300e+04\nmean       2.021040e+07                      2.020247e+07\nstd        1.539891e+05                      3.294780e+03\nmin        2.020022e+07                      2.020123e+07\n25%        2.020081e+07                      2.020123e+07\n50%        2.020123e+07                      2.020123e+07\n75%        2.021111e+07                      2.020123e+07\nmax        3.031021e+07                      2.021123e+07",
      "text/html": "<div>\n<style scoped>\n    .dataframe tbody tr th:only-of-type {\n        vertical-align: middle;\n    }\n\n    .dataframe tbody tr th {\n        vertical-align: top;\n    }\n\n    .dataframe thead th {\n        text-align: right;\n    }\n</style>\n<table border=\"1\" class=\"dataframe\">\n  <thead>\n    <tr style=\"text-align: right;\">\n      <th></th>\n      <th>ENDMARKETINGDATE</th>\n      <th>LISTING_RECORD_CERTIFIED_THROUGH</th>\n    </tr>\n  </thead>\n  <tbody>\n    <tr>\n      <th>count</th>\n      <td>4.323000e+03</td>\n      <td>8.891300e+04</td>\n    </tr>\n    <tr>\n      <th>mean</th>\n      <td>2.021040e+07</td>\n      <td>2.020247e+07</td>\n    </tr>\n    <tr>\n      <th>std</th>\n      <td>1.539891e+05</td>\n      <td>3.294780e+03</td>\n    </tr>\n    <tr>\n      <th>min</th>\n      <td>2.020022e+07</td>\n      <td>2.020123e+07</td>\n    </tr>\n    <tr>\n      <th>25%</th>\n      <td>2.020081e+07</td>\n      <td>2.020123e+07</td>\n    </tr>\n    <tr>\n      <th>50%</th>\n      <td>2.020123e+07</td>\n      <td>2.020123e+07</td>\n    </tr>\n    <tr>\n      <th>75%</th>\n      <td>2.021111e+07</td>\n      <td>2.020123e+07</td>\n    </tr>\n    <tr>\n      <th>max</th>\n      <td>3.031021e+07</td>\n      <td>2.021123e+07</td>\n    </tr>\n  </tbody>\n</table>\n</div>"
     },
     "execution_count": 9,
     "metadata": {},
     "output_type": "execute_result"
    }
   ],
   "source": [
    "product_df.select_dtypes(include='float64').describe()"
   ]
  },
  {
   "cell_type": "code",
   "execution_count": 10,
   "metadata": {},
   "outputs": [
    {
     "data": {
      "text/plain": "       STARTMARKETINGDATE\ncount        9.323800e+04\nmean         2.010696e+07\nstd          1.131769e+05\nmin          1.900010e+07\n25%          2.009090e+07\n50%          2.014122e+07\n75%          2.018010e+07\nmax          2.020021e+07",
      "text/html": "<div>\n<style scoped>\n    .dataframe tbody tr th:only-of-type {\n        vertical-align: middle;\n    }\n\n    .dataframe tbody tr th {\n        vertical-align: top;\n    }\n\n    .dataframe thead th {\n        text-align: right;\n    }\n</style>\n<table border=\"1\" class=\"dataframe\">\n  <thead>\n    <tr style=\"text-align: right;\">\n      <th></th>\n      <th>STARTMARKETINGDATE</th>\n    </tr>\n  </thead>\n  <tbody>\n    <tr>\n      <th>count</th>\n      <td>9.323800e+04</td>\n    </tr>\n    <tr>\n      <th>mean</th>\n      <td>2.010696e+07</td>\n    </tr>\n    <tr>\n      <th>std</th>\n      <td>1.131769e+05</td>\n    </tr>\n    <tr>\n      <th>min</th>\n      <td>1.900010e+07</td>\n    </tr>\n    <tr>\n      <th>25%</th>\n      <td>2.009090e+07</td>\n    </tr>\n    <tr>\n      <th>50%</th>\n      <td>2.014122e+07</td>\n    </tr>\n    <tr>\n      <th>75%</th>\n      <td>2.018010e+07</td>\n    </tr>\n    <tr>\n      <th>max</th>\n      <td>2.020021e+07</td>\n    </tr>\n  </tbody>\n</table>\n</div>"
     },
     "execution_count": 10,
     "metadata": {},
     "output_type": "execute_result"
    }
   ],
   "source": [
    "product_df.select_dtypes(include='int64').describe()"
   ]
  },
  {
   "cell_type": "code",
   "execution_count": 11,
   "metadata": {},
   "outputs": [
    {
     "data": {
      "text/plain": "                                             PRODUCTID           PRODUCTNDC  \\\ncount                                            91678                93238   \nunique                                           91678                91468   \ntop     0220-3816_875ac319-f27a-4cc8-e053-2995a90ad92a  OTC MONOGRAPH FINAL   \nfreq                                                 1                  111   \n\n       PRODUCTTYPENAME PROPRIETARYNAME PROPRIETARYNAMESUFFIX  \\\ncount            93238           93232                 10163   \nunique               7           32716                  4022   \ntop     HUMAN OTC DRUG       Ibuprofen      Maximum Strength   \nfreq             46172             565                   408   \n\n       NONPROPRIETARYNAME DOSAGEFORMNAME ROUTENAME MARKETINGCATEGORYNAME  \\\ncount               93234          93238     91306                 93238   \nunique              16257            134       180                    10   \ntop             Ibuprofen         TABLET      ORAL                  ANDA   \nfreq                  947          15442     54704                 37490   \n\n       APPLICATIONNUMBER        LABELERNAME SUBSTANCENAME  \\\ncount              80141              93238         90929   \nunique             10711               6611          8976   \ntop              part352  REMEDYREPACK INC.       ALCOHOL   \nfreq                6563               2201          1720   \n\n       ACTIVE_NUMERATOR_STRENGTH ACTIVE_INGRED_UNIT  \\\ncount                      90929              90929   \nunique                      8769               2391   \ntop                           10               mg/1   \nfreq                        4617              34831   \n\n                                            PHARM_CLASSES DEASCHEDULE  \\\ncount                                               42254        4423   \nunique                                               1285           4   \ntop     Corticosteroid [EPC],Corticosteroid Hormone Re...         CII   \nfreq                                                 1420        1802   \n\n       NDC_EXCLUDE_FLAG  \ncount             93238  \nunique                1  \ntop                   N  \nfreq              93238  ",
      "text/html": "<div>\n<style scoped>\n    .dataframe tbody tr th:only-of-type {\n        vertical-align: middle;\n    }\n\n    .dataframe tbody tr th {\n        vertical-align: top;\n    }\n\n    .dataframe thead th {\n        text-align: right;\n    }\n</style>\n<table border=\"1\" class=\"dataframe\">\n  <thead>\n    <tr style=\"text-align: right;\">\n      <th></th>\n      <th>PRODUCTID</th>\n      <th>PRODUCTNDC</th>\n      <th>PRODUCTTYPENAME</th>\n      <th>PROPRIETARYNAME</th>\n      <th>PROPRIETARYNAMESUFFIX</th>\n      <th>NONPROPRIETARYNAME</th>\n      <th>DOSAGEFORMNAME</th>\n      <th>ROUTENAME</th>\n      <th>MARKETINGCATEGORYNAME</th>\n      <th>APPLICATIONNUMBER</th>\n      <th>LABELERNAME</th>\n      <th>SUBSTANCENAME</th>\n      <th>ACTIVE_NUMERATOR_STRENGTH</th>\n      <th>ACTIVE_INGRED_UNIT</th>\n      <th>PHARM_CLASSES</th>\n      <th>DEASCHEDULE</th>\n      <th>NDC_EXCLUDE_FLAG</th>\n    </tr>\n  </thead>\n  <tbody>\n    <tr>\n      <th>count</th>\n      <td>91678</td>\n      <td>93238</td>\n      <td>93238</td>\n      <td>93232</td>\n      <td>10163</td>\n      <td>93234</td>\n      <td>93238</td>\n      <td>91306</td>\n      <td>93238</td>\n      <td>80141</td>\n      <td>93238</td>\n      <td>90929</td>\n      <td>90929</td>\n      <td>90929</td>\n      <td>42254</td>\n      <td>4423</td>\n      <td>93238</td>\n    </tr>\n    <tr>\n      <th>unique</th>\n      <td>91678</td>\n      <td>91468</td>\n      <td>7</td>\n      <td>32716</td>\n      <td>4022</td>\n      <td>16257</td>\n      <td>134</td>\n      <td>180</td>\n      <td>10</td>\n      <td>10711</td>\n      <td>6611</td>\n      <td>8976</td>\n      <td>8769</td>\n      <td>2391</td>\n      <td>1285</td>\n      <td>4</td>\n      <td>1</td>\n    </tr>\n    <tr>\n      <th>top</th>\n      <td>0220-3816_875ac319-f27a-4cc8-e053-2995a90ad92a</td>\n      <td>OTC MONOGRAPH FINAL</td>\n      <td>HUMAN OTC DRUG</td>\n      <td>Ibuprofen</td>\n      <td>Maximum Strength</td>\n      <td>Ibuprofen</td>\n      <td>TABLET</td>\n      <td>ORAL</td>\n      <td>ANDA</td>\n      <td>part352</td>\n      <td>REMEDYREPACK INC.</td>\n      <td>ALCOHOL</td>\n      <td>10</td>\n      <td>mg/1</td>\n      <td>Corticosteroid [EPC],Corticosteroid Hormone Re...</td>\n      <td>CII</td>\n      <td>N</td>\n    </tr>\n    <tr>\n      <th>freq</th>\n      <td>1</td>\n      <td>111</td>\n      <td>46172</td>\n      <td>565</td>\n      <td>408</td>\n      <td>947</td>\n      <td>15442</td>\n      <td>54704</td>\n      <td>37490</td>\n      <td>6563</td>\n      <td>2201</td>\n      <td>1720</td>\n      <td>4617</td>\n      <td>34831</td>\n      <td>1420</td>\n      <td>1802</td>\n      <td>93238</td>\n    </tr>\n  </tbody>\n</table>\n</div>"
     },
     "execution_count": 11,
     "metadata": {},
     "output_type": "execute_result"
    }
   ],
   "source": [
    "product_df.select_dtypes(include='object').describe()"
   ]
  },
  {
   "cell_type": "markdown",
   "metadata": {},
   "source": [
    "#### Nombre, taux et types des valeurs manquantes par attribut (product_df)"
   ]
  },
  {
   "cell_type": "code",
   "execution_count": 12,
   "metadata": {},
   "outputs": [
    {
     "data": {
      "text/plain": "                                    Types  Nb Unique  Nb manquants  \\\nPRODUCTNDC                         object      91468             0   \nPRODUCTTYPENAME                    object          7             0   \nDOSAGEFORMNAME                     object        134             0   \nSTARTMARKETINGDATE                  int64       7262             0   \nNDC_EXCLUDE_FLAG                   object          1             0   \nMARKETINGCATEGORYNAME              object         10             0   \nLABELERNAME                        object       6611             0   \nNONPROPRIETARYNAME                 object      16257             4   \nPROPRIETARYNAME                    object      32716             6   \nPRODUCTID                          object      91678          1560   \nROUTENAME                          object        180          1932   \nACTIVE_INGRED_UNIT                 object       2391          2309   \nACTIVE_NUMERATOR_STRENGTH          object       8769          2309   \nSUBSTANCENAME                      object       8976          2309   \nLISTING_RECORD_CERTIFIED_THROUGH  float64          2          4325   \nAPPLICATIONNUMBER                  object      10711         13097   \nPHARM_CLASSES                      object       1285         50984   \nPROPRIETARYNAMESUFFIX              object       4022         83075   \nDEASCHEDULE                        object          4         88815   \nENDMARKETINGDATE                  float64        742         88915   \n\n                                  Ratio manquants%  \nPRODUCTNDC                                0.000000  \nPRODUCTTYPENAME                           0.000000  \nDOSAGEFORMNAME                            0.000000  \nSTARTMARKETINGDATE                        0.000000  \nNDC_EXCLUDE_FLAG                          0.000000  \nMARKETINGCATEGORYNAME                     0.000000  \nLABELERNAME                               0.000000  \nNONPROPRIETARYNAME                        0.000043  \nPROPRIETARYNAME                           0.000064  \nPRODUCTID                                 0.016731  \nROUTENAME                                 0.020721  \nACTIVE_INGRED_UNIT                        0.024765  \nACTIVE_NUMERATOR_STRENGTH                 0.024765  \nSUBSTANCENAME                             0.024765  \nLISTING_RECORD_CERTIFIED_THROUGH          0.046387  \nAPPLICATIONNUMBER                         0.140468  \nPHARM_CLASSES                             0.546816  \nPROPRIETARYNAMESUFFIX                     0.890999  \nDEASCHEDULE                               0.952562  \nENDMARKETINGDATE                          0.953635  ",
      "text/html": "<div>\n<style scoped>\n    .dataframe tbody tr th:only-of-type {\n        vertical-align: middle;\n    }\n\n    .dataframe tbody tr th {\n        vertical-align: top;\n    }\n\n    .dataframe thead th {\n        text-align: right;\n    }\n</style>\n<table border=\"1\" class=\"dataframe\">\n  <thead>\n    <tr style=\"text-align: right;\">\n      <th></th>\n      <th>Types</th>\n      <th>Nb Unique</th>\n      <th>Nb manquants</th>\n      <th>Ratio manquants%</th>\n    </tr>\n  </thead>\n  <tbody>\n    <tr>\n      <th>PRODUCTNDC</th>\n      <td>object</td>\n      <td>91468</td>\n      <td>0</td>\n      <td>0.000000</td>\n    </tr>\n    <tr>\n      <th>PRODUCTTYPENAME</th>\n      <td>object</td>\n      <td>7</td>\n      <td>0</td>\n      <td>0.000000</td>\n    </tr>\n    <tr>\n      <th>DOSAGEFORMNAME</th>\n      <td>object</td>\n      <td>134</td>\n      <td>0</td>\n      <td>0.000000</td>\n    </tr>\n    <tr>\n      <th>STARTMARKETINGDATE</th>\n      <td>int64</td>\n      <td>7262</td>\n      <td>0</td>\n      <td>0.000000</td>\n    </tr>\n    <tr>\n      <th>NDC_EXCLUDE_FLAG</th>\n      <td>object</td>\n      <td>1</td>\n      <td>0</td>\n      <td>0.000000</td>\n    </tr>\n    <tr>\n      <th>MARKETINGCATEGORYNAME</th>\n      <td>object</td>\n      <td>10</td>\n      <td>0</td>\n      <td>0.000000</td>\n    </tr>\n    <tr>\n      <th>LABELERNAME</th>\n      <td>object</td>\n      <td>6611</td>\n      <td>0</td>\n      <td>0.000000</td>\n    </tr>\n    <tr>\n      <th>NONPROPRIETARYNAME</th>\n      <td>object</td>\n      <td>16257</td>\n      <td>4</td>\n      <td>0.000043</td>\n    </tr>\n    <tr>\n      <th>PROPRIETARYNAME</th>\n      <td>object</td>\n      <td>32716</td>\n      <td>6</td>\n      <td>0.000064</td>\n    </tr>\n    <tr>\n      <th>PRODUCTID</th>\n      <td>object</td>\n      <td>91678</td>\n      <td>1560</td>\n      <td>0.016731</td>\n    </tr>\n    <tr>\n      <th>ROUTENAME</th>\n      <td>object</td>\n      <td>180</td>\n      <td>1932</td>\n      <td>0.020721</td>\n    </tr>\n    <tr>\n      <th>ACTIVE_INGRED_UNIT</th>\n      <td>object</td>\n      <td>2391</td>\n      <td>2309</td>\n      <td>0.024765</td>\n    </tr>\n    <tr>\n      <th>ACTIVE_NUMERATOR_STRENGTH</th>\n      <td>object</td>\n      <td>8769</td>\n      <td>2309</td>\n      <td>0.024765</td>\n    </tr>\n    <tr>\n      <th>SUBSTANCENAME</th>\n      <td>object</td>\n      <td>8976</td>\n      <td>2309</td>\n      <td>0.024765</td>\n    </tr>\n    <tr>\n      <th>LISTING_RECORD_CERTIFIED_THROUGH</th>\n      <td>float64</td>\n      <td>2</td>\n      <td>4325</td>\n      <td>0.046387</td>\n    </tr>\n    <tr>\n      <th>APPLICATIONNUMBER</th>\n      <td>object</td>\n      <td>10711</td>\n      <td>13097</td>\n      <td>0.140468</td>\n    </tr>\n    <tr>\n      <th>PHARM_CLASSES</th>\n      <td>object</td>\n      <td>1285</td>\n      <td>50984</td>\n      <td>0.546816</td>\n    </tr>\n    <tr>\n      <th>PROPRIETARYNAMESUFFIX</th>\n      <td>object</td>\n      <td>4022</td>\n      <td>83075</td>\n      <td>0.890999</td>\n    </tr>\n    <tr>\n      <th>DEASCHEDULE</th>\n      <td>object</td>\n      <td>4</td>\n      <td>88815</td>\n      <td>0.952562</td>\n    </tr>\n    <tr>\n      <th>ENDMARKETINGDATE</th>\n      <td>float64</td>\n      <td>742</td>\n      <td>88915</td>\n      <td>0.953635</td>\n    </tr>\n  </tbody>\n</table>\n</div>"
     },
     "execution_count": 12,
     "metadata": {},
     "output_type": "execute_result"
    }
   ],
   "source": [
    "table_completeness(product_df)"
   ]
  },
  {
   "cell_type": "markdown",
   "metadata": {},
   "source": [
    "___________________________"
   ]
  },
  {
   "cell_type": "markdown",
   "metadata": {},
   "source": [
    "## package2.csv --> package_df"
   ]
  },
  {
   "cell_type": "markdown",
   "metadata": {},
   "source": [
    "La colonne PRODUCTID contient la concaténation des valeurs du code de produit NDC et de l'ID SPL. Il n'y a aucune valeur\n",
    "absente.\n",
    "\n",
    "La colonne PRODUCTNDC contient cependant 1500 valeurs manquantes. On y retrouve également des valeurs aberrantes.\n",
    "\n",
    "Les colonnes STARTMARKETINGDATE et ENDMARKETINGDATE contiennent plusieurs valeurs absentes. Elle contiennet, comme leurs noms\n",
    "l'indique, des dates de mise et de retrait du marché.\n",
    "\n",
    "La colonne PACKAGEDESCRIPTION est présentée sous forme de phrase et contient de multiples informations: le type de\n",
    "volume, sa valeur et son unité. S'il existe plusieurs contenants pour un objet, ils sont concaténés par un séparateur\n",
    "'>' de manière hiérarchique.\n",
    "\n",
    "La colonne PACKAGEDESCRIPTION contient des données sous forme de texte décrivant plusieurs attributs de l'emballage\n",
    "pour chaque produit. Certaines valeurs sont des \"listes\" hierarchique indiquant l'agencement de l'emballage pour les\n",
    "produits concernés.\n",
    "\n",
    "Les colonnes NDC_EXCLUDE_FLAG et SAMPLE_PACKAGE contiennent une variable binaire dont les valeurs dont très débalancées.\n",
    "Elles indiquent l'exclusion et s'il s'agit d'un format échantillon pour le produit. Il n'y manque aucune valeur."
   ]
  },
  {
   "cell_type": "markdown",
   "metadata": {},
   "source": [
    "### Remarques\n",
    "\n",
    "**ProductNDC** est un sous-ensemble de **NDCPackageCode**\n",
    "\n",
    "**NDC_Exclude_Flag** semble non essentiel puisque nous traitons que de ceux qui sont approuvés."
   ]
  },
  {
   "cell_type": "markdown",
   "metadata": {},
   "source": [
    "___________________________"
   ]
  },
  {
   "cell_type": "code",
   "execution_count": 13,
   "metadata": {},
   "outputs": [
    {
     "name": "stdout",
     "output_type": "stream",
     "text": [
      "package_df shape:  (173887, 8)\n",
      "# of rows:  173887\n",
      "# of attributes:  8\n"
     ]
    }
   ],
   "source": [
    "print(\"package_df shape: \", package_df.shape)\n",
    "print(\"# of rows: \", package_df.shape[0])\n",
    "print(\"# of attributes: \", package_df.shape[1])"
   ]
  },
  {
   "cell_type": "code",
   "execution_count": 14,
   "metadata": {},
   "outputs": [
    {
     "data": {
      "text/plain": "                                        PRODUCTID PRODUCTNDC NDCPACKAGECODE  \\\n0  0002-0800_94c48759-29bb-402d-afff-9a713be11f0e  0002-0800   0002-0800-01   \n1  0002-1200_35551a38-7a8d-43b8-8abd-f6cb7549e932  0002-1200   0002-1200-30   \n2  0002-1200_35551a38-7a8d-43b8-8abd-f6cb7549e932  0002-1200   0002-1200-50   \n3  0002-1433_42a80046-fd68-4b80-819c-a443b7816edb  0002-1433   0002-1433-61   \n4  0002-1433_42a80046-fd68-4b80-819c-a443b7816edb  0002-1433   0002-1433-80   \n\n                                  PACKAGEDESCRIPTION  STARTMARKETINGDATE  \\\n0  1 VIAL in 1 CARTON (0002-0800-01)  > 10 mL in ...            19870710   \n1  1 VIAL, MULTI-DOSE in 1 CAN (0002-1200-30)  > ...            20120601   \n2  1 VIAL, MULTI-DOSE in 1 CAN (0002-1200-50)  > ...            20120601   \n3  2 SYRINGE in 1 CARTON (0002-1433-61)  > .5 mL ...            20141107   \n4  4 SYRINGE in 1 CARTON (0002-1433-80)  > .5 mL ...            20141107   \n\n   ENDMARKETINGDATE NDC_EXCLUDE_FLAG SAMPLE_PACKAGE  \n0               NaN                N              N  \n1               NaN                N              N  \n2               NaN                N              N  \n3               NaN                N              Y  \n4               NaN                N              N  ",
      "text/html": "<div>\n<style scoped>\n    .dataframe tbody tr th:only-of-type {\n        vertical-align: middle;\n    }\n\n    .dataframe tbody tr th {\n        vertical-align: top;\n    }\n\n    .dataframe thead th {\n        text-align: right;\n    }\n</style>\n<table border=\"1\" class=\"dataframe\">\n  <thead>\n    <tr style=\"text-align: right;\">\n      <th></th>\n      <th>PRODUCTID</th>\n      <th>PRODUCTNDC</th>\n      <th>NDCPACKAGECODE</th>\n      <th>PACKAGEDESCRIPTION</th>\n      <th>STARTMARKETINGDATE</th>\n      <th>ENDMARKETINGDATE</th>\n      <th>NDC_EXCLUDE_FLAG</th>\n      <th>SAMPLE_PACKAGE</th>\n    </tr>\n  </thead>\n  <tbody>\n    <tr>\n      <th>0</th>\n      <td>0002-0800_94c48759-29bb-402d-afff-9a713be11f0e</td>\n      <td>0002-0800</td>\n      <td>0002-0800-01</td>\n      <td>1 VIAL in 1 CARTON (0002-0800-01)  &gt; 10 mL in ...</td>\n      <td>19870710</td>\n      <td>NaN</td>\n      <td>N</td>\n      <td>N</td>\n    </tr>\n    <tr>\n      <th>1</th>\n      <td>0002-1200_35551a38-7a8d-43b8-8abd-f6cb7549e932</td>\n      <td>0002-1200</td>\n      <td>0002-1200-30</td>\n      <td>1 VIAL, MULTI-DOSE in 1 CAN (0002-1200-30)  &gt; ...</td>\n      <td>20120601</td>\n      <td>NaN</td>\n      <td>N</td>\n      <td>N</td>\n    </tr>\n    <tr>\n      <th>2</th>\n      <td>0002-1200_35551a38-7a8d-43b8-8abd-f6cb7549e932</td>\n      <td>0002-1200</td>\n      <td>0002-1200-50</td>\n      <td>1 VIAL, MULTI-DOSE in 1 CAN (0002-1200-50)  &gt; ...</td>\n      <td>20120601</td>\n      <td>NaN</td>\n      <td>N</td>\n      <td>N</td>\n    </tr>\n    <tr>\n      <th>3</th>\n      <td>0002-1433_42a80046-fd68-4b80-819c-a443b7816edb</td>\n      <td>0002-1433</td>\n      <td>0002-1433-61</td>\n      <td>2 SYRINGE in 1 CARTON (0002-1433-61)  &gt; .5 mL ...</td>\n      <td>20141107</td>\n      <td>NaN</td>\n      <td>N</td>\n      <td>Y</td>\n    </tr>\n    <tr>\n      <th>4</th>\n      <td>0002-1433_42a80046-fd68-4b80-819c-a443b7816edb</td>\n      <td>0002-1433</td>\n      <td>0002-1433-80</td>\n      <td>4 SYRINGE in 1 CARTON (0002-1433-80)  &gt; .5 mL ...</td>\n      <td>20141107</td>\n      <td>NaN</td>\n      <td>N</td>\n      <td>N</td>\n    </tr>\n  </tbody>\n</table>\n</div>"
     },
     "execution_count": 14,
     "metadata": {},
     "output_type": "execute_result"
    }
   ],
   "source": [
    "package_df.head()"
   ]
  },
  {
   "cell_type": "code",
   "execution_count": 15,
   "metadata": {},
   "outputs": [
    {
     "name": "stdout",
     "output_type": "stream",
     "text": [
      "<class 'pandas.core.frame.DataFrame'>\n",
      "RangeIndex: 173887 entries, 0 to 173886\n",
      "Data columns (total 8 columns):\n",
      " #   Column              Non-Null Count   Dtype  \n",
      "---  ------              --------------   -----  \n",
      " 0   PRODUCTID           173887 non-null  object \n",
      " 1   PRODUCTNDC          172387 non-null  object \n",
      " 2   NDCPACKAGECODE      171541 non-null  object \n",
      " 3   PACKAGEDESCRIPTION  173887 non-null  object \n",
      " 4   STARTMARKETINGDATE  173887 non-null  int64  \n",
      " 5   ENDMARKETINGDATE    6456 non-null    float64\n",
      " 6   NDC_EXCLUDE_FLAG    173887 non-null  object \n",
      " 7   SAMPLE_PACKAGE      173887 non-null  object \n",
      "dtypes: float64(1), int64(1), object(6)\n",
      "memory usage: 10.6+ MB\n"
     ]
    }
   ],
   "source": [
    "package_df.info()"
   ]
  },
  {
   "cell_type": "code",
   "execution_count": 16,
   "metadata": {},
   "outputs": [
    {
     "data": {
      "text/plain": "       ENDMARKETINGDATE\ncount      6.456000e+03\nmean       2.020787e+07\nstd        1.055415e+04\nmin        2.020022e+07\n25%        2.020080e+07\n50%        2.020123e+07\n75%        2.021111e+07\nmax        2.039083e+07",
      "text/html": "<div>\n<style scoped>\n    .dataframe tbody tr th:only-of-type {\n        vertical-align: middle;\n    }\n\n    .dataframe tbody tr th {\n        vertical-align: top;\n    }\n\n    .dataframe thead th {\n        text-align: right;\n    }\n</style>\n<table border=\"1\" class=\"dataframe\">\n  <thead>\n    <tr style=\"text-align: right;\">\n      <th></th>\n      <th>ENDMARKETINGDATE</th>\n    </tr>\n  </thead>\n  <tbody>\n    <tr>\n      <th>count</th>\n      <td>6.456000e+03</td>\n    </tr>\n    <tr>\n      <th>mean</th>\n      <td>2.020787e+07</td>\n    </tr>\n    <tr>\n      <th>std</th>\n      <td>1.055415e+04</td>\n    </tr>\n    <tr>\n      <th>min</th>\n      <td>2.020022e+07</td>\n    </tr>\n    <tr>\n      <th>25%</th>\n      <td>2.020080e+07</td>\n    </tr>\n    <tr>\n      <th>50%</th>\n      <td>2.020123e+07</td>\n    </tr>\n    <tr>\n      <th>75%</th>\n      <td>2.021111e+07</td>\n    </tr>\n    <tr>\n      <th>max</th>\n      <td>2.039083e+07</td>\n    </tr>\n  </tbody>\n</table>\n</div>"
     },
     "execution_count": 16,
     "metadata": {},
     "output_type": "execute_result"
    }
   ],
   "source": [
    "package_df.select_dtypes(include=['float64']).describe()"
   ]
  },
  {
   "cell_type": "code",
   "execution_count": 17,
   "metadata": {},
   "outputs": [
    {
     "data": {
      "text/plain": "       STARTMARKETINGDATE\ncount        1.738870e+05\nmean         2.012930e+07\nstd          3.844789e+05\nmin          1.900010e+07\n25%          2.010060e+07\n50%          2.015110e+07\n75%          2.018050e+07\nmax          2.997122e+07",
      "text/html": "<div>\n<style scoped>\n    .dataframe tbody tr th:only-of-type {\n        vertical-align: middle;\n    }\n\n    .dataframe tbody tr th {\n        vertical-align: top;\n    }\n\n    .dataframe thead th {\n        text-align: right;\n    }\n</style>\n<table border=\"1\" class=\"dataframe\">\n  <thead>\n    <tr style=\"text-align: right;\">\n      <th></th>\n      <th>STARTMARKETINGDATE</th>\n    </tr>\n  </thead>\n  <tbody>\n    <tr>\n      <th>count</th>\n      <td>1.738870e+05</td>\n    </tr>\n    <tr>\n      <th>mean</th>\n      <td>2.012930e+07</td>\n    </tr>\n    <tr>\n      <th>std</th>\n      <td>3.844789e+05</td>\n    </tr>\n    <tr>\n      <th>min</th>\n      <td>1.900010e+07</td>\n    </tr>\n    <tr>\n      <th>25%</th>\n      <td>2.010060e+07</td>\n    </tr>\n    <tr>\n      <th>50%</th>\n      <td>2.015110e+07</td>\n    </tr>\n    <tr>\n      <th>75%</th>\n      <td>2.018050e+07</td>\n    </tr>\n    <tr>\n      <th>max</th>\n      <td>2.997122e+07</td>\n    </tr>\n  </tbody>\n</table>\n</div>"
     },
     "execution_count": 17,
     "metadata": {},
     "output_type": "execute_result"
    }
   ],
   "source": [
    "package_df.select_dtypes(include=['int64']).describe()"
   ]
  },
  {
   "cell_type": "code",
   "execution_count": 18,
   "metadata": {},
   "outputs": [
    {
     "data": {
      "text/plain": "                                             PRODUCTID PRODUCTNDC  \\\ncount                                           173887     172387   \nunique                                           93084      91080   \ntop     73069-525_e338a0c8-2ca2-42a4-8e4d-d76b4002ee48  73069-095   \nfreq                                                72         72   \n\n       NDCPACKAGECODE                           PACKAGEDESCRIPTION  \\\ncount          171541                                       173887   \nunique         171447                                       173885   \ntop          20211201  750 mL in 1 BOTTLE, PLASTIC (47593-359-41)    \nfreq               43                                            2   \n\n       NDC_EXCLUDE_FLAG SAMPLE_PACKAGE  \ncount            173887         173887  \nunique                1              2  \ntop                   N              N  \nfreq             173887         173223  ",
      "text/html": "<div>\n<style scoped>\n    .dataframe tbody tr th:only-of-type {\n        vertical-align: middle;\n    }\n\n    .dataframe tbody tr th {\n        vertical-align: top;\n    }\n\n    .dataframe thead th {\n        text-align: right;\n    }\n</style>\n<table border=\"1\" class=\"dataframe\">\n  <thead>\n    <tr style=\"text-align: right;\">\n      <th></th>\n      <th>PRODUCTID</th>\n      <th>PRODUCTNDC</th>\n      <th>NDCPACKAGECODE</th>\n      <th>PACKAGEDESCRIPTION</th>\n      <th>NDC_EXCLUDE_FLAG</th>\n      <th>SAMPLE_PACKAGE</th>\n    </tr>\n  </thead>\n  <tbody>\n    <tr>\n      <th>count</th>\n      <td>173887</td>\n      <td>172387</td>\n      <td>171541</td>\n      <td>173887</td>\n      <td>173887</td>\n      <td>173887</td>\n    </tr>\n    <tr>\n      <th>unique</th>\n      <td>93084</td>\n      <td>91080</td>\n      <td>171447</td>\n      <td>173885</td>\n      <td>1</td>\n      <td>2</td>\n    </tr>\n    <tr>\n      <th>top</th>\n      <td>73069-525_e338a0c8-2ca2-42a4-8e4d-d76b4002ee48</td>\n      <td>73069-095</td>\n      <td>20211201</td>\n      <td>750 mL in 1 BOTTLE, PLASTIC (47593-359-41)</td>\n      <td>N</td>\n      <td>N</td>\n    </tr>\n    <tr>\n      <th>freq</th>\n      <td>72</td>\n      <td>72</td>\n      <td>43</td>\n      <td>2</td>\n      <td>173887</td>\n      <td>173223</td>\n    </tr>\n  </tbody>\n</table>\n</div>"
     },
     "execution_count": 18,
     "metadata": {},
     "output_type": "execute_result"
    }
   ],
   "source": [
    "package_df.select_dtypes(include=['object']).describe()"
   ]
  },
  {
   "cell_type": "markdown",
   "metadata": {},
   "source": [
    "#### Nombre, taux et types des valeurs manquantes par attribut (package_df)"
   ]
  },
  {
   "cell_type": "code",
   "execution_count": 19,
   "metadata": {},
   "outputs": [
    {
     "data": {
      "text/plain": "                      Types  Nb Unique  Nb manquants  Ratio manquants%\nPRODUCTID            object      93084             0          0.000000\nPACKAGEDESCRIPTION   object     173885             0          0.000000\nSTARTMARKETINGDATE    int64       7401             0          0.000000\nNDC_EXCLUDE_FLAG     object          1             0          0.000000\nSAMPLE_PACKAGE       object          2             0          0.000000\nPRODUCTNDC           object      91080          1500          0.008626\nNDCPACKAGECODE       object     171447          2346          0.013492\nENDMARKETINGDATE    float64        767        167431          0.962872",
      "text/html": "<div>\n<style scoped>\n    .dataframe tbody tr th:only-of-type {\n        vertical-align: middle;\n    }\n\n    .dataframe tbody tr th {\n        vertical-align: top;\n    }\n\n    .dataframe thead th {\n        text-align: right;\n    }\n</style>\n<table border=\"1\" class=\"dataframe\">\n  <thead>\n    <tr style=\"text-align: right;\">\n      <th></th>\n      <th>Types</th>\n      <th>Nb Unique</th>\n      <th>Nb manquants</th>\n      <th>Ratio manquants%</th>\n    </tr>\n  </thead>\n  <tbody>\n    <tr>\n      <th>PRODUCTID</th>\n      <td>object</td>\n      <td>93084</td>\n      <td>0</td>\n      <td>0.000000</td>\n    </tr>\n    <tr>\n      <th>PACKAGEDESCRIPTION</th>\n      <td>object</td>\n      <td>173885</td>\n      <td>0</td>\n      <td>0.000000</td>\n    </tr>\n    <tr>\n      <th>STARTMARKETINGDATE</th>\n      <td>int64</td>\n      <td>7401</td>\n      <td>0</td>\n      <td>0.000000</td>\n    </tr>\n    <tr>\n      <th>NDC_EXCLUDE_FLAG</th>\n      <td>object</td>\n      <td>1</td>\n      <td>0</td>\n      <td>0.000000</td>\n    </tr>\n    <tr>\n      <th>SAMPLE_PACKAGE</th>\n      <td>object</td>\n      <td>2</td>\n      <td>0</td>\n      <td>0.000000</td>\n    </tr>\n    <tr>\n      <th>PRODUCTNDC</th>\n      <td>object</td>\n      <td>91080</td>\n      <td>1500</td>\n      <td>0.008626</td>\n    </tr>\n    <tr>\n      <th>NDCPACKAGECODE</th>\n      <td>object</td>\n      <td>171447</td>\n      <td>2346</td>\n      <td>0.013492</td>\n    </tr>\n    <tr>\n      <th>ENDMARKETINGDATE</th>\n      <td>float64</td>\n      <td>767</td>\n      <td>167431</td>\n      <td>0.962872</td>\n    </tr>\n  </tbody>\n</table>\n</div>"
     },
     "execution_count": 19,
     "metadata": {},
     "output_type": "execute_result"
    }
   ],
   "source": [
    "table_completeness(package_df)"
   ]
  },
  {
   "cell_type": "markdown",
   "metadata": {},
   "source": [
    "_____________"
   ]
  },
  {
   "cell_type": "markdown",
   "metadata": {},
   "source": [
    "# 2.\n",
    "\n",
    "Listez toutes les relations/règles observées entre les attributs (informations communes, corrélations, chaînes de caractéres communes, attribut inclus dans un autre, ordre des valeurs) ;\n"
   ]
  },
  {
   "cell_type": "markdown",
   "metadata": {},
   "source": [
    "## Informations Communes\n",
    "\n",
    "* **ProductID**, **ProductNDC**, **StartMarketingDate**, **EndMarketingDate**, **NDC_Exclude_Flag** (_product_ & _package_) - Ces variables sont partagées par les deux tables. Selon la documentation, il est préférable de joindre les tables par l'entremise de la variable __ProductID__ considérant que celle-ci a été ajustée pour empêcher la duplication de ligne. \n",
    "\n",
    "\n",
    "## Corrélations\n",
    "\n",
    "* **Pharm_Classes** - Cette variable devrait démontrer une corrélation avec la variable __SubstanceName__ puisque la documentation les décris comme étant reliées;\n",
    "\n",
    "* **DosageFormName** & **RouteName** - Ceux-ci devraient démontrer une corrélation puisque l'un (__DosageFormName__) représente les modalités d'administration des médicaments et l'autre (__RouteName__) représente textuellement la manière dont le médicament sera transmis;\n",
    "\n",
    "* Considérant les informations spécifiques au contenant inclues dans __PackageDescription__ (_package_), il est envisageable que ceux-ci soient corrélés aux __DosageFormName__ et __RouteName__ qui ont trait à la manière d'administrer le médicament.\n",
    "\n",
    "\n",
    "## Chaines de caractères communes\n",
    "\n",
    "* __PackageDescription__ (_package_) - Cette variable implique plusieurs informations sous la forme d'une phrase. On retrouve notamment l'information de __NDCPackageCode__ ainsi que des informations d'unités de mesure et des types de contenant.\n",
    "\n",
    "\n",
    "## Attribut inclus dans un autre\n",
    "\n",
    "* **ProductID** (_product_ & _package_) - Implique la concaténation de __ProductNDC__ et un identifiant _SPL_. Cette combinaison permet de prévenir la duplication de lignes lorsque les deux tables seront jointes. \n",
    " \n",
    "* **ApplicationNumber** (_product_) - Représente majoritairement la concaténation entre __MarketingCategoryName__ et ce qui semble être le numéro de série associé au produit;\n",
    "\n",
    "* __NDCPackageCode__ (_package_) - Contient les informations de la variable __ProductNDC__ ainsi qu'un code représentant le type de paquet utilisé; cette dernière information pourrait être pertinente;\n",
    "\n",
    "\n",
    "## Ordre des valeurs\n",
    "\n",
    "* **StrengthNumber** & **StrengthUnit** (_product_) - Il est à considérer que l'utilisation des valeurs de la variable __StrenghtNumber__ doivent être joint de __StrenghtUnit__. N'ayant pas tous la même unité de mesures, ceux-ci devront être convertis sous une seule et même unité de mesure pour fin de bonne analyse.\n",
    " \n",
    " \n",
    "\n"
   ]
  },
  {
   "cell_type": "markdown",
   "metadata": {},
   "source": [
    "_____________"
   ]
  },
  {
   "cell_type": "markdown",
   "metadata": {},
   "source": [
    "# 3.\n",
    "\n",
    "Détectez et corrigez les incohérences entre des valeurs d’attributs dans les deux tables ; pour\n",
    "chaque règle identifiée à la question précédente, détectez et corrigez les cas où la règle n’est\n",
    "pas respectée ;"
   ]
  },
  {
   "cell_type": "markdown",
   "metadata": {},
   "source": [
    "### 3.1\n",
    "* Les valeurs des attributs __StartMarketingDate__, __EndMarketingDate__ et __Listing_Record_Certified_Through__ peuvent être transformées en format _date_.\n"
   ]
  },
  {
   "cell_type": "code",
   "execution_count": 20,
   "metadata": {},
   "outputs": [],
   "source": [
    "product_df['STARTMARKETINGDATE'] = pd.to_datetime(product_df['STARTMARKETINGDATE'], format='%Y%m%d', errors='coerce')\n",
    "product_df['ENDMARKETINGDATE'] = pd.to_datetime(product_df['ENDMARKETINGDATE'], format='%Y%m%d', errors='coerce')\n",
    "product_df['LISTING_RECORD_CERTIFIED_THROUGH'] = pd.to_datetime(product_df['LISTING_RECORD_CERTIFIED_THROUGH'], format='%Y%m%d', errors='coerce')"
   ]
  },
  {
   "cell_type": "markdown",
   "metadata": {},
   "source": [
    "* Confirmation qu'il n'y a pas de date d'échance si le produit à atteint ca date de fin de marketing (ENDMARKETINGDATE)"
   ]
  },
  {
   "cell_type": "code",
   "execution_count": 21,
   "metadata": {},
   "outputs": [
    {
     "name": "stdout",
     "output_type": "stream",
     "text": [
      "(product) Nombre de produits ayant atteint leur date de fin affichant toujours une date d'expiration: 0\n"
     ]
    }
   ],
   "source": [
    "# Si le produit est venu à échéance, il ne devrait pas y avoir de valeur pour la variable LISTING_RECORD_CERTIFIED_THROUGH\n",
    "print(\"(product) Nombre de produits ayant atteint leur date de fin affichant toujours une date d'expiration: {0}\".format(product_df[product_df['ENDMARKETINGDATE'].notna()]['LISTING_RECORD_CERTIFIED_THROUGH'].notna().sum()))"
   ]
  },
  {
   "cell_type": "markdown",
   "metadata": {},
   "source": [
    "* Confirmation qu'il n'y a pas de date de début de market (STARTMARKETINGDATE) qui serait après la date de fin d'expiration (LISTING_RECORD_CERTIFIED_THROUGH)"
   ]
  },
  {
   "cell_type": "code",
   "execution_count": 22,
   "metadata": {},
   "outputs": [
    {
     "data": {
      "text/plain": "0"
     },
     "execution_count": 22,
     "metadata": {},
     "output_type": "execute_result"
    }
   ],
   "source": [
    "(product_df['STARTMARKETINGDATE'] > product_df['LISTING_RECORD_CERTIFIED_THROUGH']).sum()"
   ]
  },
  {
   "cell_type": "code",
   "execution_count": 23,
   "metadata": {},
   "outputs": [],
   "source": [
    "package_df['STARTMARKETINGDATE'] = pd.to_datetime(package_df['STARTMARKETINGDATE'], format='%Y%m%d', errors='coerce')\n",
    "package_df['ENDMARKETINGDATE'] = pd.to_datetime(package_df['ENDMARKETINGDATE'], format='%Y%m%d', errors='coerce')"
   ]
  },
  {
   "cell_type": "markdown",
   "metadata": {},
   "source": [
    "#### Confirmation :\n",
    "* Date de début (STARTMARKETINGDATE)  <  Date de fin de marketing (ENDMARKETINGDATE)\n",
    "* Date de début (STARTMARKETINGDATE)  <  Date d'expiration (LISTING_RECORD_CERTIFIED_THROUGH)}"
   ]
  },
  {
   "cell_type": "code",
   "execution_count": 24,
   "metadata": {},
   "outputs": [
    {
     "name": "stdout",
     "output_type": "stream",
     "text": [
      "(product) Nombre de produits dont la date de début (STARTMARKETINGDATE) est après sa date de fin (ENDMARKETINGDATE): 0\n",
      "(product) Nombre de produits dont la date de début (STARTMARKETINGDATE) est après sa date d'expiration (LISTING_RECORD_CERTIFIED_THROUGH): 0\n",
      "(package) Nombre de produits dont la date de début (STARTMARKETINGDATE) est après sa date de fin (ENDMARKETINGDATE): 0\n"
     ]
    }
   ],
   "source": [
    "# La date de début de marketing (STARTMARKETINGDATE) devrait précéder la date de fin de production (ENDMARKETINGDATE) \n",
    "# ou celle d'expiration (LISTING_RECORD_CERTIFIED_THROUGH).\n",
    "print(\"(product) Nombre de produits dont la date de début (STARTMARKETINGDATE) est après sa date de fin (ENDMARKETINGDATE): {0}\".format((product_df['STARTMARKETINGDATE'] > product_df['ENDMARKETINGDATE']).sum()))\n",
    "print(\"(product) Nombre de produits dont la date de début (STARTMARKETINGDATE) est après sa date d'expiration (LISTING_RECORD_CERTIFIED_THROUGH): {0}\".format((product_df['STARTMARKETINGDATE'] > product_df['LISTING_RECORD_CERTIFIED_THROUGH']).sum()))\n",
    "print(\"(package) Nombre de produits dont la date de début (STARTMARKETINGDATE) est après sa date de fin (ENDMARKETINGDATE): {0}\".format((package_df['STARTMARKETINGDATE'] > package_df['ENDMARKETINGDATE']).sum()))\n"
   ]
  },
  {
   "cell_type": "markdown",
   "metadata": {},
   "source": [
    "### 3.2\n",
    "* Les variables _ProductId_, _ProductNDC_ et NDCPackageCode suivent un format précis. Ceux-ci doivent être analysés afin de déterminer s'il y a des formats non acceptables.\n",
    "\n",
    "    - PRODUCTNDC doit répondre à une structure de digits telle que {3-5}, {3-4}, {4-4}, {4-5}.\n",
    "    - PRODUCTID concatène la valeur du PRODUCTNDC et un identifiant SPL séparé par un '_'.\n",
    "    - NDCPACKAGECODE concatène la valeur du PRODUCTNDC et un code segment de 2 digits séparé par '-'.\n"
   ]
  },
  {
   "cell_type": "code",
   "execution_count": 25,
   "metadata": {},
   "outputs": [],
   "source": [
    "ndc_pkg_code_wrong = package_df['NDCPACKAGECODE'].str.split('-').apply(lambda x: len(x) if isinstance(x, list) else 0).copy()\n",
    "ndc_pkg_code_wrong_index = ndc_pkg_code_wrong[(ndc_pkg_code_wrong < 3) & (ndc_pkg_code_wrong > 0)].index"
   ]
  },
  {
   "cell_type": "code",
   "execution_count": 26,
   "metadata": {},
   "outputs": [
    {
     "name": "stdout",
     "output_type": "stream",
     "text": [
      "Il y a un total de 154 valeurs incohérentes pour la variable NDCPACKAGECODE de la table package\n"
     ]
    }
   ],
   "source": [
    "print(\"Il y a un total de {0} valeurs incohérentes pour la variable NDCPACKAGECODE de la table package\".format(package_df.loc[ndc_pkg_code_wrong_index, 'NDCPACKAGECODE'].shape[0]))"
   ]
  },
  {
   "cell_type": "markdown",
   "metadata": {},
   "source": [
    "Puisque nous traitons les valeurs manquantes dans la prochaine section et qu'il est possible de déterminer le _NDCPackageCode_ à l'aide de la variable _PackageDescription_, la valeur NaN sera attribué à ces valeurs incohérentes."
   ]
  },
  {
   "cell_type": "code",
   "execution_count": 27,
   "metadata": {},
   "outputs": [],
   "source": [
    "package_df.loc[ndc_pkg_code_wrong_index, 'NDCPACKAGECODE'] = np.nan"
   ]
  },
  {
   "cell_type": "markdown",
   "source": [
    "### 3.3\n",
    "\n",
    "* La variable _ApplicationNumber_ suit un format particulier en fonction des valeurs de la colonne _MarketingCategoryName_\n",
    "    * Tel qu'il est mentionné dans la documentation, si la valeur sous _MarketingCategoryName_ représente _OTC Monograph Final_ ou _OTC Monograph Not Final_, la valeur de _ApplicationNumber_ représente la citation CFR (e.i. \"part341\")"
   ],
   "metadata": {
    "collapsed": false
   }
  },
  {
   "cell_type": "markdown",
   "source": [
    "On remarque que certaines valeurs ne suivent pas le format. Nous effectuerons les modifications suivantes en fonction du cas:\n",
    "* s'il n'y a que le numéros (e.i. \"341\") -> nous ajoutons \"part\" en préfixe\n",
    "* s'il n'y a que part -> nous modifions pour NaN\n",
    "* s'il y a plus d'une valeur, nous garderons que la première référence puisque l'attribut _ApplicationNumber_ n'est pas identifié _MV_ (multiple value; voir documentation)"
   ],
   "metadata": {
    "collapsed": false
   }
  },
  {
   "cell_type": "code",
   "execution_count": 28,
   "outputs": [
    {
     "data": {
      "text/plain": "{'333D',\n 'part',\n 'part331',\n 'part332',\n 'part333',\n 'part333A',\n 'part333B',\n 'part333C',\n 'part333D',\n 'part333E',\n 'part334',\n 'part335',\n 'part336',\n 'part338',\n 'part340',\n 'part341',\n 'part341,part348',\n 'part343',\n 'part344',\n 'part346',\n 'part347',\n 'part348',\n 'part349',\n 'part349B',\n 'part350',\n 'part352',\n 'part355',\n 'part355B',\n 'part356',\n 'part356,part355',\n 'part357',\n 'part357B',\n 'part357I',\n 'part358',\n 'part358A',\n 'part358B',\n 'part358D',\n 'part358F',\n 'part358G',\n 'part358H'}"
     },
     "execution_count": 28,
     "metadata": {},
     "output_type": "execute_result"
    }
   ],
   "source": [
    "# Il semble y avoir mauvaise attribution de la nomenclature\n",
    "set(product_df[product_df['MARKETINGCATEGORYNAME'].isin(['OTC MONOGRAPH FINAL', 'OTC MONOGRAPH NOT FINAL'])]['APPLICATIONNUMBER'])"
   ],
   "metadata": {
    "collapsed": false,
    "pycharm": {
     "name": "#%%\n"
    }
   }
  },
  {
   "cell_type": "code",
   "execution_count": 29,
   "outputs": [],
   "source": [
    "# add \"part\" to actual number\n",
    "product_df['APPLICATIONNUMBER'] = np.where(\n",
    "    (product_df['MARKETINGCATEGORYNAME'].isin(['OTC MONOGRAPH FINAL', 'OTC MONOGRAPH NOT FINAL'])) &\n",
    "    (~product_df['APPLICATIONNUMBER'].str.contains(\"part\", na=False)),\n",
    "    \"part\" + product_df['APPLICATIONNUMBER'],\n",
    "    product_df['APPLICATIONNUMBER'])"
   ],
   "metadata": {
    "collapsed": false,
    "pycharm": {
     "name": "#%%\n"
    }
   }
  },
  {
   "cell_type": "code",
   "execution_count": 30,
   "outputs": [],
   "source": [
    "# change to NaN if value == \"part\"\n",
    "product_df.loc[product_df['APPLICATIONNUMBER'] == 'part', 'APPLICATIONNUMBER'] = np.nan"
   ],
   "metadata": {
    "collapsed": false,
    "pycharm": {
     "name": "#%%\n"
    }
   }
  },
  {
   "cell_type": "code",
   "execution_count": 31,
   "outputs": [],
   "source": [
    "# remove multiple value in the same cell\n",
    "product_df['APPLICATIONNUMBER'] = np.where(\n",
    "    product_df['MARKETINGCATEGORYNAME'].isin(['OTC MONOGRAPH FINAL', 'OTC MONOGRAPH NOT FINAL']),\n",
    "    product_df['APPLICATIONNUMBER'].str.split(',').str[0],\n",
    "    product_df['APPLICATIONNUMBER'])"
   ],
   "metadata": {
    "collapsed": false,
    "pycharm": {
     "name": "#%%\n"
    }
   }
  },
  {
   "cell_type": "markdown",
   "source": [
    "### Confirmation que les produits non approuvés n'ont pas de numéro d'application associé."
   ],
   "metadata": {
    "collapsed": false
   }
  },
  {
   "cell_type": "code",
   "execution_count": 32,
   "outputs": [
    {
     "data": {
      "text/plain": "0"
     },
     "execution_count": 32,
     "metadata": {},
     "output_type": "execute_result"
    }
   ],
   "source": [
    "product_df[product_df['MARKETINGCATEGORYNAME'].isin(\n",
    "    ['UNAPPROVED DRUG FOR USE IN DRUG SHORTAGE',\n",
    "     'UNAPPROVED DRUG OTHER',\n",
    "     'UNAPPROVED HOMEOPATHIC',\n",
    "     'UNAPPROVED MEDICAL GAS'])]['APPLICATIONNUMBER'].notna().sum()"
   ],
   "metadata": {
    "collapsed": false,
    "pycharm": {
     "name": "#%%\n"
    }
   }
  },
  {
   "cell_type": "markdown",
   "source": [
    "### Confirmation Valeurs Multiple\n",
    "\n",
    "SUBSTANCENAME, ACTIVE_NUMERATOR_STRENGTH, ACTIVE_INGRED_UNIT sont des variables à valeurs multiples. Celles-ci, lorsque multiple, sont listées dans le même ordre.\n",
    "\n",
    "Confirmation du même nombre d'éléments pour chacune de ces variables"
   ],
   "metadata": {
    "collapsed": false
   }
  },
  {
   "cell_type": "code",
   "execution_count": 33,
   "outputs": [],
   "source": [
    "mv_errors = []\n",
    "for index, row in product_df.iterrows():\n",
    "    #row['SUBSTANCENAME'].str.split(';'). == row['ACTIVE_NUMERATOR_STRENGTH'] == row['ACTIVE_INGRED_UNIT']\n",
    "    _name_count = len(row['SUBSTANCENAME'].split(';')) if isinstance(row['SUBSTANCENAME'], str) else 0\n",
    "    _strength_count = len(row['ACTIVE_NUMERATOR_STRENGTH'].split(';')) if isinstance(row['ACTIVE_NUMERATOR_STRENGTH'], str) else 0\n",
    "    _unit_count = len(row['ACTIVE_INGRED_UNIT'].split(';')) if isinstance(row['ACTIVE_INGRED_UNIT'], str) else 0\n",
    "\n",
    "    if _name_count == _strength_count == _unit_count:\n",
    "        continue\n",
    "    else:\n",
    "        mv_errors.append(index)\n"
   ],
   "metadata": {
    "collapsed": false,
    "pycharm": {
     "name": "#%%\n"
    }
   }
  },
  {
   "cell_type": "markdown",
   "source": [
    "#### Explication\n",
    "\n",
    "On constate que dans ce cas, ce n'est que l'élément du split qui se retrouve à l'intérieur de parenthèses. Nous pouvons donc ignorer cette alerte."
   ],
   "metadata": {
    "collapsed": false
   }
  },
  {
   "cell_type": "code",
   "execution_count": 34,
   "outputs": [
    {
     "data": {
      "text/plain": "[90536]"
     },
     "execution_count": 34,
     "metadata": {},
     "output_type": "execute_result"
    }
   ],
   "source": [
    "mv_errors"
   ],
   "metadata": {
    "collapsed": false,
    "pycharm": {
     "name": "#%%\n"
    }
   }
  },
  {
   "cell_type": "code",
   "execution_count": 35,
   "outputs": [
    {
     "name": "stdout",
     "output_type": "stream",
     "text": [
      "Original:  GLYCERIN; HYDROLYZED SOY PROTEIN (ENZYMATIC; 2000 MW)\n",
      "Split:  ['GLYCERIN', ' HYDROLYZED SOY PROTEIN (ENZYMATIC', ' 2000 MW)']\n"
     ]
    }
   ],
   "source": [
    "print(\"Original: \", product_df.loc[90536, 'SUBSTANCENAME'])\n",
    "print(\"Split: \", product_df.loc[90536, 'SUBSTANCENAME'].split(';'))"
   ],
   "metadata": {
    "collapsed": false,
    "pycharm": {
     "name": "#%%\n"
    }
   }
  },
  {
   "cell_type": "code",
   "execution_count": 36,
   "outputs": [
    {
     "name": "stdout",
     "output_type": "stream",
     "text": [
      "Original:  10; .12\n",
      "Split:  ['10', ' .12']\n"
     ]
    }
   ],
   "source": [
    "print(\"Original: \", product_df.loc[90536, 'ACTIVE_NUMERATOR_STRENGTH'])\n",
    "print(\"Split: \", product_df.loc[90536, 'ACTIVE_NUMERATOR_STRENGTH'].split(';'))"
   ],
   "metadata": {
    "collapsed": false,
    "pycharm": {
     "name": "#%%\n"
    }
   }
  },
  {
   "cell_type": "code",
   "execution_count": 37,
   "outputs": [
    {
     "name": "stdout",
     "output_type": "stream",
     "text": [
      "Original:  g/100g; g/100g\n",
      "Split:  ['g/100g', ' g/100g']\n"
     ]
    }
   ],
   "source": [
    "print(\"Original: \", product_df.loc[90536, 'ACTIVE_INGRED_UNIT'])\n",
    "print(\"Split: \", product_df.loc[90536, 'ACTIVE_INGRED_UNIT'].split(';'))"
   ],
   "metadata": {
    "collapsed": false,
    "pycharm": {
     "name": "#%%\n"
    }
   }
  },
  {
   "cell_type": "markdown",
   "source": [
    "_______"
   ],
   "metadata": {
    "collapsed": false
   }
  },
  {
   "cell_type": "markdown",
   "metadata": {},
   "source": [
    "## 4.\n",
    "\n",
    "Complétez au maximum les données manquantes dans les deux tables ;"
   ]
  },
  {
   "cell_type": "markdown",
   "metadata": {},
   "source": [
    "### Product"
   ]
  },
  {
   "cell_type": "code",
   "execution_count": 38,
   "metadata": {},
   "outputs": [],
   "source": [
    "# Complète la variable PRODUCTID à l'aide d'un mapping provenant de la table package\n",
    "\n",
    "prodIdMissing_mask = product_df['PRODUCTID'].isna()\n",
    "packageID_map = package_df[['PRODUCTID', 'PRODUCTNDC']].set_index('PRODUCTNDC').drop_duplicates()\n",
    "\n",
    "# Apply mapping from package_df\n",
    "product_df.loc[prodIdMissing_mask, 'PRODUCTID'] = product_df.loc[prodIdMissing_mask, 'PRODUCTNDC'].map(\n",
    "    packageID_map['PRODUCTID'].to_dict()).values"
   ]
  },
  {
   "cell_type": "markdown",
   "metadata": {},
   "source": [
    "### Package"
   ]
  },
  {
   "cell_type": "code",
   "execution_count": 39,
   "metadata": {},
   "outputs": [],
   "source": [
    "pkg_mask = package_df['NDCPACKAGECODE'].isna()\n",
    "package_df.loc[pkg_mask, 'NDCPACKAGECODE'] = package_df.loc[pkg_mask, 'PACKAGEDESCRIPTION'].str.extract(r'\\((.*?)\\)').values"
   ]
  },
  {
   "cell_type": "code",
   "execution_count": 40,
   "metadata": {},
   "outputs": [],
   "source": [
    "prod_mask = package_df['PRODUCTNDC'].isna()\n",
    "package_df.loc[prod_mask, 'PRODUCTNDC'] = package_df['NDCPACKAGECODE'].str.split('-').apply(lambda x: '-'.join(x[:2]))"
   ]
  },
  {
   "cell_type": "code",
   "execution_count": 40,
   "metadata": {},
   "outputs": [],
   "source": []
  },
  {
   "cell_type": "markdown",
   "metadata": {},
   "source": [
    "_____________________"
   ]
  },
  {
   "cell_type": "markdown",
   "metadata": {},
   "source": [
    "## 5.\n",
    "\n",
    "Détectez et retirez les objets dupliqués dans les deux tables ;"
   ]
  },
  {
   "cell_type": "markdown",
   "metadata": {},
   "source": [
    "### Possibilité de données dupliquées\n",
    "\n",
    "#### Product\n",
    "\n",
    "* PRODUCTID - Doit être unique puisqu'il représente le produit dans la table _product_\n",
    "\n",
    "#### Package\n",
    "\n",
    "* NDCPACKAGECODE - Doit être unique puisqu'il représente le paquet dans la table _package_"
   ]
  },
  {
   "cell_type": "code",
   "execution_count": 41,
   "metadata": {},
   "outputs": [
    {
     "name": "stdout",
     "output_type": "stream",
     "text": [
      "Nombre de code produit en double:  0\n",
      "Nombre de code paquet en double:  2\n"
     ]
    }
   ],
   "source": [
    "print(\"Nombre de code produit en double: \", product_df['PRODUCTID'].duplicated().sum())\n",
    "print(\"Nombre de code paquet en double: \", package_df['NDCPACKAGECODE'].duplicated().sum())\n"
   ]
  },
  {
   "cell_type": "code",
   "execution_count": 42,
   "metadata": {},
   "outputs": [],
   "source": [
    "duplicated_pkg_code = package_df[package_df['NDCPACKAGECODE'].duplicated()]['NDCPACKAGECODE'].values\n",
    "first_duplicated = package_df[package_df['NDCPACKAGECODE'] == duplicated_pkg_code[0]].copy()\n",
    "second_duplicated = package_df[package_df['NDCPACKAGECODE'] == duplicated_pkg_code[1]].copy()"
   ]
  },
  {
   "cell_type": "markdown",
   "metadata": {},
   "source": [
    "#### Premier doublons"
   ]
  },
  {
   "cell_type": "code",
   "execution_count": 43,
   "metadata": {},
   "outputs": [
    {
     "data": {
      "text/plain": "                                            PRODUCTID PRODUCTNDC  \\\n53622  45802-929_4290e001-c03c-4bde-a132-5203cc57afb4  45802-929   \n53623  45802-929_b2a5b110-7537-4ffc-bf0a-f0fe13379c9d  45802-929   \n\n      NDCPACKAGECODE                                 PACKAGEDESCRIPTION  \\\n53622   45802-929-49  4 CARTON in 1 KIT (45802-929-49)  > 1 KIT in 1...   \n53623   45802-929-49  4 CARTON in 1 KIT (45802-929-49)  > 1 KIT in 1...   \n\n      STARTMARKETINGDATE ENDMARKETINGDATE NDC_EXCLUDE_FLAG SAMPLE_PACKAGE  \n53622         2018-08-02              NaT                N              N  \n53623         2018-08-02              NaT                N              N  ",
      "text/html": "<div>\n<style scoped>\n    .dataframe tbody tr th:only-of-type {\n        vertical-align: middle;\n    }\n\n    .dataframe tbody tr th {\n        vertical-align: top;\n    }\n\n    .dataframe thead th {\n        text-align: right;\n    }\n</style>\n<table border=\"1\" class=\"dataframe\">\n  <thead>\n    <tr style=\"text-align: right;\">\n      <th></th>\n      <th>PRODUCTID</th>\n      <th>PRODUCTNDC</th>\n      <th>NDCPACKAGECODE</th>\n      <th>PACKAGEDESCRIPTION</th>\n      <th>STARTMARKETINGDATE</th>\n      <th>ENDMARKETINGDATE</th>\n      <th>NDC_EXCLUDE_FLAG</th>\n      <th>SAMPLE_PACKAGE</th>\n    </tr>\n  </thead>\n  <tbody>\n    <tr>\n      <th>53622</th>\n      <td>45802-929_4290e001-c03c-4bde-a132-5203cc57afb4</td>\n      <td>45802-929</td>\n      <td>45802-929-49</td>\n      <td>4 CARTON in 1 KIT (45802-929-49)  &gt; 1 KIT in 1...</td>\n      <td>2018-08-02</td>\n      <td>NaT</td>\n      <td>N</td>\n      <td>N</td>\n    </tr>\n    <tr>\n      <th>53623</th>\n      <td>45802-929_b2a5b110-7537-4ffc-bf0a-f0fe13379c9d</td>\n      <td>45802-929</td>\n      <td>45802-929-49</td>\n      <td>4 CARTON in 1 KIT (45802-929-49)  &gt; 1 KIT in 1...</td>\n      <td>2018-08-02</td>\n      <td>NaT</td>\n      <td>N</td>\n      <td>N</td>\n    </tr>\n  </tbody>\n</table>\n</div>"
     },
     "execution_count": 43,
     "metadata": {},
     "output_type": "execute_result"
    }
   ],
   "source": [
    "first_duplicated"
   ]
  },
  {
   "cell_type": "markdown",
   "metadata": {},
   "source": [
    "On remarque qu'il y a différence au niveau du _PRODUCTID_. Ceux-ci semblent faire référence à deux produits différents. <br>\n"
   ]
  },
  {
   "cell_type": "code",
   "execution_count": 44,
   "metadata": {},
   "outputs": [
    {
     "data": {
      "text/plain": "                                            PRODUCTID PRODUCTNDC  \\\n31495  45802-929_4290e001-c03c-4bde-a132-5203cc57afb4  45802-929   \n31496  45802-929_b2a5b110-7537-4ffc-bf0a-f0fe13379c9d  45802-929   \n\n               PRODUCTTYPENAME PROPRIETARYNAME PROPRIETARYNAMESUFFIX  \\\n31495  HUMAN PRESCRIPTION DRUG      Mesalamine                   NaN   \n31496  HUMAN PRESCRIPTION DRUG      Mesalamine                   NaN   \n\n      NONPROPRIETARYNAME DOSAGEFORMNAME ROUTENAME STARTMARKETINGDATE  \\\n31495         Mesalamine            KIT       NaN         2018-08-02   \n31496         Mesalamine            KIT       NaN         2018-08-02   \n\n      ENDMARKETINGDATE MARKETINGCATEGORYNAME APPLICATIONNUMBER  \\\n31495              NaT                  ANDA        ANDA076751   \n31496              NaT                  ANDA        ANDA076751   \n\n                LABELERNAME SUBSTANCENAME ACTIVE_NUMERATOR_STRENGTH  \\\n31495  Perrigo New York Inc           NaN                       NaN   \n31496  Perrigo New York Inc           NaN                       NaN   \n\n      ACTIVE_INGRED_UNIT PHARM_CLASSES DEASCHEDULE NDC_EXCLUDE_FLAG  \\\n31495                NaN           NaN         NaN                N   \n31496                NaN           NaN         NaN                N   \n\n      LISTING_RECORD_CERTIFIED_THROUGH  \n31495                       2020-12-31  \n31496                       2020-12-31  ",
      "text/html": "<div>\n<style scoped>\n    .dataframe tbody tr th:only-of-type {\n        vertical-align: middle;\n    }\n\n    .dataframe tbody tr th {\n        vertical-align: top;\n    }\n\n    .dataframe thead th {\n        text-align: right;\n    }\n</style>\n<table border=\"1\" class=\"dataframe\">\n  <thead>\n    <tr style=\"text-align: right;\">\n      <th></th>\n      <th>PRODUCTID</th>\n      <th>PRODUCTNDC</th>\n      <th>PRODUCTTYPENAME</th>\n      <th>PROPRIETARYNAME</th>\n      <th>PROPRIETARYNAMESUFFIX</th>\n      <th>NONPROPRIETARYNAME</th>\n      <th>DOSAGEFORMNAME</th>\n      <th>ROUTENAME</th>\n      <th>STARTMARKETINGDATE</th>\n      <th>ENDMARKETINGDATE</th>\n      <th>MARKETINGCATEGORYNAME</th>\n      <th>APPLICATIONNUMBER</th>\n      <th>LABELERNAME</th>\n      <th>SUBSTANCENAME</th>\n      <th>ACTIVE_NUMERATOR_STRENGTH</th>\n      <th>ACTIVE_INGRED_UNIT</th>\n      <th>PHARM_CLASSES</th>\n      <th>DEASCHEDULE</th>\n      <th>NDC_EXCLUDE_FLAG</th>\n      <th>LISTING_RECORD_CERTIFIED_THROUGH</th>\n    </tr>\n  </thead>\n  <tbody>\n    <tr>\n      <th>31495</th>\n      <td>45802-929_4290e001-c03c-4bde-a132-5203cc57afb4</td>\n      <td>45802-929</td>\n      <td>HUMAN PRESCRIPTION DRUG</td>\n      <td>Mesalamine</td>\n      <td>NaN</td>\n      <td>Mesalamine</td>\n      <td>KIT</td>\n      <td>NaN</td>\n      <td>2018-08-02</td>\n      <td>NaT</td>\n      <td>ANDA</td>\n      <td>ANDA076751</td>\n      <td>Perrigo New York Inc</td>\n      <td>NaN</td>\n      <td>NaN</td>\n      <td>NaN</td>\n      <td>NaN</td>\n      <td>NaN</td>\n      <td>N</td>\n      <td>2020-12-31</td>\n    </tr>\n    <tr>\n      <th>31496</th>\n      <td>45802-929_b2a5b110-7537-4ffc-bf0a-f0fe13379c9d</td>\n      <td>45802-929</td>\n      <td>HUMAN PRESCRIPTION DRUG</td>\n      <td>Mesalamine</td>\n      <td>NaN</td>\n      <td>Mesalamine</td>\n      <td>KIT</td>\n      <td>NaN</td>\n      <td>2018-08-02</td>\n      <td>NaT</td>\n      <td>ANDA</td>\n      <td>ANDA076751</td>\n      <td>Perrigo New York Inc</td>\n      <td>NaN</td>\n      <td>NaN</td>\n      <td>NaN</td>\n      <td>NaN</td>\n      <td>NaN</td>\n      <td>N</td>\n      <td>2020-12-31</td>\n    </tr>\n  </tbody>\n</table>\n</div>"
     },
     "execution_count": 44,
     "metadata": {},
     "output_type": "execute_result"
    }
   ],
   "source": [
    "product_df[product_df['PRODUCTID'].isin(first_duplicated['PRODUCTID'])]"
   ]
  },
  {
   "cell_type": "markdown",
   "metadata": {},
   "source": [
    "On remarque qu'à l'exception du _PRODUCTID_, cela semble être le même produit. De ce fait, nous allons en retirer un dans la table _product_ et son équivalent dans la table _package_."
   ]
  },
  {
   "cell_type": "code",
   "execution_count": 45,
   "metadata": {},
   "outputs": [],
   "source": [
    "first_removed_duplicated_id = first_duplicated['PRODUCTID'].values[1]"
   ]
  },
  {
   "cell_type": "code",
   "execution_count": 46,
   "metadata": {},
   "outputs": [],
   "source": [
    "product_df = product_df[product_df['PRODUCTID'] != first_removed_duplicated_id]\n",
    "package_df = package_df[package_df['PRODUCTID'] != first_removed_duplicated_id]"
   ]
  },
  {
   "cell_type": "code",
   "execution_count": 46,
   "metadata": {},
   "outputs": [],
   "source": []
  },
  {
   "cell_type": "markdown",
   "metadata": {},
   "source": [
    "#### Deuxième doublons"
   ]
  },
  {
   "cell_type": "code",
   "execution_count": 47,
   "metadata": {},
   "outputs": [
    {
     "data": {
      "text/plain": "                                            PRODUCTID PRODUCTNDC  \\\n56138  47593-359_a406ac88-de15-4494-88e6-bd0f3dc77793  47593-359   \n56139  47593-359_a406ac88-de15-4494-88e6-bd0f3dc77793  47593-359   \n\n      NDCPACKAGECODE                           PACKAGEDESCRIPTION  \\\n56138   47593-359-41  750 mL in 1 BOTTLE, PLASTIC (47593-359-41)    \n56139   47593-359-41  750 mL in 1 BOTTLE, PLASTIC (47593-359-41)    \n\n      STARTMARKETINGDATE ENDMARKETINGDATE NDC_EXCLUDE_FLAG SAMPLE_PACKAGE  \n56138         2002-07-26              NaT                N              N  \n56139         2013-09-05              NaT                N              N  ",
      "text/html": "<div>\n<style scoped>\n    .dataframe tbody tr th:only-of-type {\n        vertical-align: middle;\n    }\n\n    .dataframe tbody tr th {\n        vertical-align: top;\n    }\n\n    .dataframe thead th {\n        text-align: right;\n    }\n</style>\n<table border=\"1\" class=\"dataframe\">\n  <thead>\n    <tr style=\"text-align: right;\">\n      <th></th>\n      <th>PRODUCTID</th>\n      <th>PRODUCTNDC</th>\n      <th>NDCPACKAGECODE</th>\n      <th>PACKAGEDESCRIPTION</th>\n      <th>STARTMARKETINGDATE</th>\n      <th>ENDMARKETINGDATE</th>\n      <th>NDC_EXCLUDE_FLAG</th>\n      <th>SAMPLE_PACKAGE</th>\n    </tr>\n  </thead>\n  <tbody>\n    <tr>\n      <th>56138</th>\n      <td>47593-359_a406ac88-de15-4494-88e6-bd0f3dc77793</td>\n      <td>47593-359</td>\n      <td>47593-359-41</td>\n      <td>750 mL in 1 BOTTLE, PLASTIC (47593-359-41)</td>\n      <td>2002-07-26</td>\n      <td>NaT</td>\n      <td>N</td>\n      <td>N</td>\n    </tr>\n    <tr>\n      <th>56139</th>\n      <td>47593-359_a406ac88-de15-4494-88e6-bd0f3dc77793</td>\n      <td>47593-359</td>\n      <td>47593-359-41</td>\n      <td>750 mL in 1 BOTTLE, PLASTIC (47593-359-41)</td>\n      <td>2013-09-05</td>\n      <td>NaT</td>\n      <td>N</td>\n      <td>N</td>\n    </tr>\n  </tbody>\n</table>\n</div>"
     },
     "execution_count": 47,
     "metadata": {},
     "output_type": "execute_result"
    }
   ],
   "source": [
    "second_duplicated"
   ]
  },
  {
   "cell_type": "markdown",
   "metadata": {},
   "source": [
    "On remarque qu'il y a différence au niveau du _STARTMARKETINGDATE_. Ceux-ci font référence à deux dates différentes. Afin de confirmer laquelle des lignes est la bonne, nous allons voir dans la table _product_ pour confirmer quelle date est la bonne."
   ]
  },
  {
   "cell_type": "code",
   "execution_count": 48,
   "metadata": {},
   "outputs": [
    {
     "name": "stdout",
     "output_type": "stream",
     "text": [
      "La date de référence est le 2002-07-26T00:00:00.000000000\n"
     ]
    }
   ],
   "source": [
    "print(\"La date de référence est le {0}\".format(str(product_df[product_df['PRODUCTID'].isin(second_duplicated['PRODUCTID'])]['STARTMARKETINGDATE'].values[0])))"
   ]
  },
  {
   "cell_type": "markdown",
   "metadata": {},
   "source": [
    "De ce fait, nous allons retirer la ligne faisant référence à l'année de départ 2013-09-05"
   ]
  },
  {
   "cell_type": "code",
   "execution_count": 49,
   "metadata": {},
   "outputs": [],
   "source": [
    "package_df = package_df[package_df['STARTMARKETINGDATE'] != second_duplicated['STARTMARKETINGDATE'].values[1]]"
   ]
  },
  {
   "cell_type": "markdown",
   "metadata": {},
   "source": [
    "## 6.\n",
    "\n",
    "Intégrez les deux tables et nettoyez le résultat (données dupliquées, incomplètes, incohérentes, erronées) ;\n"
   ]
  },
  {
   "cell_type": "code",
   "execution_count": 50,
   "metadata": {},
   "outputs": [],
   "source": [
    "merged_table = pd.merge(product_df, package_df, on='PRODUCTID', suffixes=('_product', '_package'))"
   ]
  },
  {
   "cell_type": "code",
   "execution_count": 51,
   "metadata": {},
   "outputs": [
    {
     "data": {
      "text/plain": "                                           Types  Nb Unique  Nb manquants  \\\nPRODUCTID                                 object      93079             0   \nPACKAGEDESCRIPTION                        object     173876             0   \nNDCPACKAGECODE                            object     173876             0   \nPRODUCTNDC_package                        object      91693             0   \nNDC_EXCLUDE_FLAG_product                  object          1             0   \nNDC_EXCLUDE_FLAG_package                  object          1             0   \nLABELERNAME                               object       6603             0   \nMARKETINGCATEGORYNAME                     object         10             0   \nSAMPLE_PACKAGE                            object          2             0   \nDOSAGEFORMNAME                            object        134             0   \nSTARTMARKETINGDATE_product        datetime64[ns]       7252             0   \nPRODUCTTYPENAME                           object          7             0   \nPRODUCTNDC_product                        object      91323             0   \nNONPROPRIETARYNAME                        object      16238             4   \nPROPRIETARYNAME                           object      32668            10   \nSTARTMARKETINGDATE_package        datetime64[ns]       7352           243   \nROUTENAME                                 object        179          2103   \nSUBSTANCENAME                             object       8969          2516   \nACTIVE_NUMERATOR_STRENGTH                 object       8748          2516   \nACTIVE_INGRED_UNIT                        object       2388          2516   \nLISTING_RECORD_CERTIFIED_THROUGH  datetime64[ns]          2          6112   \nAPPLICATIONNUMBER                         object      10695         22920   \nPHARM_CLASSES                             object       1285         84228   \nPROPRIETARYNAMESUFFIX                     object       4018        159053   \nDEASCHEDULE                               object          4        163837   \nENDMARKETINGDATE_package          datetime64[ns]        767        167420   \nENDMARKETINGDATE_product          datetime64[ns]        741        167768   \n\n                                  Ratio manquants%  \nPRODUCTID                                 0.000000  \nPACKAGEDESCRIPTION                        0.000000  \nNDCPACKAGECODE                            0.000000  \nPRODUCTNDC_package                        0.000000  \nNDC_EXCLUDE_FLAG_product                  0.000000  \nNDC_EXCLUDE_FLAG_package                  0.000000  \nLABELERNAME                               0.000000  \nMARKETINGCATEGORYNAME                     0.000000  \nSAMPLE_PACKAGE                            0.000000  \nDOSAGEFORMNAME                            0.000000  \nSTARTMARKETINGDATE_product                0.000000  \nPRODUCTTYPENAME                           0.000000  \nPRODUCTNDC_product                        0.000000  \nNONPROPRIETARYNAME                        0.000023  \nPROPRIETARYNAME                           0.000058  \nSTARTMARKETINGDATE_package                0.001398  \nROUTENAME                                 0.012095  \nSUBSTANCENAME                             0.014470  \nACTIVE_NUMERATOR_STRENGTH                 0.014470  \nACTIVE_INGRED_UNIT                        0.014470  \nLISTING_RECORD_CERTIFIED_THROUGH          0.035151  \nAPPLICATIONNUMBER                         0.131818  \nPHARM_CLASSES                             0.484414  \nPROPRIETARYNAMESUFFIX                     0.914750  \nDEASCHEDULE                               0.942263  \nENDMARKETINGDATE_package                  0.962870  \nENDMARKETINGDATE_product                  0.964872  ",
      "text/html": "<div>\n<style scoped>\n    .dataframe tbody tr th:only-of-type {\n        vertical-align: middle;\n    }\n\n    .dataframe tbody tr th {\n        vertical-align: top;\n    }\n\n    .dataframe thead th {\n        text-align: right;\n    }\n</style>\n<table border=\"1\" class=\"dataframe\">\n  <thead>\n    <tr style=\"text-align: right;\">\n      <th></th>\n      <th>Types</th>\n      <th>Nb Unique</th>\n      <th>Nb manquants</th>\n      <th>Ratio manquants%</th>\n    </tr>\n  </thead>\n  <tbody>\n    <tr>\n      <th>PRODUCTID</th>\n      <td>object</td>\n      <td>93079</td>\n      <td>0</td>\n      <td>0.000000</td>\n    </tr>\n    <tr>\n      <th>PACKAGEDESCRIPTION</th>\n      <td>object</td>\n      <td>173876</td>\n      <td>0</td>\n      <td>0.000000</td>\n    </tr>\n    <tr>\n      <th>NDCPACKAGECODE</th>\n      <td>object</td>\n      <td>173876</td>\n      <td>0</td>\n      <td>0.000000</td>\n    </tr>\n    <tr>\n      <th>PRODUCTNDC_package</th>\n      <td>object</td>\n      <td>91693</td>\n      <td>0</td>\n      <td>0.000000</td>\n    </tr>\n    <tr>\n      <th>NDC_EXCLUDE_FLAG_product</th>\n      <td>object</td>\n      <td>1</td>\n      <td>0</td>\n      <td>0.000000</td>\n    </tr>\n    <tr>\n      <th>NDC_EXCLUDE_FLAG_package</th>\n      <td>object</td>\n      <td>1</td>\n      <td>0</td>\n      <td>0.000000</td>\n    </tr>\n    <tr>\n      <th>LABELERNAME</th>\n      <td>object</td>\n      <td>6603</td>\n      <td>0</td>\n      <td>0.000000</td>\n    </tr>\n    <tr>\n      <th>MARKETINGCATEGORYNAME</th>\n      <td>object</td>\n      <td>10</td>\n      <td>0</td>\n      <td>0.000000</td>\n    </tr>\n    <tr>\n      <th>SAMPLE_PACKAGE</th>\n      <td>object</td>\n      <td>2</td>\n      <td>0</td>\n      <td>0.000000</td>\n    </tr>\n    <tr>\n      <th>DOSAGEFORMNAME</th>\n      <td>object</td>\n      <td>134</td>\n      <td>0</td>\n      <td>0.000000</td>\n    </tr>\n    <tr>\n      <th>STARTMARKETINGDATE_product</th>\n      <td>datetime64[ns]</td>\n      <td>7252</td>\n      <td>0</td>\n      <td>0.000000</td>\n    </tr>\n    <tr>\n      <th>PRODUCTTYPENAME</th>\n      <td>object</td>\n      <td>7</td>\n      <td>0</td>\n      <td>0.000000</td>\n    </tr>\n    <tr>\n      <th>PRODUCTNDC_product</th>\n      <td>object</td>\n      <td>91323</td>\n      <td>0</td>\n      <td>0.000000</td>\n    </tr>\n    <tr>\n      <th>NONPROPRIETARYNAME</th>\n      <td>object</td>\n      <td>16238</td>\n      <td>4</td>\n      <td>0.000023</td>\n    </tr>\n    <tr>\n      <th>PROPRIETARYNAME</th>\n      <td>object</td>\n      <td>32668</td>\n      <td>10</td>\n      <td>0.000058</td>\n    </tr>\n    <tr>\n      <th>STARTMARKETINGDATE_package</th>\n      <td>datetime64[ns]</td>\n      <td>7352</td>\n      <td>243</td>\n      <td>0.001398</td>\n    </tr>\n    <tr>\n      <th>ROUTENAME</th>\n      <td>object</td>\n      <td>179</td>\n      <td>2103</td>\n      <td>0.012095</td>\n    </tr>\n    <tr>\n      <th>SUBSTANCENAME</th>\n      <td>object</td>\n      <td>8969</td>\n      <td>2516</td>\n      <td>0.014470</td>\n    </tr>\n    <tr>\n      <th>ACTIVE_NUMERATOR_STRENGTH</th>\n      <td>object</td>\n      <td>8748</td>\n      <td>2516</td>\n      <td>0.014470</td>\n    </tr>\n    <tr>\n      <th>ACTIVE_INGRED_UNIT</th>\n      <td>object</td>\n      <td>2388</td>\n      <td>2516</td>\n      <td>0.014470</td>\n    </tr>\n    <tr>\n      <th>LISTING_RECORD_CERTIFIED_THROUGH</th>\n      <td>datetime64[ns]</td>\n      <td>2</td>\n      <td>6112</td>\n      <td>0.035151</td>\n    </tr>\n    <tr>\n      <th>APPLICATIONNUMBER</th>\n      <td>object</td>\n      <td>10695</td>\n      <td>22920</td>\n      <td>0.131818</td>\n    </tr>\n    <tr>\n      <th>PHARM_CLASSES</th>\n      <td>object</td>\n      <td>1285</td>\n      <td>84228</td>\n      <td>0.484414</td>\n    </tr>\n    <tr>\n      <th>PROPRIETARYNAMESUFFIX</th>\n      <td>object</td>\n      <td>4018</td>\n      <td>159053</td>\n      <td>0.914750</td>\n    </tr>\n    <tr>\n      <th>DEASCHEDULE</th>\n      <td>object</td>\n      <td>4</td>\n      <td>163837</td>\n      <td>0.942263</td>\n    </tr>\n    <tr>\n      <th>ENDMARKETINGDATE_package</th>\n      <td>datetime64[ns]</td>\n      <td>767</td>\n      <td>167420</td>\n      <td>0.962870</td>\n    </tr>\n    <tr>\n      <th>ENDMARKETINGDATE_product</th>\n      <td>datetime64[ns]</td>\n      <td>741</td>\n      <td>167768</td>\n      <td>0.964872</td>\n    </tr>\n  </tbody>\n</table>\n</div>"
     },
     "execution_count": 51,
     "metadata": {},
     "output_type": "execute_result"
    }
   ],
   "source": [
    "table_completeness(merged_table)"
   ]
  },
  {
   "cell_type": "markdown",
   "metadata": {},
   "source": [
    "On remarque qu'il y a 4 variables traitant des mêmes sujets dans les deux tables:\n",
    "\n",
    "Nous déterminerons les variables en fonction de leur complétude vis-à-vis la table intégrée.\n",
    "\n",
    "* NDC_EXCLUDE_FLAG - Aucune valeur manquante. Nous en garderons simplement une;\n",
    "* PRODUCTNDC - Aucune valeur manquante. Nous en garderons simplement une;\n",
    "* STARTMARKETINGDATE - On constate que la variable provenant de la table _package_ affiche des valeurs manquantes. Nous retirerons donc *STARTMARKETINGDATE_package*;\n",
    "* ENDMARKETINGDATE - On constate qu'il y a moins de données manquantes provenant de la table _package_. Nous retirerons donc *ENDMARKETINGDATE_product*;"
   ]
  },
  {
   "cell_type": "code",
   "execution_count": 52,
   "metadata": {},
   "outputs": [],
   "source": [
    "merged_table.drop(columns=['PRODUCTNDC_package', 'NDC_EXCLUDE_FLAG_package',\n",
    "                           'STARTMARKETINGDATE_package', 'ENDMARKETINGDATE_product'],\n",
    "                  inplace=True)\n",
    "\n",
    "merged_table.rename(columns={'PRODUCTNDC_product': 'PRODUCTNDC',\n",
    "                             'NDC_EXCLUDE_FLAG_product': 'NDC_EXCLUDE_FLAG',\n",
    "                             'STARTMARKETINGDATE_product': 'STARTMARKETINGDATE',\n",
    "                             'ENDMARKETINGDATE_package': 'ENDMARKETINGDATE'}, inplace=True)"
   ]
  },
  {
   "cell_type": "markdown",
   "metadata": {},
   "source": [
    "______________________"
   ]
  },
  {
   "cell_type": "markdown",
   "metadata": {},
   "source": [
    "## 7.\n",
    "\n",
    "Proposez un nouvel ensemble d’attributs (représentation) qui élimine la redondance des informations dans les valeurs des attributs, et qui permet de transformer l’attribut PHARM_CLASSES\n",
    "en un ensemble d’attributs distincts correspondant à ses différents champs EPC, CS, MOA,\n",
    "PE etc. ;\n"
   ]
  },
  {
   "cell_type": "code",
   "execution_count": 53,
   "metadata": {},
   "outputs": [
    {
     "data": {
      "text/plain": "0                                                  NaN\n1    Radioactive Diagnostic Agent [EPC],Positron Em...\n2    Radioactive Diagnostic Agent [EPC],Positron Em...\n3    GLP-1 Receptor Agonist [EPC],Glucagon-Like Pep...\n4    GLP-1 Receptor Agonist [EPC],Glucagon-Like Pep...\nName: PHARM_CLASSES, dtype: object"
     },
     "execution_count": 53,
     "metadata": {},
     "output_type": "execute_result"
    }
   ],
   "source": [
    "merged_table['PHARM_CLASSES'].head()"
   ]
  },
  {
   "cell_type": "code",
   "execution_count": 54,
   "metadata": {},
   "outputs": [],
   "source": [
    "notna_mask = merged_table['PHARM_CLASSES'].notna()\n",
    "\n",
    "EPC_mask = np.where(notna_mask & merged_table['PHARM_CLASSES'].str.contains('[EPC]'))\n",
    "CS_mask = np.where(notna_mask & merged_table['PHARM_CLASSES'].str.contains('[CS]'))\n",
    "MoA_mask = np.where(notna_mask & merged_table['PHARM_CLASSES'].str.contains('[MoA]'))\n",
    "PE_mask = np.where(notna_mask & merged_table['PHARM_CLASSES'].str.contains('[PE]'))\n"
   ]
  },
  {
   "cell_type": "code",
   "execution_count": 55,
   "metadata": {},
   "outputs": [],
   "source": [
    "merged_table['EPC'] = merged_table.loc[EPC_mask, 'PHARM_CLASSES'].str.split(',').apply(\n",
    "    lambda x: [s for s in x if \"EPC\" in s]).str[0]\n",
    "\n",
    "merged_table['CS'] = merged_table.loc[CS_mask, 'PHARM_CLASSES'].str.split(',').apply(\n",
    "    lambda x: [s for s in x if \"CS\" in s]).str[0]\n",
    "\n",
    "merged_table['MoA'] = merged_table.loc[MoA_mask, 'PHARM_CLASSES'].str.split(',').apply(\n",
    "    lambda x: [s for s in x if \"MoA\" in s]).str[0]\n",
    "\n",
    "merged_table['PE'] = merged_table.loc[PE_mask, 'PHARM_CLASSES'].str.split(',').apply(\n",
    "    lambda x: [s for s in x if \"PE\" in s]).str[0]"
   ]
  },
  {
   "cell_type": "code",
   "execution_count": 56,
   "metadata": {},
   "outputs": [
    {
     "data": {
      "text/plain": "                                  EPC                            CS  \\\n0                                 NaN                           NaN   \n1  Radioactive Diagnostic Agent [EPC]                           NaN   \n2  Radioactive Diagnostic Agent [EPC]                           NaN   \n3        GLP-1 Receptor Agonist [EPC]  Glucagon-Like Peptide 1 [CS]   \n4        GLP-1 Receptor Agonist [EPC]  Glucagon-Like Peptide 1 [CS]   \n\n                                              MoA   PE  \n0                                             NaN  NaN  \n1                Positron Emitting Activity [MoA]  NaN  \n2                Positron Emitting Activity [MoA]  NaN  \n3  Glucagon-like Peptide-1 (GLP-1) Agonists [MoA]  NaN  \n4  Glucagon-like Peptide-1 (GLP-1) Agonists [MoA]  NaN  ",
      "text/html": "<div>\n<style scoped>\n    .dataframe tbody tr th:only-of-type {\n        vertical-align: middle;\n    }\n\n    .dataframe tbody tr th {\n        vertical-align: top;\n    }\n\n    .dataframe thead th {\n        text-align: right;\n    }\n</style>\n<table border=\"1\" class=\"dataframe\">\n  <thead>\n    <tr style=\"text-align: right;\">\n      <th></th>\n      <th>EPC</th>\n      <th>CS</th>\n      <th>MoA</th>\n      <th>PE</th>\n    </tr>\n  </thead>\n  <tbody>\n    <tr>\n      <th>0</th>\n      <td>NaN</td>\n      <td>NaN</td>\n      <td>NaN</td>\n      <td>NaN</td>\n    </tr>\n    <tr>\n      <th>1</th>\n      <td>Radioactive Diagnostic Agent [EPC]</td>\n      <td>NaN</td>\n      <td>Positron Emitting Activity [MoA]</td>\n      <td>NaN</td>\n    </tr>\n    <tr>\n      <th>2</th>\n      <td>Radioactive Diagnostic Agent [EPC]</td>\n      <td>NaN</td>\n      <td>Positron Emitting Activity [MoA]</td>\n      <td>NaN</td>\n    </tr>\n    <tr>\n      <th>3</th>\n      <td>GLP-1 Receptor Agonist [EPC]</td>\n      <td>Glucagon-Like Peptide 1 [CS]</td>\n      <td>Glucagon-like Peptide-1 (GLP-1) Agonists [MoA]</td>\n      <td>NaN</td>\n    </tr>\n    <tr>\n      <th>4</th>\n      <td>GLP-1 Receptor Agonist [EPC]</td>\n      <td>Glucagon-Like Peptide 1 [CS]</td>\n      <td>Glucagon-like Peptide-1 (GLP-1) Agonists [MoA]</td>\n      <td>NaN</td>\n    </tr>\n  </tbody>\n</table>\n</div>"
     },
     "execution_count": 56,
     "metadata": {},
     "output_type": "execute_result"
    }
   ],
   "source": [
    "merged_table[['EPC', 'CS', 'MoA', 'PE']].head()"
   ]
  },
  {
   "cell_type": "markdown",
   "metadata": {},
   "source": [
    "_____________________"
   ]
  },
  {
   "cell_type": "markdown",
   "metadata": {},
   "source": [
    "## 8.\n",
    "\n",
    "À partir de la nouvelle représentation, proposez un ensemble d’attributs à utiliser pour\n",
    "prédire le plus précisément possible toutes les classes pharmacologiques établies d’un médicament (champ EPC dans l’attribut PHARM_CLASSES) ;\n"
   ]
  },
  {
   "cell_type": "markdown",
   "metadata": {},
   "source": [
    "### Attributs à considérer\n",
    "\n",
    "* SUBSTANCENAME - Tel que mentionné, il semble y avoir une forte corrélation entre SUBSTANCENAME et la variable PHARM_CLASSES\n",
    "* ROUTENAME, DOSAGEFORMNAME - ROUTENAME et DOSAGEFORMNAME devrait aussi démontrer une corrélation puisque ceux-ci représente les modalités d'administration des médicaments et la forme de dosage\n",
    "* MARKETINGCATEGORYNAME - Celle-ci pourrait être informative puisqu'elle représente la catégorie de marketing qui devrait diriger vers des classes pharmaceutiques.\n",
    "\n",
    "### Attributs à ignorer\n",
    "\n",
    "* PRODUCTID, PRODUCTNDC, PRODUCTTYPENAME\n",
    "* PROPRIETARYNAME, PROPRIETARYNAMESUFFIX\n",
    "* NONPROPRIETARYNAME\n",
    "* STARTMARKETINGDATE, ENDMARKETINGDATE\n",
    "* APPLICATIONNUMBER\n",
    "* LABELERNAME \n",
    "* ACTIVE_NUMERATOR_STRENGTH, ACTIVE_INGRED_UNIT,\n",
    "* DEASCHEDULE\n",
    "* NDC_EXCLUDE_FLAG\n",
    "* NDCPACKAGECODE, PACKAGEDESCRIPTION, SAMPLE_PACKAGE"
   ]
  },
  {
   "cell_type": "code",
   "execution_count": 57,
   "metadata": {},
   "outputs": [
    {
     "data": {
      "text/plain": "Index(['PRODUCTID', 'PRODUCTNDC', 'PRODUCTTYPENAME', 'PROPRIETARYNAME',\n       'PROPRIETARYNAMESUFFIX', 'NONPROPRIETARYNAME', 'DOSAGEFORMNAME',\n       'ROUTENAME', 'STARTMARKETINGDATE', 'MARKETINGCATEGORYNAME',\n       'APPLICATIONNUMBER', 'LABELERNAME', 'SUBSTANCENAME',\n       'ACTIVE_NUMERATOR_STRENGTH', 'ACTIVE_INGRED_UNIT', 'PHARM_CLASSES',\n       'DEASCHEDULE', 'NDC_EXCLUDE_FLAG', 'LISTING_RECORD_CERTIFIED_THROUGH',\n       'NDCPACKAGECODE', 'PACKAGEDESCRIPTION', 'ENDMARKETINGDATE',\n       'SAMPLE_PACKAGE', 'EPC', 'CS', 'MoA', 'PE'],\n      dtype='object')"
     },
     "execution_count": 57,
     "metadata": {},
     "output_type": "execute_result"
    }
   ],
   "source": [
    "merged_table.columns"
   ]
  },
  {
   "cell_type": "code",
   "execution_count": 58,
   "metadata": {},
   "outputs": [],
   "source": [
    "attribut_predict = ['SUBSTANCENAME', 'ROUTENAME', 'DOSAGEFORMNAME', 'MARKETINGCATEGORYNAME']"
   ]
  },
  {
   "cell_type": "markdown",
   "source": [
    "Nous pouvons utiliser la méthode de Cramers V pour nous donner une mesure de similarité avec la variable d'étude soit _EPC_"
   ],
   "metadata": {
    "collapsed": false,
    "pycharm": {
     "name": "#%% md\n"
    }
   }
  },
  {
   "cell_type": "code",
   "execution_count": 59,
   "metadata": {},
   "outputs": [
    {
     "name": "stdout",
     "output_type": "stream",
     "text": [
      "Attribut [SUBSTANCENAME] Cramers V score: 0.9854850613909063\n",
      "Attribut [ROUTENAME] Cramers V score: 0.3380114278587186\n",
      "Attribut [DOSAGEFORMNAME] Cramers V score: 0.3455459092352666\n",
      "Attribut [MARKETINGCATEGORYNAME] Cramers V score: 0.5390173211993291\n"
     ]
    }
   ],
   "source": [
    "for _ in attribut_predict:\n",
    "    print(\"Attribut [{0}] Cramers V score: {1}\".format(_, cramers_v(merged_table[_], merged_table['EPC'])))"
   ]
  },
  {
   "cell_type": "markdown",
   "metadata": {},
   "source": [
    "________________"
   ]
  },
  {
   "cell_type": "markdown",
   "metadata": {},
   "source": [
    "## 9.\n",
    "\n",
    "En se basant sur la réduction de dimension obtenue à la question précédente, appliquez un\n",
    "modèle de classification pour prédire les classes pharmacologiques établies des médicaments\n",
    "pour lesquels l’information est manquante ;"
   ]
  },
  {
   "cell_type": "markdown",
   "source": [
    "Après avoir réduit les dimenstions, il est nécessaire de tranformer les données qualitatives en données\n",
    "quantitative afin d'être en mesure d'utiliser les alogrithme de _clustering_. À cet effet, on utilise le\n",
    "_LabelEncoder_ de _Sci-Kit learn_:"
   ],
   "metadata": {
    "collapsed": false,
    "pycharm": {
     "name": "#%% md\n"
    }
   }
  },
  {
   "cell_type": "code",
   "execution_count": 141,
   "metadata": {},
   "outputs": [],
   "source": [
    "enc = LabelEncoder()\n",
    "enc_epc = LabelEncoder()\n",
    "enc_cs = LabelEncoder()\n",
    "enc_moa = LabelEncoder()\n",
    "enc_pe = LabelEncoder()\n",
    "\n",
    "# Save the indexes for which we have at least one PHARM_CLASS value, those will be used for training\n",
    "training_indexes = np.array(merged_table['EPC'].notnull() |\n",
    "                            merged_table['CS'].notnull() |\n",
    "                            merged_table['MoA'].notnull() |\n",
    "                            merged_table['PE'].notnull())\n",
    "\n",
    "# Save the indexes for which no PHARM_CLASS value at all, those will be predicted after the training\n",
    "prediction_indexes = np.array(merged_table['EPC'].isnull() &\n",
    "                              merged_table['CS'].isnull() &\n",
    "                              merged_table['MoA'].isnull() &\n",
    "                              merged_table['PE'].isnull())\n",
    "\n",
    "Xs = np.array([enc.fit_transform(_) for _ in merged_table[attribut_predict].T.values]).T\n",
    "\n",
    "X = Xs[training_indexes]\n",
    "\n",
    "# ys = np.array([enc_epc.fit_transform(merged_table['EPC'].values),\n",
    "#               enc_cs.fit_transform(merged_table['CS'].values),\n",
    "#               enc_moa.fit_transform(merged_table['MoA'].values),\n",
    "#               enc_pe.fit_transform(merged_table['PE'].values)]).T\n",
    "#\n",
    "# y = ys[training_indexes]\n",
    "\n",
    "ys = enc_epc.fit_transform(merged_table['EPC'].values).T\n",
    "y = ys[training_indexes]"
   ]
  },
  {
   "cell_type": "markdown",
   "source": [
    "Une fois les variables encoder, on peut entrainer nos modèles sur un sous-ensemble des données qui contiennent au moins\n",
    "une valeur de PHARM_CLASS:"
   ],
   "metadata": {
    "collapsed": false,
    "pycharm": {
     "name": "#%% md\n"
    }
   }
  },
  {
   "cell_type": "code",
   "execution_count": 142,
   "metadata": {},
   "outputs": [
    {
     "name": "stdout",
     "output_type": "stream",
     "text": [
      "Modèle KNeighborsClassifier\n",
      "## Entrainement ##\n",
      "Score d'entraînement: 0.9807705114544486\n",
      "## Test ##\n",
      "Score de test: 0.9686654948620876\n",
      "Modèle RandomForestClassifier\n",
      "## Entrainement ##\n",
      "Score d'entraînement: 0.13057738412360148\n",
      "## Test ##\n",
      "Score de test: 0.1304421308815576\n",
      "Le modèle présentant le meilleur score est KNeighborsClassifier avec 0.9686654948620876\n"
     ]
    }
   ],
   "source": [
    "X_train, X_test, y_train, y_test = train_test_split(X, y, test_size=0.33, random_state=42)\n",
    "\n",
    "clfs = {'KNeighborsClassifier': KNeighborsClassifier(n_neighbors=5),\n",
    "        'RandomForestClassifier':  RandomForestClassifier(max_depth=3, random_state=0)}\n",
    "\n",
    "best_model = {'name': '', 'score': 0, 'model': None}\n",
    "\n",
    "for name, clf in clfs.items():\n",
    "    print(f'Modèle {name}')\n",
    "    print('## Entrainement ##')\n",
    "    # classifier = MultiOutputClassifier(clf, n_jobs=1)\n",
    "    classifier = clf\n",
    "    classifier.fit(X_train, y_train)\n",
    "    train_score = classifier.score(X_train, y_train)\n",
    "    print(f'Score d\\'entraînement: {train_score}')\n",
    "\n",
    "    print('## Test ##')\n",
    "    test_predictions = classifier.predict(X_test)\n",
    "    test_score = classifier.score(X_test, y_test)\n",
    "    print(f'Score de test: {test_score}')\n",
    "\n",
    "    if test_score > best_model.get('score'):\n",
    "        best_model['name'], best_model['score'], best_model['model'] = name, test_score, clf\n",
    "\n",
    "print(f\"Le modèle présentant le meilleur score est {best_model.get('name')} avec {best_model.get('score')}\")"
   ]
  },
  {
   "cell_type": "markdown",
   "source": [
    "On constate donc une bonne performance de la part du classificateur KNN. On peut ainsi procéder à la classification:"
   ],
   "metadata": {
    "collapsed": false,
    "pycharm": {
     "name": "#%% md\n"
    }
   }
  },
  {
   "cell_type": "code",
   "execution_count": 144,
   "outputs": [],
   "source": [
    "test_predictions = classifier.predict(Xs[prediction_indexes])\n",
    "\n",
    "pred_epc = enc_epc.inverse_transform(test_predictions)\n",
    "\n",
    "predictions = merged_table[prediction_indexes]\n",
    "predictions['EPC'] = enc_epc.inverse_transform(test_predictions)"
   ],
   "metadata": {
    "collapsed": false,
    "pycharm": {
     "name": "#%%\n"
    }
   }
  },
  {
   "cell_type": "markdown",
   "source": [
    "Voici un aperçu du résultat:"
   ],
   "metadata": {
    "collapsed": false,
    "pycharm": {
     "name": "#%% md\n"
    }
   }
  },
  {
   "cell_type": "code",
   "execution_count": 145,
   "outputs": [
    {
     "data": {
      "text/plain": "   SUBSTANCENAME                                               EPC   CS  MoA  \\\n0          WATER                              Corticosteroid [EPC]  NaN  NaN   \n7   GALCANEZUMAB  Non-Standardized Pollen Allergenic Extract [EPC]  NaN  NaN   \n8   GALCANEZUMAB  Non-Standardized Pollen Allergenic Extract [EPC]  NaN  NaN   \n13  GALCANEZUMAB  Non-Standardized Pollen Allergenic Extract [EPC]  NaN  NaN   \n14  GALCANEZUMAB  Non-Standardized Pollen Allergenic Extract [EPC]  NaN  NaN   \n\n     PE  \n0   NaN  \n7   NaN  \n8   NaN  \n13  NaN  \n14  NaN  ",
      "text/html": "<div>\n<style scoped>\n    .dataframe tbody tr th:only-of-type {\n        vertical-align: middle;\n    }\n\n    .dataframe tbody tr th {\n        vertical-align: top;\n    }\n\n    .dataframe thead th {\n        text-align: right;\n    }\n</style>\n<table border=\"1\" class=\"dataframe\">\n  <thead>\n    <tr style=\"text-align: right;\">\n      <th></th>\n      <th>SUBSTANCENAME</th>\n      <th>EPC</th>\n      <th>CS</th>\n      <th>MoA</th>\n      <th>PE</th>\n    </tr>\n  </thead>\n  <tbody>\n    <tr>\n      <th>0</th>\n      <td>WATER</td>\n      <td>Corticosteroid [EPC]</td>\n      <td>NaN</td>\n      <td>NaN</td>\n      <td>NaN</td>\n    </tr>\n    <tr>\n      <th>7</th>\n      <td>GALCANEZUMAB</td>\n      <td>Non-Standardized Pollen Allergenic Extract [EPC]</td>\n      <td>NaN</td>\n      <td>NaN</td>\n      <td>NaN</td>\n    </tr>\n    <tr>\n      <th>8</th>\n      <td>GALCANEZUMAB</td>\n      <td>Non-Standardized Pollen Allergenic Extract [EPC]</td>\n      <td>NaN</td>\n      <td>NaN</td>\n      <td>NaN</td>\n    </tr>\n    <tr>\n      <th>13</th>\n      <td>GALCANEZUMAB</td>\n      <td>Non-Standardized Pollen Allergenic Extract [EPC]</td>\n      <td>NaN</td>\n      <td>NaN</td>\n      <td>NaN</td>\n    </tr>\n    <tr>\n      <th>14</th>\n      <td>GALCANEZUMAB</td>\n      <td>Non-Standardized Pollen Allergenic Extract [EPC]</td>\n      <td>NaN</td>\n      <td>NaN</td>\n      <td>NaN</td>\n    </tr>\n  </tbody>\n</table>\n</div>"
     },
     "execution_count": 145,
     "metadata": {},
     "output_type": "execute_result"
    }
   ],
   "source": [
    "predictions[['SUBSTANCENAME']].head()"
   ],
   "metadata": {
    "collapsed": false,
    "pycharm": {
     "name": "#%%\n"
    }
   }
  }
 ],
 "metadata": {
  "kernelspec": {
   "display_name": "Python 3",
   "language": "python",
   "name": "python3"
  },
  "language_info": {
   "codemirror_mode": {
    "name": "ipython",
    "version": 3
   },
   "file_extension": ".py",
   "mimetype": "text/x-python",
   "name": "python",
   "nbconvert_exporter": "python",
   "pygments_lexer": "ipython3",
   "version": "3.8.5"
  }
 },
 "nbformat": 4,
 "nbformat_minor": 5
}