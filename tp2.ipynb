{
 "cells": [
  {
   "cell_type": "code",
   "metadata": {
    "pycharm": {
     "is_executing": false
    }
   },
   "source": [
    "\n",
    "import numpy as np\n",
    "import pandas as pd\n",
    "import re\n",
    "import csv\n",
    "import threading\n",
    "import multiprocessing\n",
    "import os\n",
    "import pickle\n",
    "\n",
    "from _datetime import datetime\n",
    "from sklearn.preprocessing import OneHotEncoder"
   ],
   "outputs": [],
   "execution_count": 40
  },
  {
   "cell_type": "code",
   "metadata": {
    "pycharm": {
     "is_executing": false
    }
   },
   "source": [
    "\n",
    "product_headers_to_encode = ['PRODUCTTYPENAME', 'ROUTENAME', 'DOSAGEFORMNAME', 'MARKETINGCATEGORYNAME']\n",
    "package_headers_to_encode = ['PACKAGEUNIT', 'PACKAGETYPE']\n",
    "\n",
    "target_encoding = 'utf-8'\n",
    "separ = '\\t'\n",
    "\n",
    "product_file = 'product.csv'\n",
    "package_file = 'package.csv'\n",
    "\n",
    "encoded_product_file = 'transformed_product_data.csv'\n",
    "encoded_package_file = 'transformed_package_data.csv'\n",
    "\n",
    "product_encode_file_exist = False\n",
    "package_encode_file_exist = False\n",
    "\n",
    "\n",
    "# TODO incohernce entre dates\n",
    "# TODO incohernce entre routname / forme\n",
    "# TODO incohernce entre valeurs numeric abberantes (ordre de grandeur)\n",
    "# TODO incohernce entre valeurs phase et l'emballage\n",
    "# TODO tester imputatin itérative\n",
    "# TODO utiliser le one hot de sk learn au lieu de dummies de pandas\n",
    "\n",
    "def assert_table_completeness(table):\n",
    "    empty_cells = table.shape[0] - table.count(axis=0)\n",
    "    unique_values = table.nunique(axis=0)\n",
    "\n",
    "    print('Empty cells:\\n{}\\n'.format(empty_cells))\n",
    "    print('Unique values:\\n{}\\n'.format(unique_values))\n",
    "\n",
    "\n",
    "def assert_product_id_completeness(table, header):\n",
    "    empty_cells = table.shape[0] - table.count(axis=0)\n",
    "    unique_values = table.nunique(axis=0)\n",
    "\n",
    "    try:\n",
    "        assert empty_cells[header] == 0\n",
    "        print('No empty values in the {} column'.format(header))\n",
    "    except:\n",
    "        print('There are {} empty values in the {} column'.format(empty_cells[header], header))\n",
    "    try:\n",
    "        assert unique_values[header] == table.shape[0]\n",
    "        print('No duplicat values in the {} column'.format(header))\n",
    "    except:\n",
    "        print(\n",
    "            'There are {} duplicat values in the {} column\\n\\n'.format(table.shape[0] - unique_values[header], header))\n",
    "\n",
    "\n",
    "def get_unique_values(table, headers=''):\n",
    "    uniques = {}\n",
    "    if headers == '':\n",
    "        cols = table.columns.values\n",
    "        for n, c in enumerate(cols):\n",
    "            uniques[c] = pd.unique(table[c])\n",
    "    # else:\n",
    "    #     uniques[headers] = pd.unique(table[headers])\n",
    "    elif type(headers) is list:\n",
    "        for header in headers:\n",
    "            uniques[header] = pd.unique(table[header])\n",
    "    elif type(headers) is str:\n",
    "        uniques[headers] = pd.unique(table[headers])\n",
    "    return uniques\n",
    "\n",
    "\n",
    "def df_to_lower(table, columns='all'):\n",
    "    cols = table.columns.values if columns == 'all' else columns\n",
    "    for c in cols:\n",
    "        try:\n",
    "            table[c] = table[c].str.lower()\n",
    "        except:\n",
    "            pass\n",
    "\n",
    "\n",
    "def get_decomposed_uniques(table, header):\n",
    "    decomposed_uniques = {}\n",
    "    if type(header) is str:\n",
    "        for unique_header, uniques in get_unique_values(table, header).items():\n",
    "            tmp_lst = []\n",
    "            for val in uniques:\n",
    "                if type(val) is str:\n",
    "                    for decomposed in re.split(' ?[_|,;:<>/;] ?|^ | $', val):\n",
    "                        if decomposed != '' and \\\n",
    "                                not decomposed in tmp_lst:\n",
    "                            tmp_lst.append(decomposed)\n",
    "\n",
    "            tmp_lst.sort()\n",
    "            decomposed_uniques[unique_header] = tmp_lst\n",
    "    else:\n",
    "        raise TypeError('header should be a string representing a column header')\n",
    "\n",
    "    return pd.DataFrame.from_dict(decomposed_uniques)\n",
    "\n",
    "\n",
    "def get_onehot_encoders(table, cols):\n",
    "    encoder_dict = {}\n",
    "    for col in cols:\n",
    "        uniques_vals = get_decomposed_uniques(table, header=col)\n",
    "        enc = OneHotEncoder(handle_unknown='ignore')\n",
    "        enc.fit_transform(uniques_vals)\n",
    "        encoder_dict[col] = enc\n",
    "    return encoder_dict\n",
    "\n",
    "\n",
    "def onehot_encode(table, header, threaded=False):\n",
    "    # Create onehot codes for the specidfied column\n",
    "    lst = []\n",
    "    encoder_dict = get_onehot_encoders(table, [header])\n",
    "\n",
    "    if threaded:\n",
    "        threads = []\n",
    "\n",
    "        class _onehot_encode_thread(threading.Thread):\n",
    "            def __init__(self, threadID, name, start_index, end_index):\n",
    "                threading.Thread.__init__(self)\n",
    "                self.threadID = threadID\n",
    "                self.name = name\n",
    "                self.start_index = start_index\n",
    "                self.end_index = end_index\n",
    "\n",
    "            def run(self):\n",
    "                _int_onehot_encode(self.start_index, self.end_index)\n",
    "\n",
    "        def _int_onehot_encode(start_index, end_index):\n",
    "            for index in np.int_(np.linspace(start_index, end_index, (end_index - start_index) + 1)):\n",
    "                _tmp = np.zeros([1, len(encoder_dict[header].categories_[0])], dtype=int)\n",
    "                if type(table.loc[index, header]) is str:\n",
    "                    for decomposed in re.split('[_|,;:<>/;] ?|^ ', table.loc[index, header]):\n",
    "                        _tmp |= np.int_(encoder_dict[header].transform([[decomposed]]).toarray())\n",
    "                    lst.append(_tmp)\n",
    "\n",
    "        cpu_count = multiprocessing.cpu_count()\n",
    "        step = int(np.floor(table.shape[0] / cpu_count))\n",
    "        rem = table.shape[0] % cpu_count;\n",
    "        strt = 0\n",
    "\n",
    "        for i in range(cpu_count):\n",
    "            end = step * (i + 1)\n",
    "            if i == cpu_count - 1:\n",
    "                end += rem - 1\n",
    "            thrd = _onehot_encode_thread(i, str(i), strt, end)\n",
    "            thrd.start()\n",
    "            threads.append(thrd)\n",
    "            strt = end + 1\n",
    "\n",
    "        count = 1\n",
    "        for thrd in threads:\n",
    "            thrd.join()\n",
    "            # Update loading bar\n",
    "            progress(1, 1, 'Thread {} finished'.format(count))\n",
    "            print('')\n",
    "            count += 1\n",
    "    else:\n",
    "        count = 0\n",
    "        for index in range(table.shape[0]):\n",
    "            _tmp = np.zeros([1, len(encoder_dict[header].categories_[0])], dtype=int)\n",
    "            if type(table.loc[index, header]) is str:\n",
    "                for decomposed in re.split('[_|,;:<>/;] ?|^ ', table.loc[index, header]):\n",
    "                    _tmp |= np.int_(encoder_dict[header].transform([[decomposed]]).toarray())\n",
    "                lst.append(_tmp)\n",
    "\n",
    "            # Update loading bar\n",
    "            if count == 1000:\n",
    "                progress(index, table.shape[0])\n",
    "                count = 0\n",
    "            count += 1\n",
    "\n",
    "    print(\" -> Done\", flush=True)\n",
    "\n",
    "    # Replace dataframe column by encoded values\n",
    "    table.loc[:, header] = pd.Series(lst)\n",
    "\n",
    "    # return the encoder associated to that particular header\n",
    "    return encoder_dict[header]\n",
    "\n",
    "\n",
    "def time_methode(methode, status='', **kwargs):\n",
    "    print('Timing {}'.format(methode.__name__))\n",
    "    if status != '':\n",
    "        print(status)\n",
    "    start_time = datetime.now()\n",
    "    print('Start time: {}'.format(start_time))\n",
    "    ret = methode(**kwargs)\n",
    "    end_time = datetime.now()\n",
    "    print('End time: {}'.format(end_time))\n",
    "    print('{} took: {}'.format(methode.__name__, (end_time - start_time)))\n",
    "    if ret != '':\n",
    "        return ret\n",
    "    else:\n",
    "        ret = 0\n",
    "    return ret\n",
    "\n",
    "\n",
    "def progress(count, total, status=''):\n",
    "    bar_len = 50\n",
    "    filled_len = int(round(bar_len * count / float(total)))\n",
    "    _str = ''\n",
    "    percents = np.ceil(100.0 * count / float(total))\n",
    "    bar = '|' * filled_len + '_' * (bar_len - filled_len)\n",
    "\n",
    "    if status == '':\n",
    "        _str = '[{}] {}%'.format(bar, percents)\n",
    "    else:\n",
    "        _str = '[{}] {}% - {}'.format(bar, percents, status)\n",
    "\n",
    "    print('\\r', end='', flush=True)\n",
    "    print(_str, end='', flush=True)\n",
    "\n",
    "\n",
    "product_encode_file_exist = os.path.isfile(encoded_product_file)\n",
    "package_encode_file_exist = os.path.isfile(encoded_package_file)\n",
    "\n",
    "tmp_dic = {}\n",
    "\n",
    "original_product_data = pd.read_csv(product_file, sep=';', encoding='latin1')\n",
    "original_package_data = pd.read_csv(package_file, sep=';', encoding='latin1')\n",
    "\n",
    "if product_encode_file_exist:\n",
    "    print('Loading encoded product data from existing file...')\n",
    "    product_data = pd.read_csv(encoded_product_file, sep=separ, encoding=target_encoding)\n",
    "\n",
    "    # Populate onehot encoders dictionnary\n",
    "    for header in product_headers_to_encode:\n",
    "        tmp_dic[header] = pickle.load(open('{}_data_encoder.pkl'.format(header), 'rb'))\n",
    "else:\n",
    "    product_data = original_product_data\n",
    "\n",
    "if package_encode_file_exist:\n",
    "    print('Loading encoded package data from existing file...')\n",
    "    package_data = pd.read_csv(encoded_package_file, sep=separ, encoding=target_encoding)\n",
    "\n",
    "    # Populate onehot encoders dictionnary\n",
    "    for header in package_headers_to_encode:\n",
    "        tmp_dic[header] = pickle.load(open('{}_data_encoder.pkl'.format(header), 'rb'))\n",
    "else:\n",
    "    package_data = original_package_data\n",
    "\n",
    "# Make everything lower characters in both tables\n",
    "df_to_lower(product_data)\n",
    "df_to_lower(package_data)\n",
    "\n",
    "print('Get unique values for ROUTENAME column of PRODUCT table')\n",
    "product_unique_values = get_decomposed_uniques(product_data, 'ROUTENAME')\n",
    "print(product_unique_values)\n",
    "print('Get unique values for each column of PACKAGING table')\n",
    "package_unique_values = get_unique_values(package_data)"
   ],
   "outputs": [
    {
     "name": "stdout",
     "text": [
      "Loading encoded product data from existing file...\n",
      "Loading encoded package data from existing file...\n",
      "Get unique values for ROUTENAME column of PRODUCT table\n",
      "                                             ROUTENAME\n",
      "0    [[0 0 0 0 0 0 0 0 0 0 0 0 0 0 0 0 0 0 0 0 0 0 ...\n",
      "1    [[0 0 0 0 0 0 0 0 0 0 0 0 0 0 0 0 0 0 0 0 0 0 ...\n",
      "2    [[0 0 0 0 0 0 0 0 0 0 0 0 0 0 0 0 0 0 0 0 0 0 ...\n",
      "3    [[0 0 0 0 0 0 0 0 0 0 0 0 0 0 0 0 0 0 0 0 0 0 ...\n",
      "4    [[0 0 0 0 0 0 0 0 0 0 0 0 0 0 0 0 0 0 0 0 0 0 ...\n",
      "..                                                 ...\n",
      "167  [[0 1 0 0 0 0 0 0 0 0 0 0 0 0 0 0 0 0 0 0 0 0 ...\n",
      "168  [[0 1 0 0 0 0 0 0 0 0 0 0 0 0 0 0 0 0 0 0 0 0 ...\n",
      "169  [[0 1 0 0 0 0 0 0 0 0 0 0 0 0 0 0 0 0 0 0 0 0 ...\n",
      "170  [[0 1 0 1 0 0 0 0 0 0 0 0 0 0 0 0 0 0 0 0 0 0 ...\n",
      "171  [[1 0 0 0 0 0 0 0 0 0 0 0 0 0 0 0 0 0 0 0 0 0 ...\n",
      "\n",
      "[172 rows x 1 columns]\n",
      "Get unique values for each column of PACKAGING table\n"
     ],
     "output_type": "stream"
    }
   ],
   "execution_count": 41
  },
  {
   "cell_type": "markdown",
   "metadata": {},
   "source": [
    "# 1. Auscultation\n",
    "## Etude des données du fichier 'package'"
   ]
  },
  {
   "cell_type": "code",
   "metadata": {
    "pycharm": {
     "is_executing": false
    }
   },
   "source": [
    "package_data.head()"
   ],
   "outputs": [
    {
     "data": {
      "text/plain": "                                        PRODUCTID PRODUCTNDC NDCPACKAGECODE  \\\n0  0699-0155_60f08fe4-aacf-c815-e053-2991aa0a3ded  0699-0155   0699-0155-44   \n1  0699-0311_59039cf6-9008-7367-e053-2a91aa0a2fe9  0699-0311   0699-0311-16   \n2  0699-0312_59039cf6-9008-7367-e053-2a91aa0a2fe9  0699-0312   0699-0312-16   \n3  0699-0317_59039cf6-9008-7367-e053-2a91aa0a2fe9  0699-0317   0699-0317-16   \n4  0699-0404_5bc1c974-e7b8-094c-e053-2991aa0ab726  0699-0404   0699-0404-01   \n\n            PACKAGEDESCRIPTION STARTMARKETINGDATE ENDMARKETINGDATE  \\\n0          125 g in 1 canister         1900-01-01              NaN   \n1  498 g in 1 bottle, plastic          1900-01-01              NaN   \n2  498 g in 1 bottle, plastic          1900-01-01              NaN   \n3  498 g in 1 bottle, plastic          1900-01-01              NaN   \n4               28 g in 1 jar          1900-01-01              NaN   \n\n  NDC_EXCLUDE_FLAG SAMPLE_PACKAGE  PACKAGESIZE  \\\n0                n              n        125.0   \n1                n              n        498.0   \n2                n              n        498.0   \n3                n              n        498.0   \n4                n              n         28.0   \n\n                                         PACKAGEUNIT  \\\n0  [[0 0 0 0 0 0 0 0 0 0 0 0 0 0 0 0 0 0 0 0 0 0 ...   \n1  [[0 0 0 0 0 0 0 0 0 0 0 0 0 0 0 0 0 0 0 0 0 0 ...   \n2  [[0 0 0 0 0 0 0 0 0 0 0 0 0 0 0 0 0 0 0 0 0 0 ...   \n3  [[0 0 0 0 0 0 0 0 0 0 0 0 0 0 0 0 0 0 0 0 0 0 ...   \n4  [[0 0 0 0 0 0 0 0 0 0 0 0 0 0 0 0 0 0 0 0 0 0 ...   \n\n                                         PACKAGETYPE  \n0  [[0 0 0 0 0 0 0 1 0 0 0 0 0 0 0 0 0 0 0 0 0 0 ...  \n1  [[0 0 0 0 1 0 0 0 0 0 0 0 0 0 0 0 0 0 0 0 0 0 ...  \n2  [[0 0 0 0 1 0 0 0 0 0 0 0 0 0 0 0 0 0 0 0 0 0 ...  \n3  [[0 0 0 0 1 0 0 0 0 0 0 0 0 0 0 0 0 0 0 0 0 0 ...  \n4  [[0 0 0 0 0 0 0 0 0 0 0 0 0 0 0 0 0 0 0 0 0 0 ...  ",
      "text/html": "<div>\n<style scoped>\n    .dataframe tbody tr th:only-of-type {\n        vertical-align: middle;\n    }\n\n    .dataframe tbody tr th {\n        vertical-align: top;\n    }\n\n    .dataframe thead th {\n        text-align: right;\n    }\n</style>\n<table border=\"1\" class=\"dataframe\">\n  <thead>\n    <tr style=\"text-align: right;\">\n      <th></th>\n      <th>PRODUCTID</th>\n      <th>PRODUCTNDC</th>\n      <th>NDCPACKAGECODE</th>\n      <th>PACKAGEDESCRIPTION</th>\n      <th>STARTMARKETINGDATE</th>\n      <th>ENDMARKETINGDATE</th>\n      <th>NDC_EXCLUDE_FLAG</th>\n      <th>SAMPLE_PACKAGE</th>\n      <th>PACKAGESIZE</th>\n      <th>PACKAGEUNIT</th>\n      <th>PACKAGETYPE</th>\n    </tr>\n  </thead>\n  <tbody>\n    <tr>\n      <th>0</th>\n      <td>0699-0155_60f08fe4-aacf-c815-e053-2991aa0a3ded</td>\n      <td>0699-0155</td>\n      <td>0699-0155-44</td>\n      <td>125 g in 1 canister</td>\n      <td>1900-01-01</td>\n      <td>NaN</td>\n      <td>n</td>\n      <td>n</td>\n      <td>125.0</td>\n      <td>[[0 0 0 0 0 0 0 0 0 0 0 0 0 0 0 0 0 0 0 0 0 0 ...</td>\n      <td>[[0 0 0 0 0 0 0 1 0 0 0 0 0 0 0 0 0 0 0 0 0 0 ...</td>\n    </tr>\n    <tr>\n      <th>1</th>\n      <td>0699-0311_59039cf6-9008-7367-e053-2a91aa0a2fe9</td>\n      <td>0699-0311</td>\n      <td>0699-0311-16</td>\n      <td>498 g in 1 bottle, plastic</td>\n      <td>1900-01-01</td>\n      <td>NaN</td>\n      <td>n</td>\n      <td>n</td>\n      <td>498.0</td>\n      <td>[[0 0 0 0 0 0 0 0 0 0 0 0 0 0 0 0 0 0 0 0 0 0 ...</td>\n      <td>[[0 0 0 0 1 0 0 0 0 0 0 0 0 0 0 0 0 0 0 0 0 0 ...</td>\n    </tr>\n    <tr>\n      <th>2</th>\n      <td>0699-0312_59039cf6-9008-7367-e053-2a91aa0a2fe9</td>\n      <td>0699-0312</td>\n      <td>0699-0312-16</td>\n      <td>498 g in 1 bottle, plastic</td>\n      <td>1900-01-01</td>\n      <td>NaN</td>\n      <td>n</td>\n      <td>n</td>\n      <td>498.0</td>\n      <td>[[0 0 0 0 0 0 0 0 0 0 0 0 0 0 0 0 0 0 0 0 0 0 ...</td>\n      <td>[[0 0 0 0 1 0 0 0 0 0 0 0 0 0 0 0 0 0 0 0 0 0 ...</td>\n    </tr>\n    <tr>\n      <th>3</th>\n      <td>0699-0317_59039cf6-9008-7367-e053-2a91aa0a2fe9</td>\n      <td>0699-0317</td>\n      <td>0699-0317-16</td>\n      <td>498 g in 1 bottle, plastic</td>\n      <td>1900-01-01</td>\n      <td>NaN</td>\n      <td>n</td>\n      <td>n</td>\n      <td>498.0</td>\n      <td>[[0 0 0 0 0 0 0 0 0 0 0 0 0 0 0 0 0 0 0 0 0 0 ...</td>\n      <td>[[0 0 0 0 1 0 0 0 0 0 0 0 0 0 0 0 0 0 0 0 0 0 ...</td>\n    </tr>\n    <tr>\n      <th>4</th>\n      <td>0699-0404_5bc1c974-e7b8-094c-e053-2991aa0ab726</td>\n      <td>0699-0404</td>\n      <td>0699-0404-01</td>\n      <td>28 g in 1 jar</td>\n      <td>1900-01-01</td>\n      <td>NaN</td>\n      <td>n</td>\n      <td>n</td>\n      <td>28.0</td>\n      <td>[[0 0 0 0 0 0 0 0 0 0 0 0 0 0 0 0 0 0 0 0 0 0 ...</td>\n      <td>[[0 0 0 0 0 0 0 0 0 0 0 0 0 0 0 0 0 0 0 0 0 0 ...</td>\n    </tr>\n  </tbody>\n</table>\n</div>"
     },
     "metadata": {},
     "output_type": "execute_result",
     "execution_count": 42
    }
   ],
   "execution_count": 42
  },
  {
   "cell_type": "code",
   "metadata": {
    "pycharm": {
     "is_executing": false
    }
   },
   "source": [
    "print('Assessing completnes of packaging data table')\n",
    "assert_table_completeness(package_data)"
   ],
   "outputs": [
    {
     "name": "stdout",
     "text": [
      "Assessing completnes of packaging data table\n",
      "Empty cells:\n",
      "PRODUCTID                 41\n",
      "PRODUCTNDC               193\n",
      "NDCPACKAGECODE           193\n",
      "PACKAGEDESCRIPTION         0\n",
      "STARTMARKETINGDATE       683\n",
      "ENDMARKETINGDATE      167431\n",
      "NDC_EXCLUDE_FLAG           0\n",
      "SAMPLE_PACKAGE             0\n",
      "PACKAGESIZE                0\n",
      "PACKAGEUNIT                0\n",
      "PACKAGETYPE                0\n",
      "dtype: int64\n",
      "\n",
      "Unique values:\n",
      "PRODUCTID              93084\n",
      "PRODUCTNDC             91697\n",
      "NDCPACKAGECODE        173692\n",
      "PACKAGEDESCRIPTION     11501\n",
      "STARTMARKETINGDATE      7370\n",
      "ENDMARKETINGDATE         767\n",
      "NDC_EXCLUDE_FLAG           1\n",
      "SAMPLE_PACKAGE             2\n",
      "PACKAGESIZE             2715\n",
      "PACKAGEUNIT              110\n",
      "PACKAGETYPE               55\n",
      "dtype: int64\n",
      "\n"
     ],
     "output_type": "stream"
    }
   ],
   "execution_count": 43
  },
  {
   "cell_type": "markdown",
   "metadata": {},
   "source": [
    "### Colonne PACKAGEDESCRIPTION\n",
    "Cette colonne est présentée sous forme de phrase et contient de multiples informations. Le volume, son unité, le nombre \n",
    "de contenant et son type. S'il existe plusieurs contenants pour un objet, ils sont concaténés par un séparateur '>' de \n",
    "manière hiérarchique."
   ]
  },
  {
   "cell_type": "markdown",
   "metadata": {},
   "source": [
    "### Colonne STARTMARKETINGDATE\n",
    "Les valeurs de cette colonne sont de type date. Elles ont l'air séquentielles. "
   ]
  },
  {
   "cell_type": "markdown",
   "metadata": {},
   "source": [
    "### Colonne ENDMARKETINGDATE\n",
    "Les valeurs de cette colonne sont de type date. Il existe beaucoup de valeurs manquantes."
   ]
  },
  {
   "cell_type": "markdown",
   "metadata": {},
   "source": [
    "### Colonne NDC_EXCLUDE_FLAG"
   ]
  },
  {
   "cell_type": "code",
   "metadata": {
    "pycharm": {
     "is_executing": false
    }
   },
   "source": [
    "package_data['NDC_EXCLUDE_FLAG'].unique()"
   ],
   "outputs": [
    {
     "data": {
      "text/plain": "array(['n'], dtype=object)"
     },
     "metadata": {},
     "output_type": "execute_result",
     "execution_count": 44
    }
   ],
   "execution_count": 44
  },
  {
   "cell_type": "markdown",
   "metadata": {},
   "source": [
    "Tous les objets possèdent la valeur N et ne présente aucune valeur manquante. "
   ]
  },
  {
   "cell_type": "markdown",
   "metadata": {},
   "source": [
    "### Colonne SAMPLE_PACKAGE"
   ]
  },
  {
   "cell_type": "code",
   "metadata": {
    "pycharm": {
     "is_executing": false
    }
   },
   "source": [
    "package_data['SAMPLE_PACKAGE'].value_counts()"
   ],
   "outputs": [
    {
     "data": {
      "text/plain": "n    173223\ny       664\nName: SAMPLE_PACKAGE, dtype: int64"
     },
     "metadata": {},
     "output_type": "execute_result",
     "execution_count": 45
    }
   ],
   "execution_count": 45
  },
  {
   "cell_type": "markdown",
   "metadata": {},
   "source": [
    "Les valeurs possibles sont 'Y' ou 'N'. Il y a une majorité de 'N' et aucune valeur manquante."
   ]
  },
  {
   "cell_type": "markdown",
   "metadata": {},
   "source": [
    "## Etude des données du fichier 'product'"
   ]
  },
  {
   "cell_type": "code",
   "metadata": {
    "pycharm": {
     "is_executing": false
    }
   },
   "source": [
    "product_data.head()"
   ],
   "outputs": [
    {
     "data": {
      "text/plain": "                                        PRODUCTID PRODUCTNDC  \\\n0  0699-0155_60f08fe4-aacf-c815-e053-2991aa0a3ded  0699-0155   \n1  0699-0311_59039cf6-9008-7367-e053-2a91aa0a2fe9  0699-0311   \n2  0699-0312_59039cf6-9008-7367-e053-2a91aa0a2fe9  0699-0312   \n3  0699-0317_59039cf6-9008-7367-e053-2a91aa0a2fe9  0699-0317   \n4  0699-0404_5bc1c974-e7b8-094c-e053-2991aa0ab726  0699-0404   \n\n     PRODUCTTYPENAME               PROPRIETARYNAME PROPRIETARYNAMESUFFIX  \\\n0  [[0 0 1 0 0 0 0]]   topex neutral fluoride foam                   NaN   \n1  [[0 0 1 0 0 0 0]]  topex 60 second fluoride gel                   NaN   \n2  [[0 0 1 0 0 0 0]]  topex 60 second fluoride gel                   NaN   \n3  [[0 0 1 0 0 0 0]]  topex 60 second fluoride gel                   NaN   \n4  [[0 0 1 0 0 0 0]]                    dry socket                   NaN   \n\n     NONPROPRIETARYNAME                                     DOSAGEFORMNAME  \\\n0       sodium fluoride  [[1 0 0 0 0 0 0 0 0 0 0 0 0 0 0 0 0 0 0 0 0 0 ...   \n1       sodium fluoride  [[0 0 0 0 0 0 0 0 0 0 0 0 0 0 0 0 0 0 0 0 0 0 ...   \n2       sodium fluoride  [[0 0 0 0 0 0 0 0 0 0 0 0 0 0 0 0 0 0 0 0 0 0 ...   \n3       sodium fluoride  [[0 0 0 0 0 0 0 0 0 0 0 0 0 0 0 0 0 0 0 0 0 0 ...   \n4  guaiacol and eugenol  [[0 0 0 0 0 0 0 0 0 0 0 0 0 0 0 0 0 0 0 0 0 0 ...   \n\n                                           ROUTENAME STARTMARKETINGDATE  \\\n0  [[0 0 0 1 0 0 0 0 0 0 0 0 0 0 0 0 0 0 0 0 0 0 ...         1900-01-01   \n1  [[0 0 0 1 0 0 0 0 0 0 0 0 0 0 0 0 0 0 0 0 0 0 ...         1900-01-01   \n2  [[0 0 0 1 0 0 0 0 0 0 0 0 0 0 0 0 0 0 0 0 0 0 ...         1900-01-01   \n3  [[0 0 0 1 0 0 0 0 0 0 0 0 0 0 0 0 0 0 0 0 0 0 ...         1900-01-01   \n4  [[0 0 0 1 0 0 0 0 0 0 0 0 0 0 0 0 0 0 0 0 0 0 ...         1900-01-01   \n\n  ENDMARKETINGDATE    MARKETINGCATEGORYNAME APPLICATIONNUMBER  \\\n0              NaN  [[0 0 0 0 0 0 0 1 0 0]]               NaN   \n1              NaN  [[0 0 0 0 0 0 0 1 0 0]]               NaN   \n2              NaN  [[0 0 0 0 0 0 0 1 0 0]]               NaN   \n3              NaN  [[0 0 0 0 0 0 0 1 0 0]]               NaN   \n4              NaN  [[0 0 0 0 0 0 0 1 0 0]]               NaN   \n\n                                         LABELERNAME      SUBSTANCENAME  \\\n0  dentsply llc. professional division trading as...    sodium fluoride   \n1  dentsply llc. professional division trading as...    sodium fluoride   \n2  dentsply llc. professional division trading as...    sodium fluoride   \n3  dentsply llc. professional division trading as...    sodium fluoride   \n4  dentsply llc, professional division, trading a...  guaiacol; eugenol   \n\n  ACTIVE_NUMERATOR_STRENGTH ACTIVE_INGRED_UNIT  \\\n0                       .02                g/g   \n1                      25.9               mg/g   \n2                      25.9               mg/g   \n3                      25.9               mg/g   \n4              .0416; .0416           g/g; g/g   \n\n                                       PHARM_CLASSES DEASCHEDULE  \\\n0                                                NaN         NaN   \n1                                                NaN         NaN   \n2                                                NaN         NaN   \n3                                                NaN         NaN   \n4  standardized chemical allergen [epc],increased...         NaN   \n\n  NDC_EXCLUDE_FLAG LISTING_RECORD_CERTIFIED_THROUGH  \n0                n                       2020-12-31  \n1                n                       2020-12-31  \n2                n                       2020-12-31  \n3                n                       2020-12-31  \n4                n                       2020-12-31  ",
      "text/html": "<div>\n<style scoped>\n    .dataframe tbody tr th:only-of-type {\n        vertical-align: middle;\n    }\n\n    .dataframe tbody tr th {\n        vertical-align: top;\n    }\n\n    .dataframe thead th {\n        text-align: right;\n    }\n</style>\n<table border=\"1\" class=\"dataframe\">\n  <thead>\n    <tr style=\"text-align: right;\">\n      <th></th>\n      <th>PRODUCTID</th>\n      <th>PRODUCTNDC</th>\n      <th>PRODUCTTYPENAME</th>\n      <th>PROPRIETARYNAME</th>\n      <th>PROPRIETARYNAMESUFFIX</th>\n      <th>NONPROPRIETARYNAME</th>\n      <th>DOSAGEFORMNAME</th>\n      <th>ROUTENAME</th>\n      <th>STARTMARKETINGDATE</th>\n      <th>ENDMARKETINGDATE</th>\n      <th>MARKETINGCATEGORYNAME</th>\n      <th>APPLICATIONNUMBER</th>\n      <th>LABELERNAME</th>\n      <th>SUBSTANCENAME</th>\n      <th>ACTIVE_NUMERATOR_STRENGTH</th>\n      <th>ACTIVE_INGRED_UNIT</th>\n      <th>PHARM_CLASSES</th>\n      <th>DEASCHEDULE</th>\n      <th>NDC_EXCLUDE_FLAG</th>\n      <th>LISTING_RECORD_CERTIFIED_THROUGH</th>\n    </tr>\n  </thead>\n  <tbody>\n    <tr>\n      <th>0</th>\n      <td>0699-0155_60f08fe4-aacf-c815-e053-2991aa0a3ded</td>\n      <td>0699-0155</td>\n      <td>[[0 0 1 0 0 0 0]]</td>\n      <td>topex neutral fluoride foam</td>\n      <td>NaN</td>\n      <td>sodium fluoride</td>\n      <td>[[1 0 0 0 0 0 0 0 0 0 0 0 0 0 0 0 0 0 0 0 0 0 ...</td>\n      <td>[[0 0 0 1 0 0 0 0 0 0 0 0 0 0 0 0 0 0 0 0 0 0 ...</td>\n      <td>1900-01-01</td>\n      <td>NaN</td>\n      <td>[[0 0 0 0 0 0 0 1 0 0]]</td>\n      <td>NaN</td>\n      <td>dentsply llc. professional division trading as...</td>\n      <td>sodium fluoride</td>\n      <td>.02</td>\n      <td>g/g</td>\n      <td>NaN</td>\n      <td>NaN</td>\n      <td>n</td>\n      <td>2020-12-31</td>\n    </tr>\n    <tr>\n      <th>1</th>\n      <td>0699-0311_59039cf6-9008-7367-e053-2a91aa0a2fe9</td>\n      <td>0699-0311</td>\n      <td>[[0 0 1 0 0 0 0]]</td>\n      <td>topex 60 second fluoride gel</td>\n      <td>NaN</td>\n      <td>sodium fluoride</td>\n      <td>[[0 0 0 0 0 0 0 0 0 0 0 0 0 0 0 0 0 0 0 0 0 0 ...</td>\n      <td>[[0 0 0 1 0 0 0 0 0 0 0 0 0 0 0 0 0 0 0 0 0 0 ...</td>\n      <td>1900-01-01</td>\n      <td>NaN</td>\n      <td>[[0 0 0 0 0 0 0 1 0 0]]</td>\n      <td>NaN</td>\n      <td>dentsply llc. professional division trading as...</td>\n      <td>sodium fluoride</td>\n      <td>25.9</td>\n      <td>mg/g</td>\n      <td>NaN</td>\n      <td>NaN</td>\n      <td>n</td>\n      <td>2020-12-31</td>\n    </tr>\n    <tr>\n      <th>2</th>\n      <td>0699-0312_59039cf6-9008-7367-e053-2a91aa0a2fe9</td>\n      <td>0699-0312</td>\n      <td>[[0 0 1 0 0 0 0]]</td>\n      <td>topex 60 second fluoride gel</td>\n      <td>NaN</td>\n      <td>sodium fluoride</td>\n      <td>[[0 0 0 0 0 0 0 0 0 0 0 0 0 0 0 0 0 0 0 0 0 0 ...</td>\n      <td>[[0 0 0 1 0 0 0 0 0 0 0 0 0 0 0 0 0 0 0 0 0 0 ...</td>\n      <td>1900-01-01</td>\n      <td>NaN</td>\n      <td>[[0 0 0 0 0 0 0 1 0 0]]</td>\n      <td>NaN</td>\n      <td>dentsply llc. professional division trading as...</td>\n      <td>sodium fluoride</td>\n      <td>25.9</td>\n      <td>mg/g</td>\n      <td>NaN</td>\n      <td>NaN</td>\n      <td>n</td>\n      <td>2020-12-31</td>\n    </tr>\n    <tr>\n      <th>3</th>\n      <td>0699-0317_59039cf6-9008-7367-e053-2a91aa0a2fe9</td>\n      <td>0699-0317</td>\n      <td>[[0 0 1 0 0 0 0]]</td>\n      <td>topex 60 second fluoride gel</td>\n      <td>NaN</td>\n      <td>sodium fluoride</td>\n      <td>[[0 0 0 0 0 0 0 0 0 0 0 0 0 0 0 0 0 0 0 0 0 0 ...</td>\n      <td>[[0 0 0 1 0 0 0 0 0 0 0 0 0 0 0 0 0 0 0 0 0 0 ...</td>\n      <td>1900-01-01</td>\n      <td>NaN</td>\n      <td>[[0 0 0 0 0 0 0 1 0 0]]</td>\n      <td>NaN</td>\n      <td>dentsply llc. professional division trading as...</td>\n      <td>sodium fluoride</td>\n      <td>25.9</td>\n      <td>mg/g</td>\n      <td>NaN</td>\n      <td>NaN</td>\n      <td>n</td>\n      <td>2020-12-31</td>\n    </tr>\n    <tr>\n      <th>4</th>\n      <td>0699-0404_5bc1c974-e7b8-094c-e053-2991aa0ab726</td>\n      <td>0699-0404</td>\n      <td>[[0 0 1 0 0 0 0]]</td>\n      <td>dry socket</td>\n      <td>NaN</td>\n      <td>guaiacol and eugenol</td>\n      <td>[[0 0 0 0 0 0 0 0 0 0 0 0 0 0 0 0 0 0 0 0 0 0 ...</td>\n      <td>[[0 0 0 1 0 0 0 0 0 0 0 0 0 0 0 0 0 0 0 0 0 0 ...</td>\n      <td>1900-01-01</td>\n      <td>NaN</td>\n      <td>[[0 0 0 0 0 0 0 1 0 0]]</td>\n      <td>NaN</td>\n      <td>dentsply llc, professional division, trading a...</td>\n      <td>guaiacol; eugenol</td>\n      <td>.0416; .0416</td>\n      <td>g/g; g/g</td>\n      <td>standardized chemical allergen [epc],increased...</td>\n      <td>NaN</td>\n      <td>n</td>\n      <td>2020-12-31</td>\n    </tr>\n  </tbody>\n</table>\n</div>"
     },
     "metadata": {},
     "output_type": "execute_result",
     "execution_count": 46
    }
   ],
   "execution_count": 46
  },
  {
   "cell_type": "code",
   "metadata": {
    "pycharm": {
     "is_executing": false
    }
   },
   "source": [
    "print('Assessing completnes product data table')\n",
    "assert_table_completeness(product_data)"
   ],
   "outputs": [
    {
     "name": "stdout",
     "text": [
      "Assessing completnes product data table\n",
      "Empty cells:\n",
      "PRODUCTID                               0\n",
      "PRODUCTNDC                              0\n",
      "PRODUCTTYPENAME                         0\n",
      "PROPRIETARYNAME                         6\n",
      "PROPRIETARYNAMESUFFIX               83075\n",
      "NONPROPRIETARYNAME                      4\n",
      "DOSAGEFORMNAME                          0\n",
      "ROUTENAME                            1932\n",
      "STARTMARKETINGDATE                      0\n",
      "ENDMARKETINGDATE                    88916\n",
      "MARKETINGCATEGORYNAME                   0\n",
      "APPLICATIONNUMBER                   13097\n",
      "LABELERNAME                           557\n",
      "SUBSTANCENAME                        2309\n",
      "ACTIVE_NUMERATOR_STRENGTH            2309\n",
      "ACTIVE_INGRED_UNIT                   2309\n",
      "PHARM_CLASSES                       51009\n",
      "DEASCHEDULE                         88815\n",
      "NDC_EXCLUDE_FLAG                        0\n",
      "LISTING_RECORD_CERTIFIED_THROUGH     4325\n",
      "dtype: int64\n",
      "\n",
      "Unique values:\n",
      "PRODUCTID                           93238\n",
      "PRODUCTNDC                          91951\n",
      "PRODUCTTYPENAME                         7\n",
      "PROPRIETARYNAME                     29775\n",
      "PROPRIETARYNAMESUFFIX                3726\n",
      "NONPROPRIETARYNAME                  13104\n",
      "DOSAGEFORMNAME                        133\n",
      "ROUTENAME                             172\n",
      "STARTMARKETINGDATE                   7262\n",
      "ENDMARKETINGDATE                      741\n",
      "MARKETINGCATEGORYNAME                  10\n",
      "APPLICATIONNUMBER                   10711\n",
      "LABELERNAME                          6095\n",
      "SUBSTANCENAME                        8976\n",
      "ACTIVE_NUMERATOR_STRENGTH            8769\n",
      "ACTIVE_INGRED_UNIT                   2391\n",
      "PHARM_CLASSES                        1285\n",
      "DEASCHEDULE                             4\n",
      "NDC_EXCLUDE_FLAG                        1\n",
      "LISTING_RECORD_CERTIFIED_THROUGH        2\n",
      "dtype: int64\n",
      "\n"
     ],
     "output_type": "stream"
    }
   ],
   "execution_count": 47
  },
  {
   "cell_type": "markdown",
   "metadata": {},
   "source": [
    "### Colonne PRODUCTTYPENAME"
   ]
  },
  {
   "cell_type": "code",
   "metadata": {
    "pycharm": {
     "is_executing": false
    }
   },
   "source": [
    "product_data['PRODUCTTYPENAME'].value_counts()"
   ],
   "outputs": [
    {
     "data": {
      "text/plain": "[[0 1 0 0 0 0 0]]    46172\n[[0 0 1 0 0 0 0]]    44526\n[[0 0 0 1 0 0 0]]     2008\n[[0 0 0 0 1 0 0]]      294\n[[0 0 0 0 0 1 0]]      124\n[[0 0 0 0 0 0 1]]      108\n[[1 0 0 0 0 0 0]]        6\nName: PRODUCTTYPENAME, dtype: int64"
     },
     "metadata": {},
     "output_type": "execute_result",
     "execution_count": 48
    }
   ],
   "execution_count": 48
  },
  {
   "cell_type": "markdown",
   "metadata": {},
   "source": [
    "Il y a 7 valeurs possibles textuelles catégorielles dans cette colonne."
   ]
  },
  {
   "cell_type": "markdown",
   "metadata": {},
   "source": [
    "### Colonne PROPRIETARYNAME"
   ]
  },
  {
   "cell_type": "code",
   "metadata": {
    "pycharm": {
     "is_executing": false
    }
   },
   "source": [
    "product_data['PROPRIETARYNAME'].nunique()"
   ],
   "outputs": [
    {
     "data": {
      "text/plain": "29775"
     },
     "metadata": {},
     "output_type": "execute_result",
     "execution_count": 49
    }
   ],
   "execution_count": 49
  },
  {
   "cell_type": "code",
   "metadata": {
    "pycharm": {
     "is_executing": false
    }
   },
   "source": [
    "# product_data['PROPRIETARYNAME'][393:401]"
   ],
   "outputs": [],
   "execution_count": 50
  },
  {
   "cell_type": "markdown",
   "metadata": {},
   "source": [
    "Dans cette colonne, il existe un grand nombre de valeurs différentes. Les mêmes valeurs peuvent être présentes sous \n",
    "différentes formes notamment en minuscules ou majuscules, il existe donc une inconsistance entre les valeurs."
   ]
  },
  {
   "cell_type": "markdown",
   "metadata": {},
   "source": [
    "### Colonne PROPRIETARYNAMESUFFIX"
   ]
  },
  {
   "cell_type": "code",
   "metadata": {
    "pycharm": {
     "is_executing": false
    }
   },
   "source": [
    "product_data['PROPRIETARYNAMESUFFIX'].nunique()"
   ],
   "outputs": [
    {
     "data": {
      "text/plain": "3726"
     },
     "metadata": {},
     "output_type": "execute_result",
     "execution_count": 51
    }
   ],
   "execution_count": 51
  },
  {
   "cell_type": "markdown",
   "metadata": {},
   "source": [
    "Dans cette colonne, il y a un nombre important de valeurs manquantes. Ces valeurs sont textuelles et il existe un nombre \n",
    "élevé de valeurs différentes."
   ]
  },
  {
   "cell_type": "markdown",
   "metadata": {},
   "source": [
    "### Colonne NONPROPRIETARYNAME"
   ]
  },
  {
   "cell_type": "code",
   "metadata": {
    "pycharm": {
     "is_executing": false
    }
   },
   "source": [
    "product_data['NONPROPRIETARYNAME'].nunique()"
   ],
   "outputs": [
    {
     "data": {
      "text/plain": "13104"
     },
     "metadata": {},
     "output_type": "execute_result",
     "execution_count": 52
    }
   ],
   "execution_count": 52
  },
  {
   "cell_type": "code",
   "metadata": {
    "pycharm": {
     "is_executing": false
    }
   },
   "source": [
    "product_data['NONPROPRIETARYNAME'][2:6]"
   ],
   "outputs": [
    {
     "data": {
      "text/plain": "2         sodium fluoride\n3         sodium fluoride\n4    guaiacol and eugenol\n5         sodium fluoride\nName: NONPROPRIETARYNAME, dtype: object"
     },
     "metadata": {},
     "output_type": "execute_result",
     "execution_count": 53
    }
   ],
   "execution_count": 53
  },
  {
   "cell_type": "markdown",
   "metadata": {},
   "source": [
    "Cette colonne présente seulement 4 valeurs manquantes. Ceux sont des données textuelles inconsistantes, par exemple \n",
    "pouvant représenter la même valeur en caratères minuscules ou majuscules. Il y a un nombre très important de valeurs \n",
    "différentes."
   ]
  },
  {
   "cell_type": "markdown",
   "metadata": {},
   "source": [
    "### Colonne DOSAGEFORMNAME"
   ]
  },
  {
   "cell_type": "code",
   "metadata": {
    "pycharm": {
     "is_executing": false
    }
   },
   "source": [
    "product_data['DOSAGEFORMNAME'].value_counts()"
   ],
   "outputs": [
    {
     "data": {
      "text/plain": "[[0 0 0 0 0 0 0 0 0 0 0 0 0 0 0 0 0 0 0 0 0 0 0 0 0 0 0 0 0 0 0 0 0 0 0 0\\n  0 0 0 0 0 0 0 0 0 0 0 0 0 0 0 0 0 0 0 0 0 0 0 0 0 0 0 0 0 0 0 0 0 0 0 0\\n  0 0 0 0 0 0 0 0 0 0 0 0 0 0 0 1 0 0 0 0]]    15442\n[[0 0 0 0 0 0 0 0 0 0 0 0 0 0 0 0 0 0 0 0 0 0 0 0 0 0 0 1 0 0 0 0 0 0 0 0\\n  0 0 0 0 0 0 0 0 0 0 0 0 0 0 0 0 0 0 0 0 0 0 0 0 0 0 0 0 0 0 0 0 0 0 0 0\\n  0 0 0 0 0 0 0 0 0 0 0 0 0 0 0 1 0 0 0 0]]     9387\n[[0 0 0 0 0 0 0 0 0 0 0 0 0 0 0 0 0 0 0 0 0 0 0 0 0 0 0 0 0 0 0 0 0 0 0 0\\n  0 0 0 0 0 0 0 0 0 0 0 0 0 0 0 1 0 0 0 0 0 0 0 0 0 0 0 0 0 0 0 0 0 0 0 0\\n  0 0 0 0 0 0 0 0 0 0 0 0 0 0 0 0 0 0 0 0]]     8764\n[[0 0 0 0 0 0 0 0 0 0 0 1 0 0 0 0 0 0 0 0 0 0 0 0 0 0 0 0 0 0 0 0 0 0 0 0\\n  0 0 0 0 0 0 0 0 0 0 0 0 0 0 0 0 0 0 0 0 0 0 0 0 0 0 0 0 0 0 0 0 0 0 0 0\\n  0 0 0 0 0 0 0 0 0 0 0 0 0 0 0 0 0 0 0 0]]     5104\n[[0 0 0 1 0 0 0 0 0 0 0 0 0 0 0 0 0 0 0 0 0 0 0 0 0 0 0 0 0 0 0 0 0 0 0 0\\n  0 0 0 0 0 0 0 0 0 0 0 0 0 0 0 0 0 0 0 0 0 0 0 0 0 0 0 0 0 0 0 0 0 0 0 0\\n  0 0 0 0 0 0 0 0 0 0 0 0 0 0 0 0 0 0 0 0]]     4824\n                                                                                                                                                                                                     ...  \n[[0 0 0 0 0 0 0 0 0 0 0 0 0 0 0 0 0 0 0 0 0 0 0 0 0 0 0 0 0 0 0 0 0 0 0 0\\n  0 0 0 0 0 0 0 0 0 0 0 0 0 0 0 0 0 0 0 0 0 0 0 0 0 0 0 0 0 0 0 0 0 0 0 0\\n  0 0 0 0 0 0 0 0 0 0 0 0 0 0 0 0 0 0 0 1]]        2\n[[0 0 0 0 0 1 0 0 0 0 0 0 0 0 0 0 0 0 0 0 0 0 0 0 0 0 0 0 0 0 0 0 0 0 0 0\\n  0 0 0 0 0 0 0 0 0 0 0 0 0 0 0 0 0 0 0 0 0 0 0 0 0 0 0 0 0 0 0 0 0 0 0 0\\n  0 0 0 0 0 0 0 0 0 0 0 0 0 0 0 0 0 0 0 0]]        1\n[[0 0 0 0 0 0 0 0 0 0 0 0 0 0 0 0 0 0 0 0 0 0 0 0 1 0 0 0 0 0 1 0 0 0 0 0\\n  0 0 0 0 0 0 0 0 0 0 0 0 0 0 0 0 0 0 0 0 0 0 0 0 0 0 0 0 0 0 0 0 0 0 0 0\\n  0 0 0 0 0 0 0 0 0 0 0 0 0 0 0 0 0 0 0 0]]        1\n[[0 0 0 0 0 0 0 0 0 0 0 0 1 0 0 0 0 0 0 0 0 0 0 0 0 0 0 0 0 0 0 0 0 0 0 0\\n  0 0 0 0 0 0 0 0 0 0 0 0 0 0 0 0 0 0 0 0 0 0 0 0 0 0 0 0 0 0 0 0 0 0 0 0\\n  0 0 0 0 0 0 0 0 0 0 0 0 0 0 0 0 0 0 0 0]]        1\n[[0 0 0 0 0 0 0 0 0 0 0 0 0 0 0 0 0 0 0 0 0 0 0 0 0 0 0 0 0 0 0 0 0 0 0 0\\n  0 0 0 0 0 1 0 0 0 0 0 0 1 0 0 0 0 0 0 0 0 0 0 0 0 0 0 0 0 0 0 0 0 0 0 0\\n  0 0 0 0 0 0 0 0 0 0 0 0 0 0 0 0 0 0 0 0]]        1\nName: DOSAGEFORMNAME, Length: 133, dtype: int64"
     },
     "metadata": {},
     "output_type": "execute_result",
     "execution_count": 54
    }
   ],
   "execution_count": 54
  },
  {
   "cell_type": "markdown",
   "metadata": {},
   "source": [
    "Cette colonne contient 134 différentes valeurs textuelles. Comme on peut le voir, différentes catégories peuvent être \n",
    "affectées au même objet. La colonne ne présente aucune valeur manquante."
   ]
  },
  {
   "cell_type": "markdown",
   "metadata": {},
   "source": [
    "### Colonne ROUTENAME"
   ]
  },
  {
   "cell_type": "code",
   "metadata": {
    "pycharm": {
     "is_executing": false
    }
   },
   "source": [
    "product_data['ROUTENAME'].value_counts()"
   ],
   "outputs": [
    {
     "data": {
      "text/plain": "[[0 0 0 0 0 0 0 0 0 0 0 0 0 0 0 0 0 0 0 0 0 0 0 0 0 0 0 0 0 0 0 0 0 0 0 0\\n  0 0 0 0 0 0 0 1 0 0 0 0 0 0 0 0 0 0 0 0 0 0 0 0 0 0 0 0 0]]    54716\n[[0 0 0 0 0 0 0 0 0 0 0 0 0 0 0 0 0 0 0 0 0 0 0 0 0 0 0 0 0 0 0 0 0 0 0 0\\n  0 0 0 0 0 0 0 0 0 0 0 0 0 0 0 0 0 0 0 0 0 0 0 1 0 0 0 0 0]]    21558\n[[0 0 0 0 0 0 0 0 0 0 0 0 0 0 0 0 0 0 0 0 0 0 0 0 0 0 0 0 0 0 0 0 0 0 0 1\\n  0 0 0 0 0 0 0 0 0 0 0 0 0 0 0 0 0 0 0 0 0 0 0 0 0 0 0 0 0]]     3374\n[[0 0 0 0 0 0 0 0 0 0 0 0 0 0 0 0 0 0 0 0 0 1 0 0 0 0 0 0 0 0 0 0 0 0 0 0\\n  0 0 0 0 0 0 0 0 0 0 1 0 0 0 0 0 0 0 0 1 0 0 0 0 0 0 0 0 0]]     1315\n[[0 0 0 0 0 0 0 0 0 0 0 0 0 0 0 0 0 0 0 0 0 0 0 0 0 0 0 0 0 0 0 0 0 0 0 0\\n  0 0 0 0 0 0 0 0 0 0 0 0 0 0 1 0 0 0 0 0 0 0 0 0 0 0 0 0 0]]     1257\n                                                                                                                                            ...  \n[[0 0 0 0 0 0 0 0 0 0 0 0 0 0 0 0 0 0 0 0 0 0 0 0 0 0 0 0 0 0 0 0 0 0 0 0\\n  0 0 0 0 0 0 0 0 0 0 0 0 0 1 0 0 0 0 0 0 0 0 0 0 0 0 0 0 1]]        1\n[[0 0 0 0 0 0 0 0 0 0 0 0 0 0 0 0 0 0 0 0 0 0 0 0 0 0 0 0 0 0 0 0 0 0 0 0\\n  0 0 0 0 0 0 0 0 0 0 0 0 0 0 0 1 0 0 0 0 0 0 0 1 0 0 0 0 0]]        1\n[[0 0 0 0 0 0 0 0 0 0 0 0 0 0 0 0 0 0 0 0 0 0 0 0 0 0 0 0 0 0 0 0 0 0 0 0\\n  0 0 0 0 0 0 0 0 0 0 0 0 0 0 0 0 0 0 0 0 0 0 0 0 0 0 1 0 0]]        1\n[[0 0 0 0 0 1 0 0 0 0 0 0 0 0 0 0 0 0 0 0 0 0 0 0 1 1 0 0 0 0 0 0 0 0 0 1\\n  0 0 0 0 0 0 0 0 0 0 0 0 0 0 0 0 0 0 0 1 0 0 0 0 0 0 0 0 0]]        1\n[[0 0 0 0 0 0 0 0 0 0 0 0 0 0 0 0 0 0 0 0 1 0 0 0 0 0 0 0 0 0 0 0 0 0 0 0\\n  0 0 0 0 0 0 0 0 0 0 0 0 0 0 1 0 0 0 0 0 0 0 0 0 0 0 0 0 0]]        1\nName: ROUTENAME, Length: 172, dtype: int64"
     },
     "metadata": {},
     "output_type": "execute_result",
     "execution_count": 55
    }
   ],
   "execution_count": 55
  },
  {
   "cell_type": "markdown",
   "metadata": {},
   "source": [
    "Cette colonne contient 180 différentes valeurs textuelles. Comme on peut le voir, différentes catégories peuvent être \n",
    "affectées au même objet. La colonne présente 1932 valeurs manquantes."
   ]
  },
  {
   "cell_type": "markdown",
   "metadata": {},
   "source": [
    "### Colonne STARTMARKETINGDATE\n",
    "Les valeurs sont de type date, il n'y a aucune valeur manquante. "
   ]
  },
  {
   "cell_type": "markdown",
   "metadata": {},
   "source": [
    "### Colonne ENDMARKETINGDATE\n",
    "Les valeurs sont de type date, il y a un grand nombre de valeurs manquantes. "
   ]
  },
  {
   "cell_type": "markdown",
   "metadata": {},
   "source": [
    "### Colonne MARKETINGCATEGORYNAME"
   ]
  },
  {
   "cell_type": "code",
   "metadata": {
    "pycharm": {
     "is_executing": false
    }
   },
   "source": [
    "product_data['MARKETINGCATEGORYNAME'].value_counts()\n",
    "# %%\n",
    "\"\"\"\n",
    "Les valeurs sont de type textuelles, il y a 26 catégories différentes et ne présente aucune valeur manquante.  \n",
    "\"\"\"\n",
    "# %%\n",
    "\"\"\"\n",
    "### Colonne APPLICATIONNUMBER\n",
    "\"\"\"\n",
    "# %%\n",
    "product_data['APPLICATIONNUMBER'].nunique()\n",
    "# %%\n",
    "\"\"\"\n",
    "Cette colonne spécifie le numéro de série de la catégorie marketing. Le nombre de valeurs manquantes est élevé, et \n",
    "comme il y a un numéro de série pour chaque objet dans une catégorie, le nombre de valeurs différentes est également \n",
    "important.\n",
    "\"\"\""
   ],
   "outputs": [
    {
     "data": {
      "text/plain": "'\\nCette colonne spécifie le numéro de série de la catégorie marketing. Le nombre de valeurs manquantes est élevé, et \\ncomme il y a un numéro de série pour chaque objet dans une catégorie, le nombre de valeurs différentes est également \\nimportant.\\n'"
     },
     "metadata": {},
     "output_type": "execute_result",
     "execution_count": 56
    }
   ],
   "execution_count": 56
  },
  {
   "cell_type": "markdown",
   "metadata": {},
   "source": [
    "### Colonne LABELERNAME"
   ]
  },
  {
   "cell_type": "code",
   "metadata": {
    "pycharm": {
     "is_executing": false
    }
   },
   "source": [
    "product_data['LABELERNAME'].nunique()"
   ],
   "outputs": [
    {
     "data": {
      "text/plain": "6095"
     },
     "metadata": {},
     "output_type": "execute_result",
     "execution_count": 57
    }
   ],
   "execution_count": 57
  },
  {
   "cell_type": "code",
   "metadata": {
    "pycharm": {
     "is_executing": false
    }
   },
   "source": [
    "product_data['LABELERNAME'][7291:7293]\n",
    "# %%\n",
    "\"\"\"\n",
    "La colonne présente peu de valeurs manquantes (557). Si on remarque qu'il existe un nombre important de valeurs \n",
    "différentes, les données sont cependant inconsistantes.\n",
    "\"\"\""
   ],
   "outputs": [
    {
     "data": {
      "text/plain": "\"\\nLa colonne présente peu de valeurs manquantes (557). Si on remarque qu'il existe un nombre important de valeurs \\ndifférentes, les données sont cependant inconsistantes.\\n\""
     },
     "metadata": {},
     "output_type": "execute_result",
     "execution_count": 58
    }
   ],
   "execution_count": 58
  },
  {
   "cell_type": "markdown",
   "metadata": {},
   "source": [
    "### Colonne SUBSTANCENAME"
   ]
  },
  {
   "cell_type": "code",
   "metadata": {
    "pycharm": {
     "is_executing": false
    }
   },
   "source": [
    "product_data['SUBSTANCENAME'].nunique()"
   ],
   "outputs": [
    {
     "data": {
      "text/plain": "8976"
     },
     "metadata": {},
     "output_type": "execute_result",
     "execution_count": 59
    }
   ],
   "execution_count": 59
  },
  {
   "cell_type": "code",
   "metadata": {
    "pycharm": {
     "is_executing": false
    }
   },
   "source": [
    "product_data['SUBSTANCENAME'][727:735]"
   ],
   "outputs": [
    {
     "data": {
      "text/plain": "727    xanthium strumarium pollen; plantago lanceolat...\n728    xanthium strumarium pollen; plantago lanceolat...\n729    alnus rhombifolia pollen; fraxinus americana p...\n730    alnus rhombifolia pollen; fraxinus americana p...\n731    alnus rhombifolia pollen; fraxinus americana p...\n732       betula nigra pollen; betula populifolia pollen\n733    gibberella zeae; aspergillus niger var. niger;...\n734       carya ovata pollen; carya illinoinensis pollen\nName: SUBSTANCENAME, dtype: object"
     },
     "metadata": {},
     "output_type": "execute_result",
     "execution_count": 60
    }
   ],
   "execution_count": 60
  },
  {
   "cell_type": "markdown",
   "metadata": {},
   "source": [
    "Cette colonne présente un nombre assez important de données manquantes (2309), ceux sont des données textuelles \n",
    "catégorielles. Or le nombre de catégories parait élevé, comme le montre le nombre de valeurs uniques. Chaque objet \n",
    "peut cependant présenté plusieurs catégories séparées par un ';'."
   ]
  },
  {
   "cell_type": "markdown",
   "metadata": {},
   "source": [
    "### Colonne ACTIVE_NUMERATOR_STRENGTH"
   ]
  },
  {
   "cell_type": "code",
   "metadata": {
    "pycharm": {
     "is_executing": false
    }
   },
   "source": [
    "product_data['ACTIVE_NUMERATOR_STRENGTH'][725:731]"
   ],
   "outputs": [
    {
     "data": {
      "text/plain": "725                                                  .05\n726                                                   .1\n727                                   .05; .05; .05; .05\n728                           40000; 40000; 40000; 40000\n729          .05; .05; .05; .05; .05; .05; .05; .05; .05\n730    40000; 40000; 40000; 40000; 40000; 40000; 4000...\nName: ACTIVE_NUMERATOR_STRENGTH, dtype: object"
     },
     "metadata": {},
     "output_type": "execute_result",
     "execution_count": 61
    }
   ],
   "execution_count": 61
  },
  {
   "cell_type": "markdown",
   "metadata": {},
   "source": [
    "Ceux sont des données numériques qui paraissent dupliquées pour le même objet.  "
   ]
  },
  {
   "cell_type": "markdown",
   "metadata": {},
   "source": [
    "### Colonne ACTIVE_INGRED_UNIT"
   ]
  },
  {
   "cell_type": "code",
   "metadata": {
    "pycharm": {
     "is_executing": false
    }
   },
   "source": [
    "product_data['ACTIVE_INGRED_UNIT'][725:731]"
   ],
   "outputs": [
    {
     "data": {
      "text/plain": "725                                                 g/ml\n726                                                 g/ml\n727                               g/ml; g/ml; g/ml; g/ml\n728               [pnu]/ml; [pnu]/ml; [pnu]/ml; [pnu]/ml\n729    g/ml; g/ml; g/ml; g/ml; g/ml; g/ml; g/ml; g/ml...\n730    [pnu]/ml; [pnu]/ml; [pnu]/ml; [pnu]/ml; [pnu]/...\nName: ACTIVE_INGRED_UNIT, dtype: object"
     },
     "metadata": {},
     "output_type": "execute_result",
     "execution_count": 62
    }
   ],
   "execution_count": 62
  },
  {
   "cell_type": "markdown",
   "metadata": {},
   "source": [
    "Ceux sont des données textuelles catégorielles qui présentent l'unité de la colonne 'ACTIVE_INGRED_UNIT'. Les données\n",
    "paraissent également dupliquées pour le même objet."
   ]
  },
  {
   "cell_type": "markdown",
   "metadata": {},
   "source": [
    "### Colonne PHARM_CLASSES"
   ]
  },
  {
   "cell_type": "code",
   "metadata": {
    "pycharm": {
     "is_executing": false
    }
   },
   "source": [
    "product_data['PHARM_CLASSES'].nunique()"
   ],
   "outputs": [
    {
     "data": {
      "text/plain": "1285"
     },
     "metadata": {},
     "output_type": "execute_result",
     "execution_count": 63
    }
   ],
   "execution_count": 63
  },
  {
   "cell_type": "code",
   "metadata": {
    "pycharm": {
     "is_executing": false
    }
   },
   "source": [
    "product_data['PHARM_CLASSES'][725]"
   ],
   "outputs": [
    {
     "data": {
      "text/plain": "'non-standardized pollen allergenic extract [epc],increased histamine release [pe],cell-mediated immunity [pe],increased igg production [pe],pollen [cs],allergens [cs]'"
     },
     "metadata": {},
     "output_type": "execute_result",
     "execution_count": 64
    }
   ],
   "execution_count": 64
  },
  {
   "cell_type": "markdown",
   "metadata": {},
   "source": [
    "Ceux sont des données textuelles catégorielles présentant plusieurs catégories pour un même objet. Il y a un grand \n",
    "nombre de valeurs manquantes.\n",
    "\"\"\"\n",
    "# %%\n",
    "\"\"\"\n",
    "### Colonne DEASCHEDULE"
   ]
  },
  {
   "cell_type": "code",
   "metadata": {
    "pycharm": {
     "is_executing": false
    }
   },
   "source": [
    "product_data['DEASCHEDULE'].value_counts()"
   ],
   "outputs": [
    {
     "data": {
      "text/plain": "cii     1802\nciv     1749\nciii     479\ncv       393\nName: DEASCHEDULE, dtype: int64"
     },
     "metadata": {},
     "output_type": "execute_result",
     "execution_count": 65
    }
   ],
   "execution_count": 65
  },
  {
   "cell_type": "markdown",
   "metadata": {},
   "source": [
    "Cette colonne présente un nombre important de données manquantes. Ceux sont des données catégorielles, présentant \n",
    "seulement 4 catégories."
   ]
  },
  {
   "cell_type": "markdown",
   "metadata": {},
   "source": [
    "### Colonne NDC_EXCLUDE_FLAG"
   ]
  },
  {
   "cell_type": "code",
   "metadata": {
    "pycharm": {
     "is_executing": false
    }
   },
   "source": [
    "product_data['NDC_EXCLUDE_FLAG'].value_counts()"
   ],
   "outputs": [
    {
     "data": {
      "text/plain": "n    93238\nName: NDC_EXCLUDE_FLAG, dtype: int64"
     },
     "metadata": {},
     "output_type": "execute_result",
     "execution_count": 66
    }
   ],
   "execution_count": 66
  },
  {
   "cell_type": "markdown",
   "metadata": {},
   "source": [
    "Cette colonne présente seulement une catégorie 'N'."
   ]
  },
  {
   "cell_type": "markdown",
   "metadata": {},
   "source": [
    "# 2. Relations entre attributs\n",
    "## Informations communes\n",
    "Les colonnes 'PRODUCTID' des tables 'package' et 'product' contiennent deux informations concaténées: l'id du produit \n",
    "ainsi que le contenu de leur colonne 'PRODUCTNDC', le code label et le code segment produit.  \n",
    "Dans la documentation NDC, il est précisé que c'est pour prévenir le duplicata de lignes.\n",
    "\n",
    "La colonne 'NDCPACKAGECODE' de la table 'package' contient deux informations concaténées: le code segment du package et \n",
    "le contenu de la colonne 'PRODUCTNDC', le code label et le code segment produit.\n",
    "\n",
    "La colonne 'PACKAGEDESCRIPTION' de la table 'package' contient plusieurs informations concaténées. En plus des \n",
    "informations propres à la description du package, il y a dans la majorité des objets la valeur 'NDCPACKAGECODE' associée\n",
    ".\n",
    "\n",
    "La colonne 'APPLICATIONNUMBER' de la table 'product' présente la majorité du temps le contenu de la colonne \n",
    "'MARKETINGCATEGORYNAME' et spécifie son numéro de série.\n",
    "\n",
    "Dans les deux tables, il existe des colonnes 'STARTMARKETINGDATE',  'ENDMARKETINGDATE' et 'NDCEXLUDEDFLAG'. \n",
    "Elles semblent présenter les mêmes informations.\n",
    "\n",
    "## Corrélation\n",
    "Pour la table 'product':\n",
    "Il semble pouvoir exister une corrélation entre les attributs 'ROUTENAME' et 'DOSAGEFORMNAME' qui présentent des idées \n",
    "d'administration similaires. \n",
    "On peut également considérer l'existance d'une corrélation entre les modes d'administration\n",
    "et les dosages du médicament, donc les attributs 'ROUTENAME', 'DOSAGEFORMNAME' et ceux 'ACTIVE_NUMERATOR_STRENGTH', \n",
    "'ACTIVE_INGRED_UNIT'.\n",
    "L'attribut 'PHARM_CLASS' semble pouvoir être corrélé à l'attribut 'SUBSTANCENAME'."
   ]
  },
  {
   "cell_type": "markdown",
   "metadata": {},
   "source": [
    "# 3. Correction des incohérences\n",
    "On élimine dans un premier temps les duplicata de valeurs dans les attributs 'ACTIVE_NUMERATOR_STRENGTH', \n",
    "'ACTIVE_INGRED_UNIT' de la table 'product'. \n",
    "## Table 'product'"
   ]
  },
  {
   "cell_type": "code",
   "metadata": {
    "pycharm": {
     "is_executing": false
    }
   },
   "source": [
    "\n",
    "# TODO: keep most frequent value\n",
    "# dupl_val_cols = ['ACTIVE_NUMERATOR_STRENGTH', 'ACTIVE_INGRED_UNIT']\n",
    "# for c in dupl_val_cols:\n",
    "#     product_data[c] = product_data[c].replace(to_replace=r'\\;.*', value='', regex=True)\n"
   ],
   "outputs": [],
   "execution_count": 67
  },
  {
   "cell_type": "markdown",
   "metadata": {},
   "source": [
    "Il existerait également une incohérence si l'attribut 'ENDMARKETINGDATE' est moins récent que le 'STARTMARKETINGDATE'.\n",
    "On vérifie s'il en existe dans les tables 'product' et 'package'."
   ]
  },
  {
   "cell_type": "code",
   "metadata": {
    "pycharm": {
     "is_executing": false
    }
   },
   "source": [
    "\n",
    "# conversion to datetime format\n",
    "def date_convert():\n",
    "    date_cols = ['STARTMARKETINGDATE', 'ENDMARKETINGDATE', 'LISTING_RECORD_CERTIFIED_THROUGH']\n",
    "    for c in date_cols:\n",
    "        product_data[c] = pd.to_datetime(product_data[c], errors='coerce', format='%Y%m%d')\n",
    "\n",
    "\n",
    "if not product_encode_file_exist:\n",
    "    time_methode(date_convert)\n",
    "\n",
    "# compare STARTMARKETINGDATE and ENDMARKETINGDATE\n",
    "# replace ENDMARKETINGDATE to NaT when incoherence\n",
    "product_data.loc[\n",
    "    (product_data['STARTMARKETINGDATE'] > product_data['ENDMARKETINGDATE']), 'ENDMARKETINGDATE'] = pd.NaT"
   ],
   "outputs": [],
   "execution_count": 68
  },
  {
   "cell_type": "markdown",
   "metadata": {},
   "source": [
    "## Table 'package'\n",
    "La colonne 'PACKAGEDESCRIPTION' contient beaucoup trop d'informations pour être exploitable. Tout d'abord, on garde \n",
    "seulement l'information du package le plus informatif (le dernier) car spécifie le volume le plus précis.\n",
    "On supprime l'information dupliquée du 'NDCPACKAGECODE'. \n",
    "Enfin, on crée une colonne pour chaque information: 'PACKAGESIZE', 'PACKAGEUNIT' et 'PACKAGETYPE'.\n",
    "On peut retirer la colonne 'PACKAGEDESCRIPTION' de la table."
   ]
  },
  {
   "cell_type": "code",
   "metadata": {
    "pycharm": {
     "is_executing": false
    }
   },
   "source": [
    "\n",
    "if not package_encode_file_exist:\n",
    "    # keep only most informative packaging and remove duplicate info NDCPACKAGECODE\n",
    "    package_data['PACKAGEDESCRIPTION'] = package_data['PACKAGEDESCRIPTION'].replace(to_replace=r'.*(\\>|\\*\\ ) |\\(.*',\n",
    "                                                                                    value='', regex=True)\n",
    "\n",
    "    # split info into multiple columns\n",
    "    search = {0: [], 1: [], 2: []}\n",
    "    for values in package_data['PACKAGEDESCRIPTION']:\n",
    "        s = re.search(r'(^\\.?[0-9\\.]+)\\ (.*)\\ in\\ 1\\ (.*)', values)\n",
    "        for i in range(3):\n",
    "            search[i].append(s.group(i + 1))\n",
    "\n",
    "    for i, n in enumerate(['PACKAGESIZE', 'PACKAGEUNIT', 'PACKAGETYPE']):\n",
    "        package_data[n] = search[i]"
   ],
   "outputs": [],
   "execution_count": 69
  },
  {
   "cell_type": "markdown",
   "metadata": {},
   "source": [
    "Traitement des colonnes 'STARTMARKETINGDATE', 'ENDMARKETINGDATE' similairement à la table 'product'."
   ]
  },
  {
   "cell_type": "code",
   "metadata": {
    "pycharm": {
     "is_executing": false
    }
   },
   "source": [
    "\n",
    "if not package_encode_file_exist:\n",
    "    # conversion to datetime format\n",
    "    date_cols = ['STARTMARKETINGDATE', 'ENDMARKETINGDATE']\n",
    "    for c in date_cols:\n",
    "        package_data[c] = pd.to_datetime(package_data[c], errors='coerce', format='%Y%m%d')\n",
    "\n",
    "    # compare STARTMARKETINGDATE and ENDMARKETINGDATE\n",
    "    # replace ENDMARKETINGDATE to NaT when incoherence\n",
    "    package_data.loc[\n",
    "        (package_data['STARTMARKETINGDATE'] > package_data['ENDMARKETINGDATE']), 'ENDMARKETINGDATE'] = pd.NaT"
   ],
   "outputs": [],
   "execution_count": 70
  },
  {
   "cell_type": "markdown",
   "metadata": {},
   "source": [
    "# 4. Données manquantes\n",
    "## Table 'package'\n",
    "On s'intéresse aux données manquantes dans les colonnes PRODUCTID, PRODUCTNDC, NDCPACKAGECODE."
   ]
  },
  {
   "cell_type": "code",
   "metadata": {
    "pycharm": {
     "is_executing": false
    }
   },
   "source": [
    "if not package_encode_file_exist:\n",
    "    package_missing_ndcpackagecode = package_data.iloc[np.where(pd.isnull(package_data['NDCPACKAGECODE']))]\n",
    "    values = package_missing_ndcpackagecode['PACKAGEDESCRIPTION'].str.extract(r'\\((.*?)\\).*')\n",
    "    for index, row in values.iterrows():\n",
    "        package_data.loc[index, 'NDCPACKAGECODE'] = row[0]"
   ],
   "outputs": [],
   "execution_count": 71
  },
  {
   "cell_type": "code",
   "metadata": {
    "pycharm": {
     "is_executing": false
    }
   },
   "source": [
    "if not package_encode_file_exist:\n",
    "    package_missing_productndc = package_data.iloc[np.where(pd.isnull(package_data['PRODUCTNDC']))]\n",
    "    values = package_missing_productndc['NDCPACKAGECODE'].str.extract(r'^([\\w]+-[\\w]+)')\n",
    "    for index, row in values.iterrows():\n",
    "        package_data.loc[index, 'PRODUCTNDC'] = row[0]"
   ],
   "outputs": [],
   "execution_count": 72
  },
  {
   "cell_type": "code",
   "metadata": {
    "pycharm": {
     "is_executing": false
    }
   },
   "source": [
    "\n",
    "if not package_encode_file_exist:\n",
    "    # TODO : find a way to retrieve PRODUCTID from 'product' table\n",
    "    package_missing_ndcproductid = package_data.iloc[np.where(pd.isnull(package_data['PRODUCTID']))]"
   ],
   "outputs": [],
   "execution_count": 73
  },
  {
   "cell_type": "markdown",
   "metadata": {},
   "source": [
    "Il existe des valeurs manquantes pour les colonnes 'STARTMARKETINGDATE' et 'ENDMARKETINGDATE' dans la table 'package'\n",
    "mais on choisit de ne pas les compléter car on ne peut effectuer d'estimation précise. "
   ]
  },
  {
   "cell_type": "markdown",
   "metadata": {},
   "source": [
    "## Table 'product'"
   ]
  },
  {
   "cell_type": "markdown",
   "metadata": {},
   "source": [
    "# 5. Duplications données"
   ]
  },
  {
   "cell_type": "code",
   "metadata": {
    "pycharm": {
     "is_executing": false
    }
   },
   "source": [
    "\n",
    "# TODO: drop column PACKAGEDESCRIPTION"
   ],
   "outputs": [],
   "execution_count": 74
  },
  {
   "cell_type": "markdown",
   "metadata": {},
   "source": [
    "# Transformation en données numériques (après question 8)\n",
    "## Table 'package'"
   ]
  },
  {
   "cell_type": "markdown",
   "metadata": {},
   "source": [
    "## Table 'product'"
   ]
  },
  {
   "cell_type": "code",
   "metadata": {
    "pycharm": {
     "is_executing": false
    }
   },
   "source": [
    "\n",
    "# %%\n",
    "# TODO: hash PROPRIETARYNAME NONPROPRIETARYNAME LABELERNAME PROPRIETARYNAMESUFFIX\n",
    "# TODO: separate and hash SUBSTANCENAME PHARM_CLASSES\n",
    "# TODO : split ACTIVE_INGRED_UNIT by '/' (nan others), then one hot each col\n",
    "\n",
    "# TODO: ideas?? APPLICATIONNUMBER\n",
    "# %%\n",
    "# TODO : analysis ratio per category"
   ],
   "outputs": [],
   "execution_count": 75
  },
  {
   "cell_type": "markdown",
   "metadata": {},
   "source": [
    "## Encodage onehot"
   ]
  },
  {
   "cell_type": "code",
   "metadata": {
    "pycharm": {
     "is_executing": false
    }
   },
   "source": [
    "\n",
    "# Call and time onehot encoding for a column\n",
    "if not product_encode_file_exist:\n",
    "    for header in product_headers_to_encode:\n",
    "        kwargs = dict(table=product_data, header=header)\n",
    "        tmp_dic[header] = time_methode(onehot_encode, header, **kwargs)\n",
    "        pickle.dump(tmp_dic[header], open('{}_data_encoder.pkl'.format(header), 'wb'), pickle.HIGHEST_PROTOCOL)\n",
    "\n",
    "if not package_encode_file_exist:\n",
    "    for header in package_headers_to_encode:\n",
    "        kwargs = dict(table=package_data, header=header)\n",
    "        tmp_dic[header] = time_methode(onehot_encode, header, **kwargs)\n",
    "        pickle.dump(tmp_dic[header], open('{}_data_encoder.pkl'.format(header), 'wb'), pickle.HIGHEST_PROTOCOL)\n",
    "\n",
    "for header, enc in tmp_dic.items():\n",
    "    file = open('Encoding_{}.txt'.format(header), 'w')\n",
    "    for category in enc.categories_[0]:\n",
    "        tmp_str = str(enc.transform([[category]]).toarray())\n",
    "        tmp_str = category + ' ' * (40 - len(category)) + tmp_str.replace('\\n', '\\n' + ' ' * 40) + '\\n'\n",
    "        file.write(tmp_str)\n",
    "    file.close()\n",
    "\n",
    "# Save transformed data to file\n",
    "if not product_encode_file_exist:\n",
    "    kwargs = dict(path_or_buf= encoded_product_file, index= False, sep= separ, encoding= target_encoding,\n",
    "              quoting= csv.QUOTE_NONNUMERIC)\n",
    "    time_methode(product_data.to_csv, **kwargs)\n",
    "\n",
    "if not product_encode_file_exist:\n",
    "    kwargs = dict(path_or_buf=encoded_package_file, index=False, sep=separ, encoding=target_encoding,\n",
    "                  quoting=csv.QUOTE_NONNUMERIC)\n",
    "    time_methode(package_data.to_csv, **kwargs)"
   ],
   "outputs": [],
   "execution_count": 76
  },
  {
   "cell_type": "markdown",
   "metadata": {},
   "source": [
    "## Résultats"
   ]
  },
  {
   "cell_type": "code",
   "metadata": {
    "pycharm": {
     "is_executing": false
    }
   },
   "source": [
    "print('Encoded product data:')\n",
    "product_data"
   ],
   "outputs": [
    {
     "name": "stdout",
     "text": [
      "Encoded product data:\n"
     ],
     "output_type": "stream"
    },
    {
     "data": {
      "text/plain": "                                             PRODUCTID  PRODUCTNDC  \\\n0       0699-0155_60f08fe4-aacf-c815-e053-2991aa0a3ded   0699-0155   \n1       0699-0311_59039cf6-9008-7367-e053-2a91aa0a2fe9   0699-0311   \n2       0699-0312_59039cf6-9008-7367-e053-2a91aa0a2fe9   0699-0312   \n3       0699-0317_59039cf6-9008-7367-e053-2a91aa0a2fe9   0699-0317   \n4       0699-0404_5bc1c974-e7b8-094c-e053-2991aa0ab726   0699-0404   \n...                                                ...         ...   \n93233  70710-1302_149be946-a75a-4ebb-94ff-e2cc8e5b0bfc  70710-1302   \n93234  70771-1513_fea66d66-0735-4917-ba39-d9e02a894717  70771-1513   \n93235  73598-0651_b19ce6d2-6875-4bd6-b8b9-b844db5503e9  73598-0651   \n93236  73598-0661_9b83d918-bc9d-4ef6-815b-71ba9340f86a  73598-0661   \n93237  73598-0671_185313e3-7aab-40b2-993e-c5b4533c5d49  73598-0671   \n\n         PRODUCTTYPENAME               PROPRIETARYNAME PROPRIETARYNAMESUFFIX  \\\n0      [[0 0 1 0 0 0 0]]   topex neutral fluoride foam                   NaN   \n1      [[0 0 1 0 0 0 0]]  topex 60 second fluoride gel                   NaN   \n2      [[0 0 1 0 0 0 0]]  topex 60 second fluoride gel                   NaN   \n3      [[0 0 1 0 0 0 0]]  topex 60 second fluoride gel                   NaN   \n4      [[0 0 1 0 0 0 0]]                    dry socket                   NaN   \n...                  ...                           ...                   ...   \n93233  [[0 0 1 0 0 0 0]]                    mesalamine                   NaN   \n93234  [[0 0 1 0 0 0 0]]                    mesalamine                   NaN   \n93235  [[0 1 0 0 0 0 0]]             isopropyl alcohol                   NaN   \n93236  [[0 1 0 0 0 0 0]]             hydrogen peroxide                   NaN   \n93237  [[0 1 0 0 0 0 0]]                          burn                   NaN   \n\n            NONPROPRIETARYNAME  \\\n0              sodium fluoride   \n1              sodium fluoride   \n2              sodium fluoride   \n3              sodium fluoride   \n4         guaiacol and eugenol   \n...                        ...   \n93233               mesalamine   \n93234               mesalamine   \n93235        isopropyl alcohol   \n93236        hydrogen peroxide   \n93237  lidocaine hydrochloride   \n\n                                          DOSAGEFORMNAME  \\\n0      [[1 0 0 0 0 0 0 0 0 0 0 0 0 0 0 0 0 0 0 0 0 0 ...   \n1      [[0 0 0 0 0 0 0 0 0 0 0 0 0 0 0 0 0 0 0 0 0 0 ...   \n2      [[0 0 0 0 0 0 0 0 0 0 0 0 0 0 0 0 0 0 0 0 0 0 ...   \n3      [[0 0 0 0 0 0 0 0 0 0 0 0 0 0 0 0 0 0 0 0 0 0 ...   \n4      [[0 0 0 0 0 0 0 0 0 0 0 0 0 0 0 0 0 0 0 0 0 0 ...   \n...                                                  ...   \n93233  [[0 0 0 0 0 0 0 0 0 0 0 0 0 0 0 0 0 0 0 0 0 0 ...   \n93234  [[0 0 0 0 0 0 0 0 0 0 0 0 0 0 0 0 0 0 0 0 0 0 ...   \n93235  [[0 0 0 0 0 0 0 0 0 0 0 0 0 0 0 0 0 0 0 0 0 0 ...   \n93236  [[0 0 0 0 0 0 0 0 0 0 0 0 0 0 0 0 0 0 0 0 0 0 ...   \n93237  [[0 0 0 0 0 0 0 0 0 0 0 0 0 0 0 0 0 0 0 0 0 0 ...   \n\n                                               ROUTENAME STARTMARKETINGDATE  \\\n0      [[0 0 0 1 0 0 0 0 0 0 0 0 0 0 0 0 0 0 0 0 0 0 ...         1900-01-01   \n1      [[0 0 0 1 0 0 0 0 0 0 0 0 0 0 0 0 0 0 0 0 0 0 ...         1900-01-01   \n2      [[0 0 0 1 0 0 0 0 0 0 0 0 0 0 0 0 0 0 0 0 0 0 ...         1900-01-01   \n3      [[0 0 0 1 0 0 0 0 0 0 0 0 0 0 0 0 0 0 0 0 0 0 ...         1900-01-01   \n4      [[0 0 0 1 0 0 0 0 0 0 0 0 0 0 0 0 0 0 0 0 0 0 ...         1900-01-01   \n...                                                  ...                ...   \n93233                                                NaN         2020-02-14   \n93234                                                NaN         2020-02-14   \n93235                                                NaN         2020-02-14   \n93236                                                NaN         2020-02-14   \n93237                                                NaN         2020-02-14   \n\n      ENDMARKETINGDATE    MARKETINGCATEGORYNAME APPLICATIONNUMBER  \\\n0                  NaN  [[0 0 0 0 0 0 0 1 0 0]]               NaN   \n1                  NaN  [[0 0 0 0 0 0 0 1 0 0]]               NaN   \n2                  NaN  [[0 0 0 0 0 0 0 1 0 0]]               NaN   \n3                  NaN  [[0 0 0 0 0 0 0 1 0 0]]               NaN   \n4                  NaN  [[0 0 0 0 0 0 0 1 0 0]]               NaN   \n...                ...                      ...               ...   \n93233              NaN  [[1 0 0 0 0 0 0 0 0 0]]        anda208953   \n93234              NaN  [[1 0 0 0 0 0 0 0 0 0]]        anda208953   \n93235              NaN  [[0 0 0 0 0 1 0 0 0 0]]          part333a   \n93236              NaN  [[0 0 0 0 0 1 0 0 0 0]]          part333a   \n93237              NaN  [[0 0 0 0 0 1 0 0 0 0]]           part348   \n\n                                             LABELERNAME  \\\n0      dentsply llc. professional division trading as...   \n1      dentsply llc. professional division trading as...   \n2      dentsply llc. professional division trading as...   \n3      dentsply llc. professional division trading as...   \n4      dentsply llc, professional division, trading a...   \n...                                                  ...   \n93233                   zydus pharmaceuticals (usa) inc.   \n93234                          cadila healthcare limited   \n93235                                            jhk inc   \n93236                                            jhk inc   \n93237                                            jhk inc   \n\n                 SUBSTANCENAME ACTIVE_NUMERATOR_STRENGTH ACTIVE_INGRED_UNIT  \\\n0              sodium fluoride                       .02                g/g   \n1              sodium fluoride                      25.9               mg/g   \n2              sodium fluoride                      25.9               mg/g   \n3              sodium fluoride                      25.9               mg/g   \n4            guaiacol; eugenol              .0416; .0416           g/g; g/g   \n...                        ...                       ...                ...   \n93233               mesalamine                      1000               mg/1   \n93234               mesalamine                      1000               mg/1   \n93235        isopropyl alcohol                       700               ml/l   \n93236        hydrogen peroxide                        30              mg/ml   \n93237  lidocaine hydrochloride                        20              mg/ml   \n\n                                           PHARM_CLASSES DEASCHEDULE  \\\n0                                                    NaN         NaN   \n1                                                    NaN         NaN   \n2                                                    NaN         NaN   \n3                                                    NaN         NaN   \n4      standardized chemical allergen [epc],increased...         NaN   \n...                                                  ...         ...   \n93233    aminosalicylate [epc],aminosalicylic acids [cs]         NaN   \n93234    aminosalicylate [epc],aminosalicylic acids [cs]         NaN   \n93235                                                NaN         NaN   \n93236                                                NaN         NaN   \n93237                                                NaN         NaN   \n\n      NDC_EXCLUDE_FLAG LISTING_RECORD_CERTIFIED_THROUGH  \n0                    n                       2020-12-31  \n1                    n                       2020-12-31  \n2                    n                       2020-12-31  \n3                    n                       2020-12-31  \n4                    n                       2020-12-31  \n...                ...                              ...  \n93233                n                       2021-12-31  \n93234                n                       2021-12-31  \n93235                n                       2021-12-31  \n93236                n                       2021-12-31  \n93237                n                       2021-12-31  \n\n[93238 rows x 20 columns]",
      "text/html": "<div>\n<style scoped>\n    .dataframe tbody tr th:only-of-type {\n        vertical-align: middle;\n    }\n\n    .dataframe tbody tr th {\n        vertical-align: top;\n    }\n\n    .dataframe thead th {\n        text-align: right;\n    }\n</style>\n<table border=\"1\" class=\"dataframe\">\n  <thead>\n    <tr style=\"text-align: right;\">\n      <th></th>\n      <th>PRODUCTID</th>\n      <th>PRODUCTNDC</th>\n      <th>PRODUCTTYPENAME</th>\n      <th>PROPRIETARYNAME</th>\n      <th>PROPRIETARYNAMESUFFIX</th>\n      <th>NONPROPRIETARYNAME</th>\n      <th>DOSAGEFORMNAME</th>\n      <th>ROUTENAME</th>\n      <th>STARTMARKETINGDATE</th>\n      <th>ENDMARKETINGDATE</th>\n      <th>MARKETINGCATEGORYNAME</th>\n      <th>APPLICATIONNUMBER</th>\n      <th>LABELERNAME</th>\n      <th>SUBSTANCENAME</th>\n      <th>ACTIVE_NUMERATOR_STRENGTH</th>\n      <th>ACTIVE_INGRED_UNIT</th>\n      <th>PHARM_CLASSES</th>\n      <th>DEASCHEDULE</th>\n      <th>NDC_EXCLUDE_FLAG</th>\n      <th>LISTING_RECORD_CERTIFIED_THROUGH</th>\n    </tr>\n  </thead>\n  <tbody>\n    <tr>\n      <th>0</th>\n      <td>0699-0155_60f08fe4-aacf-c815-e053-2991aa0a3ded</td>\n      <td>0699-0155</td>\n      <td>[[0 0 1 0 0 0 0]]</td>\n      <td>topex neutral fluoride foam</td>\n      <td>NaN</td>\n      <td>sodium fluoride</td>\n      <td>[[1 0 0 0 0 0 0 0 0 0 0 0 0 0 0 0 0 0 0 0 0 0 ...</td>\n      <td>[[0 0 0 1 0 0 0 0 0 0 0 0 0 0 0 0 0 0 0 0 0 0 ...</td>\n      <td>1900-01-01</td>\n      <td>NaN</td>\n      <td>[[0 0 0 0 0 0 0 1 0 0]]</td>\n      <td>NaN</td>\n      <td>dentsply llc. professional division trading as...</td>\n      <td>sodium fluoride</td>\n      <td>.02</td>\n      <td>g/g</td>\n      <td>NaN</td>\n      <td>NaN</td>\n      <td>n</td>\n      <td>2020-12-31</td>\n    </tr>\n    <tr>\n      <th>1</th>\n      <td>0699-0311_59039cf6-9008-7367-e053-2a91aa0a2fe9</td>\n      <td>0699-0311</td>\n      <td>[[0 0 1 0 0 0 0]]</td>\n      <td>topex 60 second fluoride gel</td>\n      <td>NaN</td>\n      <td>sodium fluoride</td>\n      <td>[[0 0 0 0 0 0 0 0 0 0 0 0 0 0 0 0 0 0 0 0 0 0 ...</td>\n      <td>[[0 0 0 1 0 0 0 0 0 0 0 0 0 0 0 0 0 0 0 0 0 0 ...</td>\n      <td>1900-01-01</td>\n      <td>NaN</td>\n      <td>[[0 0 0 0 0 0 0 1 0 0]]</td>\n      <td>NaN</td>\n      <td>dentsply llc. professional division trading as...</td>\n      <td>sodium fluoride</td>\n      <td>25.9</td>\n      <td>mg/g</td>\n      <td>NaN</td>\n      <td>NaN</td>\n      <td>n</td>\n      <td>2020-12-31</td>\n    </tr>\n    <tr>\n      <th>2</th>\n      <td>0699-0312_59039cf6-9008-7367-e053-2a91aa0a2fe9</td>\n      <td>0699-0312</td>\n      <td>[[0 0 1 0 0 0 0]]</td>\n      <td>topex 60 second fluoride gel</td>\n      <td>NaN</td>\n      <td>sodium fluoride</td>\n      <td>[[0 0 0 0 0 0 0 0 0 0 0 0 0 0 0 0 0 0 0 0 0 0 ...</td>\n      <td>[[0 0 0 1 0 0 0 0 0 0 0 0 0 0 0 0 0 0 0 0 0 0 ...</td>\n      <td>1900-01-01</td>\n      <td>NaN</td>\n      <td>[[0 0 0 0 0 0 0 1 0 0]]</td>\n      <td>NaN</td>\n      <td>dentsply llc. professional division trading as...</td>\n      <td>sodium fluoride</td>\n      <td>25.9</td>\n      <td>mg/g</td>\n      <td>NaN</td>\n      <td>NaN</td>\n      <td>n</td>\n      <td>2020-12-31</td>\n    </tr>\n    <tr>\n      <th>3</th>\n      <td>0699-0317_59039cf6-9008-7367-e053-2a91aa0a2fe9</td>\n      <td>0699-0317</td>\n      <td>[[0 0 1 0 0 0 0]]</td>\n      <td>topex 60 second fluoride gel</td>\n      <td>NaN</td>\n      <td>sodium fluoride</td>\n      <td>[[0 0 0 0 0 0 0 0 0 0 0 0 0 0 0 0 0 0 0 0 0 0 ...</td>\n      <td>[[0 0 0 1 0 0 0 0 0 0 0 0 0 0 0 0 0 0 0 0 0 0 ...</td>\n      <td>1900-01-01</td>\n      <td>NaN</td>\n      <td>[[0 0 0 0 0 0 0 1 0 0]]</td>\n      <td>NaN</td>\n      <td>dentsply llc. professional division trading as...</td>\n      <td>sodium fluoride</td>\n      <td>25.9</td>\n      <td>mg/g</td>\n      <td>NaN</td>\n      <td>NaN</td>\n      <td>n</td>\n      <td>2020-12-31</td>\n    </tr>\n    <tr>\n      <th>4</th>\n      <td>0699-0404_5bc1c974-e7b8-094c-e053-2991aa0ab726</td>\n      <td>0699-0404</td>\n      <td>[[0 0 1 0 0 0 0]]</td>\n      <td>dry socket</td>\n      <td>NaN</td>\n      <td>guaiacol and eugenol</td>\n      <td>[[0 0 0 0 0 0 0 0 0 0 0 0 0 0 0 0 0 0 0 0 0 0 ...</td>\n      <td>[[0 0 0 1 0 0 0 0 0 0 0 0 0 0 0 0 0 0 0 0 0 0 ...</td>\n      <td>1900-01-01</td>\n      <td>NaN</td>\n      <td>[[0 0 0 0 0 0 0 1 0 0]]</td>\n      <td>NaN</td>\n      <td>dentsply llc, professional division, trading a...</td>\n      <td>guaiacol; eugenol</td>\n      <td>.0416; .0416</td>\n      <td>g/g; g/g</td>\n      <td>standardized chemical allergen [epc],increased...</td>\n      <td>NaN</td>\n      <td>n</td>\n      <td>2020-12-31</td>\n    </tr>\n    <tr>\n      <th>...</th>\n      <td>...</td>\n      <td>...</td>\n      <td>...</td>\n      <td>...</td>\n      <td>...</td>\n      <td>...</td>\n      <td>...</td>\n      <td>...</td>\n      <td>...</td>\n      <td>...</td>\n      <td>...</td>\n      <td>...</td>\n      <td>...</td>\n      <td>...</td>\n      <td>...</td>\n      <td>...</td>\n      <td>...</td>\n      <td>...</td>\n      <td>...</td>\n      <td>...</td>\n    </tr>\n    <tr>\n      <th>93233</th>\n      <td>70710-1302_149be946-a75a-4ebb-94ff-e2cc8e5b0bfc</td>\n      <td>70710-1302</td>\n      <td>[[0 0 1 0 0 0 0]]</td>\n      <td>mesalamine</td>\n      <td>NaN</td>\n      <td>mesalamine</td>\n      <td>[[0 0 0 0 0 0 0 0 0 0 0 0 0 0 0 0 0 0 0 0 0 0 ...</td>\n      <td>NaN</td>\n      <td>2020-02-14</td>\n      <td>NaN</td>\n      <td>[[1 0 0 0 0 0 0 0 0 0]]</td>\n      <td>anda208953</td>\n      <td>zydus pharmaceuticals (usa) inc.</td>\n      <td>mesalamine</td>\n      <td>1000</td>\n      <td>mg/1</td>\n      <td>aminosalicylate [epc],aminosalicylic acids [cs]</td>\n      <td>NaN</td>\n      <td>n</td>\n      <td>2021-12-31</td>\n    </tr>\n    <tr>\n      <th>93234</th>\n      <td>70771-1513_fea66d66-0735-4917-ba39-d9e02a894717</td>\n      <td>70771-1513</td>\n      <td>[[0 0 1 0 0 0 0]]</td>\n      <td>mesalamine</td>\n      <td>NaN</td>\n      <td>mesalamine</td>\n      <td>[[0 0 0 0 0 0 0 0 0 0 0 0 0 0 0 0 0 0 0 0 0 0 ...</td>\n      <td>NaN</td>\n      <td>2020-02-14</td>\n      <td>NaN</td>\n      <td>[[1 0 0 0 0 0 0 0 0 0]]</td>\n      <td>anda208953</td>\n      <td>cadila healthcare limited</td>\n      <td>mesalamine</td>\n      <td>1000</td>\n      <td>mg/1</td>\n      <td>aminosalicylate [epc],aminosalicylic acids [cs]</td>\n      <td>NaN</td>\n      <td>n</td>\n      <td>2021-12-31</td>\n    </tr>\n    <tr>\n      <th>93235</th>\n      <td>73598-0651_b19ce6d2-6875-4bd6-b8b9-b844db5503e9</td>\n      <td>73598-0651</td>\n      <td>[[0 1 0 0 0 0 0]]</td>\n      <td>isopropyl alcohol</td>\n      <td>NaN</td>\n      <td>isopropyl alcohol</td>\n      <td>[[0 0 0 0 0 0 0 0 0 0 0 0 0 0 0 0 0 0 0 0 0 0 ...</td>\n      <td>NaN</td>\n      <td>2020-02-14</td>\n      <td>NaN</td>\n      <td>[[0 0 0 0 0 1 0 0 0 0]]</td>\n      <td>part333a</td>\n      <td>jhk inc</td>\n      <td>isopropyl alcohol</td>\n      <td>700</td>\n      <td>ml/l</td>\n      <td>NaN</td>\n      <td>NaN</td>\n      <td>n</td>\n      <td>2021-12-31</td>\n    </tr>\n    <tr>\n      <th>93236</th>\n      <td>73598-0661_9b83d918-bc9d-4ef6-815b-71ba9340f86a</td>\n      <td>73598-0661</td>\n      <td>[[0 1 0 0 0 0 0]]</td>\n      <td>hydrogen peroxide</td>\n      <td>NaN</td>\n      <td>hydrogen peroxide</td>\n      <td>[[0 0 0 0 0 0 0 0 0 0 0 0 0 0 0 0 0 0 0 0 0 0 ...</td>\n      <td>NaN</td>\n      <td>2020-02-14</td>\n      <td>NaN</td>\n      <td>[[0 0 0 0 0 1 0 0 0 0]]</td>\n      <td>part333a</td>\n      <td>jhk inc</td>\n      <td>hydrogen peroxide</td>\n      <td>30</td>\n      <td>mg/ml</td>\n      <td>NaN</td>\n      <td>NaN</td>\n      <td>n</td>\n      <td>2021-12-31</td>\n    </tr>\n    <tr>\n      <th>93237</th>\n      <td>73598-0671_185313e3-7aab-40b2-993e-c5b4533c5d49</td>\n      <td>73598-0671</td>\n      <td>[[0 1 0 0 0 0 0]]</td>\n      <td>burn</td>\n      <td>NaN</td>\n      <td>lidocaine hydrochloride</td>\n      <td>[[0 0 0 0 0 0 0 0 0 0 0 0 0 0 0 0 0 0 0 0 0 0 ...</td>\n      <td>NaN</td>\n      <td>2020-02-14</td>\n      <td>NaN</td>\n      <td>[[0 0 0 0 0 1 0 0 0 0]]</td>\n      <td>part348</td>\n      <td>jhk inc</td>\n      <td>lidocaine hydrochloride</td>\n      <td>20</td>\n      <td>mg/ml</td>\n      <td>NaN</td>\n      <td>NaN</td>\n      <td>n</td>\n      <td>2021-12-31</td>\n    </tr>\n  </tbody>\n</table>\n<p>93238 rows × 20 columns</p>\n</div>"
     },
     "metadata": {},
     "output_type": "execute_result",
     "execution_count": 77
    }
   ],
   "execution_count": 77
  },
  {
   "cell_type": "code",
   "metadata": {
    "pycharm": {
     "is_executing": false
    }
   },
   "source": [
    "print('Encoded packaging data:')\n",
    "package_data"
   ],
   "outputs": [
    {
     "name": "stdout",
     "text": [
      "Encoded packaging data:\n"
     ],
     "output_type": "stream"
    },
    {
     "data": {
      "text/plain": "                                              PRODUCTID  PRODUCTNDC  \\\n0        0699-0155_60f08fe4-aacf-c815-e053-2991aa0a3ded   0699-0155   \n1        0699-0311_59039cf6-9008-7367-e053-2a91aa0a2fe9   0699-0311   \n2        0699-0312_59039cf6-9008-7367-e053-2a91aa0a2fe9   0699-0312   \n3        0699-0317_59039cf6-9008-7367-e053-2a91aa0a2fe9   0699-0317   \n4        0699-0404_5bc1c974-e7b8-094c-e053-2991aa0ab726   0699-0404   \n...                                                 ...         ...   \n173882  70710-1302_149be946-a75a-4ebb-94ff-e2cc8e5b0bfc  70710-1302   \n173883  70771-1513_fea66d66-0735-4917-ba39-d9e02a894717  70771-1513   \n173884  73598-0651_b19ce6d2-6875-4bd6-b8b9-b844db5503e9  73598-0651   \n173885  73598-0661_9b83d918-bc9d-4ef6-815b-71ba9340f86a  37598-0661   \n173886  73598-0671_185313e3-7aab-40b2-993e-c5b4533c5d49  37598-0671   \n\n       NDCPACKAGECODE                PACKAGEDESCRIPTION STARTMARKETINGDATE  \\\n0        0699-0155-44               125 g in 1 canister         1900-01-01   \n1        0699-0311-16       498 g in 1 bottle, plastic          1900-01-01   \n2        0699-0312-16       498 g in 1 bottle, plastic          1900-01-01   \n3        0699-0317-16       498 g in 1 bottle, plastic          1900-01-01   \n4        0699-0404-01                    28 g in 1 jar          1900-01-01   \n...               ...                               ...                ...   \n173882   70710-1302-7  6 suppository in 1 blister pack          2020-02-14   \n173883   70771-1513-7  6 suppository in 1 blister pack          2020-02-14   \n173884   73598-0651-1       .0591 l in 1 bottle, spray          2020-02-14   \n173885   73598-0661-1       59.1 ml in 1 bottle, spray          2020-02-14   \n173886   37598-0671-1       59.1 ml in 1 bottle, spray          2020-02-14   \n\n       ENDMARKETINGDATE NDC_EXCLUDE_FLAG SAMPLE_PACKAGE  PACKAGESIZE  \\\n0                   NaN                n              n     125.0000   \n1                   NaN                n              n     498.0000   \n2                   NaN                n              n     498.0000   \n3                   NaN                n              n     498.0000   \n4                   NaN                n              n      28.0000   \n...                 ...              ...            ...          ...   \n173882              NaN                n              n       6.0000   \n173883              NaN                n              n       6.0000   \n173884              NaN                n              n       0.0591   \n173885              NaN                n              n      59.1000   \n173886              NaN                n              n      59.1000   \n\n                                              PACKAGEUNIT  \\\n0       [[0 0 0 0 0 0 0 0 0 0 0 0 0 0 0 0 0 0 0 0 0 0 ...   \n1       [[0 0 0 0 0 0 0 0 0 0 0 0 0 0 0 0 0 0 0 0 0 0 ...   \n2       [[0 0 0 0 0 0 0 0 0 0 0 0 0 0 0 0 0 0 0 0 0 0 ...   \n3       [[0 0 0 0 0 0 0 0 0 0 0 0 0 0 0 0 0 0 0 0 0 0 ...   \n4       [[0 0 0 0 0 0 0 0 0 0 0 0 0 0 0 0 0 0 0 0 0 0 ...   \n...                                                   ...   \n173882  [[0 0 0 0 0 0 0 0 0 0 0 0 0 0 0 0 0 0 0 0 0 0 ...   \n173883  [[0 0 0 0 0 0 0 0 0 0 0 0 0 0 0 0 0 0 0 0 0 0 ...   \n173884  [[0 0 0 0 0 0 0 0 0 0 0 0 0 0 0 0 0 0 0 0 0 0 ...   \n173885  [[0 0 0 0 0 0 0 0 0 0 0 0 0 0 0 0 0 0 0 0 0 0 ...   \n173886  [[0 0 0 0 0 0 0 0 0 0 0 0 0 0 0 0 0 0 0 0 0 0 ...   \n\n                                              PACKAGETYPE  \n0       [[0 0 0 0 0 0 0 1 0 0 0 0 0 0 0 0 0 0 0 0 0 0 ...  \n1       [[0 0 0 0 1 0 0 0 0 0 0 0 0 0 0 0 0 0 0 0 0 0 ...  \n2       [[0 0 0 0 1 0 0 0 0 0 0 0 0 0 0 0 0 0 0 0 0 0 ...  \n3       [[0 0 0 0 1 0 0 0 0 0 0 0 0 0 0 0 0 0 0 0 0 0 ...  \n4       [[0 0 0 0 0 0 0 0 0 0 0 0 0 0 0 0 0 0 0 0 0 0 ...  \n...                                                   ...  \n173882  [[0 0 0 0 0 0 0 0 0 0 0 0 0 0 0 0 0 0 0 0 0 0 ...  \n173883  [[0 0 0 0 0 0 0 0 0 0 0 0 0 0 0 0 0 0 0 0 0 0 ...  \n173884  [[0 0 0 0 1 0 0 0 0 0 0 0 0 0 0 0 0 0 0 0 0 0 ...  \n173885  [[0 0 0 0 1 0 0 0 0 0 0 0 0 0 0 0 0 0 0 0 0 0 ...  \n173886  [[0 0 0 0 1 0 0 0 0 0 0 0 0 0 0 0 0 0 0 0 0 0 ...  \n\n[173887 rows x 11 columns]",
      "text/html": "<div>\n<style scoped>\n    .dataframe tbody tr th:only-of-type {\n        vertical-align: middle;\n    }\n\n    .dataframe tbody tr th {\n        vertical-align: top;\n    }\n\n    .dataframe thead th {\n        text-align: right;\n    }\n</style>\n<table border=\"1\" class=\"dataframe\">\n  <thead>\n    <tr style=\"text-align: right;\">\n      <th></th>\n      <th>PRODUCTID</th>\n      <th>PRODUCTNDC</th>\n      <th>NDCPACKAGECODE</th>\n      <th>PACKAGEDESCRIPTION</th>\n      <th>STARTMARKETINGDATE</th>\n      <th>ENDMARKETINGDATE</th>\n      <th>NDC_EXCLUDE_FLAG</th>\n      <th>SAMPLE_PACKAGE</th>\n      <th>PACKAGESIZE</th>\n      <th>PACKAGEUNIT</th>\n      <th>PACKAGETYPE</th>\n    </tr>\n  </thead>\n  <tbody>\n    <tr>\n      <th>0</th>\n      <td>0699-0155_60f08fe4-aacf-c815-e053-2991aa0a3ded</td>\n      <td>0699-0155</td>\n      <td>0699-0155-44</td>\n      <td>125 g in 1 canister</td>\n      <td>1900-01-01</td>\n      <td>NaN</td>\n      <td>n</td>\n      <td>n</td>\n      <td>125.0000</td>\n      <td>[[0 0 0 0 0 0 0 0 0 0 0 0 0 0 0 0 0 0 0 0 0 0 ...</td>\n      <td>[[0 0 0 0 0 0 0 1 0 0 0 0 0 0 0 0 0 0 0 0 0 0 ...</td>\n    </tr>\n    <tr>\n      <th>1</th>\n      <td>0699-0311_59039cf6-9008-7367-e053-2a91aa0a2fe9</td>\n      <td>0699-0311</td>\n      <td>0699-0311-16</td>\n      <td>498 g in 1 bottle, plastic</td>\n      <td>1900-01-01</td>\n      <td>NaN</td>\n      <td>n</td>\n      <td>n</td>\n      <td>498.0000</td>\n      <td>[[0 0 0 0 0 0 0 0 0 0 0 0 0 0 0 0 0 0 0 0 0 0 ...</td>\n      <td>[[0 0 0 0 1 0 0 0 0 0 0 0 0 0 0 0 0 0 0 0 0 0 ...</td>\n    </tr>\n    <tr>\n      <th>2</th>\n      <td>0699-0312_59039cf6-9008-7367-e053-2a91aa0a2fe9</td>\n      <td>0699-0312</td>\n      <td>0699-0312-16</td>\n      <td>498 g in 1 bottle, plastic</td>\n      <td>1900-01-01</td>\n      <td>NaN</td>\n      <td>n</td>\n      <td>n</td>\n      <td>498.0000</td>\n      <td>[[0 0 0 0 0 0 0 0 0 0 0 0 0 0 0 0 0 0 0 0 0 0 ...</td>\n      <td>[[0 0 0 0 1 0 0 0 0 0 0 0 0 0 0 0 0 0 0 0 0 0 ...</td>\n    </tr>\n    <tr>\n      <th>3</th>\n      <td>0699-0317_59039cf6-9008-7367-e053-2a91aa0a2fe9</td>\n      <td>0699-0317</td>\n      <td>0699-0317-16</td>\n      <td>498 g in 1 bottle, plastic</td>\n      <td>1900-01-01</td>\n      <td>NaN</td>\n      <td>n</td>\n      <td>n</td>\n      <td>498.0000</td>\n      <td>[[0 0 0 0 0 0 0 0 0 0 0 0 0 0 0 0 0 0 0 0 0 0 ...</td>\n      <td>[[0 0 0 0 1 0 0 0 0 0 0 0 0 0 0 0 0 0 0 0 0 0 ...</td>\n    </tr>\n    <tr>\n      <th>4</th>\n      <td>0699-0404_5bc1c974-e7b8-094c-e053-2991aa0ab726</td>\n      <td>0699-0404</td>\n      <td>0699-0404-01</td>\n      <td>28 g in 1 jar</td>\n      <td>1900-01-01</td>\n      <td>NaN</td>\n      <td>n</td>\n      <td>n</td>\n      <td>28.0000</td>\n      <td>[[0 0 0 0 0 0 0 0 0 0 0 0 0 0 0 0 0 0 0 0 0 0 ...</td>\n      <td>[[0 0 0 0 0 0 0 0 0 0 0 0 0 0 0 0 0 0 0 0 0 0 ...</td>\n    </tr>\n    <tr>\n      <th>...</th>\n      <td>...</td>\n      <td>...</td>\n      <td>...</td>\n      <td>...</td>\n      <td>...</td>\n      <td>...</td>\n      <td>...</td>\n      <td>...</td>\n      <td>...</td>\n      <td>...</td>\n      <td>...</td>\n    </tr>\n    <tr>\n      <th>173882</th>\n      <td>70710-1302_149be946-a75a-4ebb-94ff-e2cc8e5b0bfc</td>\n      <td>70710-1302</td>\n      <td>70710-1302-7</td>\n      <td>6 suppository in 1 blister pack</td>\n      <td>2020-02-14</td>\n      <td>NaN</td>\n      <td>n</td>\n      <td>n</td>\n      <td>6.0000</td>\n      <td>[[0 0 0 0 0 0 0 0 0 0 0 0 0 0 0 0 0 0 0 0 0 0 ...</td>\n      <td>[[0 0 0 0 0 0 0 0 0 0 0 0 0 0 0 0 0 0 0 0 0 0 ...</td>\n    </tr>\n    <tr>\n      <th>173883</th>\n      <td>70771-1513_fea66d66-0735-4917-ba39-d9e02a894717</td>\n      <td>70771-1513</td>\n      <td>70771-1513-7</td>\n      <td>6 suppository in 1 blister pack</td>\n      <td>2020-02-14</td>\n      <td>NaN</td>\n      <td>n</td>\n      <td>n</td>\n      <td>6.0000</td>\n      <td>[[0 0 0 0 0 0 0 0 0 0 0 0 0 0 0 0 0 0 0 0 0 0 ...</td>\n      <td>[[0 0 0 0 0 0 0 0 0 0 0 0 0 0 0 0 0 0 0 0 0 0 ...</td>\n    </tr>\n    <tr>\n      <th>173884</th>\n      <td>73598-0651_b19ce6d2-6875-4bd6-b8b9-b844db5503e9</td>\n      <td>73598-0651</td>\n      <td>73598-0651-1</td>\n      <td>.0591 l in 1 bottle, spray</td>\n      <td>2020-02-14</td>\n      <td>NaN</td>\n      <td>n</td>\n      <td>n</td>\n      <td>0.0591</td>\n      <td>[[0 0 0 0 0 0 0 0 0 0 0 0 0 0 0 0 0 0 0 0 0 0 ...</td>\n      <td>[[0 0 0 0 1 0 0 0 0 0 0 0 0 0 0 0 0 0 0 0 0 0 ...</td>\n    </tr>\n    <tr>\n      <th>173885</th>\n      <td>73598-0661_9b83d918-bc9d-4ef6-815b-71ba9340f86a</td>\n      <td>37598-0661</td>\n      <td>73598-0661-1</td>\n      <td>59.1 ml in 1 bottle, spray</td>\n      <td>2020-02-14</td>\n      <td>NaN</td>\n      <td>n</td>\n      <td>n</td>\n      <td>59.1000</td>\n      <td>[[0 0 0 0 0 0 0 0 0 0 0 0 0 0 0 0 0 0 0 0 0 0 ...</td>\n      <td>[[0 0 0 0 1 0 0 0 0 0 0 0 0 0 0 0 0 0 0 0 0 0 ...</td>\n    </tr>\n    <tr>\n      <th>173886</th>\n      <td>73598-0671_185313e3-7aab-40b2-993e-c5b4533c5d49</td>\n      <td>37598-0671</td>\n      <td>37598-0671-1</td>\n      <td>59.1 ml in 1 bottle, spray</td>\n      <td>2020-02-14</td>\n      <td>NaN</td>\n      <td>n</td>\n      <td>n</td>\n      <td>59.1000</td>\n      <td>[[0 0 0 0 0 0 0 0 0 0 0 0 0 0 0 0 0 0 0 0 0 0 ...</td>\n      <td>[[0 0 0 0 1 0 0 0 0 0 0 0 0 0 0 0 0 0 0 0 0 0 ...</td>\n    </tr>\n  </tbody>\n</table>\n<p>173887 rows × 11 columns</p>\n</div>"
     },
     "metadata": {},
     "output_type": "execute_result",
     "execution_count": 78
    }
   ],
   "execution_count": 78
  }
 ],
 "metadata": {
  "anaconda-cloud": {},
  "kernelspec": {
   "name": "pycharm-3359ad28",
   "language": "python",
   "display_name": "PyCharm (IFT870-TP1)"
  },
  "language_info": {
   "codemirror_mode": {
    "name": "ipython",
    "version": 3
   },
   "file_extension": ".py",
   "mimetype": "text/x-python",
   "name": "python",
   "nbconvert_exporter": "python",
   "pygments_lexer": "ipython3",
   "version": "3.6.1"
  }
 },
 "nbformat": 4,
 "nbformat_minor": 1
}