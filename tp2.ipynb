{
 "cells": [
  {
   "cell_type": "code",
   "metadata": {
    "pycharm": {
     "is_executing": false
    }
   },
   "source": [
    "import datetime\n",
    "\n",
    "import numpy as np\n",
    "import pandas as pd\n",
    "import re\n",
    "import datetime\n",
    "from sklearn.preprocessing import OneHotEncoder"
   ],
   "outputs": [],
   "execution_count": 1
  },
  {
   "cell_type": "code",
   "metadata": {
    "pycharm": {
     "is_executing": false
    }
   },
   "source": [
    "package_file = 'package.csv'\n",
    "product_file = 'product.csv'\n",
    "\n",
    "product_data = pd.read_csv(product_file, sep=';', encoding='latin1')\n",
    "package_data = pd.read_csv(package_file, sep=';', encoding='latin1')\n",
    "\n",
    "product_data_description = product_data.describe()\n",
    "print(product_data_description)\n",
    "\n",
    "# TODO incohernce entre dates\n",
    "# TODO incohernce entre routname / forme\n",
    "# TODO incohernce entre valeurs numeric abberantes (ordre de grandeur)\n",
    "# TODO incohernce entre valeurs phase et l'emballage\n",
    "# TODO tester imputatin itérative\n",
    "# TODO utiliser le one hot de sk learn au lieu de dummies de pandas\n",
    "\n",
    "def assert_product_id_completeness(table, header):\n",
    "\n",
    "    empty_cells = table.shape[0] - table.count(axis=0)\n",
    "    unique_values = table.nunique(axis=0)\n",
    "\n",
    "    print('Empty cells:\\n{}\\n'.format(empty_cells))\n",
    "    print('Unique values:\\n{}\\n'.format(unique_values))\n",
    "\n",
    "    try:\n",
    "        assert empty_cells[header] == 0\n",
    "        print('No empty cells in {} column'.format(header))\n",
    "    except:\n",
    "        print('There are {} empty values in the {} column'.format(empty_cells[header], header))\n",
    "    try:\n",
    "        assert unique_values[header] == table.shape[0]\n",
    "        print('No duplicat values in the {} column'.format(header))\n",
    "    except:\n",
    "        print('There are {} duplicat values in the {} column'.format(table.shape[0] - unique_values[header], header))\n",
    "\n",
    "print('Assessing completnes of PRODUCTID for product data')\n",
    "assert_product_id_completeness(product_data, 'PRODUCTID')\n",
    "\n",
    "print('Assessing completnes of PRODUCTID for packaging data')\n",
    "assert_product_id_completeness(package_data, 'PRODUCTID')"
   ],
   "outputs": [
    {
     "name": "stdout",
     "text": [
      "       STARTMARKETINGDATE  ENDMARKETINGDATE  LISTING_RECORD_CERTIFIED_THROUGH\n",
      "count        9.323800e+04      4.323000e+03                      8.891300e+04\n",
      "mean         2.010696e+07      2.021040e+07                      2.020247e+07\n",
      "std          1.131769e+05      1.539891e+05                      3.294780e+03\n",
      "min          1.900010e+07      2.020022e+07                      2.020123e+07\n",
      "25%          2.009090e+07      2.020081e+07                      2.020123e+07\n",
      "50%          2.014122e+07      2.020123e+07                      2.020123e+07\n",
      "75%          2.018010e+07      2.021111e+07                      2.020123e+07\n",
      "max          2.020021e+07      3.031021e+07                      2.021123e+07\n",
      "Assessing completnes of PRODUCTID for product data\n",
      "Empty cells:\n",
      "PRODUCTID                               0\n",
      "PRODUCTNDC                              0\n",
      "PRODUCTTYPENAME                         0\n",
      "PROPRIETARYNAME                         6\n",
      "PROPRIETARYNAMESUFFIX               83075\n",
      "NONPROPRIETARYNAME                      4\n",
      "DOSAGEFORMNAME                          0\n",
      "ROUTENAME                            1932\n",
      "STARTMARKETINGDATE                      0\n",
      "ENDMARKETINGDATE                    88915\n",
      "MARKETINGCATEGORYNAME                   0\n",
      "APPLICATIONNUMBER                   13097\n",
      "LABELERNAME                           557\n",
      "SUBSTANCENAME                        2309\n",
      "ACTIVE_NUMERATOR_STRENGTH            2309\n",
      "ACTIVE_INGRED_UNIT                   2309\n",
      "PHARM_CLASSES                       51009\n",
      "DEASCHEDULE                         88815\n",
      "NDC_EXCLUDE_FLAG                        0\n",
      "LISTING_RECORD_CERTIFIED_THROUGH     4325\n",
      "dtype: int64\n",
      "\n",
      "Unique values:\n",
      "PRODUCTID                           93238\n",
      "PRODUCTNDC                          91951\n",
      "PRODUCTTYPENAME                         7\n",
      "PROPRIETARYNAME                     32716\n",
      "PROPRIETARYNAMESUFFIX                4022\n",
      "NONPROPRIETARYNAME                  16257\n",
      "DOSAGEFORMNAME                        134\n",
      "ROUTENAME                             180\n",
      "STARTMARKETINGDATE                   7262\n",
      "ENDMARKETINGDATE                      742\n",
      "MARKETINGCATEGORYNAME                  10\n",
      "APPLICATIONNUMBER                   10711\n",
      "LABELERNAME                          6606\n",
      "SUBSTANCENAME                        8976\n",
      "ACTIVE_NUMERATOR_STRENGTH            8769\n",
      "ACTIVE_INGRED_UNIT                   2391\n",
      "PHARM_CLASSES                        1285\n",
      "DEASCHEDULE                             4\n",
      "NDC_EXCLUDE_FLAG                        1\n",
      "LISTING_RECORD_CERTIFIED_THROUGH        2\n",
      "dtype: int64\n",
      "\n",
      "Assessing completnes of PRODUCTID for packaging data\n",
      "Empty cells:\n",
      "PRODUCTID                 41\n",
      "PRODUCTNDC               210\n",
      "NDCPACKAGECODE           193\n",
      "PACKAGEDESCRIPTION         0\n",
      "STARTMARKETINGDATE       408\n",
      "ENDMARKETINGDATE      167431\n",
      "NDC_EXCLUDE_FLAG           0\n",
      "SAMPLE_PACKAGE             0\n",
      "dtype: int64\n",
      "\n",
      "Unique values:\n",
      "PRODUCTID              93084\n",
      "PRODUCTNDC             91694\n",
      "NDCPACKAGECODE        173692\n",
      "PACKAGEDESCRIPTION    173883\n",
      "STARTMARKETINGDATE      7372\n",
      "ENDMARKETINGDATE         767\n",
      "NDC_EXCLUDE_FLAG           1\n",
      "SAMPLE_PACKAGE             2\n",
      "dtype: int64\n",
      "\n",
      "There are 41 empty values in the PRODUCTID column\n",
      "There are 80803 duplicat values in the PRODUCTID column\n"
     ],
     "output_type": "stream"
    }
   ],
   "execution_count": 2
  },
  {
   "cell_type": "markdown",
   "metadata": {},
   "source": [
    "# 1. Auscultation\n",
    "## Etude des données du fichier 'package'"
   ]
  },
  {
   "cell_type": "code",
   "metadata": {
    "pycharm": {
     "is_executing": false
    }
   },
   "source": [
    "package_data.head()"
   ],
   "outputs": [
    {
     "data": {
      "text/plain": "                                        PRODUCTID PRODUCTNDC NDCPACKAGECODE  \\\n0  0699-0155_60f08fe4-aacf-c815-e053-2991aa0a3ded  0699-0155   0699-0155-44   \n1  0699-0311_59039cf6-9008-7367-e053-2a91aa0a2fe9  0699-0311   0699-0311-16   \n2  0699-0312_59039cf6-9008-7367-e053-2a91aa0a2fe9  0699-0312   0699-0312-16   \n3  0699-0317_59039cf6-9008-7367-e053-2a91aa0a2fe9  0699-0317   0699-0317-16   \n4  0699-0404_5bc1c974-e7b8-094c-e053-2991aa0ab726  0699-0404   0699-0404-01   \n\n                                  PACKAGEDESCRIPTION  STARTMARKETINGDATE  \\\n0  1 CANISTER in 1 CARTON (0699-0155-44)  > 125 g...          19000101.0   \n1         498 g in 1 BOTTLE, PLASTIC (0699-0311-16)           19000101.0   \n2         498 g in 1 BOTTLE, PLASTIC (0699-0312-16)           19000101.0   \n3         498 g in 1 BOTTLE, PLASTIC (0699-0317-16)           19000101.0   \n4                      28 g in 1 JAR (0699-0404-01)           19000101.0   \n\n   ENDMARKETINGDATE NDC_EXCLUDE_FLAG SAMPLE_PACKAGE  \n0               NaN                N              N  \n1               NaN                N              N  \n2               NaN                N              N  \n3               NaN                N              N  \n4               NaN                N              N  ",
      "text/html": "<div>\n<style scoped>\n    .dataframe tbody tr th:only-of-type {\n        vertical-align: middle;\n    }\n\n    .dataframe tbody tr th {\n        vertical-align: top;\n    }\n\n    .dataframe thead th {\n        text-align: right;\n    }\n</style>\n<table border=\"1\" class=\"dataframe\">\n  <thead>\n    <tr style=\"text-align: right;\">\n      <th></th>\n      <th>PRODUCTID</th>\n      <th>PRODUCTNDC</th>\n      <th>NDCPACKAGECODE</th>\n      <th>PACKAGEDESCRIPTION</th>\n      <th>STARTMARKETINGDATE</th>\n      <th>ENDMARKETINGDATE</th>\n      <th>NDC_EXCLUDE_FLAG</th>\n      <th>SAMPLE_PACKAGE</th>\n    </tr>\n  </thead>\n  <tbody>\n    <tr>\n      <th>0</th>\n      <td>0699-0155_60f08fe4-aacf-c815-e053-2991aa0a3ded</td>\n      <td>0699-0155</td>\n      <td>0699-0155-44</td>\n      <td>1 CANISTER in 1 CARTON (0699-0155-44)  &gt; 125 g...</td>\n      <td>19000101.0</td>\n      <td>NaN</td>\n      <td>N</td>\n      <td>N</td>\n    </tr>\n    <tr>\n      <th>1</th>\n      <td>0699-0311_59039cf6-9008-7367-e053-2a91aa0a2fe9</td>\n      <td>0699-0311</td>\n      <td>0699-0311-16</td>\n      <td>498 g in 1 BOTTLE, PLASTIC (0699-0311-16)</td>\n      <td>19000101.0</td>\n      <td>NaN</td>\n      <td>N</td>\n      <td>N</td>\n    </tr>\n    <tr>\n      <th>2</th>\n      <td>0699-0312_59039cf6-9008-7367-e053-2a91aa0a2fe9</td>\n      <td>0699-0312</td>\n      <td>0699-0312-16</td>\n      <td>498 g in 1 BOTTLE, PLASTIC (0699-0312-16)</td>\n      <td>19000101.0</td>\n      <td>NaN</td>\n      <td>N</td>\n      <td>N</td>\n    </tr>\n    <tr>\n      <th>3</th>\n      <td>0699-0317_59039cf6-9008-7367-e053-2a91aa0a2fe9</td>\n      <td>0699-0317</td>\n      <td>0699-0317-16</td>\n      <td>498 g in 1 BOTTLE, PLASTIC (0699-0317-16)</td>\n      <td>19000101.0</td>\n      <td>NaN</td>\n      <td>N</td>\n      <td>N</td>\n    </tr>\n    <tr>\n      <th>4</th>\n      <td>0699-0404_5bc1c974-e7b8-094c-e053-2991aa0ab726</td>\n      <td>0699-0404</td>\n      <td>0699-0404-01</td>\n      <td>28 g in 1 JAR (0699-0404-01)</td>\n      <td>19000101.0</td>\n      <td>NaN</td>\n      <td>N</td>\n      <td>N</td>\n    </tr>\n  </tbody>\n</table>\n</div>"
     },
     "metadata": {},
     "output_type": "execute_result",
     "execution_count": 3
    }
   ],
   "execution_count": 3
  },
  {
   "cell_type": "code",
   "metadata": {
    "pycharm": {
     "is_executing": false
    }
   },
   "source": [
    "count_missing_values_package = package_data.isnull().sum().sort_values()\n",
    "# TODO: count uniques values for each column\n",
    "# %%\n",
    "\"\"\"\n",
    "### Colonne PACKAGEDESCRIPTION\n",
    "Cette colonne est présentée sous forme de phrase et contient de multiples informations. Le volume, son unité, le nombre \n",
    "de contenant et son type. S'il existe plusieurs contenants pour un objet, ils sont concaténés par un séparateur '>' de \n",
    "manière hiérarchique.\n",
    "\"\"\""
   ],
   "outputs": [
    {
     "data": {
      "text/plain": "\"\\n### Colonne PACKAGEDESCRIPTION\\nCette colonne est présentée sous forme de phrase et contient de multiples informations. Le volume, son unité, le nombre \\nde contenant et son type. S'il existe plusieurs contenants pour un objet, ils sont concaténés par un séparateur '>' de \\nmanière hiérarchique.\\n\""
     },
     "metadata": {},
     "output_type": "execute_result",
     "execution_count": 4
    }
   ],
   "execution_count": 4
  },
  {
   "cell_type": "markdown",
   "metadata": {},
   "source": [
    "### Colonne STARTMARKETINGDATE\n",
    "Les valeurs de cette colonne sont de type date. Elles ont l'air séquentielles. "
   ]
  },
  {
   "cell_type": "markdown",
   "metadata": {},
   "source": [
    "### Colonne ENDMARKETINGDATE\n",
    "Les valeurs de cette colonne sont de type date. Il existe beaucoup de valeurs manquantes."
   ]
  },
  {
   "cell_type": "markdown",
   "metadata": {},
   "source": [
    "### Colonne NDC_EXCLUDE_FLAG"
   ]
  },
  {
   "cell_type": "code",
   "metadata": {
    "pycharm": {
     "is_executing": false
    }
   },
   "source": [
    "package_data['NDC_EXCLUDE_FLAG'].unique()"
   ],
   "outputs": [
    {
     "data": {
      "text/plain": "array(['N'], dtype=object)"
     },
     "metadata": {},
     "output_type": "execute_result",
     "execution_count": 5
    }
   ],
   "execution_count": 5
  },
  {
   "cell_type": "markdown",
   "metadata": {},
   "source": [
    "Tous les objets possèdent la valeur N et ne présente aucune valeur manquante. "
   ]
  },
  {
   "cell_type": "markdown",
   "metadata": {},
   "source": [
    "### Colonne SAMPLE_PACKAGE"
   ]
  },
  {
   "cell_type": "code",
   "metadata": {
    "pycharm": {
     "is_executing": false
    }
   },
   "source": [
    "package_data['SAMPLE_PACKAGE'].value_counts()"
   ],
   "outputs": [
    {
     "data": {
      "text/plain": "N    173223\nY       664\nName: SAMPLE_PACKAGE, dtype: int64"
     },
     "metadata": {},
     "output_type": "execute_result",
     "execution_count": 6
    }
   ],
   "execution_count": 6
  },
  {
   "cell_type": "markdown",
   "metadata": {},
   "source": [
    "Les valeurs possibles sont 'Y' ou 'N'. Il y a une majorité de 'N' et aucune valeur manquante."
   ]
  },
  {
   "cell_type": "markdown",
   "metadata": {},
   "source": [
    "## Etude des données du fichier 'product'"
   ]
  },
  {
   "cell_type": "code",
   "metadata": {
    "pycharm": {
     "is_executing": false
    }
   },
   "source": [
    "product_data.head()"
   ],
   "outputs": [
    {
     "data": {
      "text/plain": "                                        PRODUCTID PRODUCTNDC  \\\n0  0699-0155_60f08fe4-aacf-c815-e053-2991aa0a3ded  0699-0155   \n1  0699-0311_59039cf6-9008-7367-e053-2a91aa0a2fe9  0699-0311   \n2  0699-0312_59039cf6-9008-7367-e053-2a91aa0a2fe9  0699-0312   \n3  0699-0317_59039cf6-9008-7367-e053-2a91aa0a2fe9  0699-0317   \n4  0699-0404_5bc1c974-e7b8-094c-e053-2991aa0ab726  0699-0404   \n\n           PRODUCTTYPENAME               PROPRIETARYNAME  \\\n0  HUMAN PRESCRIPTION DRUG   Topex Neutral Fluoride Foam   \n1  HUMAN PRESCRIPTION DRUG  Topex 60 Second Fluoride Gel   \n2  HUMAN PRESCRIPTION DRUG  Topex 60 Second Fluoride Gel   \n3  HUMAN PRESCRIPTION DRUG  Topex 60 Second Fluoride Gel   \n4  HUMAN PRESCRIPTION DRUG                    Dry Socket   \n\n  PROPRIETARYNAMESUFFIX    NONPROPRIETARYNAME DOSAGEFORMNAME ROUTENAME  \\\n0                   NaN       sodium fluoride  AEROSOL, FOAM    DENTAL   \n1                   NaN       Sodium Fluoride            GEL    DENTAL   \n2                   NaN       Sodium Fluoride            GEL    DENTAL   \n3                   NaN       Sodium Fluoride            GEL    DENTAL   \n4                   NaN  Guaiacol and Eugenol          PASTE    DENTAL   \n\n   STARTMARKETINGDATE  ENDMARKETINGDATE  MARKETINGCATEGORYNAME  \\\n0            19000101               NaN  UNAPPROVED DRUG OTHER   \n1            19000101               NaN  UNAPPROVED DRUG OTHER   \n2            19000101               NaN  UNAPPROVED DRUG OTHER   \n3            19000101               NaN  UNAPPROVED DRUG OTHER   \n4            19000101               NaN  UNAPPROVED DRUG OTHER   \n\n  APPLICATIONNUMBER                                        LABELERNAME  \\\n0               NaN  Dentsply LLC. Professional Division Trading as...   \n1               NaN  Dentsply LLC. Professional Division Trading as...   \n2               NaN  Dentsply LLC. Professional Division Trading as...   \n3               NaN  Dentsply LLC. Professional Division Trading as...   \n4               NaN  Dentsply LLC, Professional Division, trading a...   \n\n       SUBSTANCENAME ACTIVE_NUMERATOR_STRENGTH ACTIVE_INGRED_UNIT  \\\n0    SODIUM FLUORIDE                       .02                g/g   \n1    SODIUM FLUORIDE                      25.9               mg/g   \n2    SODIUM FLUORIDE                      25.9               mg/g   \n3    SODIUM FLUORIDE                      25.9               mg/g   \n4  GUAIACOL; EUGENOL              .0416; .0416           g/g; g/g   \n\n                                       PHARM_CLASSES DEASCHEDULE  \\\n0                                                NaN         NaN   \n1                                                NaN         NaN   \n2                                                NaN         NaN   \n3                                                NaN         NaN   \n4  Standardized Chemical Allergen [EPC],Increased...         NaN   \n\n  NDC_EXCLUDE_FLAG  LISTING_RECORD_CERTIFIED_THROUGH  \n0                N                        20201231.0  \n1                N                        20201231.0  \n2                N                        20201231.0  \n3                N                        20201231.0  \n4                N                        20201231.0  ",
      "text/html": "<div>\n<style scoped>\n    .dataframe tbody tr th:only-of-type {\n        vertical-align: middle;\n    }\n\n    .dataframe tbody tr th {\n        vertical-align: top;\n    }\n\n    .dataframe thead th {\n        text-align: right;\n    }\n</style>\n<table border=\"1\" class=\"dataframe\">\n  <thead>\n    <tr style=\"text-align: right;\">\n      <th></th>\n      <th>PRODUCTID</th>\n      <th>PRODUCTNDC</th>\n      <th>PRODUCTTYPENAME</th>\n      <th>PROPRIETARYNAME</th>\n      <th>PROPRIETARYNAMESUFFIX</th>\n      <th>NONPROPRIETARYNAME</th>\n      <th>DOSAGEFORMNAME</th>\n      <th>ROUTENAME</th>\n      <th>STARTMARKETINGDATE</th>\n      <th>ENDMARKETINGDATE</th>\n      <th>MARKETINGCATEGORYNAME</th>\n      <th>APPLICATIONNUMBER</th>\n      <th>LABELERNAME</th>\n      <th>SUBSTANCENAME</th>\n      <th>ACTIVE_NUMERATOR_STRENGTH</th>\n      <th>ACTIVE_INGRED_UNIT</th>\n      <th>PHARM_CLASSES</th>\n      <th>DEASCHEDULE</th>\n      <th>NDC_EXCLUDE_FLAG</th>\n      <th>LISTING_RECORD_CERTIFIED_THROUGH</th>\n    </tr>\n  </thead>\n  <tbody>\n    <tr>\n      <th>0</th>\n      <td>0699-0155_60f08fe4-aacf-c815-e053-2991aa0a3ded</td>\n      <td>0699-0155</td>\n      <td>HUMAN PRESCRIPTION DRUG</td>\n      <td>Topex Neutral Fluoride Foam</td>\n      <td>NaN</td>\n      <td>sodium fluoride</td>\n      <td>AEROSOL, FOAM</td>\n      <td>DENTAL</td>\n      <td>19000101</td>\n      <td>NaN</td>\n      <td>UNAPPROVED DRUG OTHER</td>\n      <td>NaN</td>\n      <td>Dentsply LLC. Professional Division Trading as...</td>\n      <td>SODIUM FLUORIDE</td>\n      <td>.02</td>\n      <td>g/g</td>\n      <td>NaN</td>\n      <td>NaN</td>\n      <td>N</td>\n      <td>20201231.0</td>\n    </tr>\n    <tr>\n      <th>1</th>\n      <td>0699-0311_59039cf6-9008-7367-e053-2a91aa0a2fe9</td>\n      <td>0699-0311</td>\n      <td>HUMAN PRESCRIPTION DRUG</td>\n      <td>Topex 60 Second Fluoride Gel</td>\n      <td>NaN</td>\n      <td>Sodium Fluoride</td>\n      <td>GEL</td>\n      <td>DENTAL</td>\n      <td>19000101</td>\n      <td>NaN</td>\n      <td>UNAPPROVED DRUG OTHER</td>\n      <td>NaN</td>\n      <td>Dentsply LLC. Professional Division Trading as...</td>\n      <td>SODIUM FLUORIDE</td>\n      <td>25.9</td>\n      <td>mg/g</td>\n      <td>NaN</td>\n      <td>NaN</td>\n      <td>N</td>\n      <td>20201231.0</td>\n    </tr>\n    <tr>\n      <th>2</th>\n      <td>0699-0312_59039cf6-9008-7367-e053-2a91aa0a2fe9</td>\n      <td>0699-0312</td>\n      <td>HUMAN PRESCRIPTION DRUG</td>\n      <td>Topex 60 Second Fluoride Gel</td>\n      <td>NaN</td>\n      <td>Sodium Fluoride</td>\n      <td>GEL</td>\n      <td>DENTAL</td>\n      <td>19000101</td>\n      <td>NaN</td>\n      <td>UNAPPROVED DRUG OTHER</td>\n      <td>NaN</td>\n      <td>Dentsply LLC. Professional Division Trading as...</td>\n      <td>SODIUM FLUORIDE</td>\n      <td>25.9</td>\n      <td>mg/g</td>\n      <td>NaN</td>\n      <td>NaN</td>\n      <td>N</td>\n      <td>20201231.0</td>\n    </tr>\n    <tr>\n      <th>3</th>\n      <td>0699-0317_59039cf6-9008-7367-e053-2a91aa0a2fe9</td>\n      <td>0699-0317</td>\n      <td>HUMAN PRESCRIPTION DRUG</td>\n      <td>Topex 60 Second Fluoride Gel</td>\n      <td>NaN</td>\n      <td>Sodium Fluoride</td>\n      <td>GEL</td>\n      <td>DENTAL</td>\n      <td>19000101</td>\n      <td>NaN</td>\n      <td>UNAPPROVED DRUG OTHER</td>\n      <td>NaN</td>\n      <td>Dentsply LLC. Professional Division Trading as...</td>\n      <td>SODIUM FLUORIDE</td>\n      <td>25.9</td>\n      <td>mg/g</td>\n      <td>NaN</td>\n      <td>NaN</td>\n      <td>N</td>\n      <td>20201231.0</td>\n    </tr>\n    <tr>\n      <th>4</th>\n      <td>0699-0404_5bc1c974-e7b8-094c-e053-2991aa0ab726</td>\n      <td>0699-0404</td>\n      <td>HUMAN PRESCRIPTION DRUG</td>\n      <td>Dry Socket</td>\n      <td>NaN</td>\n      <td>Guaiacol and Eugenol</td>\n      <td>PASTE</td>\n      <td>DENTAL</td>\n      <td>19000101</td>\n      <td>NaN</td>\n      <td>UNAPPROVED DRUG OTHER</td>\n      <td>NaN</td>\n      <td>Dentsply LLC, Professional Division, trading a...</td>\n      <td>GUAIACOL; EUGENOL</td>\n      <td>.0416; .0416</td>\n      <td>g/g; g/g</td>\n      <td>Standardized Chemical Allergen [EPC],Increased...</td>\n      <td>NaN</td>\n      <td>N</td>\n      <td>20201231.0</td>\n    </tr>\n  </tbody>\n</table>\n</div>"
     },
     "metadata": {},
     "output_type": "execute_result",
     "execution_count": 7
    }
   ],
   "execution_count": 7
  },
  {
   "cell_type": "code",
   "metadata": {
    "pycharm": {
     "is_executing": false
    }
   },
   "source": [
    "count_missing_values_product = product_data.isnull().sum().sort_values()\n",
    "# TODO: count uniques values for each column"
   ],
   "outputs": [],
   "execution_count": 8
  },
  {
   "cell_type": "markdown",
   "metadata": {},
   "source": [
    "### Colonne PRODUCTTYPENAME"
   ]
  },
  {
   "cell_type": "code",
   "metadata": {
    "pycharm": {
     "is_executing": false
    }
   },
   "source": [
    "product_data['PRODUCTTYPENAME'].value_counts()"
   ],
   "outputs": [
    {
     "data": {
      "text/plain": "HUMAN OTC DRUG                 46172\nHUMAN PRESCRIPTION DRUG        44526\nNON-STANDARDIZED ALLERGENIC     2008\nPLASMA DERIVATIVE                294\nSTANDARDIZED ALLERGENIC          124\nVACCINE                          108\nCELLULAR THERAPY                   6\nName: PRODUCTTYPENAME, dtype: int64"
     },
     "metadata": {},
     "output_type": "execute_result",
     "execution_count": 9
    }
   ],
   "execution_count": 9
  },
  {
   "cell_type": "markdown",
   "metadata": {},
   "source": [
    "Il y a 7 valeurs possibles textuelles catégorielles dans cette colonne."
   ]
  },
  {
   "cell_type": "markdown",
   "metadata": {},
   "source": [
    "### Colonne PROPRIETARYNAME"
   ]
  },
  {
   "cell_type": "code",
   "metadata": {
    "pycharm": {
     "is_executing": false
    }
   },
   "source": [
    "product_data['PROPRIETARYNAME'].nunique()"
   ],
   "outputs": [
    {
     "data": {
      "text/plain": "32716"
     },
     "metadata": {},
     "output_type": "execute_result",
     "execution_count": 10
    }
   ],
   "execution_count": 10
  },
  {
   "cell_type": "code",
   "metadata": {
    "pycharm": {
     "is_executing": false
    }
   },
   "source": [
    "product_data['PROPRIETARYNAME'][393:401]"
   ],
   "outputs": [
    {
     "data": {
      "text/plain": "393    SUGAR FREE ORIGINAL SWISS HERB COUGH SUPPRESSA...\n394    Sugar Free Mountain Herb Cough Suppressant Thr...\n395                                              Albuked\n396                                              Demerol\n397                                              Demerol\n398                                              Desoxyn\n399                                               OXYGEN\n400                                               Oxygen\nName: PROPRIETARYNAME, dtype: object"
     },
     "metadata": {},
     "output_type": "execute_result",
     "execution_count": 11
    }
   ],
   "execution_count": 11
  },
  {
   "cell_type": "markdown",
   "metadata": {},
   "source": [
    "Dans cette colonne, il existe un grand nombre de valeurs différentes. Les mêmes valeurs peuvent être présentes sous \n",
    "différentes formes notamment en minuscules ou majuscules, il existe donc une inconsistance entre les valeurs."
   ]
  },
  {
   "cell_type": "markdown",
   "metadata": {},
   "source": [
    "### Colonne PROPRIETARYNAMESUFFIX"
   ]
  },
  {
   "cell_type": "code",
   "metadata": {
    "pycharm": {
     "is_executing": false
    }
   },
   "source": [
    "product_data['PROPRIETARYNAMESUFFIX'].nunique()"
   ],
   "outputs": [
    {
     "data": {
      "text/plain": "4022"
     },
     "metadata": {},
     "output_type": "execute_result",
     "execution_count": 12
    }
   ],
   "execution_count": 12
  },
  {
   "cell_type": "markdown",
   "metadata": {},
   "source": [
    "Dans cette colonne, il y a un nombre important de valeurs manquantes. Ces valeurs sont textuelles et il existe un nombre \n",
    "élevé de valeurs différentes."
   ]
  },
  {
   "cell_type": "markdown",
   "metadata": {},
   "source": [
    "### Colonne NONPROPRIETARYNAME"
   ]
  },
  {
   "cell_type": "code",
   "metadata": {
    "pycharm": {
     "is_executing": false
    }
   },
   "source": [
    "product_data['NONPROPRIETARYNAME'].nunique()"
   ],
   "outputs": [
    {
     "data": {
      "text/plain": "16257"
     },
     "metadata": {},
     "output_type": "execute_result",
     "execution_count": 13
    }
   ],
   "execution_count": 13
  },
  {
   "cell_type": "code",
   "metadata": {
    "pycharm": {
     "is_executing": false
    }
   },
   "source": [
    "product_data['NONPROPRIETARYNAME'][2:6]"
   ],
   "outputs": [
    {
     "data": {
      "text/plain": "2         Sodium Fluoride\n3         Sodium Fluoride\n4    Guaiacol and Eugenol\n5         sodium fluoride\nName: NONPROPRIETARYNAME, dtype: object"
     },
     "metadata": {},
     "output_type": "execute_result",
     "execution_count": 14
    }
   ],
   "execution_count": 14
  },
  {
   "cell_type": "markdown",
   "metadata": {},
   "source": [
    "Cette colonne présente seulement 4 valeurs manquantes. Ceux sont des données textuelles inconsistantes, par exemple \n",
    "pouvant représenter la même valeur en caratères minuscules ou majuscules. Il y a un nombre très important de valeurs \n",
    "différentes."
   ]
  },
  {
   "cell_type": "markdown",
   "metadata": {},
   "source": [
    "### Colonne DOSAGEFORMNAME"
   ]
  },
  {
   "cell_type": "code",
   "metadata": {
    "pycharm": {
     "is_executing": false
    }
   },
   "source": [
    "product_data['DOSAGEFORMNAME'].value_counts()"
   ],
   "outputs": [
    {
     "data": {
      "text/plain": "TABLET                              15442\nTABLET, FILM COATED                  9387\nLIQUID                               8764\nCREAM                                5104\nCAPSULE                              4824\n                                    ...  \nCHEWABLE GEL                            1\nSOLUTION, GEL FORMING / DROPS           1\nCRYSTAL                                 1\nFOR SUSPENSION, EXTENDED RELEASE        1\nINJECTION, LIPID COMPLEX                1\nName: DOSAGEFORMNAME, Length: 134, dtype: int64"
     },
     "metadata": {},
     "output_type": "execute_result",
     "execution_count": 15
    }
   ],
   "execution_count": 15
  },
  {
   "cell_type": "markdown",
   "metadata": {},
   "source": [
    "Cette colonne contient 134 différentes valeurs textuelles. Comme on peut le voir, différentes catégories peuvent être \n",
    "affectées au même objet. La colonne ne présente aucune valeur manquante."
   ]
  },
  {
   "cell_type": "markdown",
   "metadata": {},
   "source": [
    "### Colonne ROUTENAME"
   ]
  },
  {
   "cell_type": "code",
   "metadata": {
    "pycharm": {
     "is_executing": false
    }
   },
   "source": [
    "product_data['ROUTENAME'].value_counts()"
   ],
   "outputs": [
    {
     "data": {
      "text/plain": "ORAL                                                                                54704\nTOPICAL                                                                             21547\nINTRAVENOUS                                                                          3374\nINTRADERMAL; PERCUTANEOUS; SUBCUTANEOUS                                              1315\nRESPIRATORY (INHALATION)                                                             1257\n                                                                                    ...  \nINTRAVENOUS; INTRAVESICAL; OPHTHALMIC                                                   1\nSUBGINGIVAL                                                                             1\nINTRACORONARY; RESPIRATORY (INHALATION)                                                 1\nINFILTRATION; INTRA-ARTICULAR; INTRALESIONAL; INTRAMUSCULAR; PERINEURAL; TOPICAL        1\nEPIDURAL; INFILTRATION; INTRAMUSCULAR; INTRASYNOVIAL; SOFT TISSUE; TOPICAL              1\nName: ROUTENAME, Length: 180, dtype: int64"
     },
     "metadata": {},
     "output_type": "execute_result",
     "execution_count": 16
    }
   ],
   "execution_count": 16
  },
  {
   "cell_type": "markdown",
   "metadata": {},
   "source": [
    "Cette colonne contient 180 différentes valeurs textuelles. Comme on peut le voir, différentes catégories peuvent être \n",
    "affectées au même objet. La colonne présente 1932 valeurs manquantes."
   ]
  },
  {
   "cell_type": "markdown",
   "metadata": {},
   "source": [
    "### Colonne STARTMARKETINGDATE\n",
    "Les valeurs sont de type date, il n'y a aucune valeur manquante. "
   ]
  },
  {
   "cell_type": "markdown",
   "metadata": {},
   "source": [
    "### Colonne ENDMARKETINGDATE\n",
    "Les valeurs sont de type date, il y a un grand nombre de valeurs manquantes. "
   ]
  },
  {
   "cell_type": "markdown",
   "metadata": {},
   "source": [
    "### Colonne MARKETINGCATEGORYNAME"
   ]
  },
  {
   "cell_type": "code",
   "metadata": {
    "pycharm": {
     "is_executing": false
    }
   },
   "source": [
    "product_data['MARKETINGCATEGORYNAME'].value_counts()\n",
    "# %%\n",
    "\"\"\"\n",
    "Les valeurs sont de type textuelles, il y a 26 catégories différentes et ne présente aucune valeur manquante.  \n",
    "\"\"\"\n",
    "# %%\n",
    "\"\"\"\n",
    "### Colonne APPLICATIONNUMBER\n",
    "\"\"\"\n",
    "# %%\n",
    "product_data['APPLICATIONNUMBER'].nunique()\n",
    "# %%\n",
    "\"\"\"\n",
    "Cette colonne spécifie le numéro de série de la catégorie marketing. Le nombre de valeurs manquantes est élevé, et \n",
    "comme il y a un numéro de série pour chaque objet dans une catégorie, le nombre de valeurs différentes est également \n",
    "important.\n",
    "\"\"\""
   ],
   "outputs": [
    {
     "data": {
      "text/plain": "'\\nCette colonne spécifie le numéro de série de la catégorie marketing. Le nombre de valeurs manquantes est élevé, et \\ncomme il y a un numéro de série pour chaque objet dans une catégorie, le nombre de valeurs différentes est également \\nimportant.\\n'"
     },
     "metadata": {},
     "output_type": "execute_result",
     "execution_count": 17
    }
   ],
   "execution_count": 17
  },
  {
   "cell_type": "markdown",
   "metadata": {},
   "source": [
    "### Colonne LABELERNAME"
   ]
  },
  {
   "cell_type": "code",
   "metadata": {
    "pycharm": {
     "is_executing": false
    }
   },
   "source": [
    "product_data['LABELERNAME'].nunique()"
   ],
   "outputs": [
    {
     "data": {
      "text/plain": "6606"
     },
     "metadata": {},
     "output_type": "execute_result",
     "execution_count": 18
    }
   ],
   "execution_count": 18
  },
  {
   "cell_type": "code",
   "metadata": {
    "pycharm": {
     "is_executing": false
    }
   },
   "source": [
    "product_data['LABELERNAME'][7291:7293]\n",
    "# %%\n",
    "\"\"\"\n",
    "La colonne présente peu de valeurs manquantes (557). Si on remarque qu'il existe un nombre important de valeurs \n",
    "différentes, les données sont cependant inconsistantes.\n",
    "\"\"\""
   ],
   "outputs": [
    {
     "data": {
      "text/plain": "\"\\nLa colonne présente peu de valeurs manquantes (557). Si on remarque qu'il existe un nombre important de valeurs \\ndifférentes, les données sont cependant inconsistantes.\\n\""
     },
     "metadata": {},
     "output_type": "execute_result",
     "execution_count": 19
    }
   ],
   "execution_count": 19
  },
  {
   "cell_type": "markdown",
   "metadata": {},
   "source": [
    "### Colonne SUBSTANCENAME"
   ]
  },
  {
   "cell_type": "code",
   "metadata": {
    "pycharm": {
     "is_executing": false
    }
   },
   "source": [
    "product_data['SUBSTANCENAME'].nunique()"
   ],
   "outputs": [
    {
     "data": {
      "text/plain": "8976"
     },
     "metadata": {},
     "output_type": "execute_result",
     "execution_count": 20
    }
   ],
   "execution_count": 20
  },
  {
   "cell_type": "code",
   "metadata": {
    "pycharm": {
     "is_executing": false
    }
   },
   "source": [
    "product_data['SUBSTANCENAME'][727:735]"
   ],
   "outputs": [
    {
     "data": {
      "text/plain": "727    XANTHIUM STRUMARIUM POLLEN; PLANTAGO LANCEOLAT...\n728    XANTHIUM STRUMARIUM POLLEN; PLANTAGO LANCEOLAT...\n729    ALNUS RHOMBIFOLIA POLLEN; FRAXINUS AMERICANA P...\n730    ALNUS RHOMBIFOLIA POLLEN; FRAXINUS AMERICANA P...\n731    ALNUS RHOMBIFOLIA POLLEN; FRAXINUS AMERICANA P...\n732       BETULA NIGRA POLLEN; BETULA POPULIFOLIA POLLEN\n733    GIBBERELLA ZEAE; ASPERGILLUS NIGER VAR. NIGER;...\n734       CARYA OVATA POLLEN; CARYA ILLINOINENSIS POLLEN\nName: SUBSTANCENAME, dtype: object"
     },
     "metadata": {},
     "output_type": "execute_result",
     "execution_count": 21
    }
   ],
   "execution_count": 21
  },
  {
   "cell_type": "markdown",
   "metadata": {},
   "source": [
    "Cette colonne présente un nombre assez important de données manquantes (2309), ceux sont des données textuelles \n",
    "catégorielles. Or le nombre de catégories parait élevé, comme le montre le nombre de valeurs uniques. Chaque objet \n",
    "peut cependant présenté plusieurs catégories séparées par un ';'."
   ]
  },
  {
   "cell_type": "markdown",
   "metadata": {},
   "source": [
    "### Colonne ACTIVE_NUMERATOR_STRENGTH"
   ]
  },
  {
   "cell_type": "code",
   "metadata": {
    "pycharm": {
     "is_executing": false
    }
   },
   "source": [
    "product_data['ACTIVE_NUMERATOR_STRENGTH'][725:731]"
   ],
   "outputs": [
    {
     "data": {
      "text/plain": "725                                                  .05\n726                                                   .1\n727                                   .05; .05; .05; .05\n728                           40000; 40000; 40000; 40000\n729          .05; .05; .05; .05; .05; .05; .05; .05; .05\n730    40000; 40000; 40000; 40000; 40000; 40000; 4000...\nName: ACTIVE_NUMERATOR_STRENGTH, dtype: object"
     },
     "metadata": {},
     "output_type": "execute_result",
     "execution_count": 22
    }
   ],
   "execution_count": 22
  },
  {
   "cell_type": "markdown",
   "metadata": {},
   "source": [
    "Ceux sont des données numériques qui paraissent dupliquées pour le même objet.  "
   ]
  },
  {
   "cell_type": "markdown",
   "metadata": {},
   "source": [
    "### Colonne ACTIVE_INGRED_UNIT"
   ]
  },
  {
   "cell_type": "code",
   "metadata": {
    "pycharm": {
     "is_executing": false
    }
   },
   "source": [
    "product_data['ACTIVE_INGRED_UNIT'][725:731]"
   ],
   "outputs": [
    {
     "data": {
      "text/plain": "725                                                 g/mL\n726                                                 g/mL\n727                               g/mL; g/mL; g/mL; g/mL\n728               [PNU]/mL; [PNU]/mL; [PNU]/mL; [PNU]/mL\n729    g/mL; g/mL; g/mL; g/mL; g/mL; g/mL; g/mL; g/mL...\n730    [PNU]/mL; [PNU]/mL; [PNU]/mL; [PNU]/mL; [PNU]/...\nName: ACTIVE_INGRED_UNIT, dtype: object"
     },
     "metadata": {},
     "output_type": "execute_result",
     "execution_count": 23
    }
   ],
   "execution_count": 23
  },
  {
   "cell_type": "markdown",
   "metadata": {},
   "source": [
    "Ceux sont des données textuelles catégorielles qui présentent l'unité de la colonne 'ACTIVE_INGRED_UNIT'. Les données\n",
    "paraissent également dupliquées pour le même objet."
   ]
  },
  {
   "cell_type": "markdown",
   "metadata": {},
   "source": [
    "### Colonne PHARM_CLASSES"
   ]
  },
  {
   "cell_type": "code",
   "metadata": {
    "pycharm": {
     "is_executing": false
    }
   },
   "source": [
    "product_data['PHARM_CLASSES'].nunique()"
   ],
   "outputs": [
    {
     "data": {
      "text/plain": "1285"
     },
     "metadata": {},
     "output_type": "execute_result",
     "execution_count": 24
    }
   ],
   "execution_count": 24
  },
  {
   "cell_type": "code",
   "metadata": {
    "pycharm": {
     "is_executing": false
    }
   },
   "source": [
    "product_data['PHARM_CLASSES'][725]"
   ],
   "outputs": [
    {
     "data": {
      "text/plain": "'Non-Standardized Pollen Allergenic Extract [EPC],Increased Histamine Release [PE],Cell-mediated Immunity [PE],Increased IgG Production [PE],Pollen [CS],Allergens [CS]'"
     },
     "metadata": {},
     "output_type": "execute_result",
     "execution_count": 25
    }
   ],
   "execution_count": 25
  },
  {
   "cell_type": "markdown",
   "metadata": {},
   "source": [
    "Ceux sont des données textuelles catégorielles présentant plusieurs catégories pour un même objet. Il y a un grand \n",
    "nombre de valeurs manquantes.\n",
    "\"\"\"\n",
    "# %%\n",
    "\"\"\"\n",
    "### Colonne DEASCHEDULE"
   ]
  },
  {
   "cell_type": "code",
   "metadata": {
    "pycharm": {
     "is_executing": false
    }
   },
   "source": [
    "product_data['DEASCHEDULE'].value_counts()"
   ],
   "outputs": [
    {
     "data": {
      "text/plain": "CII     1802\nCIV     1749\nCIII     479\nCV       393\nName: DEASCHEDULE, dtype: int64"
     },
     "metadata": {},
     "output_type": "execute_result",
     "execution_count": 26
    }
   ],
   "execution_count": 26
  },
  {
   "cell_type": "markdown",
   "metadata": {},
   "source": [
    "Cette colonne présente un nombre important de données manquantes. Ceux sont des données catégorielles, présentant \n",
    "seulement 4 catégories."
   ]
  },
  {
   "cell_type": "markdown",
   "metadata": {},
   "source": [
    "### Colonne NDC_EXCLUDE_FLAG"
   ]
  },
  {
   "cell_type": "code",
   "metadata": {
    "pycharm": {
     "is_executing": false
    }
   },
   "source": [
    "product_data['NDC_EXCLUDE_FLAG'].value_counts()"
   ],
   "outputs": [
    {
     "data": {
      "text/plain": "N    93238\nName: NDC_EXCLUDE_FLAG, dtype: int64"
     },
     "metadata": {},
     "output_type": "execute_result",
     "execution_count": 27
    }
   ],
   "execution_count": 27
  },
  {
   "cell_type": "markdown",
   "metadata": {},
   "source": [
    "Cette colonne présente seulement une catégorie 'N'."
   ]
  },
  {
   "cell_type": "markdown",
   "metadata": {},
   "source": [
    "# 2. Relations entre attributs\n",
    "## Informations communes\n",
    "Les colonnes 'PRODUCTID' des tables 'package' et 'product' contiennent deux informations concaténées: l'id du produit \n",
    "ainsi que le contenu de leur colonne 'PRODUCTNDC', le code label et le code segment produit.  \n",
    "Dans la documentation NDC, il est précisé que c'est pour prévenir le duplicata de lignes.\n",
    "\n",
    "La colonne 'NDCPACKAGECODE' de la table 'package' contient deux informations concaténées: le code segment du package et \n",
    "le contenu de la colonne 'PRODUCTNDC', le code label et le code segment produit.\n",
    "\n",
    "La colonne 'PACKAGEDESCRIPTION' de la table 'package' contient plusieurs informations concaténées. En plus des \n",
    "informations propres à la description du package, il y a dans la majorité des objets la valeur 'NDCPACKAGECODE' associée\n",
    ".\n",
    "\n",
    "La colonne 'APPLICATIONNUMBER' de la table 'product' présente la majorité du temps le contenu de la colonne \n",
    "'MARKETINGCATEGORYNAME' et spécifie son numéro de série.\n",
    "\n",
    "Dans les deux tables, il existe des colonnes 'STARTMARKETINGDATE',  'ENDMARKETINGDATE' et 'NDCEXLUDEDFLAG'. \n",
    "Elles semblent présenter les mêmes informations.\n",
    "\n",
    "## Corrélation\n",
    "Pour la table 'product':\n",
    "Il semble pouvoir exister une corrélation entre les attributs 'ROUTENAME' et 'DOSAGEFORMNAME' qui présentent des idées \n",
    "d'administration similaires. \n",
    "On peut également considérer l'existance d'une corrélation entre les modes d'administration\n",
    "et les dosages du médicament, donc les attributs 'ROUTENAME', 'DOSAGEFORMNAME' et ceux 'ACTIVE_NUMERATOR_STRENGTH', \n",
    "'ACTIVE_INGRED_UNIT'.\n",
    "L'attribut 'PHARM_CLASS' semble pouvoir être corrélé à l'attribut 'SUBSTANCENAME'."
   ]
  },
  {
   "cell_type": "markdown",
   "metadata": {},
   "source": [
    "# 3. Correction des incohérences\n",
    "On élimine dans un premier temps les duplicata de valeurs dans les attributs 'ACTIVE_NUMERATOR_STRENGTH', \n",
    "'ACTIVE_INGRED_UNIT' de la table 'product'. \n",
    "## Table 'product'"
   ]
  },
  {
   "cell_type": "code",
   "metadata": {
    "pycharm": {
     "is_executing": false
    }
   },
   "source": [
    "\n",
    "# TODO: keep most frequent value\n",
    "dupl_val_cols = ['ACTIVE_NUMERATOR_STRENGTH', 'ACTIVE_INGRED_UNIT']\n",
    "for c in dupl_val_cols:\n",
    "    product_data[c] = product_data[c].replace(to_replace=r'\\;.*', value='', regex=True)"
   ],
   "outputs": [],
   "execution_count": 28
  },
  {
   "cell_type": "markdown",
   "metadata": {},
   "source": [
    "On tranforme toutes les valeurs textuelles des différents attributs.en charactères minuscule"
   ]
  },
  {
   "cell_type": "code",
   "metadata": {
    "pycharm": {
     "is_executing": false
    }
   },
   "source": [
    "cols_to_lower = ['PRODUCTTYPENAME', 'PROPRIETARYNAME', 'PROPRIETARYNAMESUFFIX', 'NONPROPRIETARYNAME',\n",
    "                     'DOSAGEFORMNAME', 'ROUTENAME', 'MARKETINGCATEGORYNAME', 'APPLICATIONNUMBER',\n",
    "                     'LABELERNAME', 'SUBSTANCENAME', 'ACTIVE_INGRED_UNIT', 'PHARM_CLASSES', 'DEASCHEDULE']\n",
    "for c in cols_to_lower:\n",
    "    product_data[c] = product_data[c].str.lower()"
   ],
   "outputs": [],
   "execution_count": 29
  },
  {
   "cell_type": "markdown",
   "metadata": {},
   "source": [
    "Il existerait également une incohérence si l'attribut 'ENDMARKETINGDATE' est moins récent que le 'STARTMARKETINGDATE'.\n",
    "On vérifie s'il en existe dans les tables 'product' et 'package'."
   ]
  },
  {
   "cell_type": "code",
   "metadata": {
    "pycharm": {
     "is_executing": false
    }
   },
   "source": [
    "\n",
    "# conversion to datetime format\n",
    "date_cols = ['STARTMARKETINGDATE', 'ENDMARKETINGDATE', 'LISTING_RECORD_CERTIFIED_THROUGH']\n",
    "for c in date_cols:\n",
    "    product_data[c] = pd.to_datetime(product_data[c], errors='coerce', format='%Y%m%d')\n",
    "\n",
    "# compare STARTMARKETINGDATE and ENDMARKETINGDATE\n",
    "# replace ENDMARKETINGDATE to NaT when incoherence\n",
    "product_data.loc[\n",
    "    (product_data['STARTMARKETINGDATE'] > product_data['ENDMARKETINGDATE']), 'ENDMARKETINGDATE'] = pd.NaT"
   ],
   "outputs": [],
   "execution_count": 30
  },
  {
   "cell_type": "markdown",
   "metadata": {},
   "source": [
    "## Table 'package'\n",
    "La colonne 'PACKAGEDESCRIPTION' contient beaucoup trop d'informations pour être exploitable. Tout d'abord, on garde \n",
    "seulement l'information du package le plus informatif (le dernier) car spécifie le volume le plus précis.\n",
    "On supprime l'information dupliquée du 'NDCPACKAGECODE'. \n",
    "Enfin, on crée une colonne pour chaque information: 'PACKAGESIZE', 'PACKAGEUNIT' et 'PACKAGETYPE'.\n",
    "On peut retirer la colonne 'PACKAGEDESCRIPTION' de la table."
   ]
  },
  {
   "cell_type": "code",
   "metadata": {
    "pycharm": {
     "is_executing": false
    }
   },
   "source": [
    "# keep only most informative packaging and remove duplicate info NDCPACKAGECODE\n",
    "package_data['PACKAGEDESCRIPTION'] = package_data['PACKAGEDESCRIPTION'].replace(to_replace=r'.*(\\>|\\*\\ ) |\\(.*',\n",
    "                                                                                value='', regex=True)\n",
    "\n",
    "# split info into multiple columns\n",
    "search = {0: [], 1: [], 2: []}\n",
    "for values in package_data['PACKAGEDESCRIPTION']:\n",
    "    s = re.search(r'(^\\.?[0-9\\.]+)\\ (.*)\\ in\\ 1\\ (.*)', values)\n",
    "    for i in range(3):\n",
    "        search[i].append(s.group(i + 1))\n",
    "\n",
    "for i, n in enumerate(['PACKAGESIZE', 'PACKAGEUNIT', 'PACKAGETYPE']):\n",
    "    package_data[n] = search[i]"
   ],
   "outputs": [],
   "execution_count": 31
  },
  {
   "cell_type": "markdown",
   "metadata": {},
   "source": [
    "Traitement des colonnes 'STARTMARKETINGDATE', 'ENDMARKETINGDATE' similairement à la table 'product'."
   ]
  },
  {
   "cell_type": "code",
   "metadata": {
    "pycharm": {
     "is_executing": false
    }
   },
   "source": [
    "# conversion to datetime format\n",
    "date_cols = ['STARTMARKETINGDATE', 'ENDMARKETINGDATE']\n",
    "for c in date_cols:\n",
    "    package_data[c] = pd.to_datetime(package_data[c], errors='coerce', format='%Y%m%d')\n",
    "\n",
    "# compare STARTMARKETINGDATE and ENDMARKETINGDATE\n",
    "# replace ENDMARKETINGDATE to NaT when incoherence\n",
    "package_data.loc[\n",
    "    (package_data['STARTMARKETINGDATE'] > package_data['ENDMARKETINGDATE']), 'ENDMARKETINGDATE'] = pd.NaT"
   ],
   "outputs": [],
   "execution_count": 32
  },
  {
   "cell_type": "markdown",
   "metadata": {},
   "source": [
    "# 4. Données manquantes\n",
    "## Table 'package'\n",
    "On s'intéresse aux données manquantes dans les colonnes PRODUCTID, PRODUCTNDC, NDCPACKAGECODE."
   ]
  },
  {
   "cell_type": "code",
   "metadata": {
    "pycharm": {
     "is_executing": false
    }
   },
   "source": [
    "package_missing_ndcpackagecode = package_data.iloc[np.where(pd.isnull(package_data['NDCPACKAGECODE']))]\n",
    "values = package_missing_ndcpackagecode['PACKAGEDESCRIPTION'].str.extract(r'\\((.*?)\\).*')\n",
    "for index, row in values.iterrows():\n",
    "    package_data.loc[index, 'NDCPACKAGECODE'] = row[0]"
   ],
   "outputs": [],
   "execution_count": 33
  },
  {
   "cell_type": "code",
   "metadata": {
    "pycharm": {
     "is_executing": false
    }
   },
   "source": [
    "package_missing_productndc = package_data.iloc[np.where(pd.isnull(package_data['PRODUCTNDC']))]\n",
    "values = package_missing_productndc['NDCPACKAGECODE'].str.extract(r'^([\\w]+-[\\w]+)')\n",
    "for index, row in values.iterrows():\n",
    "    package_data.loc[index, 'PRODUCTNDC'] = row[0]"
   ],
   "outputs": [],
   "execution_count": 34
  },
  {
   "cell_type": "code",
   "metadata": {
    "pycharm": {
     "is_executing": false
    }
   },
   "source": [
    "# TODO : find a way to retrieve PRODUCTID from 'product' table\n",
    "package_missing_ndcproductid = package_data.iloc[np.where(pd.isnull(package_data['PRODUCTID']))]"
   ],
   "outputs": [],
   "execution_count": 35
  },
  {
   "cell_type": "markdown",
   "metadata": {},
   "source": [
    "Il existe des valeurs manquantes pour les colonnes 'STARTMARKETINGDATE' et 'ENDMARKETINGDATE' dans la table 'package'\n",
    "mais on choisit de ne pas les compléter car on ne peut effectuer d'estimation précise. "
   ]
  },
  {
   "cell_type": "markdown",
   "metadata": {},
   "source": [
    "## Table 'product'"
   ]
  },
  {
   "cell_type": "markdown",
   "metadata": {},
   "source": [
    "# 5. Duplications données"
   ]
  },
  {
   "cell_type": "code",
   "metadata": {
    "pycharm": {
     "is_executing": false
    }
   },
   "source": [
    "\n",
    "# TODO: drop column PACKAGEDESCRIPTION"
   ],
   "outputs": [],
   "execution_count": 36
  },
  {
   "cell_type": "markdown",
   "metadata": {},
   "source": [
    "# Transformation en données numériques (après question 8)\n",
    "## Table 'package'"
   ]
  },
  {
   "cell_type": "code",
   "metadata": {
    "pycharm": {
     "is_executing": false
    }
   },
   "source": [
    "\n",
    "transf_package_data = package_data\n",
    "\n",
    "# TODO: change get_dummies to OneHotEncoder\n",
    "# transform PACKAGEUNIT and PACKAGETYPE categorial columns (multiple values) to one hot\n",
    "transf_package_data = pd.concat([transf_package_data, transf_package_data['PACKAGEUNIT']\n",
    "                                .str.get_dummies(sep=', ')\n",
    "                                .add_prefix('PACKAGEUNIT')], axis=1)\n",
    "transf_package_data = transf_package_data.drop(columns=['PACKAGEUNIT'])\n",
    "transf_package_data = pd.concat([transf_package_data, transf_package_data['PACKAGETYPE']\n",
    "                                .str.get_dummies(sep=', ')\n",
    "                                .add_prefix('PACKAGETYPE')], axis=1)\n",
    "transf_package_data = transf_package_data.drop(columns=['PACKAGETYPE'])"
   ],
   "outputs": [],
   "execution_count": 37
  },
  {
   "cell_type": "code",
   "metadata": {
    "pycharm": {
     "is_executing": false
    }
   },
   "source": [
    "\n",
    "# convert PACKAGESIZE to proper numerical value\n",
    "transf_package_data['PACKAGESIZE'] = pd.to_numeric(transf_package_data['PACKAGESIZE'])"
   ],
   "outputs": [],
   "execution_count": 38
  },
  {
   "cell_type": "code",
   "metadata": {
    "pycharm": {
     "is_executing": false
    }
   },
   "source": [
    "\n",
    "# TODO: change get_dummies to OneHotEncoder\n",
    "# convert NDC_EXCLUDE_FLAG and SAMPLE_PACKAGE to one hot\n",
    "transf_package_data = pd.get_dummies(data=transf_package_data, columns=['NDC_EXCLUDE_FLAG', 'SAMPLE_PACKAGE'])"
   ],
   "outputs": [],
   "execution_count": 39
  },
  {
   "cell_type": "markdown",
   "metadata": {},
   "source": [
    "## Table 'product'"
   ]
  },
  {
   "cell_type": "code",
   "metadata": {
    "pycharm": {
     "is_executing": false
    }
   },
   "source": [
    "\n",
    "transf_product_data = product_data\n",
    "\n",
    "# # transform ROUTENAME and DOSAGEFORMNAME categorial columns (multiple values) to one hot\n",
    "# transf_product_data = pd.concat([transf_product_data, transf_product_data['ROUTENAME']\n",
    "#                                 .str.get_dummies(sep='; ')\n",
    "#                                 .add_prefix('ROUTENAME')], axis=1)\n",
    "# transf_product_data = transf_product_data.drop(columns=['ROUTENAME'])\n",
    "# transf_product_data = pd.concat([transf_product_data, transf_product_data['DOSAGEFORMNAME']\n",
    "#                                 .str.get_dummies(sep=', ')\n",
    "#                                 .add_prefix('DOSAGEFORMNAME')], axis=1)\n",
    "# transf_product_data = transf_product_data.drop(columns=['DOSAGEFORMNAME'])\n",
    "#\n",
    "# # %%\n",
    "#\n",
    "# # convert PRODUCTTYPENAME, NDC_EXCLUDE_FLAG to one hot\n",
    "# transf_product_data = pd.get_dummies(data=transf_product_data, columns=['PRODUCTTYPENAME', 'NDC_EXCLUDE_FLAG'])\n",
    "#\n",
    "# # convert ACTIVE_NUMERATOR_STRENGTH to proper numerical value\n",
    "# transf_product_data['ACTIVE_NUMERATOR_STRENGTH'] = pd.to_numeric(transf_product_data['ACTIVE_NUMERATOR_STRENGTH'])"
   ],
   "outputs": [],
   "execution_count": 40
  },
  {
   "cell_type": "code",
   "metadata": {
    "pycharm": {
     "is_executing": false
    }
   },
   "source": [
    "# TODO : one hot MARKETINGCATEGORYNAME\n",
    "# TODO: hash PROPRIETARYNAME NONPROPRIETARYNAME LABELERNAME PROPRIETARYNAMESUFFIX\n",
    "# TODO: separate and hash SUBSTANCENAME PHARM_CLASSES\n",
    "# TODO : split ACTIVE_INGRED_UNIT by '/' (nan others), then one hot each col\n",
    "\n",
    "# TODO: ideas?? APPLICATIONNUMBER\n",
    "# %%\n",
    "# TODO : analysis ratio per category\n",
    "\n",
    "# Save transformed data to file\n",
    "transf_product_data.to_csv('transformed_product_data.csv', sep='\\t', encoding='utf-8')\n",
    "transf_package_data.to_csv('transformed_package_data.csv', sep='\\t', encoding='utf-8')"
   ],
   "outputs": [],
   "execution_count": 41
  }
 ],
 "metadata": {
  "anaconda-cloud": {},
  "kernelspec": {
   "name": "pycharm-3359ad28",
   "language": "python",
   "display_name": "PyCharm (IFT870-TP1)"
  },
  "language_info": {
   "codemirror_mode": {
    "name": "ipython",
    "version": 3
   },
   "file_extension": ".py",
   "mimetype": "text/x-python",
   "name": "python",
   "nbconvert_exporter": "python",
   "pygments_lexer": "ipython3",
   "version": "3.6.1"
  },
  "pycharm": {
   "stem_cell": {
    "cell_type": "raw",
    "source": [],
    "metadata": {
     "collapsed": false
    }
   }
  }
 },
 "nbformat": 4,
 "nbformat_minor": 1
}