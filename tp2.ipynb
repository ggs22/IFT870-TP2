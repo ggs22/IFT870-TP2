{
 "cells": [
  {
   "cell_type": "code",
   "execution_count": 1,
   "metadata": {},
   "outputs": [],
   "source": [
    "import numpy as np\n",
    "import pandas as pd"
   ]
  },
  {
   "cell_type": "code",
   "execution_count": 10,
   "metadata": {},
   "outputs": [],
   "source": [
    "package_file = 'package.csv'\n",
    "product_file = 'product.csv'\n",
    "\n",
    "product_data = pd.read_csv(product_file, sep=';', encoding='latin1')\n",
    "package_data = pd.read_csv(package_file, sep=';')"
   ]
  },
  {
   "cell_type": "markdown",
   "metadata": {},
   "source": [
    "# 1. Auscultation\n",
    "## Etude des données du fichier 'package'"
   ]
  },
  {
   "cell_type": "code",
   "execution_count": 20,
   "metadata": {},
   "outputs": [
    {
     "data": {
      "text/html": [
       "<div>\n",
       "<style scoped>\n",
       "    .dataframe tbody tr th:only-of-type {\n",
       "        vertical-align: middle;\n",
       "    }\n",
       "\n",
       "    .dataframe tbody tr th {\n",
       "        vertical-align: top;\n",
       "    }\n",
       "\n",
       "    .dataframe thead th {\n",
       "        text-align: right;\n",
       "    }\n",
       "</style>\n",
       "<table border=\"1\" class=\"dataframe\">\n",
       "  <thead>\n",
       "    <tr style=\"text-align: right;\">\n",
       "      <th></th>\n",
       "      <th>PRODUCTID</th>\n",
       "      <th>PRODUCTNDC</th>\n",
       "      <th>NDCPACKAGECODE</th>\n",
       "      <th>PACKAGEDESCRIPTION</th>\n",
       "      <th>STARTMARKETINGDATE</th>\n",
       "      <th>ENDMARKETINGDATE</th>\n",
       "      <th>NDC_EXCLUDE_FLAG</th>\n",
       "      <th>SAMPLE_PACKAGE</th>\n",
       "    </tr>\n",
       "  </thead>\n",
       "  <tbody>\n",
       "    <tr>\n",
       "      <th>0</th>\n",
       "      <td>0699-0155_60f08fe4-aacf-c815-e053-2991aa0a3ded</td>\n",
       "      <td>0699-0155</td>\n",
       "      <td>0699-0155-44</td>\n",
       "      <td>1 CANISTER in 1 CARTON (0699-0155-44)  &gt; 125 g...</td>\n",
       "      <td>19000101.0</td>\n",
       "      <td>NaN</td>\n",
       "      <td>N</td>\n",
       "      <td>N</td>\n",
       "    </tr>\n",
       "    <tr>\n",
       "      <th>1</th>\n",
       "      <td>0699-0311_59039cf6-9008-7367-e053-2a91aa0a2fe9</td>\n",
       "      <td>0699-0311</td>\n",
       "      <td>0699-0311-16</td>\n",
       "      <td>498 g in 1 BOTTLE, PLASTIC (0699-0311-16)</td>\n",
       "      <td>19000101.0</td>\n",
       "      <td>NaN</td>\n",
       "      <td>N</td>\n",
       "      <td>N</td>\n",
       "    </tr>\n",
       "    <tr>\n",
       "      <th>2</th>\n",
       "      <td>0699-0312_59039cf6-9008-7367-e053-2a91aa0a2fe9</td>\n",
       "      <td>0699-0312</td>\n",
       "      <td>0699-0312-16</td>\n",
       "      <td>498 g in 1 BOTTLE, PLASTIC (0699-0312-16)</td>\n",
       "      <td>19000101.0</td>\n",
       "      <td>NaN</td>\n",
       "      <td>N</td>\n",
       "      <td>N</td>\n",
       "    </tr>\n",
       "    <tr>\n",
       "      <th>3</th>\n",
       "      <td>0699-0317_59039cf6-9008-7367-e053-2a91aa0a2fe9</td>\n",
       "      <td>0699-0317</td>\n",
       "      <td>0699-0317-16</td>\n",
       "      <td>498 g in 1 BOTTLE, PLASTIC (0699-0317-16)</td>\n",
       "      <td>19000101.0</td>\n",
       "      <td>NaN</td>\n",
       "      <td>N</td>\n",
       "      <td>N</td>\n",
       "    </tr>\n",
       "    <tr>\n",
       "      <th>4</th>\n",
       "      <td>0699-0404_5bc1c974-e7b8-094c-e053-2991aa0ab726</td>\n",
       "      <td>0699-0404</td>\n",
       "      <td>0699-0404-01</td>\n",
       "      <td>28 g in 1 JAR (0699-0404-01)</td>\n",
       "      <td>19000101.0</td>\n",
       "      <td>NaN</td>\n",
       "      <td>N</td>\n",
       "      <td>N</td>\n",
       "    </tr>\n",
       "  </tbody>\n",
       "</table>\n",
       "</div>"
      ],
      "text/plain": [
       "                                        PRODUCTID PRODUCTNDC NDCPACKAGECODE  \\\n",
       "0  0699-0155_60f08fe4-aacf-c815-e053-2991aa0a3ded  0699-0155   0699-0155-44   \n",
       "1  0699-0311_59039cf6-9008-7367-e053-2a91aa0a2fe9  0699-0311   0699-0311-16   \n",
       "2  0699-0312_59039cf6-9008-7367-e053-2a91aa0a2fe9  0699-0312   0699-0312-16   \n",
       "3  0699-0317_59039cf6-9008-7367-e053-2a91aa0a2fe9  0699-0317   0699-0317-16   \n",
       "4  0699-0404_5bc1c974-e7b8-094c-e053-2991aa0ab726  0699-0404   0699-0404-01   \n",
       "\n",
       "                                  PACKAGEDESCRIPTION  STARTMARKETINGDATE  \\\n",
       "0  1 CANISTER in 1 CARTON (0699-0155-44)  > 125 g...          19000101.0   \n",
       "1         498 g in 1 BOTTLE, PLASTIC (0699-0311-16)           19000101.0   \n",
       "2         498 g in 1 BOTTLE, PLASTIC (0699-0312-16)           19000101.0   \n",
       "3         498 g in 1 BOTTLE, PLASTIC (0699-0317-16)           19000101.0   \n",
       "4                      28 g in 1 JAR (0699-0404-01)           19000101.0   \n",
       "\n",
       "   ENDMARKETINGDATE NDC_EXCLUDE_FLAG SAMPLE_PACKAGE  \n",
       "0               NaN                N              N  \n",
       "1               NaN                N              N  \n",
       "2               NaN                N              N  \n",
       "3               NaN                N              N  \n",
       "4               NaN                N              N  "
      ]
     },
     "execution_count": 20,
     "metadata": {},
     "output_type": "execute_result"
    }
   ],
   "source": [
    "package_data.head()"
   ]
  },
  {
   "cell_type": "code",
   "execution_count": 24,
   "metadata": {},
   "outputs": [
    {
     "data": {
      "text/plain": [
       "PACKAGEDESCRIPTION         0\n",
       "NDC_EXCLUDE_FLAG           0\n",
       "SAMPLE_PACKAGE             0\n",
       "PRODUCTID                 41\n",
       "NDCPACKAGECODE           193\n",
       "PRODUCTNDC               210\n",
       "STARTMARKETINGDATE       408\n",
       "ENDMARKETINGDATE      167431\n",
       "dtype: int64"
      ]
     },
     "execution_count": 24,
     "metadata": {},
     "output_type": "execute_result"
    }
   ],
   "source": [
    "package_data.isnull().sum().sort_values()"
   ]
  },
  {
   "cell_type": "markdown",
   "metadata": {},
   "source": [
    "### Colonne PRODUCTID\n",
    "On remarque que, pour chaque objet, la valeur du 'PRODUCTNDC' y est incluse telle un préfixe. Dans la documentation NDC, il est précisé que c'est pour prévenir le duplicata de lignes. Il y a 41 valeurs nulles."
   ]
  },
  {
   "cell_type": "markdown",
   "metadata": {},
   "source": [
    "### Colonne PACKAGEDESCRIPTION\n",
    "Cette colonne est sous forme de phrase et contient de multiples informations. Le volume, son unité, le nombre de contenant et son type. S'il existe plusieurs contenants pour un objet, ils sont concaténés avec un séparateur '>' de manière hiérarchique. Aussi, on remarque aussi que la valeur du 'NDCPACKAGECODE' de l'objet est incluse entre paranthèses. "
   ]
  },
  {
   "cell_type": "markdown",
   "metadata": {},
   "source": [
    "### Colonne STARTMARKETINGDATE\n",
    "Les valeurs de cette colonne sont de type date. Elles ont l'air séquentielles. "
   ]
  },
  {
   "cell_type": "markdown",
   "metadata": {},
   "source": [
    "### Colonne ENDMARKETINGDATE\n",
    "Les valeurs de cette colonne sont de type date. Il existe beaucoup de valeurs manquantes."
   ]
  },
  {
   "cell_type": "markdown",
   "metadata": {},
   "source": [
    "### Colonne NDC_EXCLUDE_FLAG"
   ]
  },
  {
   "cell_type": "code",
   "execution_count": 14,
   "metadata": {},
   "outputs": [
    {
     "data": {
      "text/plain": [
       "array(['N'], dtype=object)"
      ]
     },
     "execution_count": 14,
     "metadata": {},
     "output_type": "execute_result"
    }
   ],
   "source": [
    "package_data['NDC_EXCLUDE_FLAG'].unique()"
   ]
  },
  {
   "cell_type": "markdown",
   "metadata": {},
   "source": [
    "Tous les objets possèdent la valeur N et ne présente aucune valeur manquante. "
   ]
  },
  {
   "cell_type": "markdown",
   "metadata": {},
   "source": [
    "### Colonne SAMPLE_PACKAGE"
   ]
  },
  {
   "cell_type": "code",
   "execution_count": 17,
   "metadata": {},
   "outputs": [
    {
     "data": {
      "text/plain": [
       "N    173223\n",
       "Y       664\n",
       "Name: SAMPLE_PACKAGE, dtype: int64"
      ]
     },
     "execution_count": 17,
     "metadata": {},
     "output_type": "execute_result"
    }
   ],
   "source": [
    "package_data['SAMPLE_PACKAGE'].value_counts()"
   ]
  },
  {
   "cell_type": "markdown",
   "metadata": {},
   "source": [
    "Les valeurs possibles sont 'Y' ou 'N'. Il y a une majorité de 'N' et aucune valeur manquante."
   ]
  },
  {
   "cell_type": "markdown",
   "metadata": {},
   "source": [
    "## Etude des données du fichier 'product'"
   ]
  },
  {
   "cell_type": "code",
   "execution_count": 40,
   "metadata": {
    "scrolled": true
   },
   "outputs": [
    {
     "data": {
      "text/html": [
       "<div>\n",
       "<style scoped>\n",
       "    .dataframe tbody tr th:only-of-type {\n",
       "        vertical-align: middle;\n",
       "    }\n",
       "\n",
       "    .dataframe tbody tr th {\n",
       "        vertical-align: top;\n",
       "    }\n",
       "\n",
       "    .dataframe thead th {\n",
       "        text-align: right;\n",
       "    }\n",
       "</style>\n",
       "<table border=\"1\" class=\"dataframe\">\n",
       "  <thead>\n",
       "    <tr style=\"text-align: right;\">\n",
       "      <th></th>\n",
       "      <th>PRODUCTID</th>\n",
       "      <th>PRODUCTNDC</th>\n",
       "      <th>PRODUCTTYPENAME</th>\n",
       "      <th>PROPRIETARYNAME</th>\n",
       "      <th>PROPRIETARYNAMESUFFIX</th>\n",
       "      <th>NONPROPRIETARYNAME</th>\n",
       "      <th>DOSAGEFORMNAME</th>\n",
       "      <th>ROUTENAME</th>\n",
       "      <th>STARTMARKETINGDATE</th>\n",
       "      <th>ENDMARKETINGDATE</th>\n",
       "      <th>MARKETINGCATEGORYNAME</th>\n",
       "      <th>APPLICATIONNUMBER</th>\n",
       "      <th>LABELERNAME</th>\n",
       "      <th>SUBSTANCENAME</th>\n",
       "      <th>ACTIVE_NUMERATOR_STRENGTH</th>\n",
       "      <th>ACTIVE_INGRED_UNIT</th>\n",
       "      <th>PHARM_CLASSES</th>\n",
       "      <th>DEASCHEDULE</th>\n",
       "      <th>NDC_EXCLUDE_FLAG</th>\n",
       "      <th>LISTING_RECORD_CERTIFIED_THROUGH</th>\n",
       "    </tr>\n",
       "  </thead>\n",
       "  <tbody>\n",
       "    <tr>\n",
       "      <th>0</th>\n",
       "      <td>0699-0155_60f08fe4-aacf-c815-e053-2991aa0a3ded</td>\n",
       "      <td>0699-0155</td>\n",
       "      <td>HUMAN PRESCRIPTION DRUG</td>\n",
       "      <td>Topex Neutral Fluoride Foam</td>\n",
       "      <td>NaN</td>\n",
       "      <td>sodium fluoride</td>\n",
       "      <td>AEROSOL, FOAM</td>\n",
       "      <td>DENTAL</td>\n",
       "      <td>19000101</td>\n",
       "      <td>NaN</td>\n",
       "      <td>UNAPPROVED DRUG OTHER</td>\n",
       "      <td>NaN</td>\n",
       "      <td>Dentsply LLC. Professional Division Trading as...</td>\n",
       "      <td>SODIUM FLUORIDE</td>\n",
       "      <td>.02</td>\n",
       "      <td>g/g</td>\n",
       "      <td>NaN</td>\n",
       "      <td>NaN</td>\n",
       "      <td>N</td>\n",
       "      <td>20201231.0</td>\n",
       "    </tr>\n",
       "    <tr>\n",
       "      <th>1</th>\n",
       "      <td>0699-0311_59039cf6-9008-7367-e053-2a91aa0a2fe9</td>\n",
       "      <td>0699-0311</td>\n",
       "      <td>HUMAN PRESCRIPTION DRUG</td>\n",
       "      <td>Topex 60 Second Fluoride Gel</td>\n",
       "      <td>NaN</td>\n",
       "      <td>Sodium Fluoride</td>\n",
       "      <td>GEL</td>\n",
       "      <td>DENTAL</td>\n",
       "      <td>19000101</td>\n",
       "      <td>NaN</td>\n",
       "      <td>UNAPPROVED DRUG OTHER</td>\n",
       "      <td>NaN</td>\n",
       "      <td>Dentsply LLC. Professional Division Trading as...</td>\n",
       "      <td>SODIUM FLUORIDE</td>\n",
       "      <td>25.9</td>\n",
       "      <td>mg/g</td>\n",
       "      <td>NaN</td>\n",
       "      <td>NaN</td>\n",
       "      <td>N</td>\n",
       "      <td>20201231.0</td>\n",
       "    </tr>\n",
       "    <tr>\n",
       "      <th>2</th>\n",
       "      <td>0699-0312_59039cf6-9008-7367-e053-2a91aa0a2fe9</td>\n",
       "      <td>0699-0312</td>\n",
       "      <td>HUMAN PRESCRIPTION DRUG</td>\n",
       "      <td>Topex 60 Second Fluoride Gel</td>\n",
       "      <td>NaN</td>\n",
       "      <td>Sodium Fluoride</td>\n",
       "      <td>GEL</td>\n",
       "      <td>DENTAL</td>\n",
       "      <td>19000101</td>\n",
       "      <td>NaN</td>\n",
       "      <td>UNAPPROVED DRUG OTHER</td>\n",
       "      <td>NaN</td>\n",
       "      <td>Dentsply LLC. Professional Division Trading as...</td>\n",
       "      <td>SODIUM FLUORIDE</td>\n",
       "      <td>25.9</td>\n",
       "      <td>mg/g</td>\n",
       "      <td>NaN</td>\n",
       "      <td>NaN</td>\n",
       "      <td>N</td>\n",
       "      <td>20201231.0</td>\n",
       "    </tr>\n",
       "    <tr>\n",
       "      <th>3</th>\n",
       "      <td>0699-0317_59039cf6-9008-7367-e053-2a91aa0a2fe9</td>\n",
       "      <td>0699-0317</td>\n",
       "      <td>HUMAN PRESCRIPTION DRUG</td>\n",
       "      <td>Topex 60 Second Fluoride Gel</td>\n",
       "      <td>NaN</td>\n",
       "      <td>Sodium Fluoride</td>\n",
       "      <td>GEL</td>\n",
       "      <td>DENTAL</td>\n",
       "      <td>19000101</td>\n",
       "      <td>NaN</td>\n",
       "      <td>UNAPPROVED DRUG OTHER</td>\n",
       "      <td>NaN</td>\n",
       "      <td>Dentsply LLC. Professional Division Trading as...</td>\n",
       "      <td>SODIUM FLUORIDE</td>\n",
       "      <td>25.9</td>\n",
       "      <td>mg/g</td>\n",
       "      <td>NaN</td>\n",
       "      <td>NaN</td>\n",
       "      <td>N</td>\n",
       "      <td>20201231.0</td>\n",
       "    </tr>\n",
       "    <tr>\n",
       "      <th>4</th>\n",
       "      <td>0699-0404_5bc1c974-e7b8-094c-e053-2991aa0ab726</td>\n",
       "      <td>0699-0404</td>\n",
       "      <td>HUMAN PRESCRIPTION DRUG</td>\n",
       "      <td>Dry Socket</td>\n",
       "      <td>NaN</td>\n",
       "      <td>Guaiacol and Eugenol</td>\n",
       "      <td>PASTE</td>\n",
       "      <td>DENTAL</td>\n",
       "      <td>19000101</td>\n",
       "      <td>NaN</td>\n",
       "      <td>UNAPPROVED DRUG OTHER</td>\n",
       "      <td>NaN</td>\n",
       "      <td>Dentsply LLC, Professional Division, trading a...</td>\n",
       "      <td>GUAIACOL; EUGENOL</td>\n",
       "      <td>.0416; .0416</td>\n",
       "      <td>g/g; g/g</td>\n",
       "      <td>Standardized Chemical Allergen [EPC],Increased...</td>\n",
       "      <td>NaN</td>\n",
       "      <td>N</td>\n",
       "      <td>20201231.0</td>\n",
       "    </tr>\n",
       "  </tbody>\n",
       "</table>\n",
       "</div>"
      ],
      "text/plain": [
       "                                        PRODUCTID PRODUCTNDC  \\\n",
       "0  0699-0155_60f08fe4-aacf-c815-e053-2991aa0a3ded  0699-0155   \n",
       "1  0699-0311_59039cf6-9008-7367-e053-2a91aa0a2fe9  0699-0311   \n",
       "2  0699-0312_59039cf6-9008-7367-e053-2a91aa0a2fe9  0699-0312   \n",
       "3  0699-0317_59039cf6-9008-7367-e053-2a91aa0a2fe9  0699-0317   \n",
       "4  0699-0404_5bc1c974-e7b8-094c-e053-2991aa0ab726  0699-0404   \n",
       "\n",
       "           PRODUCTTYPENAME               PROPRIETARYNAME  \\\n",
       "0  HUMAN PRESCRIPTION DRUG   Topex Neutral Fluoride Foam   \n",
       "1  HUMAN PRESCRIPTION DRUG  Topex 60 Second Fluoride Gel   \n",
       "2  HUMAN PRESCRIPTION DRUG  Topex 60 Second Fluoride Gel   \n",
       "3  HUMAN PRESCRIPTION DRUG  Topex 60 Second Fluoride Gel   \n",
       "4  HUMAN PRESCRIPTION DRUG                    Dry Socket   \n",
       "\n",
       "  PROPRIETARYNAMESUFFIX    NONPROPRIETARYNAME DOSAGEFORMNAME ROUTENAME  \\\n",
       "0                   NaN       sodium fluoride  AEROSOL, FOAM    DENTAL   \n",
       "1                   NaN       Sodium Fluoride            GEL    DENTAL   \n",
       "2                   NaN       Sodium Fluoride            GEL    DENTAL   \n",
       "3                   NaN       Sodium Fluoride            GEL    DENTAL   \n",
       "4                   NaN  Guaiacol and Eugenol          PASTE    DENTAL   \n",
       "\n",
       "   STARTMARKETINGDATE  ENDMARKETINGDATE  MARKETINGCATEGORYNAME  \\\n",
       "0            19000101               NaN  UNAPPROVED DRUG OTHER   \n",
       "1            19000101               NaN  UNAPPROVED DRUG OTHER   \n",
       "2            19000101               NaN  UNAPPROVED DRUG OTHER   \n",
       "3            19000101               NaN  UNAPPROVED DRUG OTHER   \n",
       "4            19000101               NaN  UNAPPROVED DRUG OTHER   \n",
       "\n",
       "  APPLICATIONNUMBER                                        LABELERNAME  \\\n",
       "0               NaN  Dentsply LLC. Professional Division Trading as...   \n",
       "1               NaN  Dentsply LLC. Professional Division Trading as...   \n",
       "2               NaN  Dentsply LLC. Professional Division Trading as...   \n",
       "3               NaN  Dentsply LLC. Professional Division Trading as...   \n",
       "4               NaN  Dentsply LLC, Professional Division, trading a...   \n",
       "\n",
       "       SUBSTANCENAME ACTIVE_NUMERATOR_STRENGTH ACTIVE_INGRED_UNIT  \\\n",
       "0    SODIUM FLUORIDE                       .02                g/g   \n",
       "1    SODIUM FLUORIDE                      25.9               mg/g   \n",
       "2    SODIUM FLUORIDE                      25.9               mg/g   \n",
       "3    SODIUM FLUORIDE                      25.9               mg/g   \n",
       "4  GUAIACOL; EUGENOL              .0416; .0416           g/g; g/g   \n",
       "\n",
       "                                       PHARM_CLASSES DEASCHEDULE  \\\n",
       "0                                                NaN         NaN   \n",
       "1                                                NaN         NaN   \n",
       "2                                                NaN         NaN   \n",
       "3                                                NaN         NaN   \n",
       "4  Standardized Chemical Allergen [EPC],Increased...         NaN   \n",
       "\n",
       "  NDC_EXCLUDE_FLAG  LISTING_RECORD_CERTIFIED_THROUGH  \n",
       "0                N                        20201231.0  \n",
       "1                N                        20201231.0  \n",
       "2                N                        20201231.0  \n",
       "3                N                        20201231.0  \n",
       "4                N                        20201231.0  "
      ]
     },
     "execution_count": 40,
     "metadata": {},
     "output_type": "execute_result"
    }
   ],
   "source": [
    "product_data.head()"
   ]
  },
  {
   "cell_type": "code",
   "execution_count": 19,
   "metadata": {},
   "outputs": [
    {
     "data": {
      "text/plain": [
       "PRODUCTID                               0\n",
       "PRODUCTNDC                              0\n",
       "PRODUCTTYPENAME                         0\n",
       "DOSAGEFORMNAME                          0\n",
       "STARTMARKETINGDATE                      0\n",
       "NDC_EXCLUDE_FLAG                        0\n",
       "MARKETINGCATEGORYNAME                   0\n",
       "NONPROPRIETARYNAME                      4\n",
       "PROPRIETARYNAME                         6\n",
       "LABELERNAME                           557\n",
       "ROUTENAME                            1932\n",
       "ACTIVE_INGRED_UNIT                   2309\n",
       "ACTIVE_NUMERATOR_STRENGTH            2309\n",
       "SUBSTANCENAME                        2309\n",
       "LISTING_RECORD_CERTIFIED_THROUGH     4325\n",
       "APPLICATIONNUMBER                   13097\n",
       "PHARM_CLASSES                       51009\n",
       "PROPRIETARYNAMESUFFIX               83075\n",
       "DEASCHEDULE                         88815\n",
       "ENDMARKETINGDATE                    88915\n",
       "dtype: int64"
      ]
     },
     "execution_count": 19,
     "metadata": {},
     "output_type": "execute_result"
    }
   ],
   "source": [
    "product_data.isnull().sum().sort_values()"
   ]
  },
  {
   "cell_type": "markdown",
   "metadata": {},
   "source": [
    "### Colonne PRODUCTID"
   ]
  },
  {
   "cell_type": "code",
   "execution_count": 22,
   "metadata": {},
   "outputs": [
    {
     "data": {
      "text/plain": [
       "HUMAN OTC DRUG                 46172\n",
       "HUMAN PRESCRIPTION DRUG        44526\n",
       "NON-STANDARDIZED ALLERGENIC     2008\n",
       "PLASMA DERIVATIVE                294\n",
       "STANDARDIZED ALLERGENIC          124\n",
       "VACCINE                          108\n",
       "CELLULAR THERAPY                   6\n",
       "Name: PRODUCTTYPENAME, dtype: int64"
      ]
     },
     "execution_count": 22,
     "metadata": {},
     "output_type": "execute_result"
    }
   ],
   "source": [
    "product_data['PRODUCTTYPENAME'].value_counts()"
   ]
  },
  {
   "cell_type": "markdown",
   "metadata": {},
   "source": [
    "On remarque que, pour chaque objet, la valeur du 'PRODUCTNDC' y est incluse telle un préfixe. Dans la documentation NDC, il est précisé que c'est pour prévenir le duplicata de lignes."
   ]
  },
  {
   "cell_type": "markdown",
   "metadata": {},
   "source": [
    "### Colonne PRODUCTTYPENAME\n",
    "Il y a 7 valeurs possibles textuelles catégorielles dans cette colonne."
   ]
  },
  {
   "cell_type": "markdown",
   "metadata": {},
   "source": [
    "### Colonne PROPRIETARYNAME"
   ]
  },
  {
   "cell_type": "code",
   "execution_count": 23,
   "metadata": {},
   "outputs": [
    {
     "data": {
      "text/plain": [
       "32716"
      ]
     },
     "execution_count": 23,
     "metadata": {},
     "output_type": "execute_result"
    }
   ],
   "source": [
    "product_data['PROPRIETARYNAME'].nunique()"
   ]
  },
  {
   "cell_type": "code",
   "execution_count": 37,
   "metadata": {},
   "outputs": [
    {
     "data": {
      "text/plain": [
       "393    SUGAR FREE ORIGINAL SWISS HERB COUGH SUPPRESSA...\n",
       "394    Sugar Free Mountain Herb Cough Suppressant Thr...\n",
       "395                                              Albuked\n",
       "396                                              Demerol\n",
       "397                                              Demerol\n",
       "398                                              Desoxyn\n",
       "399                                               OXYGEN\n",
       "400                                               Oxygen\n",
       "Name: PROPRIETARYNAME, dtype: object"
      ]
     },
     "execution_count": 37,
     "metadata": {},
     "output_type": "execute_result"
    }
   ],
   "source": [
    "product_data['PROPRIETARYNAME'][393:401]"
   ]
  },
  {
   "cell_type": "markdown",
   "metadata": {},
   "source": [
    "Dans cette colonne, il existe un grand nombre de valeurs différentes. Les mêmes valeurs peuvent être présentes sous \n",
    "différentes formes notamment en minuscules ou majuscules, il existe donc une inconsistance entre les valeurs."
   ]
  },
  {
   "cell_type": "markdown",
   "metadata": {},
   "source": [
    "### Colonne PROPRIETARYNAMESUFFIX"
   ]
  },
  {
   "cell_type": "code",
   "execution_count": 34,
   "metadata": {},
   "outputs": [
    {
     "data": {
      "text/plain": [
       "4022"
      ]
     },
     "execution_count": 34,
     "metadata": {},
     "output_type": "execute_result"
    }
   ],
   "source": [
    "product_data['PROPRIETARYNAMESUFFIX'].nunique()"
   ]
  },
  {
   "cell_type": "markdown",
   "metadata": {},
   "source": [
    "Dans cette colonne, il y a un nombre important de valeurs manquantes. Ces valeurs sont textuelles et il existe un nombre \n",
    "élevé de valeurs différentes."
   ]
  },
  {
   "cell_type": "markdown",
   "metadata": {},
   "source": [
    "### Colonne NONPROPRIETARYNAME"
   ]
  },
  {
   "cell_type": "code",
   "execution_count": 39,
   "metadata": {},
   "outputs": [
    {
     "data": {
      "text/plain": [
       "16257"
      ]
     },
     "execution_count": 39,
     "metadata": {},
     "output_type": "execute_result"
    }
   ],
   "source": [
    "product_data['NONPROPRIETARYNAME'].nunique()"
   ]
  },
  {
   "cell_type": "code",
   "execution_count": 36,
   "metadata": {},
   "outputs": [
    {
     "data": {
      "text/plain": [
       "2         Sodium Fluoride\n",
       "3         Sodium Fluoride\n",
       "4    Guaiacol and Eugenol\n",
       "5         sodium fluoride\n",
       "Name: NONPROPRIETARYNAME, dtype: object"
      ]
     },
     "execution_count": 36,
     "metadata": {},
     "output_type": "execute_result"
    }
   ],
   "source": [
    "product_data['NONPROPRIETARYNAME'][2:6]"
   ]
  },
  {
   "cell_type": "markdown",
   "metadata": {},
   "source": [
    "Cette colonne présente seulement 4 valeurs manquantes. Ceux sont des données textuelles inconsistantes, par exemple pouvant représenter la même valeur en caratères minuscules ou majuscules. Il y a un nombre très important de valeurs différentes."
   ]
  },
  {
   "cell_type": "markdown",
   "metadata": {},
   "source": [
    "### Colonne DOSAGEFORMNAME"
   ]
  },
  {
   "cell_type": "code",
   "execution_count": 41,
   "metadata": {},
   "outputs": [
    {
     "data": {
      "text/plain": [
       "TABLET                              15442\n",
       "TABLET, FILM COATED                  9387\n",
       "LIQUID                               8764\n",
       "CREAM                                5104\n",
       "CAPSULE                              4824\n",
       "                                    ...  \n",
       "SOLUTION, GEL FORMING / DROPS           1\n",
       "FOR SUSPENSION, EXTENDED RELEASE        1\n",
       "INJECTION, LIPID COMPLEX                1\n",
       "CHEWABLE GEL                            1\n",
       "CRYSTAL                                 1\n",
       "Name: DOSAGEFORMNAME, Length: 134, dtype: int64"
      ]
     },
     "execution_count": 41,
     "metadata": {},
     "output_type": "execute_result"
    }
   ],
   "source": [
    "product_data['DOSAGEFORMNAME'].value_counts()"
   ]
  },
  {
   "cell_type": "markdown",
   "metadata": {},
   "source": [
    "Cette colonne contient 134 différentes valeurs textuelles. Comme on peut le voir, différentes catégories peuvent être affectées au même objet. La colonne ne présente aucune valeur manquante."
   ]
  },
  {
   "cell_type": "markdown",
   "metadata": {},
   "source": [
    "### Colonne ROUTENAME"
   ]
  },
  {
   "cell_type": "code",
   "execution_count": 42,
   "metadata": {},
   "outputs": [
    {
     "data": {
      "text/plain": [
       "ORAL                                                                         54704\n",
       "TOPICAL                                                                      21547\n",
       "INTRAVENOUS                                                                   3374\n",
       "INTRADERMAL; PERCUTANEOUS; SUBCUTANEOUS                                       1315\n",
       "RESPIRATORY (INHALATION)                                                      1257\n",
       "                                                                             ...  \n",
       "INTRA-ARTICULAR; INTRALESIONAL; INTRAMUSCULAR; INTRASYNOVIAL; SOFT TISSUE        1\n",
       "ORAL; ORAL; ORAL                                                                 1\n",
       "NASOGASTRIC                                                                      1\n",
       "HEMODIALYSIS; INTRAVENOUS                                                        1\n",
       "INTRACORONARY; RESPIRATORY (INHALATION)                                          1\n",
       "Name: ROUTENAME, Length: 180, dtype: int64"
      ]
     },
     "execution_count": 42,
     "metadata": {},
     "output_type": "execute_result"
    }
   ],
   "source": [
    "product_data['ROUTENAME'].value_counts()"
   ]
  },
  {
   "cell_type": "markdown",
   "metadata": {},
   "source": [
    "Cette colonne contient 180 différentes valeurs textuelles. Comme on peut le voir, différentes catégories peuvent être affectées au même objet. La colonne présente 1932 valeurs manquantes."
   ]
  },
  {
   "cell_type": "code",
   "execution_count": null,
   "metadata": {},
   "outputs": [],
   "source": []
  }
 ],
 "metadata": {
  "kernelspec": {
   "display_name": "Python 3",
   "language": "python",
   "name": "python3"
  },
  "language_info": {
   "codemirror_mode": {
    "name": "ipython",
    "version": 3
   },
   "file_extension": ".py",
   "mimetype": "text/x-python",
   "name": "python",
   "nbconvert_exporter": "python",
   "pygments_lexer": "ipython3",
   "version": "3.7.1"
  }
 },
 "nbformat": 4,
 "nbformat_minor": 4
}
