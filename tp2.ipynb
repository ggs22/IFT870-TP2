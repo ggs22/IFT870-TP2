{
 "cells": [
  {
   "cell_type": "code",
   "execution_count": 1,
   "metadata": {},
   "outputs": [],
   "source": [
    "import numpy as np\n",
    "import pandas as pd"
   ]
  },
  {
   "cell_type": "code",
   "execution_count": 26,
   "metadata": {},
   "outputs": [],
   "source": [
    "package_file = 'package.csv'\n",
    "product_file = 'product.csv'\n",
    "\n",
    "product_data = pd.read_csv(product_file, skiprows=1, names=cols[:-1] + ['unknown'], encoding ='latin1')\n",
    "package_data = pd.read_csv(package_file, skiprows=1, names=cols[:-1] + ['unknown'])\n"
   ]
  },
  {
   "cell_type": "markdown",
   "metadata": {},
   "source": [
    "Etude des données 'package'"
   ]
  },
  {
   "cell_type": "code",
   "execution_count": 27,
   "metadata": {},
   "outputs": [
    {
     "data": {
      "text/html": [
       "<div>\n",
       "<style scoped>\n",
       "    .dataframe tbody tr th:only-of-type {\n",
       "        vertical-align: middle;\n",
       "    }\n",
       "\n",
       "    .dataframe tbody tr th {\n",
       "        vertical-align: top;\n",
       "    }\n",
       "\n",
       "    .dataframe thead th {\n",
       "        text-align: right;\n",
       "    }\n",
       "</style>\n",
       "<table border=\"1\" class=\"dataframe\">\n",
       "  <thead>\n",
       "    <tr style=\"text-align: right;\">\n",
       "      <th></th>\n",
       "      <th>PRODUCTID</th>\n",
       "      <th>PRODUCTNDC</th>\n",
       "      <th>NDCPACKAGECODE</th>\n",
       "      <th>PACKAGEDESCRIPTION</th>\n",
       "      <th>STARTMARKETINGDATE</th>\n",
       "      <th>ENDMARKETINGDATE</th>\n",
       "      <th>NDC_EXCLUDE_FLAG</th>\n",
       "      <th>unknown</th>\n",
       "    </tr>\n",
       "  </thead>\n",
       "  <tbody>\n",
       "    <tr>\n",
       "      <th>0</th>\n",
       "      <td>0699-0155_60f08fe4-aacf-c815-e053-2991aa0a3ded</td>\n",
       "      <td>0699-0155</td>\n",
       "      <td>0699-0155-44</td>\n",
       "      <td>1 CANISTER in 1 CARTON (0699-0155-44)  &gt; 125 g...</td>\n",
       "      <td>19000101</td>\n",
       "      <td>NaN</td>\n",
       "      <td>N</td>\n",
       "      <td>N</td>\n",
       "    </tr>\n",
       "    <tr>\n",
       "      <th>1</th>\n",
       "      <td>0699-0311_59039cf6-9008-7367-e053-2a91aa0a2fe9</td>\n",
       "      <td>0699-0311</td>\n",
       "      <td>0699-0311-16</td>\n",
       "      <td>498 g in 1 BOTTLE</td>\n",
       "      <td>PLASTIC (0699-0311-16)</td>\n",
       "      <td>19000101</td>\n",
       "      <td>NaN</td>\n",
       "      <td>N</td>\n",
       "    </tr>\n",
       "    <tr>\n",
       "      <th>2</th>\n",
       "      <td>0699-0312_59039cf6-9008-7367-e053-2a91aa0a2fe9</td>\n",
       "      <td>0699-0312</td>\n",
       "      <td>0699-0312-16</td>\n",
       "      <td>498 g in 1 BOTTLE</td>\n",
       "      <td>PLASTIC (0699-0312-16)</td>\n",
       "      <td>19000101</td>\n",
       "      <td>NaN</td>\n",
       "      <td>N</td>\n",
       "    </tr>\n",
       "    <tr>\n",
       "      <th>3</th>\n",
       "      <td>0699-0317_59039cf6-9008-7367-e053-2a91aa0a2fe9</td>\n",
       "      <td>0699-0317</td>\n",
       "      <td>0699-0317-16</td>\n",
       "      <td>498 g in 1 BOTTLE</td>\n",
       "      <td>PLASTIC (0699-0317-16)</td>\n",
       "      <td>19000101</td>\n",
       "      <td>NaN</td>\n",
       "      <td>N</td>\n",
       "    </tr>\n",
       "    <tr>\n",
       "      <th>4</th>\n",
       "      <td>0699-0404_5bc1c974-e7b8-094c-e053-2991aa0ab726</td>\n",
       "      <td>0699-0404</td>\n",
       "      <td>0699-0404-01</td>\n",
       "      <td>28 g in 1 JAR (0699-0404-01)</td>\n",
       "      <td>19000101</td>\n",
       "      <td>NaN</td>\n",
       "      <td>N</td>\n",
       "      <td>N</td>\n",
       "    </tr>\n",
       "  </tbody>\n",
       "</table>\n",
       "</div>"
      ],
      "text/plain": [
       "                                        PRODUCTID PRODUCTNDC NDCPACKAGECODE  \\\n",
       "0  0699-0155_60f08fe4-aacf-c815-e053-2991aa0a3ded  0699-0155   0699-0155-44   \n",
       "1  0699-0311_59039cf6-9008-7367-e053-2a91aa0a2fe9  0699-0311   0699-0311-16   \n",
       "2  0699-0312_59039cf6-9008-7367-e053-2a91aa0a2fe9  0699-0312   0699-0312-16   \n",
       "3  0699-0317_59039cf6-9008-7367-e053-2a91aa0a2fe9  0699-0317   0699-0317-16   \n",
       "4  0699-0404_5bc1c974-e7b8-094c-e053-2991aa0ab726  0699-0404   0699-0404-01   \n",
       "\n",
       "                                  PACKAGEDESCRIPTION  \\\n",
       "0  1 CANISTER in 1 CARTON (0699-0155-44)  > 125 g...   \n",
       "1                                  498 g in 1 BOTTLE   \n",
       "2                                  498 g in 1 BOTTLE   \n",
       "3                                  498 g in 1 BOTTLE   \n",
       "4                      28 g in 1 JAR (0699-0404-01)    \n",
       "\n",
       "         STARTMARKETINGDATE ENDMARKETINGDATE NDC_EXCLUDE_FLAG unknown  \n",
       "0                  19000101              NaN                N       N  \n",
       "1   PLASTIC (0699-0311-16)          19000101              NaN       N  \n",
       "2   PLASTIC (0699-0312-16)          19000101              NaN       N  \n",
       "3   PLASTIC (0699-0317-16)          19000101              NaN       N  \n",
       "4                  19000101              NaN                N       N  "
      ]
     },
     "execution_count": 27,
     "metadata": {},
     "output_type": "execute_result"
    }
   ],
   "source": [
    "package_data.head()"
   ]
  },
  {
   "cell_type": "code",
   "execution_count": 28,
   "metadata": {},
   "outputs": [
    {
     "data": {
      "text/plain": [
       "PACKAGEDESCRIPTION        0\n",
       "PRODUCTID                41\n",
       "NDCPACKAGECODE          193\n",
       "PRODUCTNDC              210\n",
       "STARTMARKETINGDATE      235\n",
       "unknown               17322\n",
       "NDC_EXCLUDE_FLAG      62254\n",
       "ENDMARKETINGDATE      85833\n",
       "dtype: int64"
      ]
     },
     "execution_count": 28,
     "metadata": {},
     "output_type": "execute_result"
    }
   ],
   "source": [
    "package_data.isnull().sum().sort_values()\n"
   ]
  },
  {
   "cell_type": "code",
   "execution_count": null,
   "metadata": {},
   "outputs": [],
   "source": []
  },
  {
   "cell_type": "code",
   "execution_count": null,
   "metadata": {},
   "outputs": [],
   "source": []
  }
 ],
 "metadata": {
  "kernelspec": {
   "display_name": "Python 3",
   "language": "python",
   "name": "python3"
  },
  "language_info": {
   "codemirror_mode": {
    "name": "ipython",
    "version": 3
   },
   "file_extension": ".py",
   "mimetype": "text/x-python",
   "name": "python",
   "nbconvert_exporter": "python",
   "pygments_lexer": "ipython3",
   "version": "3.7.1"
  }
 },
 "nbformat": 4,
 "nbformat_minor": 4
}
