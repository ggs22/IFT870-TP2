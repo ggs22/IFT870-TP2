{
 "cells": [
  {
   "cell_type": "code",
   "metadata": {
    "pycharm": {
     "is_executing": false
    }
   },
   "source": [
    "\n",
    "import numpy as np\n",
    "import pandas as pd\n",
    "import re\n",
    "import csv\n",
    "import os\n",
    "import pickle\n",
    "\n",
    "from _datetime import datetime\n",
    "from sklearn.preprocessing import OneHotEncoder"
   ],
   "outputs": [],
   "execution_count": 3
  },
  {
   "cell_type": "code",
   "metadata": {
    "pycharm": {
     "is_executing": false
    }
   },
   "source": [
    "\n",
    "product_headers_to_encode = ['PRODUCTTYPENAME', 'ROUTENAME', 'DOSAGEFORMNAME', 'MARKETINGCATEGORYNAME', 'ACTIVE_NUMERATOR_STRENGTH', 'ACTIVE_INGRED_UNIT']\n",
    "package_headers_to_encode = ['PACKAGEUNIT', 'PACKAGETYPE']\n",
    "\n",
    "target_encoding = 'utf-8'\n",
    "separ = '\\t'\n",
    "custom_sep = ' ?[|,;:<>] ?|^ | $'\n",
    "\n",
    "product_file = 'Product2.csv'\n",
    "package_file = 'Package2.csv'\n",
    "\n",
    "encoder_dir = 'encoders/'\n",
    "encoding_dir = 'enconding_dic/'\n",
    "\n",
    "encoded_product_file = 'transformed_product_data.csv'\n",
    "encoded_package_file = 'transformed_package_data.csv'\n",
    "\n",
    "product_encode_file_exist = False\n",
    "package_encode_file_exist = False\n",
    "\n",
    "\n",
    "# TODO incohernce entre dates\n",
    "# TODO incohernce entre routname / forme\n",
    "# TODO incohernce entre valeurs numeric abberantes (ordre de grandeur)\n",
    "# TODO incohernce entre valeurs phase et l'emballage\n",
    "# TODO tester imputatin itérative\n",
    "\n",
    "def assert_table_completeness(table):\n",
    "    empty_cells = table.shape[0] - table.count(axis=0)\n",
    "    unique_values = table.nunique(axis=0)\n",
    "\n",
    "    print('Empty cells:\\n{}\\n'.format(empty_cells))\n",
    "    print('Unique values:\\n{}\\n'.format(unique_values))\n",
    "\n",
    "\n",
    "def assert_product_id_completeness(table, header):\n",
    "    empty_cells = table.shape[0] - table.count(axis=0)\n",
    "    unique_values = table.nunique(axis=0)\n",
    "\n",
    "    if empty_cells[header] == 0:\n",
    "        print('No empty values in the {} column'.format(header))\n",
    "    else:\n",
    "        print('There are {} empty values in the {} column'.format(empty_cells[header], header))\n",
    "\n",
    "    if unique_values[header] == table.shape[0]:\n",
    "        print('No duplicat values in the {} column'.format(header))\n",
    "    else:\n",
    "        print('There are {} duplicat values in the {} column\\n\\n'.format(table.shape[0] - unique_values[header], header))\n",
    "\n",
    "\n",
    "def get_unique_values(table, headers=''):\n",
    "    uniques = {}\n",
    "    if headers == '':\n",
    "        cols = table.columns.values\n",
    "        for n, c in enumerate(cols):\n",
    "            uniques[c] = pd.unique(table[c])\n",
    "    elif type(headers) is list:\n",
    "        for header in headers:\n",
    "            uniques[header] = pd.unique(table[header])\n",
    "    elif type(headers) is str:\n",
    "        uniques[headers] = pd.unique(table[headers])\n",
    "    return uniques\n",
    "\n",
    "\n",
    "def df_to_lower(table, columns='all'):\n",
    "    cols = table.columns.values if columns == 'all' else columns\n",
    "    for c in cols:\n",
    "        try:\n",
    "            table[c] = table[c].str.lower()\n",
    "        except:\n",
    "            pass\n",
    "\n",
    "\n",
    "def get_decomposed_uniques(table, header):\n",
    "    decomposed_uniques = {}\n",
    "    if type(header) is str:\n",
    "        for unique_header, uniques in get_unique_values(table, header).items():\n",
    "            tmp_lst = []\n",
    "            for val in uniques:\n",
    "                if type(val) is str:\n",
    "                    for decomposed in re.split(custom_sep, val):\n",
    "                        if decomposed != '' and not decomposed in tmp_lst:\n",
    "                            tmp_lst.append(decomposed)\n",
    "\n",
    "            tmp_lst.sort()\n",
    "            decomposed_uniques[unique_header] = tmp_lst\n",
    "    else:\n",
    "        raise TypeError('header should be a string representing a column header')\n",
    "\n",
    "    return pd.DataFrame.from_dict(decomposed_uniques)\n",
    "\n",
    "\n",
    "def get_onehot_encoders(table, cols):\n",
    "    encoder_dict = {}\n",
    "    for col in cols:\n",
    "        uniques_vals = get_decomposed_uniques(table, header=col)\n",
    "        enc = OneHotEncoder(handle_unknown='ignore')\n",
    "        enc.fit_transform(uniques_vals)\n",
    "        encoder_dict[col] = enc\n",
    "    return encoder_dict\n",
    "\n",
    "\n",
    "def onehot_encode(table, header):\n",
    "    # Create onehot codes for the specidfied column\n",
    "    lst = []\n",
    "    encoder_dict = get_onehot_encoders(table, [header])\n",
    "\n",
    "    count = 0\n",
    "    for index in range(table.shape[0]):\n",
    "        _tmp = np.zeros([1, len(encoder_dict[header].categories_[0])], dtype=int)\n",
    "        if type(table.loc[index, header]) is str:\n",
    "            for decomposed in re.split(custom_sep, table.loc[index, header]):\n",
    "                _tmp |= np.int_(encoder_dict[header].transform([[decomposed]]).toarray())\n",
    "            lst.append(_tmp)\n",
    "\n",
    "        # Update loading bar\n",
    "        if count == 1000:\n",
    "            progress(index, table.shape[0])\n",
    "            count = 0\n",
    "        count += 1\n",
    "\n",
    "    print(\" -> Done\", flush=True)\n",
    "\n",
    "    # Replace dataframe column by encoded values\n",
    "    table.loc[:, header] = pd.Series(lst)\n",
    "\n",
    "    # return the encoder associated to that particular header\n",
    "    return encoder_dict[header]\n",
    "\n",
    "\n",
    "def time_methode(methode, status='', **kwargs):\n",
    "    print('Timing {}'.format(methode.__name__))\n",
    "    if status != '':\n",
    "        print(status)\n",
    "    start_time = datetime.now()\n",
    "    print('Start time: {}'.format(start_time))\n",
    "    ret = methode(**kwargs)\n",
    "    end_time = datetime.now()\n",
    "    print('End time: {}'.format(end_time))\n",
    "    print('{} took: {}'.format(methode.__name__, (end_time - start_time)))\n",
    "    if ret != '':\n",
    "        return ret\n",
    "    else:\n",
    "        ret = 0\n",
    "    return ret\n",
    "\n",
    "\n",
    "def progress(count, total, status=''):\n",
    "    bar_len = 50\n",
    "    filled_len = int(round(bar_len * count / float(total)))\n",
    "    _str = ''\n",
    "    percents = np.ceil(100.0 * count / float(total))\n",
    "    bar = '=' * filled_len + ':' * (bar_len - filled_len)\n",
    "\n",
    "    if status == '':\n",
    "        _str = '|{}| {}%'.format(bar, percents)\n",
    "    else:\n",
    "        _str = '|{}| {}% - {}'.format(bar, percents, status)\n",
    "\n",
    "    print('\\r', end='', flush=True)\n",
    "    print(_str, end='', flush=True)\n",
    "\n",
    "\n",
    "\"\"\"\n",
    "Load data:\n",
    "    Will look for existing files to deserialize prior encoding data. If the files are not found\n",
    "    it will proceed with the original data through encoding.\n",
    "\"\"\"\n",
    "product_encode_file_exist = os.path.isfile(encoded_product_file)\n",
    "package_encode_file_exist = os.path.isfile(encoded_package_file)\n",
    "\n",
    "enc_dic = {}\n",
    "\n",
    "original_product_data = pd.read_csv(product_file, sep=';', encoding='latin1')\n",
    "original_package_data = pd.read_csv(package_file, sep=';', encoding='latin1')\n",
    "\n",
    "if product_encode_file_exist:\n",
    "    print('Loading encoded product data from existing file...')\n",
    "    product_data = pd.read_csv(encoded_product_file, sep=separ, encoding=target_encoding)\n",
    "\n",
    "    # Populate onehot encoders dictionnary\n",
    "    for header in product_headers_to_encode:\n",
    "        enc_dic[header] = pickle.load(open(encoder_dir + '{}_data_encoder.pkl'.format(header), 'rb'))\n",
    "else:\n",
    "    product_data = original_product_data\n",
    "\n",
    "if package_encode_file_exist:\n",
    "    print('Loading encoded package data from existing file...')\n",
    "    package_data = pd.read_csv(encoded_package_file, sep=separ, encoding=target_encoding)\n",
    "\n",
    "    # Populate onehot encoders dictionnary\n",
    "    for header in package_headers_to_encode:\n",
    "        enc_dic[header] = pickle.load(open(encoder_dir + '{}_data_encoder.pkl'.format(header), 'rb'))\n",
    "else:\n",
    "    package_data = original_package_data\n",
    "\n",
    "# Make everything lower characters in both tables\n",
    "df_to_lower(product_data)\n",
    "df_to_lower(package_data)\n",
    "\n",
    "if product_encode_file_exist:\n",
    "    print('Get unique values for ROUTENAME column of PRODUCT table')\n",
    "    product_unique_values = get_decomposed_uniques(original_product_data, 'ROUTENAME')\n",
    "    print(product_unique_values)\n",
    "    print(enc_dic['ROUTENAME'].categories_[0])"
   ],
   "outputs": [],
   "execution_count": 4
  },
  {
   "cell_type": "markdown",
   "metadata": {},
   "source": [
    "# 1. Auscultation\n",
    "## Etude des données du fichier 'package'"
   ]
  },
  {
   "cell_type": "code",
   "metadata": {
    "pycharm": {
     "is_executing": false
    }
   },
   "source": [
    "package_data.head()"
   ],
   "outputs": [
    {
     "data": {
      "text/plain": "                                        PRODUCTID PRODUCTNDC NDCPACKAGECODE  \\\n0  0002-0800_94c48759-29bb-402d-afff-9a713be11f0e  0002-0800   0002-0800-01   \n1  0002-1200_35551a38-7a8d-43b8-8abd-f6cb7549e932  0002-1200   0002-1200-30   \n2  0002-1200_35551a38-7a8d-43b8-8abd-f6cb7549e932  0002-1200   0002-1200-50   \n3  0002-1433_42a80046-fd68-4b80-819c-a443b7816edb  0002-1433   0002-1433-61   \n4  0002-1433_42a80046-fd68-4b80-819c-a443b7816edb  0002-1433   0002-1433-80   \n\n                                  PACKAGEDESCRIPTION  STARTMARKETINGDATE  \\\n0  1 vial in 1 carton (0002-0800-01)  > 10 ml in ...            19870710   \n1  1 vial, multi-dose in 1 can (0002-1200-30)  > ...            20120601   \n2  1 vial, multi-dose in 1 can (0002-1200-50)  > ...            20120601   \n3  2 syringe in 1 carton (0002-1433-61)  > .5 ml ...            20141107   \n4  4 syringe in 1 carton (0002-1433-80)  > .5 ml ...            20141107   \n\n   ENDMARKETINGDATE NDC_EXCLUDE_FLAG SAMPLE_PACKAGE  \n0               NaN                n              n  \n1               NaN                n              n  \n2               NaN                n              n  \n3               NaN                n              y  \n4               NaN                n              n  ",
      "text/html": "<div>\n<style scoped>\n    .dataframe tbody tr th:only-of-type {\n        vertical-align: middle;\n    }\n\n    .dataframe tbody tr th {\n        vertical-align: top;\n    }\n\n    .dataframe thead th {\n        text-align: right;\n    }\n</style>\n<table border=\"1\" class=\"dataframe\">\n  <thead>\n    <tr style=\"text-align: right;\">\n      <th></th>\n      <th>PRODUCTID</th>\n      <th>PRODUCTNDC</th>\n      <th>NDCPACKAGECODE</th>\n      <th>PACKAGEDESCRIPTION</th>\n      <th>STARTMARKETINGDATE</th>\n      <th>ENDMARKETINGDATE</th>\n      <th>NDC_EXCLUDE_FLAG</th>\n      <th>SAMPLE_PACKAGE</th>\n    </tr>\n  </thead>\n  <tbody>\n    <tr>\n      <th>0</th>\n      <td>0002-0800_94c48759-29bb-402d-afff-9a713be11f0e</td>\n      <td>0002-0800</td>\n      <td>0002-0800-01</td>\n      <td>1 vial in 1 carton (0002-0800-01)  &gt; 10 ml in ...</td>\n      <td>19870710</td>\n      <td>NaN</td>\n      <td>n</td>\n      <td>n</td>\n    </tr>\n    <tr>\n      <th>1</th>\n      <td>0002-1200_35551a38-7a8d-43b8-8abd-f6cb7549e932</td>\n      <td>0002-1200</td>\n      <td>0002-1200-30</td>\n      <td>1 vial, multi-dose in 1 can (0002-1200-30)  &gt; ...</td>\n      <td>20120601</td>\n      <td>NaN</td>\n      <td>n</td>\n      <td>n</td>\n    </tr>\n    <tr>\n      <th>2</th>\n      <td>0002-1200_35551a38-7a8d-43b8-8abd-f6cb7549e932</td>\n      <td>0002-1200</td>\n      <td>0002-1200-50</td>\n      <td>1 vial, multi-dose in 1 can (0002-1200-50)  &gt; ...</td>\n      <td>20120601</td>\n      <td>NaN</td>\n      <td>n</td>\n      <td>n</td>\n    </tr>\n    <tr>\n      <th>3</th>\n      <td>0002-1433_42a80046-fd68-4b80-819c-a443b7816edb</td>\n      <td>0002-1433</td>\n      <td>0002-1433-61</td>\n      <td>2 syringe in 1 carton (0002-1433-61)  &gt; .5 ml ...</td>\n      <td>20141107</td>\n      <td>NaN</td>\n      <td>n</td>\n      <td>y</td>\n    </tr>\n    <tr>\n      <th>4</th>\n      <td>0002-1433_42a80046-fd68-4b80-819c-a443b7816edb</td>\n      <td>0002-1433</td>\n      <td>0002-1433-80</td>\n      <td>4 syringe in 1 carton (0002-1433-80)  &gt; .5 ml ...</td>\n      <td>20141107</td>\n      <td>NaN</td>\n      <td>n</td>\n      <td>n</td>\n    </tr>\n  </tbody>\n</table>\n</div>"
     },
     "metadata": {},
     "output_type": "execute_result",
     "execution_count": 5
    }
   ],
   "execution_count": 5
  },
  {
   "cell_type": "code",
   "metadata": {
    "pycharm": {
     "is_executing": false
    }
   },
   "source": [
    "print('Assessing completnes of packaging data table')\n",
    "assert_table_completeness(package_data)"
   ],
   "outputs": [
    {
     "name": "stdout",
     "text": [
      "Assessing completnes of packaging data table\n",
      "Empty cells:\n",
      "PRODUCTID                  0\n",
      "PRODUCTNDC              1500\n",
      "NDCPACKAGECODE          2346\n",
      "PACKAGEDESCRIPTION         0\n",
      "STARTMARKETINGDATE         0\n",
      "ENDMARKETINGDATE      167431\n",
      "NDC_EXCLUDE_FLAG           0\n",
      "SAMPLE_PACKAGE             0\n",
      "dtype: int64\n",
      "\n",
      "Unique values:\n",
      "PRODUCTID              93084\n",
      "PRODUCTNDC             91080\n",
      "NDCPACKAGECODE        171447\n",
      "PACKAGEDESCRIPTION    173885\n",
      "STARTMARKETINGDATE      7401\n",
      "ENDMARKETINGDATE         767\n",
      "NDC_EXCLUDE_FLAG           1\n",
      "SAMPLE_PACKAGE             2\n",
      "dtype: int64\n",
      "\n"
     ],
     "output_type": "stream"
    }
   ],
   "execution_count": 6
  },
  {
   "cell_type": "markdown",
   "metadata": {},
   "source": [
    "### Colonne PACKAGEDESCRIPTION\n",
    "Cette colonne est présentée sous forme de phrase et contient de multiples informations. Le volume, son unité, le nombre \n",
    "de contenant et son type. S'il existe plusieurs contenants pour un objet, ils sont concaténés par un séparateur '>' de \n",
    "manière hiérarchique."
   ]
  },
  {
   "cell_type": "markdown",
   "metadata": {},
   "source": [
    "### Colonne STARTMARKETINGDATE\n",
    "Les valeurs de cette colonne sont de type date. Elles ont l'air séquentielles. "
   ]
  },
  {
   "cell_type": "markdown",
   "metadata": {},
   "source": [
    "### Colonne ENDMARKETINGDATE\n",
    "Les valeurs de cette colonne sont de type date. Il existe beaucoup de valeurs manquantes."
   ]
  },
  {
   "cell_type": "markdown",
   "metadata": {},
   "source": [
    "### Colonne NDC_EXCLUDE_FLAG"
   ]
  },
  {
   "cell_type": "code",
   "metadata": {
    "pycharm": {
     "is_executing": false
    }
   },
   "source": [
    "package_data['NDC_EXCLUDE_FLAG'].unique()"
   ],
   "outputs": [
    {
     "data": {
      "text/plain": "array(['n'], dtype=object)"
     },
     "metadata": {},
     "output_type": "execute_result",
     "execution_count": 7
    }
   ],
   "execution_count": 7
  },
  {
   "cell_type": "markdown",
   "metadata": {},
   "source": [
    "Tous les objets possèdent la valeur N et ne présente aucune valeur manquante. "
   ]
  },
  {
   "cell_type": "markdown",
   "metadata": {},
   "source": [
    "### Colonne SAMPLE_PACKAGE"
   ]
  },
  {
   "cell_type": "code",
   "metadata": {
    "pycharm": {
     "is_executing": false
    }
   },
   "source": [
    "package_data['SAMPLE_PACKAGE'].value_counts()"
   ],
   "outputs": [
    {
     "data": {
      "text/plain": "n    173223\ny       664\nName: SAMPLE_PACKAGE, dtype: int64"
     },
     "metadata": {},
     "output_type": "execute_result",
     "execution_count": 8
    }
   ],
   "execution_count": 8
  },
  {
   "cell_type": "markdown",
   "metadata": {},
   "source": [
    "Les valeurs possibles sont 'Y' ou 'N'. Il y a une majorité de 'N' et aucune valeur manquante."
   ]
  },
  {
   "cell_type": "markdown",
   "metadata": {},
   "source": [
    "## Etude des données du fichier 'product'"
   ]
  },
  {
   "cell_type": "code",
   "metadata": {
    "pycharm": {
     "is_executing": false
    }
   },
   "source": [
    "product_data.head()"
   ],
   "outputs": [
    {
     "data": {
      "text/plain": "  PRODUCTID PRODUCTNDC          PRODUCTTYPENAME  PROPRIETARYNAME  \\\n0       NaN  0002-0800           human otc drug  sterile diluent   \n1       NaN  0002-1200  human prescription drug           amyvid   \n2       NaN  0002-1433  human prescription drug        trulicity   \n3       NaN  0002-1434  human prescription drug        trulicity   \n4       NaN  0002-1436  human prescription drug         emgality   \n\n  PROPRIETARYNAMESUFFIX NONPROPRIETARYNAME       DOSAGEFORMNAME     ROUTENAME  \\\n0                   NaN            diluent  injection, solution  subcutaneous   \n1                   NaN   florbetapir f 18  injection, solution   intravenous   \n2                   NaN        dulaglutide  injection, solution  subcutaneous   \n3                   NaN        dulaglutide  injection, solution  subcutaneous   \n4                   NaN       galcanezumab  injection, solution  subcutaneous   \n\n   STARTMARKETINGDATE  ENDMARKETINGDATE MARKETINGCATEGORYNAME  \\\n0            19870710               NaN                   nda   \n1            20120601               NaN                   nda   \n2            20140918               NaN                   bla   \n3            20140918               NaN                   bla   \n4            20180927               NaN                   bla   \n\n  APPLICATIONNUMBER LABELERNAME     SUBSTANCENAME ACTIVE_NUMERATOR_STRENGTH  \\\n0         nda018781          10             water                         1   \n1         nda202008          10  florbetapir f-18                        51   \n2         bla125469          10       dulaglutide                       .75   \n3         bla125469          10       dulaglutide                       1.5   \n4         bla761063          10      galcanezumab                       120   \n\n  ACTIVE_INGRED_UNIT                                      PHARM_CLASSES  \\\n0              ml/ml                                                NaN   \n1             mci/ml  radioactive diagnostic agent [epc],positron em...   \n2            mg/.5ml  glp-1 receptor agonist [epc],glucagon-like pep...   \n3            mg/.5ml  glp-1 receptor agonist [epc],glucagon-like pep...   \n4              mg/ml                                                NaN   \n\n  DEASCHEDULE NDC_EXCLUDE_FLAG  LISTING_RECORD_CERTIFIED_THROUGH  \n0         NaN                n                        20201231.0  \n1         NaN                n                        20211231.0  \n2         NaN                n                        20201231.0  \n3         NaN                n                        20201231.0  \n4         NaN                n                        20201231.0  ",
      "text/html": "<div>\n<style scoped>\n    .dataframe tbody tr th:only-of-type {\n        vertical-align: middle;\n    }\n\n    .dataframe tbody tr th {\n        vertical-align: top;\n    }\n\n    .dataframe thead th {\n        text-align: right;\n    }\n</style>\n<table border=\"1\" class=\"dataframe\">\n  <thead>\n    <tr style=\"text-align: right;\">\n      <th></th>\n      <th>PRODUCTID</th>\n      <th>PRODUCTNDC</th>\n      <th>PRODUCTTYPENAME</th>\n      <th>PROPRIETARYNAME</th>\n      <th>PROPRIETARYNAMESUFFIX</th>\n      <th>NONPROPRIETARYNAME</th>\n      <th>DOSAGEFORMNAME</th>\n      <th>ROUTENAME</th>\n      <th>STARTMARKETINGDATE</th>\n      <th>ENDMARKETINGDATE</th>\n      <th>MARKETINGCATEGORYNAME</th>\n      <th>APPLICATIONNUMBER</th>\n      <th>LABELERNAME</th>\n      <th>SUBSTANCENAME</th>\n      <th>ACTIVE_NUMERATOR_STRENGTH</th>\n      <th>ACTIVE_INGRED_UNIT</th>\n      <th>PHARM_CLASSES</th>\n      <th>DEASCHEDULE</th>\n      <th>NDC_EXCLUDE_FLAG</th>\n      <th>LISTING_RECORD_CERTIFIED_THROUGH</th>\n    </tr>\n  </thead>\n  <tbody>\n    <tr>\n      <th>0</th>\n      <td>NaN</td>\n      <td>0002-0800</td>\n      <td>human otc drug</td>\n      <td>sterile diluent</td>\n      <td>NaN</td>\n      <td>diluent</td>\n      <td>injection, solution</td>\n      <td>subcutaneous</td>\n      <td>19870710</td>\n      <td>NaN</td>\n      <td>nda</td>\n      <td>nda018781</td>\n      <td>10</td>\n      <td>water</td>\n      <td>1</td>\n      <td>ml/ml</td>\n      <td>NaN</td>\n      <td>NaN</td>\n      <td>n</td>\n      <td>20201231.0</td>\n    </tr>\n    <tr>\n      <th>1</th>\n      <td>NaN</td>\n      <td>0002-1200</td>\n      <td>human prescription drug</td>\n      <td>amyvid</td>\n      <td>NaN</td>\n      <td>florbetapir f 18</td>\n      <td>injection, solution</td>\n      <td>intravenous</td>\n      <td>20120601</td>\n      <td>NaN</td>\n      <td>nda</td>\n      <td>nda202008</td>\n      <td>10</td>\n      <td>florbetapir f-18</td>\n      <td>51</td>\n      <td>mci/ml</td>\n      <td>radioactive diagnostic agent [epc],positron em...</td>\n      <td>NaN</td>\n      <td>n</td>\n      <td>20211231.0</td>\n    </tr>\n    <tr>\n      <th>2</th>\n      <td>NaN</td>\n      <td>0002-1433</td>\n      <td>human prescription drug</td>\n      <td>trulicity</td>\n      <td>NaN</td>\n      <td>dulaglutide</td>\n      <td>injection, solution</td>\n      <td>subcutaneous</td>\n      <td>20140918</td>\n      <td>NaN</td>\n      <td>bla</td>\n      <td>bla125469</td>\n      <td>10</td>\n      <td>dulaglutide</td>\n      <td>.75</td>\n      <td>mg/.5ml</td>\n      <td>glp-1 receptor agonist [epc],glucagon-like pep...</td>\n      <td>NaN</td>\n      <td>n</td>\n      <td>20201231.0</td>\n    </tr>\n    <tr>\n      <th>3</th>\n      <td>NaN</td>\n      <td>0002-1434</td>\n      <td>human prescription drug</td>\n      <td>trulicity</td>\n      <td>NaN</td>\n      <td>dulaglutide</td>\n      <td>injection, solution</td>\n      <td>subcutaneous</td>\n      <td>20140918</td>\n      <td>NaN</td>\n      <td>bla</td>\n      <td>bla125469</td>\n      <td>10</td>\n      <td>dulaglutide</td>\n      <td>1.5</td>\n      <td>mg/.5ml</td>\n      <td>glp-1 receptor agonist [epc],glucagon-like pep...</td>\n      <td>NaN</td>\n      <td>n</td>\n      <td>20201231.0</td>\n    </tr>\n    <tr>\n      <th>4</th>\n      <td>NaN</td>\n      <td>0002-1436</td>\n      <td>human prescription drug</td>\n      <td>emgality</td>\n      <td>NaN</td>\n      <td>galcanezumab</td>\n      <td>injection, solution</td>\n      <td>subcutaneous</td>\n      <td>20180927</td>\n      <td>NaN</td>\n      <td>bla</td>\n      <td>bla761063</td>\n      <td>10</td>\n      <td>galcanezumab</td>\n      <td>120</td>\n      <td>mg/ml</td>\n      <td>NaN</td>\n      <td>NaN</td>\n      <td>n</td>\n      <td>20201231.0</td>\n    </tr>\n  </tbody>\n</table>\n</div>"
     },
     "metadata": {},
     "output_type": "execute_result",
     "execution_count": 9
    }
   ],
   "execution_count": 9
  },
  {
   "cell_type": "code",
   "metadata": {
    "pycharm": {
     "is_executing": false
    }
   },
   "source": [
    "print('Assessing completnes product data table')\n",
    "assert_table_completeness(product_data)"
   ],
   "outputs": [
    {
     "name": "stdout",
     "text": [
      "Assessing completnes product data table\n",
      "Empty cells:\n",
      "PRODUCTID                            1560\n",
      "PRODUCTNDC                              0\n",
      "PRODUCTTYPENAME                         0\n",
      "PROPRIETARYNAME                         6\n",
      "PROPRIETARYNAMESUFFIX               83075\n",
      "NONPROPRIETARYNAME                      4\n",
      "DOSAGEFORMNAME                          0\n",
      "ROUTENAME                            1932\n",
      "STARTMARKETINGDATE                      0\n",
      "ENDMARKETINGDATE                    88915\n",
      "MARKETINGCATEGORYNAME                   0\n",
      "APPLICATIONNUMBER                   13097\n",
      "LABELERNAME                             0\n",
      "SUBSTANCENAME                        2309\n",
      "ACTIVE_NUMERATOR_STRENGTH            2309\n",
      "ACTIVE_INGRED_UNIT                   2309\n",
      "PHARM_CLASSES                       50984\n",
      "DEASCHEDULE                         88815\n",
      "NDC_EXCLUDE_FLAG                        0\n",
      "LISTING_RECORD_CERTIFIED_THROUGH     4325\n",
      "dtype: int64\n",
      "\n",
      "Unique values:\n",
      "PRODUCTID                           91678\n",
      "PRODUCTNDC                          91468\n",
      "PRODUCTTYPENAME                         7\n",
      "PROPRIETARYNAME                     29775\n",
      "PROPRIETARYNAMESUFFIX                3726\n",
      "NONPROPRIETARYNAME                  13104\n",
      "DOSAGEFORMNAME                        134\n",
      "ROUTENAME                             180\n",
      "STARTMARKETINGDATE                   7262\n",
      "ENDMARKETINGDATE                      742\n",
      "MARKETINGCATEGORYNAME                  10\n",
      "APPLICATIONNUMBER                   10711\n",
      "LABELERNAME                          6098\n",
      "SUBSTANCENAME                        8976\n",
      "ACTIVE_NUMERATOR_STRENGTH            8769\n",
      "ACTIVE_INGRED_UNIT                   2391\n",
      "PHARM_CLASSES                        1285\n",
      "DEASCHEDULE                             4\n",
      "NDC_EXCLUDE_FLAG                        1\n",
      "LISTING_RECORD_CERTIFIED_THROUGH        2\n",
      "dtype: int64\n",
      "\n"
     ],
     "output_type": "stream"
    }
   ],
   "execution_count": 10
  },
  {
   "cell_type": "markdown",
   "metadata": {},
   "source": [
    "### Colonne PRODUCTTYPENAME"
   ]
  },
  {
   "cell_type": "code",
   "metadata": {
    "pycharm": {
     "is_executing": false
    }
   },
   "source": [
    "product_data['PRODUCTTYPENAME'].value_counts()"
   ],
   "outputs": [
    {
     "data": {
      "text/plain": "human otc drug                 46172\nhuman prescription drug        44526\nnon-standardized allergenic     2008\nplasma derivative                294\nstandardized allergenic          124\nvaccine                          108\ncellular therapy                   6\nName: PRODUCTTYPENAME, dtype: int64"
     },
     "metadata": {},
     "output_type": "execute_result",
     "execution_count": 11
    }
   ],
   "execution_count": 11
  },
  {
   "cell_type": "markdown",
   "metadata": {},
   "source": [
    "Il y a 7 valeurs possibles textuelles catégorielles dans cette colonne."
   ]
  },
  {
   "cell_type": "markdown",
   "metadata": {},
   "source": [
    "### Colonne PROPRIETARYNAME"
   ]
  },
  {
   "cell_type": "code",
   "metadata": {
    "pycharm": {
     "is_executing": false
    }
   },
   "source": [
    "product_data['PROPRIETARYNAME'].nunique()"
   ],
   "outputs": [
    {
     "data": {
      "text/plain": "29775"
     },
     "metadata": {},
     "output_type": "execute_result",
     "execution_count": 12
    }
   ],
   "execution_count": 12
  },
  {
   "cell_type": "code",
   "metadata": {
    "pycharm": {
     "is_executing": false
    }
   },
   "source": [
    "# product_data['PROPRIETARYNAME'][393:401]"
   ],
   "outputs": [],
   "execution_count": 13
  },
  {
   "cell_type": "markdown",
   "metadata": {},
   "source": [
    "Dans cette colonne, il existe un grand nombre de valeurs différentes. Les mêmes valeurs peuvent être présentes sous \n",
    "différentes formes notamment en minuscules ou majuscules, il existe donc une inconsistance entre les valeurs."
   ]
  },
  {
   "cell_type": "markdown",
   "metadata": {},
   "source": [
    "### Colonne PROPRIETARYNAMESUFFIX"
   ]
  },
  {
   "cell_type": "code",
   "metadata": {
    "pycharm": {
     "is_executing": false
    }
   },
   "source": [
    "product_data['PROPRIETARYNAMESUFFIX'].nunique()"
   ],
   "outputs": [
    {
     "data": {
      "text/plain": "3726"
     },
     "metadata": {},
     "output_type": "execute_result",
     "execution_count": 14
    }
   ],
   "execution_count": 14
  },
  {
   "cell_type": "markdown",
   "metadata": {},
   "source": [
    "Dans cette colonne, il y a un nombre important de valeurs manquantes. Ces valeurs sont textuelles et il existe un nombre \n",
    "élevé de valeurs différentes."
   ]
  },
  {
   "cell_type": "markdown",
   "metadata": {},
   "source": [
    "### Colonne NONPROPRIETARYNAME"
   ]
  },
  {
   "cell_type": "code",
   "metadata": {
    "pycharm": {
     "is_executing": false
    }
   },
   "source": [
    "product_data['NONPROPRIETARYNAME'].nunique()"
   ],
   "outputs": [
    {
     "data": {
      "text/plain": "13104"
     },
     "metadata": {},
     "output_type": "execute_result",
     "execution_count": 15
    }
   ],
   "execution_count": 15
  },
  {
   "cell_type": "code",
   "metadata": {
    "pycharm": {
     "is_executing": false
    }
   },
   "source": [
    "product_data['NONPROPRIETARYNAME'][2:6]"
   ],
   "outputs": [
    {
     "data": {
      "text/plain": "2     dulaglutide\n3     dulaglutide\n4    galcanezumab\n5      ixekizumab\nName: NONPROPRIETARYNAME, dtype: object"
     },
     "metadata": {},
     "output_type": "execute_result",
     "execution_count": 16
    }
   ],
   "execution_count": 16
  },
  {
   "cell_type": "markdown",
   "metadata": {},
   "source": [
    "Cette colonne présente seulement 4 valeurs manquantes. Ceux sont des données textuelles inconsistantes, par exemple \n",
    "pouvant représenter la même valeur en caratères minuscules ou majuscules. Il y a un nombre très important de valeurs \n",
    "différentes."
   ]
  },
  {
   "cell_type": "markdown",
   "metadata": {},
   "source": [
    "### Colonne DOSAGEFORMNAME"
   ]
  },
  {
   "cell_type": "code",
   "metadata": {
    "pycharm": {
     "is_executing": false
    }
   },
   "source": [
    "product_data['DOSAGEFORMNAME'].value_counts()"
   ],
   "outputs": [
    {
     "data": {
      "text/plain": "tablet                              15442\ntablet, film coated                  9387\nliquid                               8764\ncream                                5104\ncapsule                              4824\n                                    ...  \nsolution, gel forming / drops           1\nfor suspension, extended release        1\nchewable gel                            1\ncrystal                                 1\ninjection, lipid complex                1\nName: DOSAGEFORMNAME, Length: 134, dtype: int64"
     },
     "metadata": {},
     "output_type": "execute_result",
     "execution_count": 17
    }
   ],
   "execution_count": 17
  },
  {
   "cell_type": "markdown",
   "metadata": {},
   "source": [
    "Cette colonne contient 134 différentes valeurs textuelles. Comme on peut le voir, différentes catégories peuvent être \n",
    "affectées au même objet. La colonne ne présente aucune valeur manquante."
   ]
  },
  {
   "cell_type": "markdown",
   "metadata": {},
   "source": [
    "### Colonne ROUTENAME"
   ]
  },
  {
   "cell_type": "code",
   "metadata": {
    "pycharm": {
     "is_executing": false
    }
   },
   "source": [
    "product_data['ROUTENAME'].value_counts()"
   ],
   "outputs": [
    {
     "data": {
      "text/plain": "oral                                                                                54704\ntopical                                                                             21547\nintravenous                                                                          3374\nintradermal; percutaneous; subcutaneous                                              1315\nrespiratory (inhalation)                                                             1257\n                                                                                    ...  \nsublingual; sublingual; sublingual; sublingual                                          1\nintracanalicular; ophthalmic                                                            1\nretrobulbar; topical                                                                    1\nintracavitary                                                                           1\ninfiltration; intra-articular; intralesional; intramuscular; perineural; topical        1\nName: ROUTENAME, Length: 180, dtype: int64"
     },
     "metadata": {},
     "output_type": "execute_result",
     "execution_count": 18
    }
   ],
   "execution_count": 18
  },
  {
   "cell_type": "markdown",
   "metadata": {},
   "source": [
    "Cette colonne contient 180 différentes valeurs textuelles. Comme on peut le voir, différentes catégories peuvent être \n",
    "affectées au même objet. La colonne présente 1932 valeurs manquantes."
   ]
  },
  {
   "cell_type": "markdown",
   "metadata": {},
   "source": [
    "### Colonne STARTMARKETINGDATE\n",
    "Les valeurs sont de type date, il n'y a aucune valeur manquante. "
   ]
  },
  {
   "cell_type": "markdown",
   "metadata": {},
   "source": [
    "### Colonne ENDMARKETINGDATE\n",
    "Les valeurs sont de type date, il y a un grand nombre de valeurs manquantes. "
   ]
  },
  {
   "cell_type": "markdown",
   "metadata": {},
   "source": [
    "### Colonne MARKETINGCATEGORYNAME"
   ]
  },
  {
   "cell_type": "code",
   "metadata": {
    "pycharm": {
     "is_executing": false
    }
   },
   "source": [
    "product_data['MARKETINGCATEGORYNAME'].value_counts()\n",
    "# %%\n",
    "\"\"\"\n",
    "Les valeurs sont de type textuelles, il y a 26 catégories différentes et ne présente aucune valeur manquante.  \n",
    "\"\"\"\n",
    "# %%\n",
    "\"\"\"\n",
    "### Colonne APPLICATIONNUMBER\n",
    "\"\"\"\n",
    "# %%\n",
    "product_data['APPLICATIONNUMBER'].nunique()\n",
    "# %%\n",
    "\"\"\"\n",
    "Cette colonne spécifie le numéro de série de la catégorie marketing. Le nombre de valeurs manquantes est élevé, et \n",
    "comme il y a un numéro de série pour chaque objet dans une catégorie, le nombre de valeurs différentes est également \n",
    "important.\n",
    "\"\"\""
   ],
   "outputs": [
    {
     "data": {
      "text/plain": "'\\nCette colonne spécifie le numéro de série de la catégorie marketing. Le nombre de valeurs manquantes est élevé, et \\ncomme il y a un numéro de série pour chaque objet dans une catégorie, le nombre de valeurs différentes est également \\nimportant.\\n'"
     },
     "metadata": {},
     "output_type": "execute_result",
     "execution_count": 19
    }
   ],
   "execution_count": 19
  },
  {
   "cell_type": "markdown",
   "metadata": {},
   "source": [
    "### Colonne LABELERNAME"
   ]
  },
  {
   "cell_type": "code",
   "metadata": {
    "pycharm": {
     "is_executing": false
    }
   },
   "source": [
    "product_data['LABELERNAME'].nunique()"
   ],
   "outputs": [
    {
     "data": {
      "text/plain": "6098"
     },
     "metadata": {},
     "output_type": "execute_result",
     "execution_count": 20
    }
   ],
   "execution_count": 20
  },
  {
   "cell_type": "code",
   "metadata": {
    "pycharm": {
     "is_executing": false
    }
   },
   "source": [
    "product_data['LABELERNAME'][7291:7293]\n",
    "# %%\n",
    "\"\"\"\n",
    "La colonne présente peu de valeurs manquantes (557). Si on remarque qu'il existe un nombre important de valeurs \n",
    "différentes, les données sont cependant inconsistantes.\n",
    "\"\"\""
   ],
   "outputs": [
    {
     "data": {
      "text/plain": "\"\\nLa colonne présente peu de valeurs manquantes (557). Si on remarque qu'il existe un nombre important de valeurs \\ndifférentes, les données sont cependant inconsistantes.\\n\""
     },
     "metadata": {},
     "output_type": "execute_result",
     "execution_count": 21
    }
   ],
   "execution_count": 21
  },
  {
   "cell_type": "markdown",
   "metadata": {},
   "source": [
    "### Colonne SUBSTANCENAME"
   ]
  },
  {
   "cell_type": "code",
   "metadata": {
    "pycharm": {
     "is_executing": false
    }
   },
   "source": [
    "product_data['SUBSTANCENAME'].nunique()"
   ],
   "outputs": [
    {
     "data": {
      "text/plain": "8976"
     },
     "metadata": {},
     "output_type": "execute_result",
     "execution_count": 22
    }
   ],
   "execution_count": 22
  },
  {
   "cell_type": "code",
   "metadata": {
    "pycharm": {
     "is_executing": false
    }
   },
   "source": [
    "product_data['SUBSTANCENAME'][727:735]"
   ],
   "outputs": [
    {
     "data": {
      "text/plain": "727          felbamate\n728          felbamate\n729    cromolyn sodium\n730           nabilone\n731       carisoprodol\n732       carisoprodol\n733          torsemide\n734      penicillamine\nName: SUBSTANCENAME, dtype: object"
     },
     "metadata": {},
     "output_type": "execute_result",
     "execution_count": 23
    }
   ],
   "execution_count": 23
  },
  {
   "cell_type": "markdown",
   "metadata": {},
   "source": [
    "Cette colonne présente un nombre assez important de données manquantes (2309), ceux sont des données textuelles \n",
    "catégorielles. Or le nombre de catégories parait élevé, comme le montre le nombre de valeurs uniques. Chaque objet \n",
    "peut cependant présenté plusieurs catégories séparées par un ';'."
   ]
  },
  {
   "cell_type": "markdown",
   "metadata": {},
   "source": [
    "### Colonne ACTIVE_NUMERATOR_STRENGTH"
   ]
  },
  {
   "cell_type": "code",
   "metadata": {
    "pycharm": {
     "is_executing": false
    }
   },
   "source": [
    "product_data['ACTIVE_NUMERATOR_STRENGTH'][725:731]"
   ],
   "outputs": [
    {
     "data": {
      "text/plain": "725    137; 50\n726        400\n727        600\n728        600\n729         20\n730          1\nName: ACTIVE_NUMERATOR_STRENGTH, dtype: object"
     },
     "metadata": {},
     "output_type": "execute_result",
     "execution_count": 24
    }
   ],
   "execution_count": 24
  },
  {
   "cell_type": "markdown",
   "metadata": {},
   "source": [
    "Ceux sont des données numériques qui paraissent dupliquées pour le même objet.  "
   ]
  },
  {
   "cell_type": "markdown",
   "metadata": {},
   "source": [
    "### Colonne ACTIVE_INGRED_UNIT"
   ]
  },
  {
   "cell_type": "code",
   "metadata": {
    "pycharm": {
     "is_executing": false
    }
   },
   "source": [
    "product_data['ACTIVE_INGRED_UNIT'][725:731]"
   ],
   "outputs": [
    {
     "data": {
      "text/plain": "725    ug/1; ug/1\n726          mg/1\n727          mg/1\n728        mg/5ml\n729         mg/ml\n730          mg/1\nName: ACTIVE_INGRED_UNIT, dtype: object"
     },
     "metadata": {},
     "output_type": "execute_result",
     "execution_count": 25
    }
   ],
   "execution_count": 25
  },
  {
   "cell_type": "markdown",
   "metadata": {},
   "source": [
    "Ceux sont des données textuelles catégorielles qui présentent l'unité de la colonne 'ACTIVE_INGRED_UNIT'. Les données\n",
    "paraissent également dupliquées pour le même objet."
   ]
  },
  {
   "cell_type": "markdown",
   "metadata": {},
   "source": [
    "### Colonne PHARM_CLASSES"
   ]
  },
  {
   "cell_type": "code",
   "metadata": {
    "pycharm": {
     "is_executing": false
    }
   },
   "source": [
    "product_data['PHARM_CLASSES'].nunique()"
   ],
   "outputs": [
    {
     "data": {
      "text/plain": "1285"
     },
     "metadata": {},
     "output_type": "execute_result",
     "execution_count": 26
    }
   ],
   "execution_count": 26
  },
  {
   "cell_type": "code",
   "metadata": {
    "pycharm": {
     "is_executing": false
    }
   },
   "source": [
    "product_data['PHARM_CLASSES'][725]"
   ],
   "outputs": [
    {
     "data": {
      "text/plain": "'histamine h1 receptor antagonists [moa],histamine-1 receptor antagonist [epc],corticosteroid [epc],corticosteroid hormone receptor agonists [moa]'"
     },
     "metadata": {},
     "output_type": "execute_result",
     "execution_count": 27
    }
   ],
   "execution_count": 27
  },
  {
   "cell_type": "markdown",
   "metadata": {},
   "source": [
    "Ceux sont des données textuelles catégorielles présentant plusieurs catégories pour un même objet. Il y a un grand \n",
    "nombre de valeurs manquantes.\n",
    "\"\"\"\n",
    "# %%\n",
    "\"\"\"\n",
    "### Colonne DEASCHEDULE"
   ]
  },
  {
   "cell_type": "code",
   "metadata": {
    "pycharm": {
     "is_executing": false
    }
   },
   "source": [
    "product_data['DEASCHEDULE'].value_counts()"
   ],
   "outputs": [
    {
     "data": {
      "text/plain": "cii     1802\nciv     1749\nciii     479\ncv       393\nName: DEASCHEDULE, dtype: int64"
     },
     "metadata": {},
     "output_type": "execute_result",
     "execution_count": 28
    }
   ],
   "execution_count": 28
  },
  {
   "cell_type": "markdown",
   "metadata": {},
   "source": [
    "Cette colonne présente un nombre important de données manquantes. Ceux sont des données catégorielles, présentant \n",
    "seulement 4 catégories."
   ]
  },
  {
   "cell_type": "markdown",
   "metadata": {},
   "source": [
    "### Colonne NDC_EXCLUDE_FLAG"
   ]
  },
  {
   "cell_type": "code",
   "metadata": {
    "pycharm": {
     "is_executing": false
    }
   },
   "source": [
    "product_data['NDC_EXCLUDE_FLAG'].value_counts()"
   ],
   "outputs": [
    {
     "data": {
      "text/plain": "n    93238\nName: NDC_EXCLUDE_FLAG, dtype: int64"
     },
     "metadata": {},
     "output_type": "execute_result",
     "execution_count": 29
    }
   ],
   "execution_count": 29
  },
  {
   "cell_type": "markdown",
   "metadata": {},
   "source": [
    "Cette colonne présente seulement une catégorie 'N'."
   ]
  },
  {
   "cell_type": "markdown",
   "metadata": {},
   "source": [
    "# 2. Relations entre attributs\n",
    "## Informations communes\n",
    "Les colonnes 'PRODUCTID' des tables 'package' et 'product' contiennent deux informations concaténées: l'id du produit \n",
    "ainsi que le contenu de leur colonne 'PRODUCTNDC', le code label et le code segment produit.  \n",
    "Dans la documentation NDC, il est précisé que c'est pour prévenir le duplicata de lignes.\n",
    "\n",
    "La colonne 'NDCPACKAGECODE' de la table 'package' contient deux informations concaténées: le code segment du package et \n",
    "le contenu de la colonne 'PRODUCTNDC', le code label et le code segment produit.\n",
    "\n",
    "La colonne 'PACKAGEDESCRIPTION' de la table 'package' contient plusieurs informations concaténées. En plus des \n",
    "informations propres à la description du package, il y a dans la majorité des objets la valeur 'NDCPACKAGECODE' associée\n",
    ".\n",
    "\n",
    "La colonne 'APPLICATIONNUMBER' de la table 'product' présente la majorité du temps le contenu de la colonne \n",
    "'MARKETINGCATEGORYNAME' et spécifie son numéro de série.\n",
    "\n",
    "Dans les deux tables, il existe des colonnes 'STARTMARKETINGDATE',  'ENDMARKETINGDATE' et 'NDCEXLUDEDFLAG'. \n",
    "Elles semblent présenter les mêmes informations.\n",
    "\n",
    "## Corrélation\n",
    "Pour la table 'product':\n",
    "Il semble pouvoir exister une corrélation entre les attributs 'ROUTENAME' et 'DOSAGEFORMNAME' qui présentent des idées \n",
    "d'administration similaires. \n",
    "On peut également considérer l'existance d'une corrélation entre les modes d'administration\n",
    "et les dosages du médicament, donc les attributs 'ROUTENAME', 'DOSAGEFORMNAME' et ceux 'ACTIVE_NUMERATOR_STRENGTH', \n",
    "'ACTIVE_INGRED_UNIT'.\n",
    "L'attribut 'PHARM_CLASS' semble pouvoir être corrélé à l'attribut 'SUBSTANCENAME'."
   ]
  },
  {
   "cell_type": "markdown",
   "metadata": {},
   "source": [
    "# 3. Correction des incohérences\n",
    "On élimine dans un premier temps les duplicata de valeurs dans les attributs 'ACTIVE_NUMERATOR_STRENGTH', \n",
    "'ACTIVE_INGRED_UNIT' de la table 'product'. \n",
    "## Table 'product'"
   ]
  },
  {
   "cell_type": "code",
   "metadata": {
    "pycharm": {
     "is_executing": false
    }
   },
   "source": [
    "\n",
    "# TODO: keep most frequent value\n",
    "# dupl_val_cols = ['ACTIVE_NUMERATOR_STRENGTH', 'ACTIVE_INGRED_UNIT']\n",
    "# for c in dupl_val_cols:\n",
    "#     product_data[c] = product_data[c].replace(to_replace=r'\\;.*', value='', regex=True)\n"
   ],
   "outputs": [],
   "execution_count": 30
  },
  {
   "cell_type": "markdown",
   "metadata": {},
   "source": [
    "Il existerait également une incohérence si l'attribut 'ENDMARKETINGDATE' est moins récent que le 'STARTMARKETINGDATE'.\n",
    "On vérifie s'il en existe dans les tables 'product' et 'package'."
   ]
  },
  {
   "cell_type": "code",
   "metadata": {
    "pycharm": {
     "is_executing": false
    }
   },
   "source": [
    "\n",
    "# conversion to datetime format\n",
    "def date_convert():\n",
    "    date_cols = ['STARTMARKETINGDATE', 'ENDMARKETINGDATE', 'LISTING_RECORD_CERTIFIED_THROUGH']\n",
    "    for c in date_cols:\n",
    "        product_data[c] = pd.to_datetime(product_data[c], errors='coerce', format='%Y%m%d')\n",
    "\n",
    "\n",
    "if not product_encode_file_exist:\n",
    "    time_methode(date_convert)\n",
    "\n",
    "# compare STARTMARKETINGDATE and ENDMARKETINGDATE\n",
    "# replace ENDMARKETINGDATE to NaT when incoherence\n",
    "product_data.loc[\n",
    "    (product_data['STARTMARKETINGDATE'] > product_data['ENDMARKETINGDATE']), 'ENDMARKETINGDATE'] = pd.NaT"
   ],
   "outputs": [
    {
     "name": "stdout",
     "text": [
      "Timing date_convert\n",
      "Start time: 2020-03-08 03:18:39.667328\n",
      "End time: 2020-03-08 03:18:39.782852\n",
      "date_convert took: 0:00:00.115524\n"
     ],
     "output_type": "stream"
    }
   ],
   "execution_count": 31
  },
  {
   "cell_type": "markdown",
   "metadata": {},
   "source": [
    "## Table 'package'\n",
    "La colonne 'PACKAGEDESCRIPTION' contient beaucoup trop d'informations pour être exploitable. Tout d'abord, on garde \n",
    "seulement l'information du package le plus informatif (le dernier) car spécifie le volume le plus précis.\n",
    "On supprime l'information dupliquée du 'NDCPACKAGECODE'. \n",
    "Enfin, on crée une colonne pour chaque information: 'PACKAGESIZE', 'PACKAGEUNIT' et 'PACKAGETYPE'.\n",
    "On peut retirer la colonne 'PACKAGEDESCRIPTION' de la table."
   ]
  },
  {
   "cell_type": "code",
   "metadata": {
    "pycharm": {
     "is_executing": false
    }
   },
   "source": [
    "\n",
    "if not package_encode_file_exist:\n",
    "    # keep only most informative packaging and remove duplicate info NDCPACKAGECODE\n",
    "    package_data['PACKAGEDESCRIPTION'] = package_data['PACKAGEDESCRIPTION'].replace(to_replace=r'.*(\\>|\\*\\ ) |\\(.*',\n",
    "                                                                                    value='', regex=True)\n",
    "\n",
    "    # split info into multiple columns\n",
    "    search = {0: [], 1: [], 2: []}\n",
    "    for values in package_data['PACKAGEDESCRIPTION']:\n",
    "        s = re.search(r'(^\\.?[0-9\\.]+)\\ (.*)\\ in\\ 1\\ (.*)', values)\n",
    "        for i in range(3):\n",
    "            search[i].append(s.group(i + 1))\n",
    "\n",
    "    for i, n in enumerate(['PACKAGESIZE', 'PACKAGEUNIT', 'PACKAGETYPE']):\n",
    "        package_data[n] = search[i]"
   ],
   "outputs": [],
   "execution_count": 32
  },
  {
   "cell_type": "markdown",
   "metadata": {},
   "source": [
    "Traitement des colonnes 'STARTMARKETINGDATE', 'ENDMARKETINGDATE' similairement à la table 'product'."
   ]
  },
  {
   "cell_type": "code",
   "metadata": {
    "pycharm": {
     "is_executing": false
    }
   },
   "source": [
    "\n",
    "if not package_encode_file_exist:\n",
    "    # conversion to datetime format\n",
    "    date_cols = ['STARTMARKETINGDATE', 'ENDMARKETINGDATE']\n",
    "    for c in date_cols:\n",
    "        package_data[c] = pd.to_datetime(package_data[c], errors='coerce', format='%Y%m%d')\n",
    "\n",
    "    # compare STARTMARKETINGDATE and ENDMARKETINGDATE\n",
    "    # replace ENDMARKETINGDATE to NaT when incoherence\n",
    "    package_data.loc[\n",
    "        (package_data['STARTMARKETINGDATE'] > package_data['ENDMARKETINGDATE']), 'ENDMARKETINGDATE'] = pd.NaT"
   ],
   "outputs": [],
   "execution_count": 33
  },
  {
   "cell_type": "markdown",
   "metadata": {},
   "source": [
    "# 4. Données manquantes\n",
    "## Table 'package'\n",
    "On s'intéresse aux données manquantes dans les colonnes PRODUCTID, PRODUCTNDC, NDCPACKAGECODE."
   ]
  },
  {
   "cell_type": "code",
   "metadata": {
    "pycharm": {
     "is_executing": false
    }
   },
   "source": [
    "if not package_encode_file_exist:\n",
    "    package_missing_ndcpackagecode = package_data.iloc[np.where(pd.isnull(package_data['NDCPACKAGECODE']))]\n",
    "    values = package_missing_ndcpackagecode['PACKAGEDESCRIPTION'].str.extract(r'\\((.*?)\\).*')\n",
    "    for index, row in values.iterrows():\n",
    "        package_data.loc[index, 'NDCPACKAGECODE'] = row[0]"
   ],
   "outputs": [],
   "execution_count": 34
  },
  {
   "cell_type": "code",
   "metadata": {
    "pycharm": {
     "is_executing": false
    }
   },
   "source": [
    "if not package_encode_file_exist:\n",
    "    package_missing_productndc = package_data.iloc[np.where(pd.isnull(package_data['PRODUCTNDC']))]\n",
    "    values = package_missing_productndc['NDCPACKAGECODE'].str.extract(r'^([\\w]+-[\\w]+)')\n",
    "    for index, row in values.iterrows():\n",
    "        package_data.loc[index, 'PRODUCTNDC'] = row[0]"
   ],
   "outputs": [],
   "execution_count": 35
  },
  {
   "cell_type": "code",
   "metadata": {
    "pycharm": {
     "is_executing": false
    }
   },
   "source": [
    "\n",
    "if not package_encode_file_exist:\n",
    "    # TODO : find a way to retrieve PRODUCTID from 'product' table\n",
    "    package_missing_ndcproductid = package_data.iloc[np.where(pd.isnull(package_data['PRODUCTID']))]"
   ],
   "outputs": [],
   "execution_count": 36
  },
  {
   "cell_type": "markdown",
   "metadata": {},
   "source": [
    "Il existe des valeurs manquantes pour les colonnes 'STARTMARKETINGDATE' et 'ENDMARKETINGDATE' dans la table 'package'\n",
    "mais on choisit de ne pas les compléter car on ne peut effectuer d'estimation précise. "
   ]
  },
  {
   "cell_type": "markdown",
   "metadata": {},
   "source": [
    "## Table 'product'"
   ]
  },
  {
   "cell_type": "markdown",
   "metadata": {},
   "source": [
    "# 5. Duplications données"
   ]
  },
  {
   "cell_type": "code",
   "metadata": {
    "pycharm": {
     "is_executing": false
    }
   },
   "source": [
    "\n",
    "# TODO: drop column PACKAGEDESCRIPTION"
   ],
   "outputs": [],
   "execution_count": 37
  },
  {
   "cell_type": "markdown",
   "metadata": {},
   "source": [
    "# Transformation en données numériques (après question 8)\n",
    "## Table 'package'"
   ]
  },
  {
   "cell_type": "markdown",
   "metadata": {},
   "source": [
    "## Table 'product'"
   ]
  },
  {
   "cell_type": "code",
   "metadata": {
    "pycharm": {
     "is_executing": false
    }
   },
   "source": [
    "\n",
    "# %%\n",
    "# TODO: hash PROPRIETARYNAME NONPROPRIETARYNAME LABELERNAME PROPRIETARYNAMESUFFIX\n",
    "# TODO: separate and hash SUBSTANCENAME PHARM_CLASSES\n",
    "# TODO : split ACTIVE_INGRED_UNIT by '/' (nan others), then one hot each col\n",
    "\n",
    "# TODO: ideas?? APPLICATIONNUMBER\n",
    "# %%\n",
    "# TODO : analysis ratio per category"
   ],
   "outputs": [],
   "execution_count": 38
  },
  {
   "cell_type": "markdown",
   "metadata": {},
   "source": [
    "## Encodage onehot"
   ]
  },
  {
   "cell_type": "code",
   "metadata": {
    "pycharm": {
     "is_executing": false
    }
   },
   "source": [
    "\n",
    "# Call and time onehot encoding for all predefined columns\n",
    "if not os.path.isdir(encoder_dir):\n",
    "    os.mkdir(encoder_dir)\n",
    "if not product_encode_file_exist:\n",
    "    for header in product_headers_to_encode:\n",
    "        enc_dic[header] = time_methode(onehot_encode, header, **(dict(table=product_data, header=header)))\n",
    "        pickle.dump(enc_dic[header], open(encoder_dir + '{}_data_encoder.pkl'.format(header), 'wb'), pickle.HIGHEST_PROTOCOL)\n",
    "\n",
    "if not package_encode_file_exist:\n",
    "    for header in package_headers_to_encode:\n",
    "        enc_dic[header] = time_methode(onehot_encode, header, **(dict(table=package_data, header=header)))\n",
    "        pickle.dump(enc_dic[header], open(encoder_dir + '{}_data_encoder.pkl'.format(header), 'wb'), pickle.HIGHEST_PROTOCOL)\n",
    "\n",
    "if not os.path.isdir(encoding_dir):\n",
    "    os.mkdir(encoding_dir)\n",
    "# Prints out encding of each category for a given column in a txt file\n",
    "for header, enc in enc_dic.items():\n",
    "    file = open(encoding_dir + 'Encoding_{}.txt'.format(header), 'w')\n",
    "    for category in enc.categories_[0]:\n",
    "        tmp_str = str(enc.transform([[category]]).toarray())\n",
    "        tmp_str = category + ' ' * (40 - len(category)) + tmp_str.replace('\\n', '\\n' + ' ' * 40) + '\\n'\n",
    "        file.write(tmp_str)\n",
    "    file.close()\n",
    "\n",
    "# Save transformed data to file\n",
    "if not product_encode_file_exist:\n",
    "    time_methode(product_data.to_csv, **(dict(path_or_buf= encoded_product_file,\n",
    "                                              index= False,\n",
    "                                              sep= separ,\n",
    "                                              encoding= target_encoding,\n",
    "                                              quoting= csv.QUOTE_NONNUMERIC)))\n",
    "\n",
    "if not product_encode_file_exist:\n",
    "    time_methode(package_data.to_csv, **(dict(path_or_buf=encoded_package_file,\n",
    "                                              index=False,\n",
    "                                              sep=separ,\n",
    "                                              encoding=target_encoding,\n",
    "                                              quoting=csv.QUOTE_NONNUMERIC)))"
   ],
   "outputs": [
    {
     "name": "stdout",
     "text": [
      "Timing onehot_encode\n",
      "PRODUCTTYPENAME\n",
      "Start time: 2020-03-08 03:19:34.203847\n",
      "|==================================================| 100.0% -> Done\n",
      "End time: 2020-03-08 03:20:15.302815\n",
      "onehot_encode took: 0:00:41.098968\n",
      "Timing onehot_encode\n",
      "ROUTENAME\n",
      "Start time: 2020-03-08 03:20:15.303710\n",
      "|==================================================| 100.0% -> Done\n",
      "End time: 2020-03-08 03:21:01.192735\n",
      "onehot_encode took: 0:00:45.889025\n",
      "Timing onehot_encode\n",
      "DOSAGEFORMNAME\n",
      "Start time: 2020-03-08 03:21:01.194065\n",
      "|==================================================| 100.0% -> Done\n",
      "End time: 2020-03-08 03:21:58.522046\n",
      "onehot_encode took: 0:00:57.327981\n",
      "Timing onehot_encode\n",
      "MARKETINGCATEGORYNAME\n",
      "Start time: 2020-03-08 03:21:58.522885\n",
      "|==================================================| 100.0% -> Done\n",
      "End time: 2020-03-08 03:22:38.519683\n",
      "onehot_encode took: 0:00:39.996798\n",
      "Timing onehot_encode\n",
      "ACTIVE_NUMERATOR_STRENGTH\n",
      "Start time: 2020-03-08 03:22:38.520477\n",
      "|==================================================| 100.0% -> Done\n",
      "End time: 2020-03-08 03:25:04.710097\n",
      "onehot_encode took: 0:02:26.189620\n",
      "Timing onehot_encode\n",
      "ACTIVE_INGRED_UNIT\n",
      "Start time: 2020-03-08 03:25:04.711317\n",
      "|==================================================| 100.0% -> Done\n",
      "End time: 2020-03-08 03:26:33.646926\n",
      "onehot_encode took: 0:01:28.935609\n",
      "Timing onehot_encode\n",
      "PACKAGEUNIT\n",
      "Start time: 2020-03-08 03:26:33.678084\n",
      "|==================================================| 100.0% -> Done\n",
      "End time: 2020-03-08 03:28:01.280376\n",
      "onehot_encode took: 0:01:27.602292\n",
      "Timing onehot_encode\n",
      "PACKAGETYPE\n",
      "Start time: 2020-03-08 03:28:01.281968\n",
      "|==================================================| 100.0% -> Done\n",
      "End time: 2020-03-08 03:30:05.538975\n",
      "onehot_encode took: 0:02:04.257007\n",
      "Timing to_csv\n",
      "Start time: 2020-03-08 03:30:14.411563\n",
      "End time: 2020-03-08 03:32:31.162650\n",
      "to_csv took: 0:02:16.751087\n",
      "Timing to_csv\n",
      "Start time: 2020-03-08 03:32:31.162931\n",
      "End time: 2020-03-08 03:33:09.664239\n",
      "to_csv took: 0:00:38.501308\n"
     ],
     "output_type": "stream"
    }
   ],
   "execution_count": 39
  },
  {
   "cell_type": "markdown",
   "metadata": {},
   "source": [
    "## Résultats"
   ]
  },
  {
   "cell_type": "code",
   "metadata": {
    "pycharm": {
     "is_executing": false
    }
   },
   "source": [
    "print('Encoded product data:')\n",
    "print(product_data)\n",
    "product_data"
   ],
   "outputs": [
    {
     "name": "stdout",
     "text": [
      "Encoded product data:\n",
      "                                            PRODUCTID PRODUCTNDC  \\\n",
      "0                                                 NaN  0002-0800   \n",
      "1                                                 NaN  0002-1200   \n",
      "2                                                 NaN  0002-1433   \n",
      "3                                                 NaN  0002-1434   \n",
      "4                                                 NaN  0002-1436   \n",
      "...                                               ...        ...   \n",
      "93233  99207-465_7578e84a-41ed-498d-8c2b-56a9931679db  99207-465   \n",
      "93234  99207-466_7578e84a-41ed-498d-8c2b-56a9931679db  99207-466   \n",
      "93235  99207-467_7578e84a-41ed-498d-8c2b-56a9931679db  99207-467   \n",
      "93236  99207-525_d47eda34-3952-463c-9597-4225a19dbf13  99207-525   \n",
      "93237  99207-850_76ac026f-e6f1-4d1f-8144-9b5492e2d1bb  99207-850   \n",
      "\n",
      "               PRODUCTTYPENAME  PROPRIETARYNAME PROPRIETARYNAMESUFFIX  \\\n",
      "0      [[0, 1, 0, 0, 0, 0, 0]]  sterile diluent                   NaN   \n",
      "1      [[0, 0, 1, 0, 0, 0, 0]]           amyvid                   NaN   \n",
      "2      [[0, 0, 1, 0, 0, 0, 0]]        trulicity                   NaN   \n",
      "3      [[0, 0, 1, 0, 0, 0, 0]]        trulicity                   NaN   \n",
      "4      [[0, 0, 1, 0, 0, 0, 0]]         emgality                   NaN   \n",
      "...                        ...              ...                   ...   \n",
      "93233  [[0, 0, 1, 0, 0, 0, 0]]          solodyn                   NaN   \n",
      "93234  [[0, 0, 1, 0, 0, 0, 0]]          solodyn                   NaN   \n",
      "93235  [[0, 0, 1, 0, 0, 0, 0]]          solodyn                   NaN   \n",
      "93236  [[0, 0, 1, 0, 0, 0, 0]]            vanos                   NaN   \n",
      "93237  [[0, 0, 1, 0, 0, 0, 0]]             luzu                   NaN   \n",
      "\n",
      "              NONPROPRIETARYNAME  \\\n",
      "0                        diluent   \n",
      "1               florbetapir f 18   \n",
      "2                    dulaglutide   \n",
      "3                    dulaglutide   \n",
      "4                   galcanezumab   \n",
      "...                          ...   \n",
      "93233  minocycline hydrochloride   \n",
      "93234  minocycline hydrochloride   \n",
      "93235  minocycline hydrochloride   \n",
      "93236               fluocinonide   \n",
      "93237               luliconazole   \n",
      "\n",
      "                                          DOSAGEFORMNAME  \\\n",
      "0      [[0, 0, 0, 0, 0, 0, 0, 0, 0, 0, 0, 0, 0, 0, 0,...   \n",
      "1      [[0, 0, 0, 0, 0, 0, 0, 0, 0, 0, 0, 0, 0, 0, 0,...   \n",
      "2      [[0, 0, 0, 0, 0, 0, 0, 0, 0, 0, 0, 0, 0, 0, 0,...   \n",
      "3      [[0, 0, 0, 0, 0, 0, 0, 0, 0, 0, 0, 0, 0, 0, 0,...   \n",
      "4      [[0, 0, 0, 0, 0, 0, 0, 0, 0, 0, 0, 0, 0, 0, 0,...   \n",
      "...                                                  ...   \n",
      "93233  [[0, 0, 0, 0, 0, 0, 0, 0, 0, 0, 0, 0, 0, 0, 0,...   \n",
      "93234  [[0, 0, 0, 0, 0, 0, 0, 0, 0, 0, 0, 0, 0, 0, 0,...   \n",
      "93235  [[0, 0, 0, 0, 0, 0, 0, 0, 0, 0, 0, 0, 0, 0, 0,...   \n",
      "93236  [[0, 0, 0, 0, 0, 0, 0, 0, 0, 0, 0, 1, 0, 0, 0,...   \n",
      "93237  [[0, 0, 0, 0, 0, 0, 0, 0, 0, 0, 0, 1, 0, 0, 0,...   \n",
      "\n",
      "                                               ROUTENAME STARTMARKETINGDATE  \\\n",
      "0      [[0, 0, 0, 0, 0, 0, 0, 0, 0, 0, 0, 0, 0, 0, 0,...         1987-07-10   \n",
      "1      [[0, 0, 0, 0, 0, 0, 0, 0, 0, 0, 0, 0, 0, 0, 0,...         2012-06-01   \n",
      "2      [[0, 0, 0, 0, 0, 0, 0, 0, 0, 0, 0, 0, 0, 0, 0,...         2014-09-18   \n",
      "3      [[0, 0, 0, 0, 0, 0, 0, 0, 0, 0, 0, 0, 0, 0, 0,...         2014-09-18   \n",
      "4      [[0, 0, 0, 0, 0, 0, 0, 0, 0, 0, 0, 0, 0, 0, 0,...         2018-09-27   \n",
      "...                                                  ...                ...   \n",
      "93233                                                NaN         2010-09-27   \n",
      "93234                                                NaN         2010-09-27   \n",
      "93235                                                NaN         2010-09-27   \n",
      "93236                                                NaN         2006-03-13   \n",
      "93237                                                NaN         2013-11-14   \n",
      "\n",
      "      ENDMARKETINGDATE             MARKETINGCATEGORYNAME APPLICATIONNUMBER  \\\n",
      "0                  NaT  [[0, 0, 1, 0, 0, 0, 0, 0, 0, 0]]         nda018781   \n",
      "1                  NaT  [[0, 0, 1, 0, 0, 0, 0, 0, 0, 0]]         nda202008   \n",
      "2                  NaT  [[0, 1, 0, 0, 0, 0, 0, 0, 0, 0]]         bla125469   \n",
      "3                  NaT  [[0, 1, 0, 0, 0, 0, 0, 0, 0, 0]]         bla125469   \n",
      "4                  NaT  [[0, 1, 0, 0, 0, 0, 0, 0, 0, 0]]         bla761063   \n",
      "...                ...                               ...               ...   \n",
      "93233              NaT  [[0, 0, 1, 0, 0, 0, 0, 0, 0, 0]]         nda050808   \n",
      "93234              NaT  [[0, 0, 1, 0, 0, 0, 0, 0, 0, 0]]         nda050808   \n",
      "93235              NaT  [[0, 0, 1, 0, 0, 0, 0, 0, 0, 0]]         nda050808   \n",
      "93236              NaT  [[0, 0, 1, 0, 0, 0, 0, 0, 0, 0]]         nda021758   \n",
      "93237              NaT  [[0, 0, 1, 0, 0, 0, 0, 0, 0, 0]]         nda204153   \n",
      "\n",
      "                                     LABELERNAME              SUBSTANCENAME  \\\n",
      "0                                             10                      water   \n",
      "1                                             10           florbetapir f-18   \n",
      "2                                             10                dulaglutide   \n",
      "3                                             10                dulaglutide   \n",
      "4                                             10               galcanezumab   \n",
      "...                                          ...                        ...   \n",
      "93233  valeant pharmaceuticals north america llc  minocycline hydrochloride   \n",
      "93234  valeant pharmaceuticals north america llc  minocycline hydrochloride   \n",
      "93235  valeant pharmaceuticals north america llc  minocycline hydrochloride   \n",
      "93236  valeant pharmaceuticals north america llc               fluocinonide   \n",
      "93237                      bausch health us, llc               luliconazole   \n",
      "\n",
      "                               ACTIVE_NUMERATOR_STRENGTH  \\\n",
      "0      [[0, 0, 0, 0, 0, 0, 0, 0, 0, 0, 0, 0, 0, 0, 0,...   \n",
      "1      [[0, 0, 0, 0, 0, 0, 0, 0, 0, 0, 0, 0, 0, 0, 0,...   \n",
      "2      [[0, 0, 0, 0, 0, 0, 0, 0, 0, 0, 0, 0, 0, 0, 0,...   \n",
      "3      [[0, 0, 0, 0, 0, 0, 0, 0, 0, 0, 0, 0, 0, 0, 0,...   \n",
      "4      [[0, 0, 0, 0, 0, 0, 0, 0, 0, 0, 0, 0, 0, 0, 0,...   \n",
      "...                                                  ...   \n",
      "93233                                                NaN   \n",
      "93234                                                NaN   \n",
      "93235                                                NaN   \n",
      "93236                                                NaN   \n",
      "93237                                                NaN   \n",
      "\n",
      "                                      ACTIVE_INGRED_UNIT  \\\n",
      "0      [[0, 0, 0, 0, 0, 0, 0, 0, 0, 0, 0, 0, 0, 0, 0,...   \n",
      "1      [[0, 0, 0, 0, 0, 0, 0, 0, 0, 0, 0, 0, 0, 0, 0,...   \n",
      "2      [[0, 0, 0, 0, 0, 0, 0, 0, 0, 0, 0, 0, 0, 0, 0,...   \n",
      "3      [[0, 0, 0, 0, 0, 0, 0, 0, 0, 0, 0, 0, 0, 0, 0,...   \n",
      "4      [[0, 0, 0, 0, 0, 0, 0, 0, 0, 0, 0, 0, 0, 0, 0,...   \n",
      "...                                                  ...   \n",
      "93233                                                NaN   \n",
      "93234                                                NaN   \n",
      "93235                                                NaN   \n",
      "93236                                                NaN   \n",
      "93237                                                NaN   \n",
      "\n",
      "                                           PHARM_CLASSES DEASCHEDULE  \\\n",
      "0                                                    NaN         NaN   \n",
      "1      radioactive diagnostic agent [epc],positron em...         NaN   \n",
      "2      glp-1 receptor agonist [epc],glucagon-like pep...         NaN   \n",
      "3      glp-1 receptor agonist [epc],glucagon-like pep...         NaN   \n",
      "4                                                    NaN         NaN   \n",
      "...                                                  ...         ...   \n",
      "93233   tetracycline-class drug [epc],tetracyclines [cs]         NaN   \n",
      "93234   tetracycline-class drug [epc],tetracyclines [cs]         NaN   \n",
      "93235   tetracycline-class drug [epc],tetracyclines [cs]         NaN   \n",
      "93236  corticosteroid [epc],corticosteroid hormone re...         NaN   \n",
      "93237  azole antifungal [epc],azoles [cs],cytochrome ...         NaN   \n",
      "\n",
      "      NDC_EXCLUDE_FLAG LISTING_RECORD_CERTIFIED_THROUGH  \n",
      "0                    n                       2020-12-31  \n",
      "1                    n                       2021-12-31  \n",
      "2                    n                       2020-12-31  \n",
      "3                    n                       2020-12-31  \n",
      "4                    n                       2020-12-31  \n",
      "...                ...                              ...  \n",
      "93233                n                       2020-12-31  \n",
      "93234                n                       2020-12-31  \n",
      "93235                n                       2020-12-31  \n",
      "93236                n                       2020-12-31  \n",
      "93237                n                       2020-12-31  \n",
      "\n",
      "[93238 rows x 20 columns]\n"
     ],
     "output_type": "stream"
    },
    {
     "data": {
      "text/plain": "                                            PRODUCTID PRODUCTNDC  \\\n0                                                 NaN  0002-0800   \n1                                                 NaN  0002-1200   \n2                                                 NaN  0002-1433   \n3                                                 NaN  0002-1434   \n4                                                 NaN  0002-1436   \n...                                               ...        ...   \n93233  99207-465_7578e84a-41ed-498d-8c2b-56a9931679db  99207-465   \n93234  99207-466_7578e84a-41ed-498d-8c2b-56a9931679db  99207-466   \n93235  99207-467_7578e84a-41ed-498d-8c2b-56a9931679db  99207-467   \n93236  99207-525_d47eda34-3952-463c-9597-4225a19dbf13  99207-525   \n93237  99207-850_76ac026f-e6f1-4d1f-8144-9b5492e2d1bb  99207-850   \n\n               PRODUCTTYPENAME  PROPRIETARYNAME PROPRIETARYNAMESUFFIX  \\\n0      [[0, 1, 0, 0, 0, 0, 0]]  sterile diluent                   NaN   \n1      [[0, 0, 1, 0, 0, 0, 0]]           amyvid                   NaN   \n2      [[0, 0, 1, 0, 0, 0, 0]]        trulicity                   NaN   \n3      [[0, 0, 1, 0, 0, 0, 0]]        trulicity                   NaN   \n4      [[0, 0, 1, 0, 0, 0, 0]]         emgality                   NaN   \n...                        ...              ...                   ...   \n93233  [[0, 0, 1, 0, 0, 0, 0]]          solodyn                   NaN   \n93234  [[0, 0, 1, 0, 0, 0, 0]]          solodyn                   NaN   \n93235  [[0, 0, 1, 0, 0, 0, 0]]          solodyn                   NaN   \n93236  [[0, 0, 1, 0, 0, 0, 0]]            vanos                   NaN   \n93237  [[0, 0, 1, 0, 0, 0, 0]]             luzu                   NaN   \n\n              NONPROPRIETARYNAME  \\\n0                        diluent   \n1               florbetapir f 18   \n2                    dulaglutide   \n3                    dulaglutide   \n4                   galcanezumab   \n...                          ...   \n93233  minocycline hydrochloride   \n93234  minocycline hydrochloride   \n93235  minocycline hydrochloride   \n93236               fluocinonide   \n93237               luliconazole   \n\n                                          DOSAGEFORMNAME  \\\n0      [[0, 0, 0, 0, 0, 0, 0, 0, 0, 0, 0, 0, 0, 0, 0,...   \n1      [[0, 0, 0, 0, 0, 0, 0, 0, 0, 0, 0, 0, 0, 0, 0,...   \n2      [[0, 0, 0, 0, 0, 0, 0, 0, 0, 0, 0, 0, 0, 0, 0,...   \n3      [[0, 0, 0, 0, 0, 0, 0, 0, 0, 0, 0, 0, 0, 0, 0,...   \n4      [[0, 0, 0, 0, 0, 0, 0, 0, 0, 0, 0, 0, 0, 0, 0,...   \n...                                                  ...   \n93233  [[0, 0, 0, 0, 0, 0, 0, 0, 0, 0, 0, 0, 0, 0, 0,...   \n93234  [[0, 0, 0, 0, 0, 0, 0, 0, 0, 0, 0, 0, 0, 0, 0,...   \n93235  [[0, 0, 0, 0, 0, 0, 0, 0, 0, 0, 0, 0, 0, 0, 0,...   \n93236  [[0, 0, 0, 0, 0, 0, 0, 0, 0, 0, 0, 1, 0, 0, 0,...   \n93237  [[0, 0, 0, 0, 0, 0, 0, 0, 0, 0, 0, 1, 0, 0, 0,...   \n\n                                               ROUTENAME STARTMARKETINGDATE  \\\n0      [[0, 0, 0, 0, 0, 0, 0, 0, 0, 0, 0, 0, 0, 0, 0,...         1987-07-10   \n1      [[0, 0, 0, 0, 0, 0, 0, 0, 0, 0, 0, 0, 0, 0, 0,...         2012-06-01   \n2      [[0, 0, 0, 0, 0, 0, 0, 0, 0, 0, 0, 0, 0, 0, 0,...         2014-09-18   \n3      [[0, 0, 0, 0, 0, 0, 0, 0, 0, 0, 0, 0, 0, 0, 0,...         2014-09-18   \n4      [[0, 0, 0, 0, 0, 0, 0, 0, 0, 0, 0, 0, 0, 0, 0,...         2018-09-27   \n...                                                  ...                ...   \n93233                                                NaN         2010-09-27   \n93234                                                NaN         2010-09-27   \n93235                                                NaN         2010-09-27   \n93236                                                NaN         2006-03-13   \n93237                                                NaN         2013-11-14   \n\n      ENDMARKETINGDATE             MARKETINGCATEGORYNAME APPLICATIONNUMBER  \\\n0                  NaT  [[0, 0, 1, 0, 0, 0, 0, 0, 0, 0]]         nda018781   \n1                  NaT  [[0, 0, 1, 0, 0, 0, 0, 0, 0, 0]]         nda202008   \n2                  NaT  [[0, 1, 0, 0, 0, 0, 0, 0, 0, 0]]         bla125469   \n3                  NaT  [[0, 1, 0, 0, 0, 0, 0, 0, 0, 0]]         bla125469   \n4                  NaT  [[0, 1, 0, 0, 0, 0, 0, 0, 0, 0]]         bla761063   \n...                ...                               ...               ...   \n93233              NaT  [[0, 0, 1, 0, 0, 0, 0, 0, 0, 0]]         nda050808   \n93234              NaT  [[0, 0, 1, 0, 0, 0, 0, 0, 0, 0]]         nda050808   \n93235              NaT  [[0, 0, 1, 0, 0, 0, 0, 0, 0, 0]]         nda050808   \n93236              NaT  [[0, 0, 1, 0, 0, 0, 0, 0, 0, 0]]         nda021758   \n93237              NaT  [[0, 0, 1, 0, 0, 0, 0, 0, 0, 0]]         nda204153   \n\n                                     LABELERNAME              SUBSTANCENAME  \\\n0                                             10                      water   \n1                                             10           florbetapir f-18   \n2                                             10                dulaglutide   \n3                                             10                dulaglutide   \n4                                             10               galcanezumab   \n...                                          ...                        ...   \n93233  valeant pharmaceuticals north america llc  minocycline hydrochloride   \n93234  valeant pharmaceuticals north america llc  minocycline hydrochloride   \n93235  valeant pharmaceuticals north america llc  minocycline hydrochloride   \n93236  valeant pharmaceuticals north america llc               fluocinonide   \n93237                      bausch health us, llc               luliconazole   \n\n                               ACTIVE_NUMERATOR_STRENGTH  \\\n0      [[0, 0, 0, 0, 0, 0, 0, 0, 0, 0, 0, 0, 0, 0, 0,...   \n1      [[0, 0, 0, 0, 0, 0, 0, 0, 0, 0, 0, 0, 0, 0, 0,...   \n2      [[0, 0, 0, 0, 0, 0, 0, 0, 0, 0, 0, 0, 0, 0, 0,...   \n3      [[0, 0, 0, 0, 0, 0, 0, 0, 0, 0, 0, 0, 0, 0, 0,...   \n4      [[0, 0, 0, 0, 0, 0, 0, 0, 0, 0, 0, 0, 0, 0, 0,...   \n...                                                  ...   \n93233                                                NaN   \n93234                                                NaN   \n93235                                                NaN   \n93236                                                NaN   \n93237                                                NaN   \n\n                                      ACTIVE_INGRED_UNIT  \\\n0      [[0, 0, 0, 0, 0, 0, 0, 0, 0, 0, 0, 0, 0, 0, 0,...   \n1      [[0, 0, 0, 0, 0, 0, 0, 0, 0, 0, 0, 0, 0, 0, 0,...   \n2      [[0, 0, 0, 0, 0, 0, 0, 0, 0, 0, 0, 0, 0, 0, 0,...   \n3      [[0, 0, 0, 0, 0, 0, 0, 0, 0, 0, 0, 0, 0, 0, 0,...   \n4      [[0, 0, 0, 0, 0, 0, 0, 0, 0, 0, 0, 0, 0, 0, 0,...   \n...                                                  ...   \n93233                                                NaN   \n93234                                                NaN   \n93235                                                NaN   \n93236                                                NaN   \n93237                                                NaN   \n\n                                           PHARM_CLASSES DEASCHEDULE  \\\n0                                                    NaN         NaN   \n1      radioactive diagnostic agent [epc],positron em...         NaN   \n2      glp-1 receptor agonist [epc],glucagon-like pep...         NaN   \n3      glp-1 receptor agonist [epc],glucagon-like pep...         NaN   \n4                                                    NaN         NaN   \n...                                                  ...         ...   \n93233   tetracycline-class drug [epc],tetracyclines [cs]         NaN   \n93234   tetracycline-class drug [epc],tetracyclines [cs]         NaN   \n93235   tetracycline-class drug [epc],tetracyclines [cs]         NaN   \n93236  corticosteroid [epc],corticosteroid hormone re...         NaN   \n93237  azole antifungal [epc],azoles [cs],cytochrome ...         NaN   \n\n      NDC_EXCLUDE_FLAG LISTING_RECORD_CERTIFIED_THROUGH  \n0                    n                       2020-12-31  \n1                    n                       2021-12-31  \n2                    n                       2020-12-31  \n3                    n                       2020-12-31  \n4                    n                       2020-12-31  \n...                ...                              ...  \n93233                n                       2020-12-31  \n93234                n                       2020-12-31  \n93235                n                       2020-12-31  \n93236                n                       2020-12-31  \n93237                n                       2020-12-31  \n\n[93238 rows x 20 columns]",
      "text/html": "<div>\n<style scoped>\n    .dataframe tbody tr th:only-of-type {\n        vertical-align: middle;\n    }\n\n    .dataframe tbody tr th {\n        vertical-align: top;\n    }\n\n    .dataframe thead th {\n        text-align: right;\n    }\n</style>\n<table border=\"1\" class=\"dataframe\">\n  <thead>\n    <tr style=\"text-align: right;\">\n      <th></th>\n      <th>PRODUCTID</th>\n      <th>PRODUCTNDC</th>\n      <th>PRODUCTTYPENAME</th>\n      <th>PROPRIETARYNAME</th>\n      <th>PROPRIETARYNAMESUFFIX</th>\n      <th>NONPROPRIETARYNAME</th>\n      <th>DOSAGEFORMNAME</th>\n      <th>ROUTENAME</th>\n      <th>STARTMARKETINGDATE</th>\n      <th>ENDMARKETINGDATE</th>\n      <th>MARKETINGCATEGORYNAME</th>\n      <th>APPLICATIONNUMBER</th>\n      <th>LABELERNAME</th>\n      <th>SUBSTANCENAME</th>\n      <th>ACTIVE_NUMERATOR_STRENGTH</th>\n      <th>ACTIVE_INGRED_UNIT</th>\n      <th>PHARM_CLASSES</th>\n      <th>DEASCHEDULE</th>\n      <th>NDC_EXCLUDE_FLAG</th>\n      <th>LISTING_RECORD_CERTIFIED_THROUGH</th>\n    </tr>\n  </thead>\n  <tbody>\n    <tr>\n      <th>0</th>\n      <td>NaN</td>\n      <td>0002-0800</td>\n      <td>[[0, 1, 0, 0, 0, 0, 0]]</td>\n      <td>sterile diluent</td>\n      <td>NaN</td>\n      <td>diluent</td>\n      <td>[[0, 0, 0, 0, 0, 0, 0, 0, 0, 0, 0, 0, 0, 0, 0,...</td>\n      <td>[[0, 0, 0, 0, 0, 0, 0, 0, 0, 0, 0, 0, 0, 0, 0,...</td>\n      <td>1987-07-10</td>\n      <td>NaT</td>\n      <td>[[0, 0, 1, 0, 0, 0, 0, 0, 0, 0]]</td>\n      <td>nda018781</td>\n      <td>10</td>\n      <td>water</td>\n      <td>[[0, 0, 0, 0, 0, 0, 0, 0, 0, 0, 0, 0, 0, 0, 0,...</td>\n      <td>[[0, 0, 0, 0, 0, 0, 0, 0, 0, 0, 0, 0, 0, 0, 0,...</td>\n      <td>NaN</td>\n      <td>NaN</td>\n      <td>n</td>\n      <td>2020-12-31</td>\n    </tr>\n    <tr>\n      <th>1</th>\n      <td>NaN</td>\n      <td>0002-1200</td>\n      <td>[[0, 0, 1, 0, 0, 0, 0]]</td>\n      <td>amyvid</td>\n      <td>NaN</td>\n      <td>florbetapir f 18</td>\n      <td>[[0, 0, 0, 0, 0, 0, 0, 0, 0, 0, 0, 0, 0, 0, 0,...</td>\n      <td>[[0, 0, 0, 0, 0, 0, 0, 0, 0, 0, 0, 0, 0, 0, 0,...</td>\n      <td>2012-06-01</td>\n      <td>NaT</td>\n      <td>[[0, 0, 1, 0, 0, 0, 0, 0, 0, 0]]</td>\n      <td>nda202008</td>\n      <td>10</td>\n      <td>florbetapir f-18</td>\n      <td>[[0, 0, 0, 0, 0, 0, 0, 0, 0, 0, 0, 0, 0, 0, 0,...</td>\n      <td>[[0, 0, 0, 0, 0, 0, 0, 0, 0, 0, 0, 0, 0, 0, 0,...</td>\n      <td>radioactive diagnostic agent [epc],positron em...</td>\n      <td>NaN</td>\n      <td>n</td>\n      <td>2021-12-31</td>\n    </tr>\n    <tr>\n      <th>2</th>\n      <td>NaN</td>\n      <td>0002-1433</td>\n      <td>[[0, 0, 1, 0, 0, 0, 0]]</td>\n      <td>trulicity</td>\n      <td>NaN</td>\n      <td>dulaglutide</td>\n      <td>[[0, 0, 0, 0, 0, 0, 0, 0, 0, 0, 0, 0, 0, 0, 0,...</td>\n      <td>[[0, 0, 0, 0, 0, 0, 0, 0, 0, 0, 0, 0, 0, 0, 0,...</td>\n      <td>2014-09-18</td>\n      <td>NaT</td>\n      <td>[[0, 1, 0, 0, 0, 0, 0, 0, 0, 0]]</td>\n      <td>bla125469</td>\n      <td>10</td>\n      <td>dulaglutide</td>\n      <td>[[0, 0, 0, 0, 0, 0, 0, 0, 0, 0, 0, 0, 0, 0, 0,...</td>\n      <td>[[0, 0, 0, 0, 0, 0, 0, 0, 0, 0, 0, 0, 0, 0, 0,...</td>\n      <td>glp-1 receptor agonist [epc],glucagon-like pep...</td>\n      <td>NaN</td>\n      <td>n</td>\n      <td>2020-12-31</td>\n    </tr>\n    <tr>\n      <th>3</th>\n      <td>NaN</td>\n      <td>0002-1434</td>\n      <td>[[0, 0, 1, 0, 0, 0, 0]]</td>\n      <td>trulicity</td>\n      <td>NaN</td>\n      <td>dulaglutide</td>\n      <td>[[0, 0, 0, 0, 0, 0, 0, 0, 0, 0, 0, 0, 0, 0, 0,...</td>\n      <td>[[0, 0, 0, 0, 0, 0, 0, 0, 0, 0, 0, 0, 0, 0, 0,...</td>\n      <td>2014-09-18</td>\n      <td>NaT</td>\n      <td>[[0, 1, 0, 0, 0, 0, 0, 0, 0, 0]]</td>\n      <td>bla125469</td>\n      <td>10</td>\n      <td>dulaglutide</td>\n      <td>[[0, 0, 0, 0, 0, 0, 0, 0, 0, 0, 0, 0, 0, 0, 0,...</td>\n      <td>[[0, 0, 0, 0, 0, 0, 0, 0, 0, 0, 0, 0, 0, 0, 0,...</td>\n      <td>glp-1 receptor agonist [epc],glucagon-like pep...</td>\n      <td>NaN</td>\n      <td>n</td>\n      <td>2020-12-31</td>\n    </tr>\n    <tr>\n      <th>4</th>\n      <td>NaN</td>\n      <td>0002-1436</td>\n      <td>[[0, 0, 1, 0, 0, 0, 0]]</td>\n      <td>emgality</td>\n      <td>NaN</td>\n      <td>galcanezumab</td>\n      <td>[[0, 0, 0, 0, 0, 0, 0, 0, 0, 0, 0, 0, 0, 0, 0,...</td>\n      <td>[[0, 0, 0, 0, 0, 0, 0, 0, 0, 0, 0, 0, 0, 0, 0,...</td>\n      <td>2018-09-27</td>\n      <td>NaT</td>\n      <td>[[0, 1, 0, 0, 0, 0, 0, 0, 0, 0]]</td>\n      <td>bla761063</td>\n      <td>10</td>\n      <td>galcanezumab</td>\n      <td>[[0, 0, 0, 0, 0, 0, 0, 0, 0, 0, 0, 0, 0, 0, 0,...</td>\n      <td>[[0, 0, 0, 0, 0, 0, 0, 0, 0, 0, 0, 0, 0, 0, 0,...</td>\n      <td>NaN</td>\n      <td>NaN</td>\n      <td>n</td>\n      <td>2020-12-31</td>\n    </tr>\n    <tr>\n      <th>...</th>\n      <td>...</td>\n      <td>...</td>\n      <td>...</td>\n      <td>...</td>\n      <td>...</td>\n      <td>...</td>\n      <td>...</td>\n      <td>...</td>\n      <td>...</td>\n      <td>...</td>\n      <td>...</td>\n      <td>...</td>\n      <td>...</td>\n      <td>...</td>\n      <td>...</td>\n      <td>...</td>\n      <td>...</td>\n      <td>...</td>\n      <td>...</td>\n      <td>...</td>\n    </tr>\n    <tr>\n      <th>93233</th>\n      <td>99207-465_7578e84a-41ed-498d-8c2b-56a9931679db</td>\n      <td>99207-465</td>\n      <td>[[0, 0, 1, 0, 0, 0, 0]]</td>\n      <td>solodyn</td>\n      <td>NaN</td>\n      <td>minocycline hydrochloride</td>\n      <td>[[0, 0, 0, 0, 0, 0, 0, 0, 0, 0, 0, 0, 0, 0, 0,...</td>\n      <td>NaN</td>\n      <td>2010-09-27</td>\n      <td>NaT</td>\n      <td>[[0, 0, 1, 0, 0, 0, 0, 0, 0, 0]]</td>\n      <td>nda050808</td>\n      <td>valeant pharmaceuticals north america llc</td>\n      <td>minocycline hydrochloride</td>\n      <td>NaN</td>\n      <td>NaN</td>\n      <td>tetracycline-class drug [epc],tetracyclines [cs]</td>\n      <td>NaN</td>\n      <td>n</td>\n      <td>2020-12-31</td>\n    </tr>\n    <tr>\n      <th>93234</th>\n      <td>99207-466_7578e84a-41ed-498d-8c2b-56a9931679db</td>\n      <td>99207-466</td>\n      <td>[[0, 0, 1, 0, 0, 0, 0]]</td>\n      <td>solodyn</td>\n      <td>NaN</td>\n      <td>minocycline hydrochloride</td>\n      <td>[[0, 0, 0, 0, 0, 0, 0, 0, 0, 0, 0, 0, 0, 0, 0,...</td>\n      <td>NaN</td>\n      <td>2010-09-27</td>\n      <td>NaT</td>\n      <td>[[0, 0, 1, 0, 0, 0, 0, 0, 0, 0]]</td>\n      <td>nda050808</td>\n      <td>valeant pharmaceuticals north america llc</td>\n      <td>minocycline hydrochloride</td>\n      <td>NaN</td>\n      <td>NaN</td>\n      <td>tetracycline-class drug [epc],tetracyclines [cs]</td>\n      <td>NaN</td>\n      <td>n</td>\n      <td>2020-12-31</td>\n    </tr>\n    <tr>\n      <th>93235</th>\n      <td>99207-467_7578e84a-41ed-498d-8c2b-56a9931679db</td>\n      <td>99207-467</td>\n      <td>[[0, 0, 1, 0, 0, 0, 0]]</td>\n      <td>solodyn</td>\n      <td>NaN</td>\n      <td>minocycline hydrochloride</td>\n      <td>[[0, 0, 0, 0, 0, 0, 0, 0, 0, 0, 0, 0, 0, 0, 0,...</td>\n      <td>NaN</td>\n      <td>2010-09-27</td>\n      <td>NaT</td>\n      <td>[[0, 0, 1, 0, 0, 0, 0, 0, 0, 0]]</td>\n      <td>nda050808</td>\n      <td>valeant pharmaceuticals north america llc</td>\n      <td>minocycline hydrochloride</td>\n      <td>NaN</td>\n      <td>NaN</td>\n      <td>tetracycline-class drug [epc],tetracyclines [cs]</td>\n      <td>NaN</td>\n      <td>n</td>\n      <td>2020-12-31</td>\n    </tr>\n    <tr>\n      <th>93236</th>\n      <td>99207-525_d47eda34-3952-463c-9597-4225a19dbf13</td>\n      <td>99207-525</td>\n      <td>[[0, 0, 1, 0, 0, 0, 0]]</td>\n      <td>vanos</td>\n      <td>NaN</td>\n      <td>fluocinonide</td>\n      <td>[[0, 0, 0, 0, 0, 0, 0, 0, 0, 0, 0, 1, 0, 0, 0,...</td>\n      <td>NaN</td>\n      <td>2006-03-13</td>\n      <td>NaT</td>\n      <td>[[0, 0, 1, 0, 0, 0, 0, 0, 0, 0]]</td>\n      <td>nda021758</td>\n      <td>valeant pharmaceuticals north america llc</td>\n      <td>fluocinonide</td>\n      <td>NaN</td>\n      <td>NaN</td>\n      <td>corticosteroid [epc],corticosteroid hormone re...</td>\n      <td>NaN</td>\n      <td>n</td>\n      <td>2020-12-31</td>\n    </tr>\n    <tr>\n      <th>93237</th>\n      <td>99207-850_76ac026f-e6f1-4d1f-8144-9b5492e2d1bb</td>\n      <td>99207-850</td>\n      <td>[[0, 0, 1, 0, 0, 0, 0]]</td>\n      <td>luzu</td>\n      <td>NaN</td>\n      <td>luliconazole</td>\n      <td>[[0, 0, 0, 0, 0, 0, 0, 0, 0, 0, 0, 1, 0, 0, 0,...</td>\n      <td>NaN</td>\n      <td>2013-11-14</td>\n      <td>NaT</td>\n      <td>[[0, 0, 1, 0, 0, 0, 0, 0, 0, 0]]</td>\n      <td>nda204153</td>\n      <td>bausch health us, llc</td>\n      <td>luliconazole</td>\n      <td>NaN</td>\n      <td>NaN</td>\n      <td>azole antifungal [epc],azoles [cs],cytochrome ...</td>\n      <td>NaN</td>\n      <td>n</td>\n      <td>2020-12-31</td>\n    </tr>\n  </tbody>\n</table>\n<p>93238 rows × 20 columns</p>\n</div>"
     },
     "metadata": {},
     "output_type": "execute_result",
     "execution_count": 40
    }
   ],
   "execution_count": 40
  },
  {
   "cell_type": "code",
   "metadata": {
    "pycharm": {
     "is_executing": false
    }
   },
   "source": [
    "print('Encoded packaging data:')\n",
    "print(package_data)\n",
    "package_data"
   ],
   "outputs": [
    {
     "name": "stdout",
     "text": [
      "Encoded packaging data:\n",
      "                                             PRODUCTID PRODUCTNDC  \\\n",
      "0       0002-0800_94c48759-29bb-402d-afff-9a713be11f0e  0002-0800   \n",
      "1       0002-1200_35551a38-7a8d-43b8-8abd-f6cb7549e932  0002-1200   \n",
      "2       0002-1200_35551a38-7a8d-43b8-8abd-f6cb7549e932  0002-1200   \n",
      "3       0002-1433_42a80046-fd68-4b80-819c-a443b7816edb  0002-1433   \n",
      "4       0002-1433_42a80046-fd68-4b80-819c-a443b7816edb  0002-1433   \n",
      "...                                                ...        ...   \n",
      "173882  99207-525_d47eda34-3952-463c-9597-4225a19dbf13  99207-525   \n",
      "173883  99207-525_d47eda34-3952-463c-9597-4225a19dbf13  99207-525   \n",
      "173884  99207-525_d47eda34-3952-463c-9597-4225a19dbf13  99207-525   \n",
      "173885  99207-850_76ac026f-e6f1-4d1f-8144-9b5492e2d1bb  99207-850   \n",
      "173886  99207-850_76ac026f-e6f1-4d1f-8144-9b5492e2d1bb  99207-850   \n",
      "\n",
      "       NDCPACKAGECODE           PACKAGEDESCRIPTION STARTMARKETINGDATE  \\\n",
      "0        0002-0800-01              10 ml in 1 vial         1987-07-10   \n",
      "1        0002-1200-30  30 ml in 1 vial, multi-dose         2012-06-01   \n",
      "2        0002-1200-50  50 ml in 1 vial, multi-dose         2012-06-01   \n",
      "3        0002-1433-61           .5 ml in 1 syringe         2014-11-07   \n",
      "4        0002-1433-80          .5 ml in 1 syringe          2014-11-07   \n",
      "...               ...                          ...                ...   \n",
      "173882   99207-525-10              120 g in 1 tube         2006-03-13   \n",
      "173883   99207-525-30               30 g in 1 tube         2006-03-13   \n",
      "173884   99207-525-60               60 g in 1 tube         2006-03-13   \n",
      "173885   99207-850-02                2 g in 1 tube         2013-11-14   \n",
      "173886   99207-850-60               60 g in 1 tube         2013-11-14   \n",
      "\n",
      "       ENDMARKETINGDATE NDC_EXCLUDE_FLAG SAMPLE_PACKAGE PACKAGESIZE  \\\n",
      "0                   NaT                n              n          10   \n",
      "1                   NaT                n              n          30   \n",
      "2                   NaT                n              n          50   \n",
      "3                   NaT                n              y          .5   \n",
      "4                   NaT                n              n          .5   \n",
      "...                 ...              ...            ...         ...   \n",
      "173882              NaT                n              n         120   \n",
      "173883              NaT                n              n          30   \n",
      "173884              NaT                n              n          60   \n",
      "173885              NaT                n              y           2   \n",
      "173886              NaT                n              n          60   \n",
      "\n",
      "                                              PACKAGEUNIT  \\\n",
      "0       [[0, 0, 0, 0, 0, 0, 0, 0, 0, 0, 0, 0, 0, 0, 0,...   \n",
      "1       [[0, 0, 0, 0, 0, 0, 0, 0, 0, 0, 0, 0, 0, 0, 0,...   \n",
      "2       [[0, 0, 0, 0, 0, 0, 0, 0, 0, 0, 0, 0, 0, 0, 0,...   \n",
      "3       [[0, 0, 0, 0, 0, 0, 0, 0, 0, 0, 0, 0, 0, 0, 0,...   \n",
      "4       [[0, 0, 0, 0, 0, 0, 0, 0, 0, 0, 0, 0, 0, 0, 0,...   \n",
      "...                                                   ...   \n",
      "173882  [[0, 0, 0, 0, 0, 0, 0, 0, 0, 0, 0, 0, 0, 0, 0,...   \n",
      "173883  [[0, 0, 0, 0, 0, 0, 0, 0, 0, 0, 0, 0, 0, 0, 0,...   \n",
      "173884  [[0, 0, 0, 0, 0, 0, 0, 0, 0, 0, 0, 0, 0, 0, 0,...   \n",
      "173885  [[0, 0, 0, 0, 0, 0, 0, 0, 0, 0, 0, 0, 0, 0, 0,...   \n",
      "173886  [[0, 0, 0, 0, 0, 0, 0, 0, 0, 0, 0, 0, 0, 0, 0,...   \n",
      "\n",
      "                                              PACKAGETYPE  \n",
      "0       [[0, 0, 0, 0, 0, 0, 0, 0, 0, 0, 0, 0, 0, 0, 0,...  \n",
      "1       [[0, 0, 0, 0, 0, 0, 0, 0, 0, 0, 0, 0, 0, 0, 0,...  \n",
      "2       [[0, 0, 0, 0, 0, 0, 0, 0, 0, 0, 0, 0, 0, 0, 0,...  \n",
      "3       [[0, 0, 0, 0, 0, 0, 0, 0, 0, 0, 0, 0, 0, 0, 0,...  \n",
      "4       [[0, 0, 0, 0, 0, 0, 0, 0, 0, 0, 0, 0, 0, 0, 0,...  \n",
      "...                                                   ...  \n",
      "173882  [[0, 0, 0, 0, 0, 0, 0, 0, 0, 0, 0, 0, 0, 0, 0,...  \n",
      "173883  [[0, 0, 0, 0, 0, 0, 0, 0, 0, 0, 0, 0, 0, 0, 0,...  \n",
      "173884  [[0, 0, 0, 0, 0, 0, 0, 0, 0, 0, 0, 0, 0, 0, 0,...  \n",
      "173885  [[0, 0, 0, 0, 0, 0, 0, 0, 0, 0, 0, 0, 0, 0, 0,...  \n",
      "173886  [[0, 0, 0, 0, 0, 0, 0, 0, 0, 0, 0, 0, 0, 0, 0,...  \n",
      "\n",
      "[173887 rows x 11 columns]\n"
     ],
     "output_type": "stream"
    },
    {
     "data": {
      "text/plain": "                                             PRODUCTID PRODUCTNDC  \\\n0       0002-0800_94c48759-29bb-402d-afff-9a713be11f0e  0002-0800   \n1       0002-1200_35551a38-7a8d-43b8-8abd-f6cb7549e932  0002-1200   \n2       0002-1200_35551a38-7a8d-43b8-8abd-f6cb7549e932  0002-1200   \n3       0002-1433_42a80046-fd68-4b80-819c-a443b7816edb  0002-1433   \n4       0002-1433_42a80046-fd68-4b80-819c-a443b7816edb  0002-1433   \n...                                                ...        ...   \n173882  99207-525_d47eda34-3952-463c-9597-4225a19dbf13  99207-525   \n173883  99207-525_d47eda34-3952-463c-9597-4225a19dbf13  99207-525   \n173884  99207-525_d47eda34-3952-463c-9597-4225a19dbf13  99207-525   \n173885  99207-850_76ac026f-e6f1-4d1f-8144-9b5492e2d1bb  99207-850   \n173886  99207-850_76ac026f-e6f1-4d1f-8144-9b5492e2d1bb  99207-850   \n\n       NDCPACKAGECODE           PACKAGEDESCRIPTION STARTMARKETINGDATE  \\\n0        0002-0800-01              10 ml in 1 vial         1987-07-10   \n1        0002-1200-30  30 ml in 1 vial, multi-dose         2012-06-01   \n2        0002-1200-50  50 ml in 1 vial, multi-dose         2012-06-01   \n3        0002-1433-61           .5 ml in 1 syringe         2014-11-07   \n4        0002-1433-80          .5 ml in 1 syringe          2014-11-07   \n...               ...                          ...                ...   \n173882   99207-525-10              120 g in 1 tube         2006-03-13   \n173883   99207-525-30               30 g in 1 tube         2006-03-13   \n173884   99207-525-60               60 g in 1 tube         2006-03-13   \n173885   99207-850-02                2 g in 1 tube         2013-11-14   \n173886   99207-850-60               60 g in 1 tube         2013-11-14   \n\n       ENDMARKETINGDATE NDC_EXCLUDE_FLAG SAMPLE_PACKAGE PACKAGESIZE  \\\n0                   NaT                n              n          10   \n1                   NaT                n              n          30   \n2                   NaT                n              n          50   \n3                   NaT                n              y          .5   \n4                   NaT                n              n          .5   \n...                 ...              ...            ...         ...   \n173882              NaT                n              n         120   \n173883              NaT                n              n          30   \n173884              NaT                n              n          60   \n173885              NaT                n              y           2   \n173886              NaT                n              n          60   \n\n                                              PACKAGEUNIT  \\\n0       [[0, 0, 0, 0, 0, 0, 0, 0, 0, 0, 0, 0, 0, 0, 0,...   \n1       [[0, 0, 0, 0, 0, 0, 0, 0, 0, 0, 0, 0, 0, 0, 0,...   \n2       [[0, 0, 0, 0, 0, 0, 0, 0, 0, 0, 0, 0, 0, 0, 0,...   \n3       [[0, 0, 0, 0, 0, 0, 0, 0, 0, 0, 0, 0, 0, 0, 0,...   \n4       [[0, 0, 0, 0, 0, 0, 0, 0, 0, 0, 0, 0, 0, 0, 0,...   \n...                                                   ...   \n173882  [[0, 0, 0, 0, 0, 0, 0, 0, 0, 0, 0, 0, 0, 0, 0,...   \n173883  [[0, 0, 0, 0, 0, 0, 0, 0, 0, 0, 0, 0, 0, 0, 0,...   \n173884  [[0, 0, 0, 0, 0, 0, 0, 0, 0, 0, 0, 0, 0, 0, 0,...   \n173885  [[0, 0, 0, 0, 0, 0, 0, 0, 0, 0, 0, 0, 0, 0, 0,...   \n173886  [[0, 0, 0, 0, 0, 0, 0, 0, 0, 0, 0, 0, 0, 0, 0,...   \n\n                                              PACKAGETYPE  \n0       [[0, 0, 0, 0, 0, 0, 0, 0, 0, 0, 0, 0, 0, 0, 0,...  \n1       [[0, 0, 0, 0, 0, 0, 0, 0, 0, 0, 0, 0, 0, 0, 0,...  \n2       [[0, 0, 0, 0, 0, 0, 0, 0, 0, 0, 0, 0, 0, 0, 0,...  \n3       [[0, 0, 0, 0, 0, 0, 0, 0, 0, 0, 0, 0, 0, 0, 0,...  \n4       [[0, 0, 0, 0, 0, 0, 0, 0, 0, 0, 0, 0, 0, 0, 0,...  \n...                                                   ...  \n173882  [[0, 0, 0, 0, 0, 0, 0, 0, 0, 0, 0, 0, 0, 0, 0,...  \n173883  [[0, 0, 0, 0, 0, 0, 0, 0, 0, 0, 0, 0, 0, 0, 0,...  \n173884  [[0, 0, 0, 0, 0, 0, 0, 0, 0, 0, 0, 0, 0, 0, 0,...  \n173885  [[0, 0, 0, 0, 0, 0, 0, 0, 0, 0, 0, 0, 0, 0, 0,...  \n173886  [[0, 0, 0, 0, 0, 0, 0, 0, 0, 0, 0, 0, 0, 0, 0,...  \n\n[173887 rows x 11 columns]",
      "text/html": "<div>\n<style scoped>\n    .dataframe tbody tr th:only-of-type {\n        vertical-align: middle;\n    }\n\n    .dataframe tbody tr th {\n        vertical-align: top;\n    }\n\n    .dataframe thead th {\n        text-align: right;\n    }\n</style>\n<table border=\"1\" class=\"dataframe\">\n  <thead>\n    <tr style=\"text-align: right;\">\n      <th></th>\n      <th>PRODUCTID</th>\n      <th>PRODUCTNDC</th>\n      <th>NDCPACKAGECODE</th>\n      <th>PACKAGEDESCRIPTION</th>\n      <th>STARTMARKETINGDATE</th>\n      <th>ENDMARKETINGDATE</th>\n      <th>NDC_EXCLUDE_FLAG</th>\n      <th>SAMPLE_PACKAGE</th>\n      <th>PACKAGESIZE</th>\n      <th>PACKAGEUNIT</th>\n      <th>PACKAGETYPE</th>\n    </tr>\n  </thead>\n  <tbody>\n    <tr>\n      <th>0</th>\n      <td>0002-0800_94c48759-29bb-402d-afff-9a713be11f0e</td>\n      <td>0002-0800</td>\n      <td>0002-0800-01</td>\n      <td>10 ml in 1 vial</td>\n      <td>1987-07-10</td>\n      <td>NaT</td>\n      <td>n</td>\n      <td>n</td>\n      <td>10</td>\n      <td>[[0, 0, 0, 0, 0, 0, 0, 0, 0, 0, 0, 0, 0, 0, 0,...</td>\n      <td>[[0, 0, 0, 0, 0, 0, 0, 0, 0, 0, 0, 0, 0, 0, 0,...</td>\n    </tr>\n    <tr>\n      <th>1</th>\n      <td>0002-1200_35551a38-7a8d-43b8-8abd-f6cb7549e932</td>\n      <td>0002-1200</td>\n      <td>0002-1200-30</td>\n      <td>30 ml in 1 vial, multi-dose</td>\n      <td>2012-06-01</td>\n      <td>NaT</td>\n      <td>n</td>\n      <td>n</td>\n      <td>30</td>\n      <td>[[0, 0, 0, 0, 0, 0, 0, 0, 0, 0, 0, 0, 0, 0, 0,...</td>\n      <td>[[0, 0, 0, 0, 0, 0, 0, 0, 0, 0, 0, 0, 0, 0, 0,...</td>\n    </tr>\n    <tr>\n      <th>2</th>\n      <td>0002-1200_35551a38-7a8d-43b8-8abd-f6cb7549e932</td>\n      <td>0002-1200</td>\n      <td>0002-1200-50</td>\n      <td>50 ml in 1 vial, multi-dose</td>\n      <td>2012-06-01</td>\n      <td>NaT</td>\n      <td>n</td>\n      <td>n</td>\n      <td>50</td>\n      <td>[[0, 0, 0, 0, 0, 0, 0, 0, 0, 0, 0, 0, 0, 0, 0,...</td>\n      <td>[[0, 0, 0, 0, 0, 0, 0, 0, 0, 0, 0, 0, 0, 0, 0,...</td>\n    </tr>\n    <tr>\n      <th>3</th>\n      <td>0002-1433_42a80046-fd68-4b80-819c-a443b7816edb</td>\n      <td>0002-1433</td>\n      <td>0002-1433-61</td>\n      <td>.5 ml in 1 syringe</td>\n      <td>2014-11-07</td>\n      <td>NaT</td>\n      <td>n</td>\n      <td>y</td>\n      <td>.5</td>\n      <td>[[0, 0, 0, 0, 0, 0, 0, 0, 0, 0, 0, 0, 0, 0, 0,...</td>\n      <td>[[0, 0, 0, 0, 0, 0, 0, 0, 0, 0, 0, 0, 0, 0, 0,...</td>\n    </tr>\n    <tr>\n      <th>4</th>\n      <td>0002-1433_42a80046-fd68-4b80-819c-a443b7816edb</td>\n      <td>0002-1433</td>\n      <td>0002-1433-80</td>\n      <td>.5 ml in 1 syringe</td>\n      <td>2014-11-07</td>\n      <td>NaT</td>\n      <td>n</td>\n      <td>n</td>\n      <td>.5</td>\n      <td>[[0, 0, 0, 0, 0, 0, 0, 0, 0, 0, 0, 0, 0, 0, 0,...</td>\n      <td>[[0, 0, 0, 0, 0, 0, 0, 0, 0, 0, 0, 0, 0, 0, 0,...</td>\n    </tr>\n    <tr>\n      <th>...</th>\n      <td>...</td>\n      <td>...</td>\n      <td>...</td>\n      <td>...</td>\n      <td>...</td>\n      <td>...</td>\n      <td>...</td>\n      <td>...</td>\n      <td>...</td>\n      <td>...</td>\n      <td>...</td>\n    </tr>\n    <tr>\n      <th>173882</th>\n      <td>99207-525_d47eda34-3952-463c-9597-4225a19dbf13</td>\n      <td>99207-525</td>\n      <td>99207-525-10</td>\n      <td>120 g in 1 tube</td>\n      <td>2006-03-13</td>\n      <td>NaT</td>\n      <td>n</td>\n      <td>n</td>\n      <td>120</td>\n      <td>[[0, 0, 0, 0, 0, 0, 0, 0, 0, 0, 0, 0, 0, 0, 0,...</td>\n      <td>[[0, 0, 0, 0, 0, 0, 0, 0, 0, 0, 0, 0, 0, 0, 0,...</td>\n    </tr>\n    <tr>\n      <th>173883</th>\n      <td>99207-525_d47eda34-3952-463c-9597-4225a19dbf13</td>\n      <td>99207-525</td>\n      <td>99207-525-30</td>\n      <td>30 g in 1 tube</td>\n      <td>2006-03-13</td>\n      <td>NaT</td>\n      <td>n</td>\n      <td>n</td>\n      <td>30</td>\n      <td>[[0, 0, 0, 0, 0, 0, 0, 0, 0, 0, 0, 0, 0, 0, 0,...</td>\n      <td>[[0, 0, 0, 0, 0, 0, 0, 0, 0, 0, 0, 0, 0, 0, 0,...</td>\n    </tr>\n    <tr>\n      <th>173884</th>\n      <td>99207-525_d47eda34-3952-463c-9597-4225a19dbf13</td>\n      <td>99207-525</td>\n      <td>99207-525-60</td>\n      <td>60 g in 1 tube</td>\n      <td>2006-03-13</td>\n      <td>NaT</td>\n      <td>n</td>\n      <td>n</td>\n      <td>60</td>\n      <td>[[0, 0, 0, 0, 0, 0, 0, 0, 0, 0, 0, 0, 0, 0, 0,...</td>\n      <td>[[0, 0, 0, 0, 0, 0, 0, 0, 0, 0, 0, 0, 0, 0, 0,...</td>\n    </tr>\n    <tr>\n      <th>173885</th>\n      <td>99207-850_76ac026f-e6f1-4d1f-8144-9b5492e2d1bb</td>\n      <td>99207-850</td>\n      <td>99207-850-02</td>\n      <td>2 g in 1 tube</td>\n      <td>2013-11-14</td>\n      <td>NaT</td>\n      <td>n</td>\n      <td>y</td>\n      <td>2</td>\n      <td>[[0, 0, 0, 0, 0, 0, 0, 0, 0, 0, 0, 0, 0, 0, 0,...</td>\n      <td>[[0, 0, 0, 0, 0, 0, 0, 0, 0, 0, 0, 0, 0, 0, 0,...</td>\n    </tr>\n    <tr>\n      <th>173886</th>\n      <td>99207-850_76ac026f-e6f1-4d1f-8144-9b5492e2d1bb</td>\n      <td>99207-850</td>\n      <td>99207-850-60</td>\n      <td>60 g in 1 tube</td>\n      <td>2013-11-14</td>\n      <td>NaT</td>\n      <td>n</td>\n      <td>n</td>\n      <td>60</td>\n      <td>[[0, 0, 0, 0, 0, 0, 0, 0, 0, 0, 0, 0, 0, 0, 0,...</td>\n      <td>[[0, 0, 0, 0, 0, 0, 0, 0, 0, 0, 0, 0, 0, 0, 0,...</td>\n    </tr>\n  </tbody>\n</table>\n<p>173887 rows × 11 columns</p>\n</div>"
     },
     "metadata": {},
     "output_type": "execute_result",
     "execution_count": 41
    }
   ],
   "execution_count": 41
  }
 ],
 "metadata": {
  "anaconda-cloud": {},
  "kernelspec": {
   "name": "pycharm-3359ad28",
   "language": "python",
   "display_name": "PyCharm (IFT870-TP1)"
  },
  "language_info": {
   "codemirror_mode": {
    "name": "ipython",
    "version": 3
   },
   "file_extension": ".py",
   "mimetype": "text/x-python",
   "name": "python",
   "nbconvert_exporter": "python",
   "pygments_lexer": "ipython3",
   "version": "3.6.1"
  },
  "pycharm": {
   "stem_cell": {
    "cell_type": "raw",
    "source": [],
    "metadata": {
     "collapsed": false
    }
   }
  }
 },
 "nbformat": 4,
 "nbformat_minor": 1
}