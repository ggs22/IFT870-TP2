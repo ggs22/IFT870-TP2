ipynb-py-convert ./tp1.py1 ./tp1.ipynb
